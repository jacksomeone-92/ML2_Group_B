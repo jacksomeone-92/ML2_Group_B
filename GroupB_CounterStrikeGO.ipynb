{
 "cells": [
  {
   "cell_type": "markdown",
   "metadata": {},
   "source": [
    "\n",
    "# Group B - Counter Strike GO round winner classification"
   ]
  },
  {
   "cell_type": "markdown",
   "metadata": {},
   "source": [
    "Authors: ALBIN S., CKALIB N., DANIEL R., JORGE ANDRÉS R., NICOLAS G., TOMÁS F.\n",
    "\n",
    "Data source: https://www.kaggle.com/christianlillelund/csgo-round-winner-classification\n",
    "\n",
    "Last revision: 13/September/2020"
   ]
  },
  {
   "cell_type": "markdown",
   "metadata": {},
   "source": [
    "<img src=\"./images/CounterStrikeGO.jpg\" align=\"center\">"
   ]
  },
  {
   "cell_type": "markdown",
   "metadata": {
    "colab_type": "text",
    "hideCode": false,
    "hidePrompt": false,
    "id": "YrnrAFLgZDSw"
   },
   "source": [
    "# Introduction - Business Understanding\n",
    "\n",
    "CS:GO is a tactical shooter, where two teams (CT and Terrorist) play for a best of 30 rounds, with each round being 1 minute and 55 seconds. There are 5 players on each team (10 in total) and the first team to reach 16 rounds wins the game. At the start, one team plays as CT and the other as Terrorist. After 15 rounds played, the teams swap side. There are 7 different maps a game can be played on. You win a round as Terrorist by either planting the bomb and making sure it explodes, or by eliminating the other team. You win a round as CT by either eliminating the other team, or by disarming the bomb, should it have been planted.\n",
    "\n",
    "Learn more about CS:GO: https://en.wikipedia.org/wiki/Counter-Strike:_Global_Offensive\n",
    "\n",
    "The dataset consists of ~700 demos from high level tournament play in 2019 and 2020. Warmup rounds and restarts have been filtered, and for the remaining live rounds a round snapshot have been recorded every 20 seconds until the round is decided. The target variable is the one called `round_winner`, taking the values `CT` for Counter-Terrorist or `T` for Terrorist.\n",
    "\n",
    "## Steps to be followed <font color=red>[CAN BE REMOVED ONCE WE FINISH]</font>\n",
    "\n",
    "1. Read the dataset\n",
    "2. Data preparation: Check for variable types, NAs, values imputation, column names, scaling, encoding, etc.\n",
    "3. EDA (Exploratory Data Analysis): Try to extract some insights from the data like features completely uncorrelated or under-represented. Can we merge values from any of the categorical features? Would it be beneficial to discretize numerical features? Do we have outliers?\n",
    "3. Baseline: Simply take the simpler possible model (logistic regression) and set a base score that we'll try to improve along the process. To run logistic regression **you need** to have **numerical features**, so the fastest way of preparing your data to be used in `lr` is to perform _one hot encoding_. Perform this encoding so that you don't destroy the original prepared data. Consider to include onehot encoding as an step which is done right before evaluation over a copy of your prepared data.\n",
    "4. Feature Engineering: We will try\n",
    "    - categorical encoding: compare techniques like onehot and target encoding\n",
    "    - feature selection: compare the results from filtering, wrappers and regularization\n",
    "    - feature construction: compare GPLearn with _ad hoc_ methods, or Deep Feature Synthesis.\n",
    "5. Evaluation: the goal here is to fine tune our models, so, to do that we need a new model, like **decission trees**, in this case. We will experiment with:\n",
    "    - Cross validation and bootstrapping comparison.\n",
    "    - Fine tune tree parameters: pruning and parameters optimization."
   ]
  },
  {
   "cell_type": "markdown",
   "metadata": {
    "colab_type": "text",
    "hideCode": false,
    "hidePrompt": false,
    "id": "salUSFPkZDSx"
   },
   "source": [
    "# Data Understanding"
   ]
  },
  {
   "cell_type": "markdown",
   "metadata": {},
   "source": [
    "## Load libraries and read the dataset"
   ]
  },
  {
   "cell_type": "code",
   "execution_count": 35,
   "metadata": {
    "colab": {},
    "colab_type": "code",
    "hideCode": false,
    "hidePrompt": false,
    "id": "QF0S-mm7ZDSy"
   },
   "outputs": [],
   "source": [
    "# import libraries numpy, pandas, and scipy.stats module\n",
    "import numpy as np\n",
    "import pandas as pd\n",
    "import scipy.stats as stats\n",
    "import math\n",
    "import matplotlib.pyplot as plt\n",
    "import category_encoders as ce\n",
    "from sklearn import tree\n",
    "from sklearn.experimental import enable_iterative_imputer\n",
    "from sklearn.feature_selection import RFE\n",
    "from sklearn.impute import IterativeImputer\n",
    "from sklearn.utils import resample\n",
    "#from sklearn_pandas import CategoricalImputer\n",
    "from sklearn.model_selection import cross_val_score, train_test_split"
   ]
  },
  {
   "cell_type": "code",
   "execution_count": 2,
   "metadata": {
    "colab": {},
    "colab_type": "code",
    "id": "JhJjYdq1ZiIw"
   },
   "outputs": [],
   "source": [
    "# import dataset using pd.read_csv() function\n",
    "df = pd.read_csv(\"modeling_set.csv\")"
   ]
  },
  {
   "cell_type": "markdown",
   "metadata": {},
   "source": [
    "## Quick look at the data"
   ]
  },
  {
   "cell_type": "code",
   "execution_count": 14,
   "metadata": {
    "colab": {
     "base_uri": "https://localhost:8080/",
     "height": 580
    },
    "colab_type": "code",
    "id": "NYwga4OpZDTQ",
    "outputId": "c4bfed14-d231-4485-c753-784828c907a0",
    "scrolled": true
   },
   "outputs": [
    {
     "data": {
      "text/html": [
       "<div>\n",
       "<style scoped>\n",
       "    .dataframe tbody tr th:only-of-type {\n",
       "        vertical-align: middle;\n",
       "    }\n",
       "\n",
       "    .dataframe tbody tr th {\n",
       "        vertical-align: top;\n",
       "    }\n",
       "\n",
       "    .dataframe thead th {\n",
       "        text-align: right;\n",
       "    }\n",
       "</style>\n",
       "<table border=\"1\" class=\"dataframe\">\n",
       "  <thead>\n",
       "    <tr style=\"text-align: right;\">\n",
       "      <th></th>\n",
       "      <th>time_left</th>\n",
       "      <th>ct_score</th>\n",
       "      <th>t_score</th>\n",
       "      <th>map</th>\n",
       "      <th>bomb_planted</th>\n",
       "      <th>ct_health</th>\n",
       "      <th>t_health</th>\n",
       "      <th>ct_armor</th>\n",
       "      <th>t_armor</th>\n",
       "      <th>ct_money</th>\n",
       "      <th>...</th>\n",
       "      <th>t_grenade_flashbang</th>\n",
       "      <th>ct_grenade_smokegrenade</th>\n",
       "      <th>t_grenade_smokegrenade</th>\n",
       "      <th>ct_grenade_incendiarygrenade</th>\n",
       "      <th>t_grenade_incendiarygrenade</th>\n",
       "      <th>ct_grenade_molotovgrenade</th>\n",
       "      <th>t_grenade_molotovgrenade</th>\n",
       "      <th>ct_grenade_decoygrenade</th>\n",
       "      <th>t_grenade_decoygrenade</th>\n",
       "      <th>round_winner</th>\n",
       "    </tr>\n",
       "  </thead>\n",
       "  <tbody>\n",
       "    <tr>\n",
       "      <th>count</th>\n",
       "      <td>85687.000000</td>\n",
       "      <td>85687.000000</td>\n",
       "      <td>85687.000000</td>\n",
       "      <td>85687</td>\n",
       "      <td>85687</td>\n",
       "      <td>85687.000000</td>\n",
       "      <td>85687.000000</td>\n",
       "      <td>85687.000000</td>\n",
       "      <td>85687.000000</td>\n",
       "      <td>85687.000000</td>\n",
       "      <td>...</td>\n",
       "      <td>85687.000000</td>\n",
       "      <td>85687.000000</td>\n",
       "      <td>85687.000000</td>\n",
       "      <td>85687.000000</td>\n",
       "      <td>85687.000000</td>\n",
       "      <td>85687.000000</td>\n",
       "      <td>85687.000000</td>\n",
       "      <td>85687.000000</td>\n",
       "      <td>85687.000000</td>\n",
       "      <td>85687</td>\n",
       "    </tr>\n",
       "    <tr>\n",
       "      <th>unique</th>\n",
       "      <td>NaN</td>\n",
       "      <td>NaN</td>\n",
       "      <td>NaN</td>\n",
       "      <td>8</td>\n",
       "      <td>2</td>\n",
       "      <td>NaN</td>\n",
       "      <td>NaN</td>\n",
       "      <td>NaN</td>\n",
       "      <td>NaN</td>\n",
       "      <td>NaN</td>\n",
       "      <td>...</td>\n",
       "      <td>NaN</td>\n",
       "      <td>NaN</td>\n",
       "      <td>NaN</td>\n",
       "      <td>NaN</td>\n",
       "      <td>NaN</td>\n",
       "      <td>NaN</td>\n",
       "      <td>NaN</td>\n",
       "      <td>NaN</td>\n",
       "      <td>NaN</td>\n",
       "      <td>2</td>\n",
       "    </tr>\n",
       "    <tr>\n",
       "      <th>top</th>\n",
       "      <td>NaN</td>\n",
       "      <td>NaN</td>\n",
       "      <td>NaN</td>\n",
       "      <td>de_inferno</td>\n",
       "      <td>False</td>\n",
       "      <td>NaN</td>\n",
       "      <td>NaN</td>\n",
       "      <td>NaN</td>\n",
       "      <td>NaN</td>\n",
       "      <td>NaN</td>\n",
       "      <td>...</td>\n",
       "      <td>NaN</td>\n",
       "      <td>NaN</td>\n",
       "      <td>NaN</td>\n",
       "      <td>NaN</td>\n",
       "      <td>NaN</td>\n",
       "      <td>NaN</td>\n",
       "      <td>NaN</td>\n",
       "      <td>NaN</td>\n",
       "      <td>NaN</td>\n",
       "      <td>T</td>\n",
       "    </tr>\n",
       "    <tr>\n",
       "      <th>freq</th>\n",
       "      <td>NaN</td>\n",
       "      <td>NaN</td>\n",
       "      <td>NaN</td>\n",
       "      <td>16568</td>\n",
       "      <td>76070</td>\n",
       "      <td>NaN</td>\n",
       "      <td>NaN</td>\n",
       "      <td>NaN</td>\n",
       "      <td>NaN</td>\n",
       "      <td>NaN</td>\n",
       "      <td>...</td>\n",
       "      <td>NaN</td>\n",
       "      <td>NaN</td>\n",
       "      <td>NaN</td>\n",
       "      <td>NaN</td>\n",
       "      <td>NaN</td>\n",
       "      <td>NaN</td>\n",
       "      <td>NaN</td>\n",
       "      <td>NaN</td>\n",
       "      <td>NaN</td>\n",
       "      <td>43684</td>\n",
       "    </tr>\n",
       "    <tr>\n",
       "      <th>mean</th>\n",
       "      <td>97.825568</td>\n",
       "      <td>6.711742</td>\n",
       "      <td>6.767433</td>\n",
       "      <td>NaN</td>\n",
       "      <td>NaN</td>\n",
       "      <td>411.915063</td>\n",
       "      <td>402.707902</td>\n",
       "      <td>314.230245</td>\n",
       "      <td>298.340297</td>\n",
       "      <td>9782.932650</td>\n",
       "      <td>...</td>\n",
       "      <td>1.857061</td>\n",
       "      <td>1.537013</td>\n",
       "      <td>1.625929</td>\n",
       "      <td>1.000035</td>\n",
       "      <td>0.020190</td>\n",
       "      <td>0.048024</td>\n",
       "      <td>1.348734</td>\n",
       "      <td>0.028184</td>\n",
       "      <td>0.026107</td>\n",
       "      <td>NaN</td>\n",
       "    </tr>\n",
       "    <tr>\n",
       "      <th>std</th>\n",
       "      <td>54.482793</td>\n",
       "      <td>4.786124</td>\n",
       "      <td>4.821617</td>\n",
       "      <td>NaN</td>\n",
       "      <td>NaN</td>\n",
       "      <td>132.481120</td>\n",
       "      <td>139.958035</td>\n",
       "      <td>170.829229</td>\n",
       "      <td>174.737071</td>\n",
       "      <td>11208.283194</td>\n",
       "      <td>...</td>\n",
       "      <td>1.795516</td>\n",
       "      <td>1.735445</td>\n",
       "      <td>1.830067</td>\n",
       "      <td>1.457307</td>\n",
       "      <td>0.145383</td>\n",
       "      <td>0.227515</td>\n",
       "      <td>1.662616</td>\n",
       "      <td>0.171184</td>\n",
       "      <td>0.165699</td>\n",
       "      <td>NaN</td>\n",
       "    </tr>\n",
       "    <tr>\n",
       "      <th>min</th>\n",
       "      <td>0.020000</td>\n",
       "      <td>0.000000</td>\n",
       "      <td>0.000000</td>\n",
       "      <td>NaN</td>\n",
       "      <td>NaN</td>\n",
       "      <td>0.000000</td>\n",
       "      <td>0.000000</td>\n",
       "      <td>0.000000</td>\n",
       "      <td>0.000000</td>\n",
       "      <td>0.000000</td>\n",
       "      <td>...</td>\n",
       "      <td>0.000000</td>\n",
       "      <td>0.000000</td>\n",
       "      <td>0.000000</td>\n",
       "      <td>0.000000</td>\n",
       "      <td>0.000000</td>\n",
       "      <td>0.000000</td>\n",
       "      <td>0.000000</td>\n",
       "      <td>0.000000</td>\n",
       "      <td>0.000000</td>\n",
       "      <td>NaN</td>\n",
       "    </tr>\n",
       "    <tr>\n",
       "      <th>25%</th>\n",
       "      <td>54.920000</td>\n",
       "      <td>3.000000</td>\n",
       "      <td>3.000000</td>\n",
       "      <td>NaN</td>\n",
       "      <td>NaN</td>\n",
       "      <td>349.000000</td>\n",
       "      <td>322.000000</td>\n",
       "      <td>194.000000</td>\n",
       "      <td>173.000000</td>\n",
       "      <td>1250.000000</td>\n",
       "      <td>...</td>\n",
       "      <td>0.000000</td>\n",
       "      <td>0.000000</td>\n",
       "      <td>0.000000</td>\n",
       "      <td>0.000000</td>\n",
       "      <td>0.000000</td>\n",
       "      <td>0.000000</td>\n",
       "      <td>0.000000</td>\n",
       "      <td>0.000000</td>\n",
       "      <td>0.000000</td>\n",
       "      <td>NaN</td>\n",
       "    </tr>\n",
       "    <tr>\n",
       "      <th>50%</th>\n",
       "      <td>94.910000</td>\n",
       "      <td>6.000000</td>\n",
       "      <td>6.000000</td>\n",
       "      <td>NaN</td>\n",
       "      <td>NaN</td>\n",
       "      <td>500.000000</td>\n",
       "      <td>500.000000</td>\n",
       "      <td>377.000000</td>\n",
       "      <td>334.000000</td>\n",
       "      <td>5450.000000</td>\n",
       "      <td>...</td>\n",
       "      <td>1.000000</td>\n",
       "      <td>1.000000</td>\n",
       "      <td>1.000000</td>\n",
       "      <td>0.000000</td>\n",
       "      <td>0.000000</td>\n",
       "      <td>0.000000</td>\n",
       "      <td>1.000000</td>\n",
       "      <td>0.000000</td>\n",
       "      <td>0.000000</td>\n",
       "      <td>NaN</td>\n",
       "    </tr>\n",
       "    <tr>\n",
       "      <th>75%</th>\n",
       "      <td>166.920000</td>\n",
       "      <td>10.000000</td>\n",
       "      <td>10.000000</td>\n",
       "      <td>NaN</td>\n",
       "      <td>NaN</td>\n",
       "      <td>500.000000</td>\n",
       "      <td>500.000000</td>\n",
       "      <td>486.000000</td>\n",
       "      <td>468.000000</td>\n",
       "      <td>14650.000000</td>\n",
       "      <td>...</td>\n",
       "      <td>3.000000</td>\n",
       "      <td>3.000000</td>\n",
       "      <td>3.000000</td>\n",
       "      <td>2.000000</td>\n",
       "      <td>0.000000</td>\n",
       "      <td>0.000000</td>\n",
       "      <td>2.000000</td>\n",
       "      <td>0.000000</td>\n",
       "      <td>0.000000</td>\n",
       "      <td>NaN</td>\n",
       "    </tr>\n",
       "    <tr>\n",
       "      <th>max</th>\n",
       "      <td>175.000000</td>\n",
       "      <td>32.000000</td>\n",
       "      <td>33.000000</td>\n",
       "      <td>NaN</td>\n",
       "      <td>NaN</td>\n",
       "      <td>500.000000</td>\n",
       "      <td>500.000000</td>\n",
       "      <td>500.000000</td>\n",
       "      <td>500.000000</td>\n",
       "      <td>80000.000000</td>\n",
       "      <td>...</td>\n",
       "      <td>7.000000</td>\n",
       "      <td>6.000000</td>\n",
       "      <td>9.000000</td>\n",
       "      <td>5.000000</td>\n",
       "      <td>3.000000</td>\n",
       "      <td>3.000000</td>\n",
       "      <td>5.000000</td>\n",
       "      <td>3.000000</td>\n",
       "      <td>2.000000</td>\n",
       "      <td>NaN</td>\n",
       "    </tr>\n",
       "  </tbody>\n",
       "</table>\n",
       "<p>11 rows × 97 columns</p>\n",
       "</div>"
      ],
      "text/plain": [
       "           time_left      ct_score       t_score         map bomb_planted  \\\n",
       "count   85687.000000  85687.000000  85687.000000       85687        85687   \n",
       "unique           NaN           NaN           NaN           8            2   \n",
       "top              NaN           NaN           NaN  de_inferno        False   \n",
       "freq             NaN           NaN           NaN       16568        76070   \n",
       "mean       97.825568      6.711742      6.767433         NaN          NaN   \n",
       "std        54.482793      4.786124      4.821617         NaN          NaN   \n",
       "min         0.020000      0.000000      0.000000         NaN          NaN   \n",
       "25%        54.920000      3.000000      3.000000         NaN          NaN   \n",
       "50%        94.910000      6.000000      6.000000         NaN          NaN   \n",
       "75%       166.920000     10.000000     10.000000         NaN          NaN   \n",
       "max       175.000000     32.000000     33.000000         NaN          NaN   \n",
       "\n",
       "           ct_health      t_health      ct_armor       t_armor      ct_money  \\\n",
       "count   85687.000000  85687.000000  85687.000000  85687.000000  85687.000000   \n",
       "unique           NaN           NaN           NaN           NaN           NaN   \n",
       "top              NaN           NaN           NaN           NaN           NaN   \n",
       "freq             NaN           NaN           NaN           NaN           NaN   \n",
       "mean      411.915063    402.707902    314.230245    298.340297   9782.932650   \n",
       "std       132.481120    139.958035    170.829229    174.737071  11208.283194   \n",
       "min         0.000000      0.000000      0.000000      0.000000      0.000000   \n",
       "25%       349.000000    322.000000    194.000000    173.000000   1250.000000   \n",
       "50%       500.000000    500.000000    377.000000    334.000000   5450.000000   \n",
       "75%       500.000000    500.000000    486.000000    468.000000  14650.000000   \n",
       "max       500.000000    500.000000    500.000000    500.000000  80000.000000   \n",
       "\n",
       "        ...  t_grenade_flashbang  ct_grenade_smokegrenade  \\\n",
       "count   ...         85687.000000             85687.000000   \n",
       "unique  ...                  NaN                      NaN   \n",
       "top     ...                  NaN                      NaN   \n",
       "freq    ...                  NaN                      NaN   \n",
       "mean    ...             1.857061                 1.537013   \n",
       "std     ...             1.795516                 1.735445   \n",
       "min     ...             0.000000                 0.000000   \n",
       "25%     ...             0.000000                 0.000000   \n",
       "50%     ...             1.000000                 1.000000   \n",
       "75%     ...             3.000000                 3.000000   \n",
       "max     ...             7.000000                 6.000000   \n",
       "\n",
       "        t_grenade_smokegrenade  ct_grenade_incendiarygrenade  \\\n",
       "count             85687.000000                  85687.000000   \n",
       "unique                     NaN                           NaN   \n",
       "top                        NaN                           NaN   \n",
       "freq                       NaN                           NaN   \n",
       "mean                  1.625929                      1.000035   \n",
       "std                   1.830067                      1.457307   \n",
       "min                   0.000000                      0.000000   \n",
       "25%                   0.000000                      0.000000   \n",
       "50%                   1.000000                      0.000000   \n",
       "75%                   3.000000                      2.000000   \n",
       "max                   9.000000                      5.000000   \n",
       "\n",
       "        t_grenade_incendiarygrenade  ct_grenade_molotovgrenade  \\\n",
       "count                  85687.000000               85687.000000   \n",
       "unique                          NaN                        NaN   \n",
       "top                             NaN                        NaN   \n",
       "freq                            NaN                        NaN   \n",
       "mean                       0.020190                   0.048024   \n",
       "std                        0.145383                   0.227515   \n",
       "min                        0.000000                   0.000000   \n",
       "25%                        0.000000                   0.000000   \n",
       "50%                        0.000000                   0.000000   \n",
       "75%                        0.000000                   0.000000   \n",
       "max                        3.000000                   3.000000   \n",
       "\n",
       "        t_grenade_molotovgrenade  ct_grenade_decoygrenade  \\\n",
       "count               85687.000000             85687.000000   \n",
       "unique                       NaN                      NaN   \n",
       "top                          NaN                      NaN   \n",
       "freq                         NaN                      NaN   \n",
       "mean                    1.348734                 0.028184   \n",
       "std                     1.662616                 0.171184   \n",
       "min                     0.000000                 0.000000   \n",
       "25%                     0.000000                 0.000000   \n",
       "50%                     1.000000                 0.000000   \n",
       "75%                     2.000000                 0.000000   \n",
       "max                     5.000000                 3.000000   \n",
       "\n",
       "        t_grenade_decoygrenade  round_winner  \n",
       "count             85687.000000         85687  \n",
       "unique                     NaN             2  \n",
       "top                        NaN             T  \n",
       "freq                       NaN         43684  \n",
       "mean                  0.026107           NaN  \n",
       "std                   0.165699           NaN  \n",
       "min                   0.000000           NaN  \n",
       "25%                   0.000000           NaN  \n",
       "50%                   0.000000           NaN  \n",
       "75%                   0.000000           NaN  \n",
       "max                   2.000000           NaN  \n",
       "\n",
       "[11 rows x 97 columns]"
      ]
     },
     "execution_count": 14,
     "metadata": {},
     "output_type": "execute_result"
    }
   ],
   "source": [
    "df.describe(include = 'all')"
   ]
  },
  {
   "cell_type": "code",
   "execution_count": 15,
   "metadata": {},
   "outputs": [
    {
     "data": {
      "text/html": [
       "<div>\n",
       "<style scoped>\n",
       "    .dataframe tbody tr th:only-of-type {\n",
       "        vertical-align: middle;\n",
       "    }\n",
       "\n",
       "    .dataframe tbody tr th {\n",
       "        vertical-align: top;\n",
       "    }\n",
       "\n",
       "    .dataframe thead th {\n",
       "        text-align: right;\n",
       "    }\n",
       "</style>\n",
       "<table border=\"1\" class=\"dataframe\">\n",
       "  <thead>\n",
       "    <tr style=\"text-align: right;\">\n",
       "      <th></th>\n",
       "      <th>time_left</th>\n",
       "      <th>ct_score</th>\n",
       "      <th>t_score</th>\n",
       "      <th>map</th>\n",
       "      <th>bomb_planted</th>\n",
       "      <th>ct_health</th>\n",
       "      <th>t_health</th>\n",
       "      <th>ct_armor</th>\n",
       "      <th>t_armor</th>\n",
       "      <th>ct_money</th>\n",
       "      <th>...</th>\n",
       "      <th>t_grenade_flashbang</th>\n",
       "      <th>ct_grenade_smokegrenade</th>\n",
       "      <th>t_grenade_smokegrenade</th>\n",
       "      <th>ct_grenade_incendiarygrenade</th>\n",
       "      <th>t_grenade_incendiarygrenade</th>\n",
       "      <th>ct_grenade_molotovgrenade</th>\n",
       "      <th>t_grenade_molotovgrenade</th>\n",
       "      <th>ct_grenade_decoygrenade</th>\n",
       "      <th>t_grenade_decoygrenade</th>\n",
       "      <th>round_winner</th>\n",
       "    </tr>\n",
       "  </thead>\n",
       "  <tbody>\n",
       "    <tr>\n",
       "      <th>0</th>\n",
       "      <td>109.95</td>\n",
       "      <td>10.0</td>\n",
       "      <td>7.0</td>\n",
       "      <td>de_dust2</td>\n",
       "      <td>False</td>\n",
       "      <td>500.0</td>\n",
       "      <td>500.0</td>\n",
       "      <td>86.0</td>\n",
       "      <td>483.0</td>\n",
       "      <td>14900.0</td>\n",
       "      <td>...</td>\n",
       "      <td>4.0</td>\n",
       "      <td>0.0</td>\n",
       "      <td>4.0</td>\n",
       "      <td>0.0</td>\n",
       "      <td>0.0</td>\n",
       "      <td>0.0</td>\n",
       "      <td>4.0</td>\n",
       "      <td>0.0</td>\n",
       "      <td>0.0</td>\n",
       "      <td>T</td>\n",
       "    </tr>\n",
       "    <tr>\n",
       "      <th>1</th>\n",
       "      <td>114.95</td>\n",
       "      <td>15.0</td>\n",
       "      <td>14.0</td>\n",
       "      <td>de_inferno</td>\n",
       "      <td>False</td>\n",
       "      <td>500.0</td>\n",
       "      <td>500.0</td>\n",
       "      <td>471.0</td>\n",
       "      <td>500.0</td>\n",
       "      <td>22700.0</td>\n",
       "      <td>...</td>\n",
       "      <td>1.0</td>\n",
       "      <td>5.0</td>\n",
       "      <td>2.0</td>\n",
       "      <td>4.0</td>\n",
       "      <td>0.0</td>\n",
       "      <td>1.0</td>\n",
       "      <td>3.0</td>\n",
       "      <td>0.0</td>\n",
       "      <td>0.0</td>\n",
       "      <td>CT</td>\n",
       "    </tr>\n",
       "    <tr>\n",
       "      <th>2</th>\n",
       "      <td>174.95</td>\n",
       "      <td>9.0</td>\n",
       "      <td>13.0</td>\n",
       "      <td>de_mirage</td>\n",
       "      <td>False</td>\n",
       "      <td>500.0</td>\n",
       "      <td>500.0</td>\n",
       "      <td>473.0</td>\n",
       "      <td>0.0</td>\n",
       "      <td>32300.0</td>\n",
       "      <td>...</td>\n",
       "      <td>0.0</td>\n",
       "      <td>4.0</td>\n",
       "      <td>0.0</td>\n",
       "      <td>1.0</td>\n",
       "      <td>0.0</td>\n",
       "      <td>0.0</td>\n",
       "      <td>0.0</td>\n",
       "      <td>0.0</td>\n",
       "      <td>0.0</td>\n",
       "      <td>CT</td>\n",
       "    </tr>\n",
       "    <tr>\n",
       "      <th>3</th>\n",
       "      <td>34.93</td>\n",
       "      <td>14.0</td>\n",
       "      <td>15.0</td>\n",
       "      <td>de_inferno</td>\n",
       "      <td>False</td>\n",
       "      <td>468.0</td>\n",
       "      <td>489.0</td>\n",
       "      <td>495.0</td>\n",
       "      <td>495.0</td>\n",
       "      <td>2850.0</td>\n",
       "      <td>...</td>\n",
       "      <td>0.0</td>\n",
       "      <td>2.0</td>\n",
       "      <td>0.0</td>\n",
       "      <td>1.0</td>\n",
       "      <td>0.0</td>\n",
       "      <td>0.0</td>\n",
       "      <td>0.0</td>\n",
       "      <td>0.0</td>\n",
       "      <td>0.0</td>\n",
       "      <td>T</td>\n",
       "    </tr>\n",
       "    <tr>\n",
       "      <th>4</th>\n",
       "      <td>74.94</td>\n",
       "      <td>3.0</td>\n",
       "      <td>2.0</td>\n",
       "      <td>de_inferno</td>\n",
       "      <td>False</td>\n",
       "      <td>497.0</td>\n",
       "      <td>400.0</td>\n",
       "      <td>500.0</td>\n",
       "      <td>400.0</td>\n",
       "      <td>5600.0</td>\n",
       "      <td>...</td>\n",
       "      <td>2.0</td>\n",
       "      <td>2.0</td>\n",
       "      <td>3.0</td>\n",
       "      <td>3.0</td>\n",
       "      <td>0.0</td>\n",
       "      <td>0.0</td>\n",
       "      <td>1.0</td>\n",
       "      <td>0.0</td>\n",
       "      <td>0.0</td>\n",
       "      <td>T</td>\n",
       "    </tr>\n",
       "  </tbody>\n",
       "</table>\n",
       "<p>5 rows × 97 columns</p>\n",
       "</div>"
      ],
      "text/plain": [
       "   time_left  ct_score  t_score         map  bomb_planted  ct_health  \\\n",
       "0     109.95      10.0      7.0    de_dust2         False      500.0   \n",
       "1     114.95      15.0     14.0  de_inferno         False      500.0   \n",
       "2     174.95       9.0     13.0   de_mirage         False      500.0   \n",
       "3      34.93      14.0     15.0  de_inferno         False      468.0   \n",
       "4      74.94       3.0      2.0  de_inferno         False      497.0   \n",
       "\n",
       "   t_health  ct_armor  t_armor  ct_money  ...  t_grenade_flashbang  \\\n",
       "0     500.0      86.0    483.0   14900.0  ...                  4.0   \n",
       "1     500.0     471.0    500.0   22700.0  ...                  1.0   \n",
       "2     500.0     473.0      0.0   32300.0  ...                  0.0   \n",
       "3     489.0     495.0    495.0    2850.0  ...                  0.0   \n",
       "4     400.0     500.0    400.0    5600.0  ...                  2.0   \n",
       "\n",
       "   ct_grenade_smokegrenade  t_grenade_smokegrenade  \\\n",
       "0                      0.0                     4.0   \n",
       "1                      5.0                     2.0   \n",
       "2                      4.0                     0.0   \n",
       "3                      2.0                     0.0   \n",
       "4                      2.0                     3.0   \n",
       "\n",
       "   ct_grenade_incendiarygrenade  t_grenade_incendiarygrenade  \\\n",
       "0                           0.0                          0.0   \n",
       "1                           4.0                          0.0   \n",
       "2                           1.0                          0.0   \n",
       "3                           1.0                          0.0   \n",
       "4                           3.0                          0.0   \n",
       "\n",
       "   ct_grenade_molotovgrenade  t_grenade_molotovgrenade  \\\n",
       "0                        0.0                       4.0   \n",
       "1                        1.0                       3.0   \n",
       "2                        0.0                       0.0   \n",
       "3                        0.0                       0.0   \n",
       "4                        0.0                       1.0   \n",
       "\n",
       "   ct_grenade_decoygrenade  t_grenade_decoygrenade  round_winner  \n",
       "0                      0.0                     0.0             T  \n",
       "1                      0.0                     0.0            CT  \n",
       "2                      0.0                     0.0            CT  \n",
       "3                      0.0                     0.0             T  \n",
       "4                      0.0                     0.0             T  \n",
       "\n",
       "[5 rows x 97 columns]"
      ]
     },
     "execution_count": 15,
     "metadata": {},
     "output_type": "execute_result"
    }
   ],
   "source": [
    "df.head()"
   ]
  },
  {
   "cell_type": "code",
   "execution_count": 16,
   "metadata": {},
   "outputs": [
    {
     "data": {
      "text/plain": [
       "Index(['time_left', 'ct_score', 't_score', 'map', 'bomb_planted', 'ct_health',\n",
       "       't_health', 'ct_armor', 't_armor', 'ct_money', 't_money', 'ct_helmets',\n",
       "       't_helmets', 'ct_defuse_kits', 'ct_players_alive', 't_players_alive',\n",
       "       'ct_weapon_ak47', 't_weapon_ak47', 'ct_weapon_aug', 't_weapon_aug',\n",
       "       'ct_weapon_awp', 't_weapon_awp', 'ct_weapon_bizon', 't_weapon_bizon',\n",
       "       'ct_weapon_cz75auto', 't_weapon_cz75auto', 'ct_weapon_elite',\n",
       "       't_weapon_elite', 'ct_weapon_famas', 't_weapon_famas',\n",
       "       'ct_weapon_g3sg1', 't_weapon_g3sg1', 'ct_weapon_galilar',\n",
       "       't_weapon_galilar', 'ct_weapon_glock', 't_weapon_glock',\n",
       "       'ct_weapon_m249', 't_weapon_m249', 'ct_weapon_m4a1s', 't_weapon_m4a1s',\n",
       "       'ct_weapon_m4a4', 't_weapon_m4a4', 'ct_weapon_mac10', 't_weapon_mac10',\n",
       "       'ct_weapon_mag7', 't_weapon_mag7', 'ct_weapon_mp5sd', 't_weapon_mp5sd',\n",
       "       'ct_weapon_mp7', 't_weapon_mp7', 'ct_weapon_mp9', 't_weapon_mp9',\n",
       "       'ct_weapon_negev', 't_weapon_negev', 'ct_weapon_nova', 't_weapon_nova',\n",
       "       'ct_weapon_p90', 't_weapon_p90', 'ct_weapon_r8revolver',\n",
       "       't_weapon_r8revolver', 'ct_weapon_sawedoff', 't_weapon_sawedoff',\n",
       "       'ct_weapon_scar20', 't_weapon_scar20', 'ct_weapon_sg553',\n",
       "       't_weapon_sg553', 'ct_weapon_ssg08', 't_weapon_ssg08',\n",
       "       'ct_weapon_ump45', 't_weapon_ump45', 'ct_weapon_xm1014',\n",
       "       't_weapon_xm1014', 'ct_weapon_deagle', 't_weapon_deagle',\n",
       "       'ct_weapon_fiveseven', 't_weapon_fiveseven', 'ct_weapon_usps',\n",
       "       't_weapon_usps', 'ct_weapon_p250', 't_weapon_p250', 'ct_weapon_p2000',\n",
       "       't_weapon_p2000', 'ct_weapon_tec9', 't_weapon_tec9',\n",
       "       'ct_grenade_hegrenade', 't_grenade_hegrenade', 'ct_grenade_flashbang',\n",
       "       't_grenade_flashbang', 'ct_grenade_smokegrenade',\n",
       "       't_grenade_smokegrenade', 'ct_grenade_incendiarygrenade',\n",
       "       't_grenade_incendiarygrenade', 'ct_grenade_molotovgrenade',\n",
       "       't_grenade_molotovgrenade', 'ct_grenade_decoygrenade',\n",
       "       't_grenade_decoygrenade', 'round_winner'],\n",
       "      dtype='object')"
      ]
     },
     "execution_count": 16,
     "metadata": {},
     "output_type": "execute_result"
    }
   ],
   "source": [
    "df.columns"
   ]
  },
  {
   "cell_type": "code",
   "execution_count": 17,
   "metadata": {},
   "outputs": [
    {
     "data": {
      "text/plain": [
       "time_left                    float64\n",
       "ct_score                     float64\n",
       "t_score                      float64\n",
       "map                           object\n",
       "bomb_planted                    bool\n",
       "                              ...   \n",
       "ct_grenade_molotovgrenade    float64\n",
       "t_grenade_molotovgrenade     float64\n",
       "ct_grenade_decoygrenade      float64\n",
       "t_grenade_decoygrenade       float64\n",
       "round_winner                  object\n",
       "Length: 97, dtype: object"
      ]
     },
     "execution_count": 17,
     "metadata": {},
     "output_type": "execute_result"
    }
   ],
   "source": [
    "df.dtypes"
   ]
  },
  {
   "cell_type": "code",
   "execution_count": 18,
   "metadata": {},
   "outputs": [
    {
     "data": {
      "text/plain": [
       "float64    94\n",
       "object      2\n",
       "bool        1\n",
       "dtype: int64"
      ]
     },
     "execution_count": 18,
     "metadata": {},
     "output_type": "execute_result"
    }
   ],
   "source": [
    "df.dtypes.value_counts()"
   ]
  },
  {
   "cell_type": "markdown",
   "metadata": {},
   "source": [
    "Looking at the metadata and the above descriptions we conclude that map, bomb_planted and our traget round_winner are the only categorical variables. "
   ]
  },
  {
   "cell_type": "code",
   "execution_count": 3,
   "metadata": {},
   "outputs": [],
   "source": [
    "categoricals= ['map','bomb_planted', 'round_winner']"
   ]
  },
  {
   "cell_type": "code",
   "execution_count": 20,
   "metadata": {},
   "outputs": [
    {
     "name": "stdout",
     "output_type": "stream",
     "text": [
      "map\n",
      "de_inferno     16568\n",
      "de_dust2       15580\n",
      "de_nuke        13244\n",
      "de_mirage      13016\n",
      "de_overpass     9924\n",
      "de_train        9451\n",
      "de_vertigo      7797\n",
      "de_cache         107\n",
      "Name: map, dtype: int64\n",
      "----\n",
      "bomb_planted\n",
      "False    76070\n",
      "True      9617\n",
      "Name: bomb_planted, dtype: int64\n",
      "----\n",
      "round_winner\n",
      "T     43684\n",
      "CT    42003\n",
      "Name: round_winner, dtype: int64\n",
      "----\n"
     ]
    }
   ],
   "source": [
    "#Lets look at the class balance for each\n",
    "for col in categoricals:\n",
    "    print(col)\n",
    "    res = df[col].value_counts()\n",
    "    print(f'{res}\\n----')"
   ]
  },
  {
   "cell_type": "code",
   "execution_count": 5,
   "metadata": {},
   "outputs": [],
   "source": [
    "#Cast categorical values as categorical\n",
    "df[categoricals]=df[categoricals].astype('category')"
   ]
  },
  {
   "cell_type": "code",
   "execution_count": 6,
   "metadata": {},
   "outputs": [
    {
     "name": "stderr",
     "output_type": "stream",
     "text": [
      "C:\\Users\\drodriguez45\\Anaconda3\\lib\\site-packages\\pandas\\core\\frame.py:3997: SettingWithCopyWarning: \n",
      "A value is trying to be set on a copy of a slice from a DataFrame\n",
      "\n",
      "See the caveats in the documentation: https://pandas.pydata.org/pandas-docs/stable/user_guide/indexing.html#returning-a-view-versus-a-copy\n",
      "  errors=errors,\n"
     ]
    }
   ],
   "source": [
    "#Create numerical and categorical df\n",
    "df_numerical = df.select_dtypes(include = 'float')\n",
    "df_categorical = df.select_dtypes(exclude = 'float')\n",
    "df_categorical.drop('round_winner', axis=1, inplace = True)"
   ]
  },
  {
   "cell_type": "markdown",
   "metadata": {
    "colab_type": "text",
    "id": "SC6PLepUZDTc"
   },
   "source": [
    "## Let's take a look at the histograms"
   ]
  },
  {
   "cell_type": "code",
   "execution_count": 7,
   "metadata": {},
   "outputs": [],
   "source": [
    "# Bokeh libraries\n",
    "from bokeh.io import output_file, output_notebook\n",
    "from bokeh.plotting import figure, show\n",
    "from bokeh.layouts import row, column, gridplot\n",
    "from bokeh.models.widgets import Tabs, Panel\n",
    "from bokeh.models import ColumnDataSource, HoverTool, Panel"
   ]
  },
  {
   "cell_type": "code",
   "execution_count": 8,
   "metadata": {},
   "outputs": [],
   "source": [
    "class BokehHistogram():\n",
    "    '''\n",
    "    A class to simplify the making of interactive histograms with the Bokeh library.\n",
    "    Requires: Bokeh, Pandas, and Numpy.\n",
    "    '''\n",
    "\n",
    "    def __init__(self, colors=[\"SteelBlue\", \"Tan\"], height=600, width=600):\n",
    "        self.colors = colors\n",
    "        self.height = height\n",
    "        self.width = width\n",
    "\n",
    "    def hist_hover(self, dataframe, column, bins=30, log_scale=False, show_plot=True):\n",
    "        \"\"\"\n",
    "        A method for creating a single Bokeh histogram with hovertool interactivity.\n",
    "        Parameters:\n",
    "        ----------\n",
    "        Input:\n",
    "        dataframe {df}: Pandas dataframe\n",
    "        column {string}: column of dataframe to plot in histogram\n",
    "        bins {int}: number of bins in histogram\n",
    "        log_scale {bool}: True to plot on a log scale\n",
    "        colors {list -> string}: list of colors for histogram; first color default color, second color is hover color\n",
    "        show_plot {bool}: True to display the plot, False to store the plot in a variable (for use in later methods)\n",
    "        Output:\n",
    "        plot: bokeh histogram with interactive hover tool\n",
    "        \"\"\"\n",
    "        # build histogram data with Numpy\n",
    "        hist, edges = np.histogram(dataframe[column], bins = bins)\n",
    "        hist_df = pd.DataFrame({column: hist,\n",
    "                                 \"left\": edges[:-1],\n",
    "                                 \"right\": edges[1:]})\n",
    "        hist_df[\"interval\"] = [\"%d to %d\" % (left, right) for left, \n",
    "                               right in zip(hist_df[\"left\"], hist_df[\"right\"])]\n",
    "        # bokeh histogram with hover tool\n",
    "        if log_scale == True:\n",
    "            hist_df[\"log\"] = np.log(hist_df[column])\n",
    "            src = ColumnDataSource(hist_df)\n",
    "            plot = figure(plot_height = self.height, plot_width = self.width,\n",
    "                  title = \"Histogram of {}\".format(column.capitalize()),\n",
    "                  x_axis_label = column.capitalize(),\n",
    "                  y_axis_label = \"Log Count\")    \n",
    "            plot.quad(bottom = 0, top = \"log\",left = \"left\", \n",
    "                right = \"right\", source = src, fill_color = self.colors[0], \n",
    "                line_color = \"black\", fill_alpha = 0.7,\n",
    "                hover_fill_alpha = 1.0, hover_fill_color = self.colors[1])\n",
    "        else:\n",
    "            src = ColumnDataSource(hist_df)\n",
    "            plot = figure(plot_height = self.height, plot_width = self.width,\n",
    "                  title = \"Histogram of {}\".format(column.capitalize()),\n",
    "                  x_axis_label = column.capitalize(),\n",
    "                  y_axis_label = \"Count\")    \n",
    "            plot.quad(bottom = 0, top = column,left = \"left\", \n",
    "                right = \"right\", source = src, fill_color = self.colors[0], \n",
    "                line_color = \"black\", fill_alpha = 0.7,\n",
    "                hover_fill_alpha = 1.0, hover_fill_color = self.colors[1])\n",
    "\n",
    "        # hover tool\n",
    "        hover = HoverTool(tooltips = [('Interval', '@interval'),\n",
    "                                  ('Count', str(\"@\" + column))])\n",
    "        plot.add_tools(hover)\n",
    "\n",
    "        # output\n",
    "        if show_plot == True:\n",
    "            show(plot)\n",
    "        else:\n",
    "            return plot\n",
    "\n",
    "    def histotabs(self, dataframe, features, log_scale=False, show_plot=False):\n",
    "        '''\n",
    "        Builds tabbed interface for a series of histograms; calls hist_hover. Specifying 'show_plot=True' will simply display the histograms in sequence rather than in a tabbed interface.\n",
    "        Parameters:\n",
    "        ----------\n",
    "        Input:\n",
    "        dataframe {df}: a Pandas dataframe\n",
    "        features {list -> string}: list of features to plot\n",
    "        log_scale {bool}: True to plot on a log scale\n",
    "        colors {list -> string}: list of colors for histogram; first color default color, second color is hover color\n",
    "        show_plot {bool}: True to display the plot, False to store the plot in a variable (for use in later methods)\n",
    "        Output:\n",
    "        Tabbed interface for viewing interactive histograms of specified features\n",
    "        '''\n",
    "        hists = []\n",
    "        for f in features:\n",
    "            h = self.hist_hover(dataframe, f, log_scale=log_scale, show_plot=show_plot)\n",
    "            p = Panel(child=h, title=f.capitalize())\n",
    "            hists.append(p)\n",
    "        t = Tabs(tabs=hists)\n",
    "        show(t)\n",
    "\n",
    "    def filtered_histotabs(self, dataframe, feature, filter_feature, log_scale=False, show_plot=False):\n",
    "        '''\n",
    "        Builds tabbed histogram interface for one feature filtered by another. Feature is numeric, fiter feature is categorical.\n",
    "        Parameters:\n",
    "        ----------\n",
    "        Input:\n",
    "        dataframe {df}: a Pandas dataframe\n",
    "        features {list -> string}: list of features to plot\n",
    "        log_scale {bool}: True to plot on a log scale\n",
    "        colors {list -> string}: list of colors for histogram; first color default color, second color is hover color\n",
    "        show_plot {bool}: True to display the plot, False to store the plot in a variable (for use in later methods)\n",
    "        Output:\n",
    "        Tabbed interface for viewing interactive histograms of specified feature filtered by categorical filter feature\n",
    "        '''\n",
    "        hists = []\n",
    "        for col in dataframe[filter_feature].unique():\n",
    "            sub_df = dataframe[dataframe[filter_feature] == col]\n",
    "            histo = self.hist_hover(sub_df, feature, log_scale=log_scale, show_plot=show_plot)\n",
    "            p = Panel(child = histo, title=col)\n",
    "            hists.append(p)\n",
    "        t = Tabs(tabs=hists)\n",
    "        show(t)"
   ]
  },
  {
   "cell_type": "code",
   "execution_count": 9,
   "metadata": {},
   "outputs": [],
   "source": [
    "#create instance of the bokeeh histogram object\n",
    "h = BokehHistogram()"
   ]
  },
  {
   "cell_type": "code",
   "execution_count": null,
   "metadata": {
    "scrolled": true
   },
   "outputs": [],
   "source": [
    "output_notebook()\n",
    "h.histotabs(df_numerical, df_numerical.columns)"
   ]
  },
  {
   "cell_type": "markdown",
   "metadata": {},
   "source": [
    "## Lets look at some relationships to understand how some feature can affect the outcome of the game (Using expert knowledge)"
   ]
  },
  {
   "cell_type": "code",
   "execution_count": 35,
   "metadata": {
    "colab_type": "text",
    "id": "ANI-KEZYZDTe"
   },
   "outputs": [
    {
     "data": {
      "text/plain": [
       "<seaborn.axisgrid.FacetGrid at 0x1c22d169688>"
      ]
     },
     "execution_count": 35,
     "metadata": {},
     "output_type": "execute_result"
    },
    {
     "data": {
      "image/png": "[encoded data removed]",
      "text/plain": [
       "<Figure size 1080x360 with 1 Axes>"
      ]
     },
     "metadata": {
      "needs_background": "light"
     },
     "output_type": "display_data"
    }
   ],
   "source": [
    " import seaborn as sns\n",
    "    \n",
    "# We explore the maps variables\n",
    " \n",
    " sns.catplot(x=\"map\", kind=\"count\", data=df, height=5, aspect=3, order=df['map'].value_counts().index)"
   ]
  },
  {
   "cell_type": "code",
   "execution_count": 36,
   "metadata": {},
   "outputs": [
    {
     "data": {
      "text/plain": [
       "<seaborn.axisgrid.FacetGrid at 0x1c250998848>"
      ]
     },
     "execution_count": 36,
     "metadata": {},
     "output_type": "execute_result"
    },
    {
     "data": {
      "image/png": "[encoded data removed]",
      "text/plain": [
       "<Figure size 1156.25x360 with 1 Axes>"
      ]
     },
     "metadata": {
      "needs_background": "light"
     },
     "output_type": "display_data"
    }
   ],
   "source": [
    "#Breaking down the map and the winning team\n",
    "sns.catplot(x=\"map\", hue=\"round_winner\", kind=\"count\", data=df, height=5, aspect=3, order=df['map'].value_counts().index)"
   ]
  },
  {
   "cell_type": "markdown",
   "metadata": {},
   "source": [
    "In the two most played maps, de_inferno and de_dust2, Terrorist team wins more games than Counter-Terrorist"
   ]
  },
  {
   "cell_type": "code",
   "execution_count": 37,
   "metadata": {
    "colab": {
     "base_uri": "https://localhost:8080/",
     "height": 461
    },
    "colab_type": "code",
    "id": "0zjzzwTdZDTe",
    "outputId": "68e2b047-6b03-4ffb-a78e-dd12ab3fd89e"
   },
   "outputs": [
    {
     "data": {
      "text/plain": [
       "<seaborn.axisgrid.FacetGrid at 0x1c250b8d6c8>"
      ]
     },
     "execution_count": 37,
     "metadata": {},
     "output_type": "execute_result"
    },
    {
     "data": {
      "image/png": "[encoded data removed]",
      "text/plain": [
       "<Figure size 1156.25x360 with 1 Axes>"
      ]
     },
     "metadata": {
      "needs_background": "light"
     },
     "output_type": "display_data"
    }
   ],
   "source": [
    "sns.catplot(x=\"ct_defuse_kits\", hue=\"round_winner\", kind=\"count\", data=df, height=5, aspect=3)"
   ]
  },
  {
   "cell_type": "markdown",
   "metadata": {},
   "source": [
    "Having more than 1 defuse kit in the Counter-Terrotist team makes CT win more rounds than T"
   ]
  },
  {
   "cell_type": "code",
   "execution_count": 38,
   "metadata": {},
   "outputs": [
    {
     "data": {
      "text/plain": [
       "<seaborn.axisgrid.FacetGrid at 0x1c22803ec48>"
      ]
     },
     "execution_count": 38,
     "metadata": {},
     "output_type": "execute_result"
    },
    {
     "data": {
      "image/png": "[encoded data removed]",
      "text/plain": [
       "<Figure size 1156.25x360 with 1 Axes>"
      ]
     },
     "metadata": {
      "needs_background": "light"
     },
     "output_type": "display_data"
    }
   ],
   "source": [
    "sns.catplot(x=\"bomb_planted\", hue=\"round_winner\", kind=\"count\", data=df, height=5, aspect=3)"
   ]
  },
  {
   "cell_type": "markdown",
   "metadata": {},
   "source": [
    "When Terrorists plant the bomb their win ratio is much better, but planting the bomb doesn´t happen frequetly"
   ]
  },
  {
   "cell_type": "code",
   "execution_count": 39,
   "metadata": {
    "scrolled": true
   },
   "outputs": [
    {
     "data": {
      "text/plain": [
       "<matplotlib.axes._subplots.AxesSubplot at 0x1c2511ce0c8>"
      ]
     },
     "execution_count": 39,
     "metadata": {},
     "output_type": "execute_result"
    },
    {
     "data": {
      "image/png": "[encoded data removed]",
      "text/plain": [
       "<Figure size 1440x1440 with 2 Axes>"
      ]
     },
     "metadata": {
      "needs_background": "light"
     },
     "output_type": "display_data"
    }
   ],
   "source": [
    "#create general correlation heatmap\n",
    "plt.figure(figsize = (20,20))\n",
    "sns.heatmap(df.corr(),cmap='BrBG')"
   ]
  },
  {
   "cell_type": "markdown",
   "metadata": {},
   "source": [
    "We can see some strong correlations between features which we will explore and deal with in detail later during the feature engineering process"
   ]
  },
  {
   "cell_type": "markdown",
   "metadata": {
    "colab_type": "text",
    "hideCode": false,
    "hidePrompt": false,
    "id": "ojbjIJHbZDS-"
   },
   "source": [
    "## Data Preparation\n",
    "\n",
    "Impute values, drop not relevant variables, outliers, scale numerical variables"
   ]
  },
  {
   "cell_type": "markdown",
   "metadata": {
    "colab_type": "text",
    "hideCode": false,
    "hidePrompt": false,
    "id": "SD8HONykZDTB"
   },
   "source": [
    "### Check for NA's"
   ]
  },
  {
   "cell_type": "code",
   "execution_count": 43,
   "metadata": {},
   "outputs": [
    {
     "data": {
      "text/plain": [
       "<matplotlib.axes._subplots.AxesSubplot at 0x1c21ed8f588>"
      ]
     },
     "execution_count": 43,
     "metadata": {},
     "output_type": "execute_result"
    },
    {
     "data": {
      "image/png": "[encoded data removed]",
      "text/plain": [
       "<Figure size 1728x720 with 2 Axes>"
      ]
     },
     "metadata": {
      "needs_background": "light"
     },
     "output_type": "display_data"
    }
   ],
   "source": [
    "#Lets check graphically\n",
    "#checking for missing values in the data set\n",
    "import missingno as msno \n",
    "msno.bar(df)"
   ]
  },
  {
   "cell_type": "code",
   "execution_count": 44,
   "metadata": {
    "colab": {
     "base_uri": "https://localhost:8080/",
     "height": 32
    },
    "colab_type": "code",
    "hideCode": false,
    "hidePrompt": false,
    "id": "vWCPc5gCZDTC",
    "outputId": "3d4919b0-f405-4b1c-a390-15338231f6c0"
   },
   "outputs": [
    {
     "name": "stdout",
     "output_type": "stream",
     "text": [
      "97 features have a median of 0 NAs\n"
     ]
    }
   ],
   "source": [
    "# Lets double check with code\n",
    "\n",
    "num_nas = []\n",
    "for feature in df.columns:\n",
    "    num_nas.append(df[feature].isna().sum())\n",
    "print(f'{len(df.columns)} features have a median of {math.floor(np.median(num_nas))} NAs')"
   ]
  },
  {
   "cell_type": "markdown",
   "metadata": {},
   "source": [
    "There are no NA's so we don't need to impute any variables"
   ]
  },
  {
   "cell_type": "markdown",
   "metadata": {},
   "source": [
    "### Check for outliers"
   ]
  },
  {
   "cell_type": "code",
   "execution_count": 66,
   "metadata": {},
   "outputs": [],
   "source": [
    "Q1 = df_num.quantile(0.25)\n",
    "Q3 = df_num.quantile(0.75)\n",
    "IQR = Q3 - Q1\n",
    "\n",
    "#print(df_num < (Q1 - 1.5 * IQR)) |(df_num > (Q3 + 1.5 * IQR))\n",
    "\n",
    "#df_num_out =  df_num[~(( df_num < (Q1 - 1.5 * IQR)) |( df_num > (Q3 + 1.5 * IQR))).any(axis=1)]  \n",
    "\n"
   ]
  },
  {
   "cell_type": "code",
   "execution_count": 94,
   "metadata": {},
   "outputs": [
    {
     "data": {
      "text/plain": [
       "74"
      ]
     },
     "execution_count": 94,
     "metadata": {},
     "output_type": "execute_result"
    }
   ],
   "source": [
    "#df_num.loc[:,((df_num < (Q1 - 1.5 * IQR)) | (df_num > (Q3 + 1.5 * IQR))).sum()<0.1*len(df)]\n",
    "((((df_num < (Q1 - 1.5 * IQR)) | (df_num > (Q3 + 1.5 * IQR))).sum()/len(df))*100!=0).sum()"
   ]
  },
  {
   "cell_type": "markdown",
   "metadata": {},
   "source": [
    "74 Columns have outliers but checking the max values of the features and with our knowledge of CS GO we decided not to remove any of these values, as all of them are possible values in a CS round."
   ]
  },
  {
   "cell_type": "markdown",
   "metadata": {
    "colab_type": "text",
    "hideCode": false,
    "hidePrompt": false,
    "id": "J7G9F6fjZDTE"
   },
   "source": [
    "### Low frequency variables"
   ]
  },
  {
   "cell_type": "code",
   "execution_count": 54,
   "metadata": {},
   "outputs": [
    {
     "data": {
      "text/plain": [
       "ct_weapon_bizon         1\n",
       "ct_weapon_g3sg1         1\n",
       "ct_weapon_sawedoff      1\n",
       "t_weapon_m249           1\n",
       "ct_weapon_r8revolver    1\n",
       "ct_weapon_negev         1\n",
       "bomb_planted            2\n",
       "t_weapon_scar20         2\n",
       "ct_weapon_scar20        2\n",
       "t_weapon_sawedoff       2\n",
       "t_weapon_r8revolver     2\n",
       "t_weapon_p90            2\n",
       "ct_weapon_p90           2\n",
       "t_weapon_negev          2\n",
       "ct_weapon_nova          2\n",
       "t_weapon_xm1014         2\n",
       "ct_weapon_mp5sd         2\n",
       "t_weapon_mag7           2\n",
       "ct_weapon_m249          2\n",
       "t_weapon_elite          2\n",
       "ct_weapon_elite         2\n",
       "t_weapon_bizon          2\n",
       "t_weapon_nova           2\n",
       "round_winner            2\n",
       "dtype: int64"
      ]
     },
     "execution_count": 54,
     "metadata": {},
     "output_type": "execute_result"
    }
   ],
   "source": [
    "#Select columns with 1 or 0 unique values\n",
    "df.loc[:, df.nunique() < 3].nunique().sort_values(ascending = True)"
   ]
  },
  {
   "cell_type": "markdown",
   "metadata": {},
   "source": [
    "'bomb_planted' and 'round_winner' are binary variables, so we expect only two unique values. The other are weapons, lets analyze those in more detail. "
   ]
  },
  {
   "cell_type": "code",
   "execution_count": 45,
   "metadata": {},
   "outputs": [
    {
     "data": {
      "text/plain": [
       "['t_weapon_m249',\n",
       " 'ct_weapon_r8revolver',\n",
       " 't_weapon_negev',\n",
       " 't_weapon_sawedoff',\n",
       " 'ct_weapon_sawedoff',\n",
       " 'ct_weapon_g3sg1',\n",
       " 'ct_weapon_bizon',\n",
       " 't_weapon_bizon',\n",
       " 't_weapon_nova',\n",
       " 't_weapon_mag7',\n",
       " 't_weapon_r8revolver',\n",
       " 't_weapon_xm1014',\n",
       " 't_weapon_elite',\n",
       " 't_weapon_scar20',\n",
       " 'ct_weapon_elite',\n",
       " 't_weapon_p90',\n",
       " 'ct_weapon_mp5sd',\n",
       " 'ct_weapon_nova',\n",
       " 'ct_weapon_scar20',\n",
       " 'ct_weapon_negev',\n",
       " 'ct_weapon_p90',\n",
       " 'ct_weapon_m249']"
      ]
     },
     "execution_count": 45,
     "metadata": {},
     "output_type": "execute_result"
    }
   ],
   "source": [
    "weapons = [col for col in df.columns  if 'weapon' in col]\n",
    "low_unique=list(set(weapons) & set(df.columns[df.nunique() < 3]))\n",
    "low_unique"
   ]
  },
  {
   "cell_type": "code",
   "execution_count": 58,
   "metadata": {},
   "outputs": [
    {
     "name": "stdout",
     "output_type": "stream",
     "text": [
      "ct_weapon_mp5sd\n",
      "0.0    85557\n",
      "1.0      130\n",
      "Name: ct_weapon_mp5sd, dtype: int64\n",
      "----\n",
      "t_weapon_xm1014\n",
      "0.0    85668\n",
      "1.0       19\n",
      "Name: t_weapon_xm1014, dtype: int64\n",
      "----\n",
      "t_weapon_p90\n",
      "0.0    85674\n",
      "1.0       13\n",
      "Name: t_weapon_p90, dtype: int64\n",
      "----\n",
      "ct_weapon_r8revolver\n",
      "0.0    85687\n",
      "Name: ct_weapon_r8revolver, dtype: int64\n",
      "----\n",
      "t_weapon_nova\n",
      "0.0    85679\n",
      "1.0        8\n",
      "Name: t_weapon_nova, dtype: int64\n",
      "----\n",
      "t_weapon_bizon\n",
      "0.0    85682\n",
      "1.0        5\n",
      "Name: t_weapon_bizon, dtype: int64\n",
      "----\n",
      "t_weapon_mag7\n",
      "0.0    85685\n",
      "1.0        2\n",
      "Name: t_weapon_mag7, dtype: int64\n",
      "----\n",
      "t_weapon_sawedoff\n",
      "0.0    85676\n",
      "1.0       11\n",
      "Name: t_weapon_sawedoff, dtype: int64\n",
      "----\n",
      "ct_weapon_p90\n",
      "0.0    85674\n",
      "1.0       13\n",
      "Name: ct_weapon_p90, dtype: int64\n",
      "----\n",
      "ct_weapon_bizon\n",
      "0.0    85687\n",
      "Name: ct_weapon_bizon, dtype: int64\n",
      "----\n",
      "t_weapon_scar20\n",
      "0.0    85686\n",
      "1.0        1\n",
      "Name: t_weapon_scar20, dtype: int64\n",
      "----\n",
      "t_weapon_m249\n",
      "0.0    85687\n",
      "Name: t_weapon_m249, dtype: int64\n",
      "----\n",
      "t_weapon_r8revolver\n",
      "0.0    85684\n",
      "1.0        3\n",
      "Name: t_weapon_r8revolver, dtype: int64\n",
      "----\n",
      "ct_weapon_m249\n",
      "0.0    85686\n",
      "1.0        1\n",
      "Name: ct_weapon_m249, dtype: int64\n",
      "----\n",
      "ct_weapon_sawedoff\n",
      "0.0    85687\n",
      "Name: ct_weapon_sawedoff, dtype: int64\n",
      "----\n",
      "ct_weapon_elite\n",
      "0.0    85334\n",
      "1.0      353\n",
      "Name: ct_weapon_elite, dtype: int64\n",
      "----\n",
      "ct_weapon_negev\n",
      "0.0    85687\n",
      "Name: ct_weapon_negev, dtype: int64\n",
      "----\n",
      "ct_weapon_scar20\n",
      "0.0    85630\n",
      "1.0       57\n",
      "Name: ct_weapon_scar20, dtype: int64\n",
      "----\n",
      "ct_weapon_nova\n",
      "0.0    85602\n",
      "1.0       85\n",
      "Name: ct_weapon_nova, dtype: int64\n",
      "----\n",
      "ct_weapon_g3sg1\n",
      "0.0    85687\n",
      "Name: ct_weapon_g3sg1, dtype: int64\n",
      "----\n",
      "t_weapon_elite\n",
      "0.0    85537\n",
      "1.0      150\n",
      "Name: t_weapon_elite, dtype: int64\n",
      "----\n",
      "t_weapon_negev\n",
      "0.0    85686\n",
      "1.0        1\n",
      "Name: t_weapon_negev, dtype: int64\n",
      "----\n"
     ]
    }
   ],
   "source": [
    "#Lets look at the low unique variables \n",
    "for col in low_unique:\n",
    "    print(col)\n",
    "    res = df[col].value_counts()\n",
    "    print(f'{res}\\n----')"
   ]
  },
  {
   "cell_type": "markdown",
   "metadata": {},
   "source": [
    "We can clearly see the above aren't ever used or not very often, so we will consider removing them in variable selection stage."
   ]
  },
  {
   "cell_type": "markdown",
   "metadata": {
    "colab_type": "text",
    "hideCode": false,
    "hidePrompt": false,
    "id": "J7G9F6fjZDTE"
   },
   "source": [
    "## Scaling numerical variables"
   ]
  },
  {
   "cell_type": "code",
   "execution_count": 96,
   "metadata": {},
   "outputs": [
    {
     "name": "stdout",
     "output_type": "stream",
     "text": [
      "time_left - before scaling: mean= 97.8255679391  - min: 0.0200000000  - max: 175.0000000000\n",
      "time_left - after scaling: mean= -0.0000000000  - min: -1.7951748214  - max: 1.4165001054\n",
      "--------------------------------------------------\n",
      "ct_score - before scaling: mean= 6.7117415711  - min: 0.0000000000  - max: 32.0000000000\n",
      "ct_score - after scaling: mean= 0.0000000000  - min: -1.4023414904  - max: 5.2836918166\n",
      "--------------------------------------------------\n",
      "t_score - before scaling: mean= 6.7674326327  - min: 0.0000000000  - max: 33.0000000000\n",
      "t_score - after scaling: mean= 0.0000000000  - min: -1.4035689645  - max: 5.4406477926\n",
      "--------------------------------------------------\n",
      "ct_health - before scaling: mean= 411.9150629617  - min: 0.0000000000  - max: 500.0000000000\n",
      "ct_health - after scaling: mean= 0.0000000000  - min: -3.1092540997  - max: 0.6648905957\n",
      "--------------------------------------------------\n",
      "t_health - before scaling: mean= 402.7079020155  - min: 0.0000000000  - max: 500.0000000000\n",
      "t_health - after scaling: mean= -0.0000000000  - min: -2.8773642801  - max: 0.6951559830\n",
      "--------------------------------------------------\n",
      "ct_armor - before scaling: mean= 314.2302449613  - min: 0.0000000000  - max: 500.0000000000\n",
      "ct_armor - after scaling: mean= 0.0000000000  - min: -1.8394514814  - max: 1.0874651838\n",
      "--------------------------------------------------\n",
      "t_armor - before scaling: mean= 298.3402966611  - min: 0.0000000000  - max: 500.0000000000\n",
      "t_armor - after scaling: mean= 0.0000000000  - min: -1.7073768974  - max: 1.1540818403\n",
      "--------------------------------------------------\n",
      "ct_money - before scaling: mean= 9782.9326502270  - min: 0.0000000000  - max: 80000.0000000000\n",
      "ct_money - after scaling: mean= 0.0000000000  - min: -0.8728357026  - max: 6.2647843448\n",
      "--------------------------------------------------\n",
      "t_money - before scaling: mean= 11206.7635697364  - min: 0.0000000000  - max: 80000.0000000000\n",
      "t_money - after scaling: mean= 0.0000000000  - min: -0.9255520557  - max: 5.6815440960\n",
      "--------------------------------------------------\n",
      "ct_helmets - before scaling: mean= 2.0534736891  - min: 0.0000000000  - max: 5.0000000000\n",
      "ct_helmets - after scaling: mean= 0.0000000000  - min: -1.1166553839  - max: 1.6022871324\n",
      "--------------------------------------------------\n",
      "t_helmets - before scaling: mean= 2.7729760640  - min: 0.0000000000  - max: 5.0000000000\n",
      "t_helmets - after scaling: mean= -0.0000000000  - min: -1.3781365035  - max: 1.1068047143\n",
      "--------------------------------------------------\n",
      "ct_defuse_kits - before scaling: mean= 1.6142005205  - min: 0.0000000000  - max: 5.0000000000\n",
      "ct_defuse_kits - after scaling: mean= -0.0000000000  - min: -1.0051579227  - max: 2.1083273908\n",
      "--------------------------------------------------\n",
      "ct_players_alive - before scaling: mean= 4.2719432353  - min: 0.0000000000  - max: 5.0000000000\n",
      "ct_players_alive - after scaling: mean= 0.0000000000  - min: -3.5414328324  - max: 0.6035576759\n",
      "--------------------------------------------------\n",
      "t_players_alive - before scaling: mean= 4.2653728103  - min: 0.0000000000  - max: 5.0000000000\n",
      "t_players_alive - after scaling: mean= 0.0000000000  - min: -3.4703157731  - max: 0.5976941376\n",
      "--------------------------------------------------\n",
      "ct_weapon_ak47 - before scaling: mean= 0.2743239931  - min: 0.0000000000  - max: 4.0000000000\n",
      "ct_weapon_ak47 - after scaling: mean= 0.0000000000  - min: -0.4704766224  - max: 6.3896833959\n",
      "--------------------------------------------------\n",
      "t_weapon_ak47 - before scaling: mean= 1.2398613559  - min: 0.0000000000  - max: 5.0000000000\n",
      "t_weapon_ak47 - after scaling: mean= 0.0000000000  - min: -0.9109547477  - max: 2.7626606264\n",
      "--------------------------------------------------\n",
      "ct_weapon_aug - before scaling: mean= 0.1352830651  - min: 0.0000000000  - max: 5.0000000000\n",
      "ct_weapon_aug - after scaling: mean= 0.0000000000  - min: -0.2921628984  - max: 10.5060437417\n",
      "--------------------------------------------------\n",
      "t_weapon_aug - before scaling: mean= 0.0075040555  - min: 0.0000000000  - max: 3.0000000000\n",
      "t_weapon_aug - after scaling: mean= 0.0000000000  - min: -0.0827776773  - max: 33.0103988285\n",
      "--------------------------------------------------\n",
      "ct_weapon_awp - before scaling: mean= 0.5733658548  - min: 0.0000000000  - max: 5.0000000000\n",
      "ct_weapon_awp - after scaling: mean= 0.0000000000  - min: -0.8534032333  - max: 6.5886446854\n",
      "--------------------------------------------------\n",
      "t_weapon_awp - before scaling: mean= 0.3220091729  - min: 0.0000000000  - max: 4.0000000000\n",
      "t_weapon_awp - after scaling: mean= -0.0000000000  - min: -0.6749185531  - max: 7.7089240190\n",
      "--------------------------------------------------\n",
      "ct_weapon_bizon - before scaling: mean= 0.0000000000  - min: 0.0000000000  - max: 0.0000000000\n",
      "ct_weapon_bizon - after scaling: mean= 0.0000000000  - min: 0.0000000000  - max: 0.0000000000\n",
      "--------------------------------------------------\n",
      "t_weapon_bizon - before scaling: mean= 0.0000583519  - min: 0.0000000000  - max: 1.0000000000\n",
      "t_weapon_bizon - after scaling: mean= -0.0000000000  - min: -0.0076390650  - max: 130.9060731975\n",
      "--------------------------------------------------\n",
      "ct_weapon_cz75auto - before scaling: mean= 0.1513181696  - min: 0.0000000000  - max: 5.0000000000\n",
      "ct_weapon_cz75auto - after scaling: mean= -0.0000000000  - min: -0.3399022347  - max: 10.8914732032\n",
      "--------------------------------------------------\n",
      "t_weapon_cz75auto - before scaling: mean= 0.1060837700  - min: 0.0000000000  - max: 6.0000000000\n",
      "t_weapon_cz75auto - after scaling: mean= -0.0000000000  - min: -0.2789368873  - max: 15.4974756956\n",
      "--------------------------------------------------\n",
      "ct_weapon_elite - before scaling: mean= 0.0041196448  - min: 0.0000000000  - max: 1.0000000000\n",
      "ct_weapon_elite - after scaling: mean= -0.0000000000  - min: -0.0643170773  - max: 15.5479701817\n",
      "--------------------------------------------------\n",
      "t_weapon_elite - before scaling: mean= 0.0017505573  - min: 0.0000000000  - max: 1.0000000000\n",
      "t_weapon_elite - after scaling: mean= -0.0000000000  - min: -0.0418763308  - max: 23.8798380787\n",
      "--------------------------------------------------\n",
      "ct_weapon_famas - before scaling: mean= 0.1090130358  - min: 0.0000000000  - max: 5.0000000000\n",
      "ct_weapon_famas - after scaling: mean= -0.0000000000  - min: -0.2815179897  - max: 12.6306070411\n",
      "--------------------------------------------------\n",
      "t_weapon_famas - before scaling: mean= 0.0046914935  - min: 0.0000000000  - max: 2.0000000000\n",
      "t_weapon_famas - after scaling: mean= 0.0000000000  - min: -0.0670015727  - max: 28.4960022057\n",
      "--------------------------------------------------\n",
      "ct_weapon_g3sg1 - before scaling: mean= 0.0000000000  - min: 0.0000000000  - max: 0.0000000000\n",
      "ct_weapon_g3sg1 - after scaling: mean= 0.0000000000  - min: 0.0000000000  - max: 0.0000000000\n",
      "--------------------------------------------------\n",
      "t_weapon_g3sg1 - before scaling: mean= 0.0008285971  - min: 0.0000000000  - max: 4.0000000000\n",
      "t_weapon_g3sg1 - after scaling: mean= -0.0000000000  - min: -0.0211964325  - max: 102.3032378787\n",
      "--------------------------------------------------\n",
      "ct_weapon_galilar - before scaling: mean= 0.0112735888  - min: 0.0000000000  - max: 2.0000000000\n",
      "ct_weapon_galilar - after scaling: mean= 0.0000000000  - min: -0.0991800509  - max: 17.4959359381\n",
      "--------------------------------------------------\n",
      "t_weapon_galilar - before scaling: mean= 0.1117555755  - min: 0.0000000000  - max: 5.0000000000\n",
      "t_weapon_galilar - after scaling: mean= -0.0000000000  - min: -0.2733743468  - max: 11.9575298188\n",
      "--------------------------------------------------\n",
      "ct_weapon_glock - before scaling: mean= 0.0068971956  - min: 0.0000000000  - max: 3.0000000000\n",
      "ct_weapon_glock - after scaling: mean= -0.0000000000  - min: -0.0802517133  - max: 34.8259846294\n",
      "--------------------------------------------------\n",
      "t_weapon_glock - before scaling: mean= 3.3142483691  - min: 0.0000000000  - max: 8.0000000000\n",
      "t_weapon_glock - after scaling: mean= -0.0000000000  - min: -2.0392220475  - max: 2.8830935316\n",
      "--------------------------------------------------\n",
      "ct_weapon_m249 - before scaling: mean= 0.0000116704  - min: 0.0000000000  - max: 1.0000000000\n",
      "ct_weapon_m249 - after scaling: mean= 0.0000000000  - min: -0.0034162140  - max: 292.7217108450\n",
      "--------------------------------------------------\n",
      "t_weapon_m249 - before scaling: mean= 0.0000000000  - min: 0.0000000000  - max: 0.0000000000\n",
      "t_weapon_m249 - after scaling: mean= 0.0000000000  - min: 0.0000000000  - max: 0.0000000000\n",
      "--------------------------------------------------\n",
      "ct_weapon_m4a1s - before scaling: mean= 0.0641404180  - min: 0.0000000000  - max: 3.0000000000\n",
      "ct_weapon_m4a1s - after scaling: mean= -0.0000000000  - min: -0.2430081556  - max: 11.1230616219\n",
      "--------------------------------------------------\n",
      "t_weapon_m4a1s - before scaling: mean= 0.0026258359  - min: 0.0000000000  - max: 2.0000000000\n",
      "t_weapon_m4a1s - after scaling: mean= 0.0000000000  - min: -0.0508590525  - max: 38.6865599104\n",
      "--------------------------------------------------\n",
      "ct_weapon_m4a4 - before scaling: mean= 1.0747021135  - min: 0.0000000000  - max: 5.0000000000\n",
      "ct_weapon_m4a4 - after scaling: mean= 0.0000000000  - min: -0.8822176103  - max: 3.2222574774\n",
      "--------------------------------------------------\n",
      "t_weapon_m4a4 - before scaling: mean= 0.0532402815  - min: 0.0000000000  - max: 3.0000000000\n",
      "t_weapon_m4a4 - after scaling: mean= -0.0000000000  - min: -0.2145356231  - max: 11.8741846334\n",
      "--------------------------------------------------\n",
      "ct_weapon_mac10 - before scaling: mean= 0.0070138994  - min: 0.0000000000  - max: 3.0000000000\n",
      "ct_weapon_mac10 - after scaling: mean= 0.0000000000  - min: -0.0782303502  - max: 33.3826216322\n",
      "--------------------------------------------------\n",
      "t_weapon_mac10 - before scaling: mean= 0.1074258639  - min: 0.0000000000  - max: 5.0000000000\n",
      "t_weapon_mac10 - after scaling: mean= -0.0000000000  - min: -0.2608743325  - max: 11.8811891826\n",
      "--------------------------------------------------\n",
      "ct_weapon_mag7 - before scaling: mean= 0.0045164377  - min: 0.0000000000  - max: 2.0000000000\n",
      "ct_weapon_mag7 - after scaling: mean= -0.0000000000  - min: -0.0664991940  - max: 29.3811309896\n",
      "--------------------------------------------------\n",
      "t_weapon_mag7 - before scaling: mean= 0.0000233408  - min: 0.0000000000  - max: 1.0000000000\n",
      "t_weapon_mag7 - after scaling: mean= -0.0000000000  - min: -0.0048312843  - max: 206.9842989214\n",
      "--------------------------------------------------\n",
      "ct_weapon_mp5sd - before scaling: mean= 0.0015171496  - min: 0.0000000000  - max: 1.0000000000\n",
      "ct_weapon_mp5sd - after scaling: mean= 0.0000000000  - min: -0.0389801856  - max: 25.6540595078\n",
      "--------------------------------------------------\n",
      "t_weapon_mp5sd - before scaling: mean= 0.0027425397  - min: 0.0000000000  - max: 2.0000000000\n",
      "t_weapon_mp5sd - after scaling: mean= -0.0000000000  - min: -0.0503372892  - max: 36.6581844287\n",
      "--------------------------------------------------\n",
      "ct_weapon_mp7 - before scaling: mean= 0.0018906018  - min: 0.0000000000  - max: 2.0000000000\n",
      "ct_weapon_mp7 - after scaling: mean= -0.0000000000  - min: -0.0427365188  - max: 45.1666966512\n",
      "--------------------------------------------------\n",
      "t_weapon_mp7 - before scaling: mean= 0.0020073057  - min: 0.0000000000  - max: 2.0000000000\n",
      "t_weapon_mp7 - after scaling: mean= -0.0000000000  - min: -0.0443344206  - max: 44.1287294868\n",
      "--------------------------------------------------\n",
      "ct_weapon_mp9 - before scaling: mean= 0.1466150058  - min: 0.0000000000  - max: 5.0000000000\n",
      "ct_weapon_mp9 - after scaling: mean= 0.0000000000  - min: -0.3114468754  - max: 10.3098013967\n",
      "--------------------------------------------------\n",
      "t_weapon_mp9 - before scaling: mean= 0.0054267275  - min: 0.0000000000  - max: 2.0000000000\n",
      "t_weapon_mp9 - after scaling: mean= -0.0000000000  - min: -0.0680778584  - max: 25.0217606530\n",
      "--------------------------------------------------\n",
      "ct_weapon_negev - before scaling: mean= 0.0000000000  - min: 0.0000000000  - max: 0.0000000000\n",
      "ct_weapon_negev - after scaling: mean= 0.0000000000  - min: 0.0000000000  - max: 0.0000000000\n",
      "--------------------------------------------------\n",
      "t_weapon_negev - before scaling: mean= 0.0000116704  - min: 0.0000000000  - max: 1.0000000000\n"
     ]
    },
    {
     "name": "stdout",
     "output_type": "stream",
     "text": [
      "t_weapon_negev - after scaling: mean= 0.0000000000  - min: -0.0034162140  - max: 292.7217108450\n",
      "--------------------------------------------------\n",
      "ct_weapon_nova - before scaling: mean= 0.0009919824  - min: 0.0000000000  - max: 1.0000000000\n",
      "ct_weapon_nova - after scaling: mean= 0.0000000000  - min: -0.0315113861  - max: 31.7345608594\n",
      "--------------------------------------------------\n",
      "t_weapon_nova - before scaling: mean= 0.0000933631  - min: 0.0000000000  - max: 1.0000000000\n",
      "t_weapon_nova - after scaling: mean= -0.0000000000  - min: -0.0096629070  - max: 103.4885259340\n",
      "--------------------------------------------------\n",
      "ct_weapon_p90 - before scaling: mean= 0.0001517150  - min: 0.0000000000  - max: 1.0000000000\n",
      "ct_weapon_p90 - after scaling: mean= 0.0000000000  - min: -0.0123181973  - max: 81.1807100998\n",
      "--------------------------------------------------\n",
      "t_weapon_p90 - before scaling: mean= 0.0001517150  - min: 0.0000000000  - max: 1.0000000000\n",
      "t_weapon_p90 - after scaling: mean= -0.0000000000  - min: -0.0123181973  - max: 81.1807100998\n",
      "--------------------------------------------------\n",
      "ct_weapon_r8revolver - before scaling: mean= 0.0000000000  - min: 0.0000000000  - max: 0.0000000000\n",
      "ct_weapon_r8revolver - after scaling: mean= 0.0000000000  - min: 0.0000000000  - max: 0.0000000000\n",
      "--------------------------------------------------\n",
      "t_weapon_r8revolver - before scaling: mean= 0.0000350111  - min: 0.0000000000  - max: 1.0000000000\n",
      "t_weapon_r8revolver - after scaling: mean= 0.0000000000  - min: -0.0059171252  - max: 169.0009861904\n",
      "--------------------------------------------------\n",
      "ct_weapon_sawedoff - before scaling: mean= 0.0000000000  - min: 0.0000000000  - max: 0.0000000000\n",
      "ct_weapon_sawedoff - after scaling: mean= 0.0000000000  - min: 0.0000000000  - max: 0.0000000000\n",
      "--------------------------------------------------\n",
      "t_weapon_sawedoff - before scaling: mean= 0.0001283742  - min: 0.0000000000  - max: 1.0000000000\n",
      "t_weapon_sawedoff - after scaling: mean= -0.0000000000  - min: -0.0113309612  - max: 88.2537663373\n",
      "--------------------------------------------------\n",
      "ct_weapon_scar20 - before scaling: mean= 0.0006652118  - min: 0.0000000000  - max: 1.0000000000\n",
      "ct_weapon_scar20 - after scaling: mean= -0.0000000000  - min: -0.0258002822  - max: 38.7592660116\n",
      "--------------------------------------------------\n",
      "t_weapon_scar20 - before scaling: mean= 0.0000116704  - min: 0.0000000000  - max: 1.0000000000\n",
      "t_weapon_scar20 - after scaling: mean= 0.0000000000  - min: -0.0034162140  - max: 292.7217108450\n",
      "--------------------------------------------------\n",
      "ct_weapon_sg553 - before scaling: mean= 0.2401997969  - min: 0.0000000000  - max: 4.0000000000\n",
      "ct_weapon_sg553 - after scaling: mean= 0.0000000000  - min: -0.4320362761  - max: 6.7625789001\n",
      "--------------------------------------------------\n",
      "t_weapon_sg553 - before scaling: mean= 0.8268348758  - min: 0.0000000000  - max: 5.0000000000\n",
      "t_weapon_sg553 - after scaling: mean= 0.0000000000  - min: -0.7246441241  - max: 3.6573923944\n",
      "--------------------------------------------------\n",
      "ct_weapon_ssg08 - before scaling: mean= 0.0602658513  - min: 0.0000000000  - max: 4.0000000000\n",
      "ct_weapon_ssg08 - after scaling: mean= 0.0000000000  - min: -0.2259693276  - max: 14.7721978064\n",
      "--------------------------------------------------\n",
      "t_weapon_ssg08 - before scaling: mean= 0.0202947938  - min: 0.0000000000  - max: 3.0000000000\n",
      "t_weapon_ssg08 - after scaling: mean= -0.0000000000  - min: -0.1399587282  - max: 20.5489030522\n",
      "--------------------------------------------------\n",
      "ct_weapon_ump45 - before scaling: mean= 0.0467515492  - min: 0.0000000000  - max: 3.0000000000\n",
      "ct_weapon_ump45 - after scaling: mean= -0.0000000000  - min: -0.2021144597  - max: 12.7673675965\n",
      "--------------------------------------------------\n",
      "t_weapon_ump45 - before scaling: mean= 0.0368784063  - min: 0.0000000000  - max: 3.0000000000\n",
      "t_weapon_ump45 - after scaling: mean= -0.0000000000  - min: -0.1733180273  - max: 13.9258292593\n",
      "--------------------------------------------------\n",
      "ct_weapon_xm1014 - before scaling: mean= 0.0076791112  - min: 0.0000000000  - max: 2.0000000000\n",
      "ct_weapon_xm1014 - after scaling: mean= -0.0000000000  - min: -0.0866518715  - max: 22.4815515227\n",
      "--------------------------------------------------\n",
      "t_weapon_xm1014 - before scaling: mean= 0.0002217373  - min: 0.0000000000  - max: 1.0000000000\n",
      "t_weapon_xm1014 - after scaling: mean= -0.0000000000  - min: -0.0148924958  - max: 67.1479121437\n",
      "--------------------------------------------------\n",
      "ct_weapon_deagle - before scaling: mean= 0.4417356192  - min: 0.0000000000  - max: 5.0000000000\n",
      "ct_weapon_deagle - after scaling: mean= -0.0000000000  - min: -0.5276058908  - max: 5.4443586498\n",
      "--------------------------------------------------\n",
      "t_weapon_deagle - before scaling: mean= 0.3765915483  - min: 0.0000000000  - max: 5.0000000000\n",
      "t_weapon_deagle - after scaling: mean= -0.0000000000  - min: -0.4661919575  - max: 5.7234312511\n",
      "--------------------------------------------------\n",
      "ct_weapon_fiveseven - before scaling: mean= 0.0619580566  - min: 0.0000000000  - max: 5.0000000000\n",
      "ct_weapon_fiveseven - after scaling: mean= -0.0000000000  - min: -0.2157577737  - max: 17.1958417326\n",
      "--------------------------------------------------\n",
      "t_weapon_fiveseven - before scaling: mean= 0.0092896239  - min: 0.0000000000  - max: 2.0000000000\n",
      "t_weapon_fiveseven - after scaling: mean= -0.0000000000  - min: -0.0929105818  - max: 19.9101774229\n",
      "--------------------------------------------------\n",
      "ct_weapon_usps - before scaling: mean= 3.1771213836  - min: 0.0000000000  - max: 10.0000000000\n",
      "ct_weapon_usps - after scaling: mean= -0.0000000000  - min: -2.0030149625  - max: 4.3014812169\n",
      "--------------------------------------------------\n",
      "t_weapon_usps - before scaling: mean= 0.1225623490  - min: 0.0000000000  - max: 5.0000000000\n",
      "t_weapon_usps - after scaling: mean= 0.0000000000  - min: -0.2778495007  - max: 11.0571772414\n",
      "--------------------------------------------------\n",
      "ct_weapon_p250 - before scaling: mean= 0.2357533815  - min: 0.0000000000  - max: 5.0000000000\n",
      "ct_weapon_p250 - after scaling: mean= 0.0000000000  - min: -0.4429713384  - max: 8.9518321548\n",
      "--------------------------------------------------\n",
      "t_weapon_p250 - before scaling: mean= 0.2913510801  - min: 0.0000000000  - max: 5.0000000000\n",
      "t_weapon_p250 - after scaling: mean= -0.0000000000  - min: -0.5017699952  - max: 8.1093186451\n",
      "--------------------------------------------------\n",
      "ct_weapon_p2000 - before scaling: mean= 0.1753358152  - min: 0.0000000000  - max: 3.0000000000\n",
      "ct_weapon_p2000 - after scaling: mean= -0.0000000000  - min: -0.4107996516  - max: 6.6179922306\n",
      "--------------------------------------------------\n",
      "t_weapon_p2000 - before scaling: mean= 0.0048665492  - min: 0.0000000000  - max: 3.0000000000\n",
      "t_weapon_p2000 - after scaling: mean= -0.0000000000  - min: -0.0659225190  - max: 40.5722277196\n",
      "--------------------------------------------------\n",
      "ct_weapon_tec9 - before scaling: mean= 0.0082276191  - min: 0.0000000000  - max: 2.0000000000\n",
      "ct_weapon_tec9 - after scaling: mean= 0.0000000000  - min: -0.0858399064  - max: 20.7804411121\n",
      "--------------------------------------------------\n",
      "t_weapon_tec9 - before scaling: mean= 0.0281606311  - min: 0.0000000000  - max: 4.0000000000\n",
      "t_weapon_tec9 - after scaling: mean= 0.0000000000  - min: -0.1478380112  - max: 20.8514088501\n",
      "--------------------------------------------------\n",
      "ct_grenade_hegrenade - before scaling: mean= 0.8977091041  - min: 0.0000000000  - max: 5.0000000000\n",
      "ct_grenade_hegrenade - after scaling: mean= -0.0000000000  - min: -0.7015280499  - max: 3.2057958635\n",
      "--------------------------------------------------\n",
      "t_grenade_hegrenade - before scaling: mean= 0.4377210079  - min: 0.0000000000  - max: 5.0000000000\n",
      "t_grenade_hegrenade - after scaling: mean= -0.0000000000  - min: -0.5399922861  - max: 5.6282321811\n",
      "--------------------------------------------------\n",
      "ct_grenade_flashbang - before scaling: mean= 1.8534083350  - min: 0.0000000000  - max: 7.0000000000\n",
      "ct_grenade_flashbang - after scaling: mean= -0.0000000000  - min: -1.0462840478  - max: 2.9053483024\n",
      "--------------------------------------------------\n",
      "t_grenade_flashbang - before scaling: mean= 1.8570611645  - min: 0.0000000000  - max: 7.0000000000\n",
      "t_grenade_flashbang - after scaling: mean= -0.0000000000  - min: -1.0342829943  - max: 2.8643397858\n",
      "--------------------------------------------------\n",
      "ct_grenade_smokegrenade - before scaling: mean= 1.5370126157  - min: 0.0000000000  - max: 6.0000000000\n",
      "ct_grenade_smokegrenade - after scaling: mean= 0.0000000000  - min: -0.8856644226  - max: 2.5716829545\n",
      "--------------------------------------------------\n",
      "t_grenade_smokegrenade - before scaling: mean= 1.6259292541  - min: 0.0000000000  - max: 9.0000000000\n",
      "t_grenade_smokegrenade - after scaling: mean= -0.0000000000  - min: -0.8884585059  - max: 4.0294224739\n",
      "--------------------------------------------------\n",
      "ct_grenade_incendiarygrenade - before scaling: mean= 1.0000350111  - min: 0.0000000000  - max: 5.0000000000\n",
      "ct_grenade_incendiarygrenade - after scaling: mean= 0.0000000000  - min: -0.6862254331  - max: 2.7447816088\n",
      "--------------------------------------------------\n",
      "t_grenade_incendiarygrenade - before scaling: mean= 0.0201897604  - min: 0.0000000000  - max: 3.0000000000\n",
      "t_grenade_incendiarygrenade - after scaling: mean= -0.0000000000  - min: -0.1388739570  - max: 20.4964313975\n",
      "--------------------------------------------------\n",
      "ct_grenade_molotovgrenade - before scaling: mean= 0.0480236209  - min: 0.0000000000  - max: 3.0000000000\n",
      "ct_grenade_molotovgrenade - after scaling: mean= -0.0000000000  - min: -0.2110798693  - max: 12.9749231147\n",
      "--------------------------------------------------\n",
      "t_grenade_molotovgrenade - before scaling: mean= 1.3487343471  - min: 0.0000000000  - max: 5.0000000000\n",
      "t_grenade_molotovgrenade - after scaling: mean= 0.0000000000  - min: -0.8112169136  - max: 2.1961096045\n",
      "--------------------------------------------------\n",
      "ct_grenade_decoygrenade - before scaling: mean= 0.0281839719  - min: 0.0000000000  - max: 3.0000000000\n",
      "ct_grenade_decoygrenade - after scaling: mean= -0.0000000000  - min: -0.1646424688  - max: 17.3604745810\n",
      "--------------------------------------------------\n",
      "t_grenade_decoygrenade - before scaling: mean= 0.0261066439  - min: 0.0000000000  - max: 2.0000000000\n",
      "t_grenade_decoygrenade - after scaling: mean= 0.0000000000  - min: -0.1575558455  - max: 11.9126164707\n",
      "--------------------------------------------------\n"
     ]
    }
   ],
   "source": [
    "from sklearn.preprocessing import StandardScaler\n",
    "scaler = StandardScaler()\n",
    "for v in numerics:\n",
    "    print(v, \"- before scaling: mean= {:.10f}\".format(df[v].values.mean()), \" - min: {:.10f}\".format(df[v].values.min()), \" - max: {:.10f}\".format(df[v].values.max()))\n",
    "    df[v] = scaler.fit_transform(df[[v]])\n",
    "    print(v, \"- after scaling: mean= {:.10f}\".format(df[v].values.mean()), \" - min: {:.10f}\".format(df[v].values.min()), \" - max: {:.10f}\".format(df[v].values.max()))\n",
    "    print(\"-\"*50)"
   ]
  },
  {
   "cell_type": "code",
   "execution_count": 17,
   "metadata": {},
   "outputs": [],
   "source": [
    "from sklearn.preprocessing import StandardScaler\n",
    "stdsc = StandardScaler()\n",
    "df_numerical_std = pd.DataFrame(stdsc.fit_transform(df_numerical))\n",
    "df_numerical_std.columns=df_numerical.columns"
   ]
  },
  {
   "cell_type": "markdown",
   "metadata": {},
   "source": [
    "## PCA"
   ]
  },
  {
   "cell_type": "code",
   "execution_count": 105,
   "metadata": {},
   "outputs": [
    {
     "name": "stdout",
     "output_type": "stream",
     "text": [
      "Principal Components shape: (4, 94)\n",
      "Transformed Features shape: (85687, 4)\n"
     ]
    }
   ],
   "source": [
    "from matplotlib.colors import ListedColormap\n",
    "from sklearn.decomposition import PCA\n",
    "pca = PCA(n_components=4, random_state=1)\n",
    "df_transformed = pca.fit_transform(df_numerical_std)\n",
    "print(f\"Principal Components shape: {pca.components_.shape}\")\n",
    "print(f\"Transformed Features shape: {df_transformed.shape}\")"
   ]
  },
  {
   "cell_type": "code",
   "execution_count": 97,
   "metadata": {},
   "outputs": [],
   "source": [
    "def scatter(X1, X2, y, fig, ax, title):\n",
    "    colors = [\"red\", \"green\", \"grey\", \"purple\", \"blue\"]\n",
    "    colormap = cmap = ListedColormap(colors)\n",
    "\n",
    "    for winner in y.unique():\n",
    "        i = np.where(y == winner)\n",
    "        ax.scatter(X1[i], X2[i], label=f\"Team {winner}\", alpha=0.7)\n",
    "\n",
    "    ax.set_title(title)\n",
    "    ax.legend(loc=\"best\")"
   ]
  },
  {
   "cell_type": "code",
   "execution_count": 106,
   "metadata": {},
   "outputs": [
    {
     "data": {
      "text/plain": [
       "<matplotlib.lines.Line2D at 0x1238235e288>"
      ]
     },
     "execution_count": 106,
     "metadata": {},
     "output_type": "execute_result"
    },
    {
     "data": {
      "image/png": "[encoded data removed]",
      "text/plain": [
       "<Figure size 576x432 with 6 Axes>"
      ]
     },
     "metadata": {
      "needs_background": "light"
     },
     "output_type": "display_data"
    }
   ],
   "source": [
    "X = df_transformed.T\n",
    "y = df['round_winner']\n",
    "\n",
    "fig, axs = plt.subplots(nrows=2, ncols=3, sharex=True, sharey=True)\n",
    "fig.set_size_inches(8, 6)\n",
    "scatter(X[0], X[1], y, fig, axs[0, 0], \"PC1 and PC2\")\n",
    "scatter(X[0], X[2], y, fig, axs[0, 1], \"PC1 and PC3\")\n",
    "scatter(X[0], X[3], y, fig, axs[0, 2], \"PC1 and PC4\")\n",
    "scatter(X[1], X[2], y, fig, axs[1, 0], \"PC2 and PC3\")\n",
    "scatter(X[1], X[3], y, fig, axs[1, 1], \"PC2 and PC4\")\n",
    "scatter(X[2], X[3], y, fig, axs[1, 2], \"PC3 and PC4\")\n",
    "#show()"
   ]
  },
  {
   "cell_type": "markdown",
   "metadata": {},
   "source": [
    "It seems PCA is not helping us to classify."
   ]
  },
  {
   "cell_type": "markdown",
   "metadata": {
    "colab_type": "text",
    "hideCode": false,
    "hidePrompt": false,
    "id": "FgcxzXqqZDTf"
   },
   "source": [
    "# Baseline"
   ]
  },
  {
   "cell_type": "markdown",
   "metadata": {
    "colab_type": "text",
    "id": "772U0c25ZDTf"
   },
   "source": [
    "## Logistic Regression\n",
    "\n",
    "We will build a method to evaluate a basic Logistic Regression over a split of the data set using cross validation.\n",
    "\n",
    "The method requires that you send it the independent variables (X) and the dependent variables (y) as a pandas DataFrame."
   ]
  },
  {
   "cell_type": "code",
   "execution_count": 22,
   "metadata": {
    "colab": {},
    "colab_type": "code",
    "id": "MRjOX_hxZDTf"
   },
   "outputs": [],
   "source": [
    "from sklearn.metrics import accuracy_score, f1_score, recall_score, matthews_corrcoef\n",
    "\n",
    "def evaluate_LogReg(X: pd.DataFrame, y: pd.DataFrame,\n",
    "                    metric: str='accuracy',\n",
    "                    seed: int=123,\n",
    "                    printout: bool=False):\n",
    "    \"\"\"\n",
    "    Fits a logistic regression with the training set, and evaluates it with \n",
    "    the test set, using Accuracy, F1, Recall or MCC metrics.\n",
    "\n",
    "    Params\n",
    "      X: A Pandas DataFrame with all the values to be used to fit the logit\n",
    "      y: The dependent variable.\n",
    "      metric: The metric to be returned\n",
    "      printout: True/False indicating whether you want to print results\n",
    "\n",
    "    \"\"\"\n",
    "    # Split the data is the first thing to do\n",
    "    X_train, X_test, y_train, y_test = train_test_split(\n",
    "        X, y, test_size=0.2)\n",
    "\n",
    "    lr = LogisticRegression(max_iter=200).fit(X_train, y_train)\n",
    "    y_hat = lr.predict(X_test)\n",
    "\n",
    "    accuracy = accuracy_score(y_test, y_hat)\n",
    "    F1 = f1_score(y_test, y_hat)\n",
    "    recall = recall_score(y_test, y_hat)\n",
    "    MCC = matthews_corrcoef(y_test, y_hat)\n",
    "    \n",
    "    if printout is True:\n",
    "        print('Accuracy:', accuracy)\n",
    "        print('F1:', F1)\n",
    "        print('Recall:', recall)\n",
    "        print('MCC:', MCC)\n",
    "    \n",
    "    return eval(metric)"
   ]
  },
  {
   "cell_type": "markdown",
   "metadata": {
    "colab_type": "text",
    "id": "5az2g6C8nMpA"
   },
   "source": [
    "Let's run the **baseline**. We will simply call our method with the numerical features only, simply to see what is the expected Accuracy metric. Ideally, we should call the evaluation method with all our features, but to do so, we must convert our categorical features into numbers. For baselining, we can start by simply applying a **onehot** encoding to them to see what is the result.\n",
    "\n",
    "# Baseline with numerical features only\n",
    "\n",
    "To start with, let's simply use numericals:"
   ]
  },
  {
   "cell_type": "code",
   "execution_count": 20,
   "metadata": {},
   "outputs": [],
   "source": [
    "target = df['round_winner'].replace({'CT': 1, 'T':0})\n"
   ]
  },
  {
   "cell_type": "code",
   "execution_count": 23,
   "metadata": {
    "colab": {
     "base_uri": "https://localhost:8080/",
     "height": 32
    },
    "colab_type": "code",
    "hideCode": false,
    "hidePrompt": false,
    "id": "vBHokEQxZDTg",
    "outputId": "1b08918e-2888-4a5e-cf8d-82e9a52fcf7b"
   },
   "outputs": [
    {
     "name": "stdout",
     "output_type": "stream",
     "text": [
      "Accuracy: 0.7467032325825651\n",
      "F1: 0.7427860401730164\n",
      "Recall: 0.7435349940688019\n",
      "MCC: 0.49329041254324224\n"
     ]
    },
    {
     "data": {
      "text/plain": [
       "0.7467032325825651"
      ]
     },
     "execution_count": 23,
     "metadata": {},
     "output_type": "execute_result"
    }
   ],
   "source": [
    "from sklearn.linear_model import LogisticRegression\n",
    "evaluate_LogReg(X=df_numerical_std, y=target, printout=True)"
   ]
  },
  {
   "cell_type": "markdown",
   "metadata": {
    "colab_type": "text",
    "id": "pmsclXBEnscy"
   },
   "source": [
    "Now, we will try to onehot our categoricals to apply the LogisticRegression to all our features. \n",
    "\n",
    "# Baseline with all features (onehot)\n"
   ]
  },
  {
   "cell_type": "code",
   "execution_count": 26,
   "metadata": {
    "colab": {
     "base_uri": "https://localhost:8080/",
     "height": 280
    },
    "colab_type": "code",
    "id": "Mang7SPboGZr",
    "outputId": "165a78d5-6e21-4a43-9d7a-753318efe2d5"
   },
   "outputs": [
    {
     "name": "stderr",
     "output_type": "stream",
     "text": [
      "C:\\Users\\drodriguez45\\Anaconda3\\lib\\site-packages\\ipykernel_launcher.py:2: SettingWithCopyWarning: \n",
      "A value is trying to be set on a copy of a slice from a DataFrame.\n",
      "Try using .loc[row_indexer,col_indexer] = value instead\n",
      "\n",
      "See the caveats in the documentation: https://pandas.pydata.org/pandas-docs/stable/user_guide/indexing.html#returning-a-view-versus-a-copy\n",
      "  \n"
     ]
    }
   ],
   "source": [
    "# Label code binary feature\n",
    "df_categorical['bomb_planted'] = df_categorical['bomb_planted'].replace({True: 1, False:0})\n",
    "\n",
    "# Onehot map variable using pandas get_dummies\n",
    "map_ohe = pd.get_dummies(df_categorical['map'], drop_first=True)\n",
    "\n",
    "#This data frame is ready to append to df, and remove original features one hot encoded\n",
    "df_categorical_ohe = pd.concat([df_categorical, map_ohe], axis=1)\n",
    "df_categorical_ohe.drop('map', axis=1, inplace = True)\n",
    "df_categorical_ohe"
   ]
  },
  {
   "cell_type": "code",
   "execution_count": 27,
   "metadata": {
    "colab": {
     "base_uri": "https://localhost:8080/",
     "height": 32
    },
    "colab_type": "code",
    "id": "1ntdLStiowkc",
    "outputId": "031797ab-3005-4321-995b-1c7fbaa3d1c9"
   },
   "outputs": [
    {
     "name": "stdout",
     "output_type": "stream",
     "text": [
      "Accuracy: 0.750087524798693\n",
      "F1: 0.7480440025883875\n",
      "Recall: 0.7568146649208427\n",
      "MCC: 0.5003404344054656\n"
     ]
    },
    {
     "data": {
      "text/plain": [
       "0.750087524798693"
      ]
     },
     "execution_count": 27,
     "metadata": {},
     "output_type": "execute_result"
    }
   ],
   "source": [
    "# Call the evaluation method with all data in the dataset\n",
    "df_copy_ohe = pd.concat([df_numerical_std, df_categorical_ohe], axis=1)\n",
    "evaluate_LogReg(df_copy_ohe, target, printout=True)"
   ]
  },
  {
   "cell_type": "markdown",
   "metadata": {
    "colab_type": "text",
    "id": "mV-UDxECbjMN"
   },
   "source": [
    "## Cross Validation \n",
    "\n",
    "To evaluate our model in a slightly simpler way, let's use this method: `cv_classification`. It accepts a Dataset as input, and an `estimator`, which is simply the model I want to use.\n",
    "\n",
    "Internally, it will repeat a number of times (`num_iterations`) the following steps:\n",
    "\n",
    "  1. Randomly split the data set into training and test\n",
    "  2. Fit the estimator with the training portion of the data\n",
    "  3. Obtain a CV metric in training for this model\n",
    "  4. Obtain a metric in test for the predictions obtained with the model just fitted in step 2\n",
    "  5. Save the scores in an array to later return all of them"
   ]
  },
  {
   "cell_type": "code",
   "execution_count": 28,
   "metadata": {
    "colab": {},
    "colab_type": "code",
    "id": "OPM3ncUf8N0Y"
   },
   "outputs": [],
   "source": [
    "def cv_classification(X: pd.DataFrame, y: pd.DataFrame, estimator, num_iterations=20, verbose=True):\n",
    "    train_scores=[]\n",
    "    test_scores=[]\n",
    "    for i in range(num_iterations):\n",
    "        # Split the data is the first thing to do\n",
    "        X_train, X_test, y_train, y_test = train_test_split(\n",
    "        X, y, test_size=0.2)\n",
    "\n",
    "        # We want to call a method whose name is the argument to this func.\n",
    "        estimator.fit(X_train, y_train)\n",
    "        train_metric = cross_val_score(estimator, X_train, y_train, scoring='accuracy')\n",
    "        train_scores.append(np.median(train_metric))\n",
    "\n",
    "        test_score = accuracy_score(y_test, estimator.predict(X_test))\n",
    "        test_scores.append(test_score)\n",
    "\n",
    "    if verbose:\n",
    "        print('Training median Accuracy: {:.4f} +/- {:.2f}%'.format(\n",
    "            np.median(train_scores), np.std(train_scores)*100.))\n",
    "        print('Test Accuracy: {:.4f} +/- {:.2f}%'.format(\n",
    "            np.median(test_scores), np.std(test_scores)*100.))\n",
    "\n",
    "    return train_scores, test_scores"
   ]
  },
  {
   "cell_type": "code",
   "execution_count": 33,
   "metadata": {
    "colab": {
     "base_uri": "https://localhost:8080/",
     "height": 49
    },
    "colab_type": "code",
    "id": "P5BC2e96QCuP",
    "outputId": "4859ef66-37df-45a8-b848-5320dd200cb5"
   },
   "outputs": [
    {
     "name": "stdout",
     "output_type": "stream",
     "text": [
      "Training median Accuracy: 0.7490 +/- 0.17%\n",
      "Test Accuracy: 0.7516 +/- 0.28%\n"
     ]
    }
   ],
   "source": [
    "lr = LogisticRegression(max_iter = 250)\n",
    "lr_train, lr_test = cv_classification(df_copy_ohe, target, lr)"
   ]
  },
  {
   "cell_type": "markdown",
   "metadata": {
    "colab_type": "text",
    "id": "tznHn84-boxq"
   },
   "source": [
    "## Baseline with decision tree\n",
    "\n",
    "To make things a bit simpler in our baseline, we will use a decision tree. Spending too much time cleaning our data to fit normal distributions and finding co-linearity could not be worthy in the end. So, let's try to produce a quick baseline with a single decision tree."
   ]
  },
  {
   "cell_type": "code",
   "execution_count": 32,
   "metadata": {
    "colab": {
     "base_uri": "https://localhost:8080/",
     "height": 49
    },
    "colab_type": "code",
    "id": "JjmCmTJtJmAT",
    "outputId": "29cc1778-4644-43e3-b3fd-439714f8ae31"
   },
   "outputs": [
    {
     "name": "stdout",
     "output_type": "stream",
     "text": [
      "Training median Accuracy: 0.7857 +/- 0.21%\n",
      "Test Accuracy: 0.8007 +/- 0.40%\n"
     ]
    }
   ],
   "source": [
    "from sklearn.tree import DecisionTreeClassifier, export_graphviz\n",
    "baseline_tree = DecisionTreeClassifier(random_state=123)\n",
    "base_train, base_test = cv_classification(df_copy_ohe, target, baseline_tree)"
   ]
  },
  {
   "cell_type": "markdown",
   "metadata": {
    "colab_type": "text",
    "id": "lX4zp5yzmH17"
   },
   "source": [
    "The interpretation from these training and test scores is the following:\n",
    "\n",
    "* Our model, in training, is capable of achieving a 78.57% Accuracy score, with a variance of 0.21%. This is useful to check if our training is getting very high results (overfitting) or very high variance (data contains too much noise).\n",
    "* Our model is expected to throw an Accuracy of 80.07% (+/- 0.40%) when predicting over unseen data.\n",
    "* Since performance test is better than training performance, that's an indication that your training can be improved by tuning a bit more the parameters (too much bias)."
   ]
  },
  {
   "cell_type": "markdown",
   "metadata": {
    "colab_type": "text",
    "hideCode": false,
    "hidePrompt": false,
    "id": "eDAbh9elZDTh"
   },
   "source": [
    "# Feature Engineering\n",
    "\n",
    "We are using the original data. We discard the scaled and onehot version to play with the original features to later perform the best possible encoding (not only onehot encoding). "
   ]
  },
  {
   "cell_type": "markdown",
   "metadata": {
    "colab_type": "text",
    "hideCode": false,
    "hidePrompt": false,
    "id": "eDAbh9elZDTh"
   },
   "source": [
    "## Catboost encoding vs. Target encoding\n",
    "\n",
    "We're going to compare what is the effect of encoding with Catboost or Target encoding vs. the onehot encoded proposed above for the baseline."
   ]
  },
  {
   "cell_type": "code",
   "execution_count": null,
   "metadata": {
    "colab": {},
    "colab_type": "code",
    "hideCode": false,
    "hidePrompt": false,
    "id": "UJtTZhDtZDTh"
   },
   "outputs": [],
   "source": [
    "# Uncomment this line if you haven't installed caatboos (categorical_encoders) already\n",
    "# !pip install catboost"
   ]
  },
  {
   "cell_type": "markdown",
   "metadata": {},
   "source": [
    "Simple `fit_transform` our data using the proposed encoder, and then:\n",
    "  - we create another dataset (since we don't want to destroy the original one)\n",
    "  - we add the new numerically encoded features proposed by Catboost\n",
    "  - we remove the old categorical features"
   ]
  },
  {
   "cell_type": "code",
   "execution_count": 37,
   "metadata": {},
   "outputs": [
    {
     "data": {
      "text/html": [
       "<div>\n",
       "<style scoped>\n",
       "    .dataframe tbody tr th:only-of-type {\n",
       "        vertical-align: middle;\n",
       "    }\n",
       "\n",
       "    .dataframe tbody tr th {\n",
       "        vertical-align: top;\n",
       "    }\n",
       "\n",
       "    .dataframe thead th {\n",
       "        text-align: right;\n",
       "    }\n",
       "</style>\n",
       "<table border=\"1\" class=\"dataframe\">\n",
       "  <thead>\n",
       "    <tr style=\"text-align: right;\">\n",
       "      <th></th>\n",
       "      <th>map_cb</th>\n",
       "    </tr>\n",
       "  </thead>\n",
       "  <tbody>\n",
       "    <tr>\n",
       "      <th>0</th>\n",
       "      <td>0.490191</td>\n",
       "    </tr>\n",
       "    <tr>\n",
       "      <th>1</th>\n",
       "      <td>0.490191</td>\n",
       "    </tr>\n",
       "    <tr>\n",
       "      <th>2</th>\n",
       "      <td>0.490191</td>\n",
       "    </tr>\n",
       "    <tr>\n",
       "      <th>3</th>\n",
       "      <td>0.745096</td>\n",
       "    </tr>\n",
       "    <tr>\n",
       "      <th>4</th>\n",
       "      <td>0.496730</td>\n",
       "    </tr>\n",
       "    <tr>\n",
       "      <th>...</th>\n",
       "      <td>...</td>\n",
       "    </tr>\n",
       "    <tr>\n",
       "      <th>85682</th>\n",
       "      <td>0.536471</td>\n",
       "    </tr>\n",
       "    <tr>\n",
       "      <th>85683</th>\n",
       "      <td>0.499848</td>\n",
       "    </tr>\n",
       "    <tr>\n",
       "      <th>85684</th>\n",
       "      <td>0.536506</td>\n",
       "    </tr>\n",
       "    <tr>\n",
       "      <th>85685</th>\n",
       "      <td>0.491778</td>\n",
       "    </tr>\n",
       "    <tr>\n",
       "      <th>85686</th>\n",
       "      <td>0.491817</td>\n",
       "    </tr>\n",
       "  </tbody>\n",
       "</table>\n",
       "<p>85687 rows × 1 columns</p>\n",
       "</div>"
      ],
      "text/plain": [
       "         map_cb\n",
       "0      0.490191\n",
       "1      0.490191\n",
       "2      0.490191\n",
       "3      0.745096\n",
       "4      0.496730\n",
       "...         ...\n",
       "85682  0.536471\n",
       "85683  0.499848\n",
       "85684  0.536506\n",
       "85685  0.491778\n",
       "85686  0.491817\n",
       "\n",
       "[85687 rows x 1 columns]"
      ]
     },
     "execution_count": 37,
     "metadata": {},
     "output_type": "execute_result"
    }
   ],
   "source": [
    "# Create the Catboost encoder, and \"fit\" + \"transform\" our data.\n",
    "catboost_enc = ce.CatBoostEncoder()\n",
    "map_cb= catboost_enc.fit_transform(\n",
    "    df_categorical['map'], target).add_suffix('_cb')\n",
    "\n",
    "map_cb"
   ]
  },
  {
   "cell_type": "code",
   "execution_count": 38,
   "metadata": {},
   "outputs": [],
   "source": [
    "#Create a copy of df with CatBoost encoded feature\n",
    "df_categorical_cb = pd.concat([df_categorical, map_cb], axis=1)\n",
    "df_categorical_cb.drop('map', axis=1, inplace = True)\n",
    "\n",
    "df_copy_cb = pd.concat([df_numerical_std, df_categorical_cb], axis=1)"
   ]
  },
  {
   "cell_type": "markdown",
   "metadata": {},
   "source": [
    "Now, train a decission tree classifier with the new data to see if we're improving a bit."
   ]
  },
  {
   "cell_type": "code",
   "execution_count": 40,
   "metadata": {},
   "outputs": [
    {
     "name": "stdout",
     "output_type": "stream",
     "text": [
      "Training median Accuracy: 0.7770 +/- 0.22%\n",
      "Test Accuracy: 0.7893 +/- 0.30%\n"
     ]
    }
   ],
   "source": [
    "catboost_tree = DecisionTreeClassifier(random_state=42)\n",
    "cb_train, cb_test = cv_classification(df_copy_cb, target, baseline_tree)"
   ]
  },
  {
   "cell_type": "markdown",
   "metadata": {},
   "source": [
    "Now it's time to try the TargetEncoder. Same steps as above"
   ]
  },
  {
   "cell_type": "code",
   "execution_count": 41,
   "metadata": {},
   "outputs": [],
   "source": [
    "# Create the Target encoder, and \"fit\" + \"transform\" our data.\n",
    "target_enc = ce.TargetEncoder()\n",
    "map_tg= target_enc.fit_transform(\n",
    "    df_categorical['map'], target).add_suffix('_tg')\n",
    "\n",
    "#Create a copy of df with Target encoded feature\n",
    "df_categorical_tg = pd.concat([df_categorical, map_tg], axis=1)\n",
    "df_categorical_tg.drop('map', axis=1, inplace = True)\n",
    "\n",
    "df_copy_tg = pd.concat([df_numerical_std, df_categorical_tg], axis=1)"
   ]
  },
  {
   "cell_type": "code",
   "execution_count": 42,
   "metadata": {},
   "outputs": [
    {
     "name": "stdout",
     "output_type": "stream",
     "text": [
      "Training median Accuracy: 0.7853 +/- 0.23%\n",
      "Test Accuracy: 0.7998 +/- 0.39%\n"
     ]
    }
   ],
   "source": [
    "target_tree = DecisionTreeClassifier(random_state=666)\n",
    "tg_train, tg_test = cv_classification(df_copy_tg, target, target_tree)"
   ]
  },
  {
   "cell_type": "code",
   "execution_count": 43,
   "metadata": {
    "jupyter": {
     "source_hidden": true
    }
   },
   "outputs": [
    {
     "data": {
      "image/png": "[encoded data removed]",
      "text/plain": [
       "<Figure size 432x288 with 1 Axes>"
      ]
     },
     "metadata": {
      "needs_background": "light"
     },
     "output_type": "display_data"
    }
   ],
   "source": [
    "# Plot the three results obtained so far.\n",
    "x_pos = range(3)\n",
    "fig, ax = plt.subplots()\n",
    "ax.bar(x_pos, \n",
    "       [np.median(base_test), np.median(cb_test), np.median(tg_test)], \n",
    "       yerr=[np.std(base_test), np.std(cb_test), np.std(tg_test)], \n",
    "       align='center', alpha=0.5, ecolor='black', capsize=10)\n",
    "ax.set_ylabel('Test Accuracy score')\n",
    "ax.set_xticks(x_pos)\n",
    "ax.set_xticklabels(['baseline','catboost','target'])\n",
    "ax.set_ylim([0.70, 0.90])\n",
    "ax.set_title('Test Accuracy on a decision tree with diff. encodings')\n",
    "ax.yaxis.grid(True)"
   ]
  },
  {
   "cell_type": "markdown",
   "metadata": {},
   "source": [
    "We can see, that there's no big difference but, a priori, this experiment suggests that onehot encoding is giving us some advantage.\n",
    "\n",
    "## Feature creation\n",
    "\n",
    "Let´s create some features that, based on our knowledge about CS GO, could add some information to our model."
   ]
  },
  {
   "cell_type": "code",
   "execution_count": 101,
   "metadata": {},
   "outputs": [],
   "source": [
    "ct_sniper = ['ct_weapon_awp', 'ct_weapon_ssg08', 'ct_weapon_scar20', 'ct_weapon_g3sg1']\n",
    "t_sniper = ['t_weapon_awp', 't_weapon_ssg08', 't_weapon_scar20', 't_weapon_g3sg1']\n",
    "ct_heavy = ['ct_weapon_negev', 'ct_weapon_m249']\n",
    "t_heavy = ['t_weapon_negev', 't_weapon_m249']\n",
    "ct_assault = ['ct_weapon_galilar', 'ct_weapon_famas', 'ct_weapon_ak47', 'ct_weapon_m4a4', 'ct_weapon_sg553', 'ct_weapon_aug', 'ct_weapon_m4a1s']\n",
    "t_assault = ['t_weapon_galilar', 't_weapon_famas', 't_weapon_ak47', 't_weapon_m4a4', 't_weapon_sg553', 't_weapon_aug', 't_weapon_m4a1s']\n",
    "ct_machinegun = ['ct_weapon_mac10', 'ct_weapon_ump45','ct_weapon_mp9', 'ct_weapon_mp7', 'ct_weapon_bizon','ct_weapon_p90','ct_weapon_mp5sd']\n",
    "t_machinegun = ['t_weapon_mac10', 't_weapon_ump45','t_weapon_mp9', 't_weapon_mp7', 't_weapon_bizon','t_weapon_p90','t_weapon_mp5sd']\n",
    "ct_shotgun = ['ct_weapon_nova', 'ct_weapon_sawedoff', 'ct_weapon_mag7', 'ct_weapon_xm1014']\n",
    "t_shotgun = ['t_weapon_nova', 't_weapon_sawedoff', 't_weapon_mag7', 't_weapon_xm1014']\n",
    "ct_gun = ['ct_weapon_deagle', 'ct_weapon_fiveseven','ct_weapon_usps','ct_weapon_p250', 'ct_weapon_p2000','ct_weapon_tec9',\n",
    "          'ct_weapon_glock', 'ct_weapon_cz75auto', 'ct_weapon_elite', 'ct_weapon_r8revolver']\n",
    "t_gun = ['t_weapon_deagle', 't_weapon_fiveseven','t_weapon_usps','t_weapon_p250', 't_weapon_p2000','t_weapon_tec9',\n",
    "          't_weapon_glock', 't_weapon_cz75auto', 't_weapon_elite', 't_weapon_r8revolver']\n",
    "ct_grenade = ['ct_grenade_hegrenade', 'ct_grenade_flashbang', 'ct_grenade_smokegrenade', 'ct_grenade_incendiarygrenade',\n",
    "              'ct_grenade_molotovgrenade','ct_grenade_decoygrenade']\n",
    "t_grenade = ['t_grenade_hegrenade', 't_grenade_flashbang', 't_grenade_smokegrenade', 't_grenade_incendiarygrenade',\n",
    "              't_grenade_molotovgrenade','t_grenade_decoygrenade']"
   ]
  },
  {
   "cell_type": "code",
   "execution_count": 304,
   "metadata": {},
   "outputs": [],
   "source": [
    "#Rebuild our dataset, if we compute Genetic Programming with scaled values, we will get N/A\n",
    "df_copy_ohe = pd.concat([df_numerical, df_categorical_ohe], axis=1)"
   ]
  },
  {
   "cell_type": "code",
   "execution_count": 305,
   "metadata": {},
   "outputs": [
    {
     "data": {
      "text/plain": [
       "Index(['time_left', 'ct_score', 't_score', 'ct_health', 't_health', 'ct_armor',\n",
       "       't_armor', 'ct_money', 't_money', 'ct_helmets',\n",
       "       ...\n",
       "       'ct_grenade_decoygrenade', 't_grenade_decoygrenade', 'bomb_planted',\n",
       "       'de_dust2', 'de_inferno', 'de_mirage', 'de_nuke', 'de_overpass',\n",
       "       'de_train', 'de_vertigo'],\n",
       "      dtype='object', length=102)"
      ]
     },
     "execution_count": 305,
     "metadata": {},
     "output_type": "execute_result"
    }
   ],
   "source": [
    "df_copy_ohe.columns"
   ]
  },
  {
   "cell_type": "code",
   "execution_count": 306,
   "metadata": {},
   "outputs": [],
   "source": [
    "df_copy_ohe['round'] = df_copy_ohe.ct_score + df_copy_ohe.t_score + 1\n",
    "df_copy_ohe['diff_health'] = df_copy_ohe.ct_health - df_copy_ohe.t_health\n",
    "df_copy_ohe['diff_armor'] = df_copy_ohe.ct_armor - df_copy_ohe.t_armor\n",
    "df_copy_ohe['diff_money'] = df_copy_ohe.ct_money - df_copy_ohe.t_money\n",
    "df_copy_ohe['diff_helmets'] = df_copy_ohe.ct_helmets - df_copy_ohe.t_helmets\n",
    "df_copy_ohe['diff_players_alive'] = df_copy_ohe.ct_players_alive - df_copy_ohe.t_players_alive\n",
    "df_copy_ohe['diff_sniper'] = df_copy_ohe[ct_sniper].sum(axis=1) - df_copy_ohe[t_sniper].sum(axis=1)\n",
    "df_copy_ohe['diff_heavy'] = df_copy_ohe[ct_heavy].sum(axis=1) - df_copy_ohe[t_heavy].sum(axis=1)\n",
    "df_copy_ohe['diff_assault'] = df_copy_ohe[ct_assault].sum(axis=1) - df_copy_ohe[t_assault].sum(axis=1)\n",
    "df_copy_ohe['diff_machinegun'] = df_copy_ohe[ct_machinegun].sum(axis=1) - df_copy_ohe[t_machinegun].sum(axis=1)\n",
    "df_copy_ohe['diff_shotgun'] = df_copy_ohe[ct_shotgun].sum(axis=1) - df_copy_ohe[t_shotgun].sum(axis=1)\n",
    "df_copy_ohe['diff_gun'] = df_copy_ohe[ct_gun].sum(axis=1) - df_copy_ohe[t_gun].sum(axis=1)\n",
    "df_copy_ohe['diff_grenade'] = df_copy_ohe[ct_grenade].sum(axis=1) - df_copy_ohe[t_grenade].sum(axis=1)"
   ]
  },
  {
   "cell_type": "markdown",
   "metadata": {},
   "source": [
    "### Genetic Programming for automated feature creation\n",
    "\n",
    "So now we’ll train our transformer to generate some new features. Let’s use a population of 500 individuals over 20 generations. We’ll select the best 50 of these for the hall_of_fame, and then use the least-correlated 10 as our new features. A little parsimony should control bloat, but we’ll leave the rest of the evolution options at their defaults. As we are going to use a tree-based estimator, the Spearman correlation metric='spearman' is appropriate here."
   ]
  },
  {
   "cell_type": "code",
   "execution_count": 276,
   "metadata": {},
   "outputs": [
    {
     "name": "stdout",
     "output_type": "stream",
     "text": [
      "    |   Population Average    |             Best Individual              |\n",
      "---- ------------------------- ------------------------------------------ ----------\n",
      " Gen   Length          Fitness   Length          Fitness      OOB Fitness  Time Left\n",
      "   0     8.90        0.0866616        3         0.542584         0.537769      5.36m\n",
      "   1     9.13         0.301229        3         0.543555         0.528987      4.46m\n",
      "   2     6.03         0.433794       17         0.559399          0.55054      5.08m\n",
      "   3     3.27          0.48739       21         0.560706         0.538682      3.37m\n",
      "   4     9.90         0.481503       17         0.563159         0.558515      4.33m\n",
      "   5    11.01         0.470309       17         0.564976         0.542043      4.39m\n",
      "   6     6.53         0.481493       20         0.563726         0.553997      2.91m\n",
      "   7     5.08         0.493722        5         0.563231         0.534179      2.41m\n",
      "   8     4.94         0.503362        5         0.562586         0.540024      2.31m\n",
      "   9     4.78         0.486885        5         0.562648         0.539369      2.01m\n",
      "  10     5.06         0.510838        5         0.562863         0.537562      1.84m\n",
      "  11     4.97         0.510043        5         0.562591         0.539938      1.73m\n",
      "  12     4.82         0.499043        5         0.563124         0.534932      1.36m\n",
      "  13     5.07         0.504617        5          0.56264         0.539279      1.24m\n",
      "  14     5.16          0.50319        5         0.563122         0.535184      1.05m\n",
      "  15     5.03         0.508961        5         0.562363         0.541967     50.10s\n",
      "  16     4.98         0.503944        5         0.562435         0.541464     38.50s\n",
      "  17     5.00         0.496379        5         0.562511         0.540436     24.19s\n",
      "  18     4.97         0.513818        5         0.562886         0.537202     12.60s\n",
      "  19     4.99          0.50845        5          0.56231         0.542657      0.00s\n"
     ]
    },
    {
     "data": {
      "text/plain": [
       "SymbolicTransformer(const_range=(-1.0, 1.0), feature_names=None,\n",
       "                    function_set=['add', 'sub', 'mul', 'div', 'sqrt', 'log',\n",
       "                                  'abs', 'neg', 'inv', 'max', 'min'],\n",
       "                    generations=20, hall_of_fame=50, init_depth=(2, 6),\n",
       "                    init_method='half and half', low_memory=False,\n",
       "                    max_samples=0.9, metric='spearman', n_components=10,\n",
       "                    n_jobs=-1, p_crossover=0.9, p_hoist_mutation=0.01,\n",
       "                    p_point_mutation=0.01, p_point_replace=0.05,\n",
       "                    p_subtree_mutation=0.01, parsimony_coefficient=0.0005,\n",
       "                    population_size=500, random_state=42, stopping_criteria=1.0,\n",
       "                    tournament_size=20, verbose=1, warm_start=False)"
      ]
     },
     "execution_count": 276,
     "metadata": {},
     "output_type": "execute_result"
    }
   ],
   "source": [
    "#pip install gplearn\n",
    "from gplearn.genetic import SymbolicTransformer\n",
    "\n",
    "function_set = ['add', 'sub', 'mul', 'div',\n",
    "                'sqrt', 'log', 'abs', 'neg', 'inv',\n",
    "                'max', 'min']\n",
    "\n",
    "gp = SymbolicTransformer(generations=20, population_size=500,\n",
    "                         hall_of_fame=50, n_components=10,\n",
    "                         function_set=function_set,\n",
    "                         parsimony_coefficient=0.0005,\n",
    "                         max_samples=0.9, verbose=1,\n",
    "                         random_state=42, n_jobs=-1, metric='spearman')\n",
    "\n",
    "gp.fit(df_copy_ohe, target)"
   ]
  },
  {
   "cell_type": "code",
   "execution_count": 277,
   "metadata": {},
   "outputs": [
    {
     "name": "stdout",
     "output_type": "stream",
     "text": [
      "10 new features generated\n"
     ]
    }
   ],
   "source": [
    "gp_features = gp.transform(df_copy_ohe)\n",
    "print(f'{gp_features.shape[1]} new features generated')"
   ]
  },
  {
   "cell_type": "code",
   "execution_count": 278,
   "metadata": {},
   "outputs": [
    {
     "data": {
      "text/html": [
       "<div>\n",
       "<style scoped>\n",
       "    .dataframe tbody tr th:only-of-type {\n",
       "        vertical-align: middle;\n",
       "    }\n",
       "\n",
       "    .dataframe tbody tr th {\n",
       "        vertical-align: top;\n",
       "    }\n",
       "\n",
       "    .dataframe thead th {\n",
       "        text-align: right;\n",
       "    }\n",
       "</style>\n",
       "<table border=\"1\" class=\"dataframe\">\n",
       "  <thead>\n",
       "    <tr style=\"text-align: right;\">\n",
       "      <th></th>\n",
       "      <th>time_left</th>\n",
       "      <th>ct_score</th>\n",
       "      <th>t_score</th>\n",
       "      <th>ct_health</th>\n",
       "      <th>t_health</th>\n",
       "      <th>ct_armor</th>\n",
       "      <th>t_armor</th>\n",
       "      <th>ct_money</th>\n",
       "      <th>t_money</th>\n",
       "      <th>ct_helmets</th>\n",
       "      <th>...</th>\n",
       "      <th>gp0</th>\n",
       "      <th>gp1</th>\n",
       "      <th>gp2</th>\n",
       "      <th>gp3</th>\n",
       "      <th>gp4</th>\n",
       "      <th>gp5</th>\n",
       "      <th>gp6</th>\n",
       "      <th>gp7</th>\n",
       "      <th>gp8</th>\n",
       "      <th>gp9</th>\n",
       "    </tr>\n",
       "  </thead>\n",
       "  <tbody>\n",
       "    <tr>\n",
       "      <th>0</th>\n",
       "      <td>109.95</td>\n",
       "      <td>10.0</td>\n",
       "      <td>7.0</td>\n",
       "      <td>500.0</td>\n",
       "      <td>500.0</td>\n",
       "      <td>86.0</td>\n",
       "      <td>483.0</td>\n",
       "      <td>14900.0</td>\n",
       "      <td>10400.0</td>\n",
       "      <td>0.0</td>\n",
       "      <td>...</td>\n",
       "      <td>397.0</td>\n",
       "      <td>397.0</td>\n",
       "      <td>397.0</td>\n",
       "      <td>397.0</td>\n",
       "      <td>397.0</td>\n",
       "      <td>397.0</td>\n",
       "      <td>397.0</td>\n",
       "      <td>397.0</td>\n",
       "      <td>397.0</td>\n",
       "      <td>794.0</td>\n",
       "    </tr>\n",
       "    <tr>\n",
       "      <th>1</th>\n",
       "      <td>114.95</td>\n",
       "      <td>15.0</td>\n",
       "      <td>14.0</td>\n",
       "      <td>500.0</td>\n",
       "      <td>500.0</td>\n",
       "      <td>471.0</td>\n",
       "      <td>500.0</td>\n",
       "      <td>22700.0</td>\n",
       "      <td>3500.0</td>\n",
       "      <td>5.0</td>\n",
       "      <td>...</td>\n",
       "      <td>29.0</td>\n",
       "      <td>29.0</td>\n",
       "      <td>29.0</td>\n",
       "      <td>29.0</td>\n",
       "      <td>29.0</td>\n",
       "      <td>29.0</td>\n",
       "      <td>29.0</td>\n",
       "      <td>29.0</td>\n",
       "      <td>29.0</td>\n",
       "      <td>58.0</td>\n",
       "    </tr>\n",
       "    <tr>\n",
       "      <th>2</th>\n",
       "      <td>174.95</td>\n",
       "      <td>9.0</td>\n",
       "      <td>13.0</td>\n",
       "      <td>500.0</td>\n",
       "      <td>500.0</td>\n",
       "      <td>473.0</td>\n",
       "      <td>0.0</td>\n",
       "      <td>32300.0</td>\n",
       "      <td>21600.0</td>\n",
       "      <td>5.0</td>\n",
       "      <td>...</td>\n",
       "      <td>-473.0</td>\n",
       "      <td>-473.0</td>\n",
       "      <td>-473.0</td>\n",
       "      <td>-473.0</td>\n",
       "      <td>-473.0</td>\n",
       "      <td>-473.0</td>\n",
       "      <td>-473.0</td>\n",
       "      <td>-473.0</td>\n",
       "      <td>-473.0</td>\n",
       "      <td>-946.0</td>\n",
       "    </tr>\n",
       "    <tr>\n",
       "      <th>3</th>\n",
       "      <td>34.93</td>\n",
       "      <td>14.0</td>\n",
       "      <td>15.0</td>\n",
       "      <td>468.0</td>\n",
       "      <td>489.0</td>\n",
       "      <td>495.0</td>\n",
       "      <td>495.0</td>\n",
       "      <td>2850.0</td>\n",
       "      <td>2250.0</td>\n",
       "      <td>5.0</td>\n",
       "      <td>...</td>\n",
       "      <td>22.0</td>\n",
       "      <td>22.0</td>\n",
       "      <td>22.0</td>\n",
       "      <td>22.0</td>\n",
       "      <td>22.0</td>\n",
       "      <td>22.0</td>\n",
       "      <td>22.0</td>\n",
       "      <td>22.0</td>\n",
       "      <td>22.0</td>\n",
       "      <td>43.0</td>\n",
       "    </tr>\n",
       "    <tr>\n",
       "      <th>4</th>\n",
       "      <td>74.94</td>\n",
       "      <td>3.0</td>\n",
       "      <td>2.0</td>\n",
       "      <td>497.0</td>\n",
       "      <td>400.0</td>\n",
       "      <td>500.0</td>\n",
       "      <td>400.0</td>\n",
       "      <td>5600.0</td>\n",
       "      <td>3050.0</td>\n",
       "      <td>4.0</td>\n",
       "      <td>...</td>\n",
       "      <td>-197.0</td>\n",
       "      <td>-197.0</td>\n",
       "      <td>-197.0</td>\n",
       "      <td>-197.0</td>\n",
       "      <td>-197.0</td>\n",
       "      <td>-197.0</td>\n",
       "      <td>-197.0</td>\n",
       "      <td>-197.0</td>\n",
       "      <td>-197.0</td>\n",
       "      <td>-394.0</td>\n",
       "    </tr>\n",
       "  </tbody>\n",
       "</table>\n",
       "<p>5 rows × 125 columns</p>\n",
       "</div>"
      ],
      "text/plain": [
       "   time_left  ct_score  t_score  ct_health  t_health  ct_armor  t_armor  \\\n",
       "0     109.95      10.0      7.0      500.0     500.0      86.0    483.0   \n",
       "1     114.95      15.0     14.0      500.0     500.0     471.0    500.0   \n",
       "2     174.95       9.0     13.0      500.0     500.0     473.0      0.0   \n",
       "3      34.93      14.0     15.0      468.0     489.0     495.0    495.0   \n",
       "4      74.94       3.0      2.0      497.0     400.0     500.0    400.0   \n",
       "\n",
       "   ct_money  t_money  ct_helmets  ...    gp0    gp1    gp2    gp3    gp4  \\\n",
       "0   14900.0  10400.0         0.0  ...  397.0  397.0  397.0  397.0  397.0   \n",
       "1   22700.0   3500.0         5.0  ...   29.0   29.0   29.0   29.0   29.0   \n",
       "2   32300.0  21600.0         5.0  ... -473.0 -473.0 -473.0 -473.0 -473.0   \n",
       "3    2850.0   2250.0         5.0  ...   22.0   22.0   22.0   22.0   22.0   \n",
       "4    5600.0   3050.0         4.0  ... -197.0 -197.0 -197.0 -197.0 -197.0   \n",
       "\n",
       "     gp5    gp6    gp7    gp8    gp9  \n",
       "0  397.0  397.0  397.0  397.0  794.0  \n",
       "1   29.0   29.0   29.0   29.0   58.0  \n",
       "2 -473.0 -473.0 -473.0 -473.0 -946.0  \n",
       "3   22.0   22.0   22.0   22.0   43.0  \n",
       "4 -197.0 -197.0 -197.0 -197.0 -394.0  \n",
       "\n",
       "[5 rows x 125 columns]"
      ]
     },
     "execution_count": 278,
     "metadata": {},
     "output_type": "execute_result"
    }
   ],
   "source": [
    "# Build a dataframe from the set of best new features generated.\n",
    "new_dataframe = pd.DataFrame(gp_features)\n",
    "# Set the name of the dataframe columns as 'gp#' where # is a number.\n",
    "new_dataframe.columns = ['gp{}'.format(i) for i in range(len(list(new_dataframe)))]\n",
    "\n",
    "# Add the new dataframe as new columns of my dataset\n",
    "df_copy_ohe = pd.concat([df_copy_ohe, new_dataframe], axis=1)\n",
    "\n",
    "# Show it\n",
    "df_copy_ohe.head()"
   ]
  },
  {
   "cell_type": "code",
   "execution_count": 279,
   "metadata": {},
   "outputs": [
    {
     "data": {
      "text/html": [
       "<div>\n",
       "<style scoped>\n",
       "    .dataframe tbody tr th:only-of-type {\n",
       "        vertical-align: middle;\n",
       "    }\n",
       "\n",
       "    .dataframe tbody tr th {\n",
       "        vertical-align: top;\n",
       "    }\n",
       "\n",
       "    .dataframe thead th {\n",
       "        text-align: right;\n",
       "    }\n",
       "</style>\n",
       "<table border=\"1\" class=\"dataframe\">\n",
       "  <thead>\n",
       "    <tr style=\"text-align: right;\">\n",
       "      <th></th>\n",
       "      <th>time_left</th>\n",
       "      <th>ct_score</th>\n",
       "      <th>t_score</th>\n",
       "      <th>ct_health</th>\n",
       "      <th>t_health</th>\n",
       "      <th>ct_armor</th>\n",
       "      <th>t_armor</th>\n",
       "      <th>ct_money</th>\n",
       "      <th>t_money</th>\n",
       "      <th>ct_helmets</th>\n",
       "      <th>...</th>\n",
       "      <th>gp0</th>\n",
       "      <th>gp1</th>\n",
       "      <th>gp2</th>\n",
       "      <th>gp3</th>\n",
       "      <th>gp4</th>\n",
       "      <th>gp5</th>\n",
       "      <th>gp6</th>\n",
       "      <th>gp7</th>\n",
       "      <th>gp8</th>\n",
       "      <th>gp9</th>\n",
       "    </tr>\n",
       "  </thead>\n",
       "  <tbody>\n",
       "    <tr>\n",
       "      <th>count</th>\n",
       "      <td>85687.000000</td>\n",
       "      <td>85687.000000</td>\n",
       "      <td>85687.000000</td>\n",
       "      <td>85687.000000</td>\n",
       "      <td>85687.000000</td>\n",
       "      <td>85687.000000</td>\n",
       "      <td>85687.000000</td>\n",
       "      <td>85687.000000</td>\n",
       "      <td>85687.000000</td>\n",
       "      <td>85687.000000</td>\n",
       "      <td>...</td>\n",
       "      <td>85687.000000</td>\n",
       "      <td>85687.000000</td>\n",
       "      <td>85687.000000</td>\n",
       "      <td>85687.000000</td>\n",
       "      <td>85687.000000</td>\n",
       "      <td>85687.000000</td>\n",
       "      <td>85687.000000</td>\n",
       "      <td>85687.000000</td>\n",
       "      <td>85687.000000</td>\n",
       "      <td>85687.000000</td>\n",
       "    </tr>\n",
       "    <tr>\n",
       "      <th>mean</th>\n",
       "      <td>97.825568</td>\n",
       "      <td>6.711742</td>\n",
       "      <td>6.767433</td>\n",
       "      <td>411.915063</td>\n",
       "      <td>402.707902</td>\n",
       "      <td>314.230245</td>\n",
       "      <td>298.340297</td>\n",
       "      <td>9782.932650</td>\n",
       "      <td>11206.763570</td>\n",
       "      <td>2.053474</td>\n",
       "      <td>...</td>\n",
       "      <td>-24.989683</td>\n",
       "      <td>-24.989683</td>\n",
       "      <td>-24.989683</td>\n",
       "      <td>-24.989683</td>\n",
       "      <td>-24.989683</td>\n",
       "      <td>-24.989683</td>\n",
       "      <td>-24.989683</td>\n",
       "      <td>-24.989683</td>\n",
       "      <td>-24.989683</td>\n",
       "      <td>-50.086793</td>\n",
       "    </tr>\n",
       "    <tr>\n",
       "      <th>std</th>\n",
       "      <td>54.482793</td>\n",
       "      <td>4.786124</td>\n",
       "      <td>4.821617</td>\n",
       "      <td>132.481120</td>\n",
       "      <td>139.958035</td>\n",
       "      <td>170.829229</td>\n",
       "      <td>174.737071</td>\n",
       "      <td>11208.283194</td>\n",
       "      <td>12108.264354</td>\n",
       "      <td>1.838961</td>\n",
       "      <td>...</td>\n",
       "      <td>265.470140</td>\n",
       "      <td>265.470140</td>\n",
       "      <td>265.470140</td>\n",
       "      <td>265.470140</td>\n",
       "      <td>265.470140</td>\n",
       "      <td>265.470140</td>\n",
       "      <td>265.470140</td>\n",
       "      <td>265.470140</td>\n",
       "      <td>265.470140</td>\n",
       "      <td>530.871086</td>\n",
       "    </tr>\n",
       "    <tr>\n",
       "      <th>min</th>\n",
       "      <td>0.020000</td>\n",
       "      <td>0.000000</td>\n",
       "      <td>0.000000</td>\n",
       "      <td>0.000000</td>\n",
       "      <td>0.000000</td>\n",
       "      <td>0.000000</td>\n",
       "      <td>0.000000</td>\n",
       "      <td>0.000000</td>\n",
       "      <td>0.000000</td>\n",
       "      <td>0.000000</td>\n",
       "      <td>...</td>\n",
       "      <td>-1000.000000</td>\n",
       "      <td>-1000.000000</td>\n",
       "      <td>-1000.000000</td>\n",
       "      <td>-1000.000000</td>\n",
       "      <td>-1000.000000</td>\n",
       "      <td>-1000.000000</td>\n",
       "      <td>-1000.000000</td>\n",
       "      <td>-1000.000000</td>\n",
       "      <td>-1000.000000</td>\n",
       "      <td>-2000.000000</td>\n",
       "    </tr>\n",
       "    <tr>\n",
       "      <th>25%</th>\n",
       "      <td>54.920000</td>\n",
       "      <td>3.000000</td>\n",
       "      <td>3.000000</td>\n",
       "      <td>349.000000</td>\n",
       "      <td>322.000000</td>\n",
       "      <td>194.000000</td>\n",
       "      <td>173.000000</td>\n",
       "      <td>1250.000000</td>\n",
       "      <td>1600.000000</td>\n",
       "      <td>0.000000</td>\n",
       "      <td>...</td>\n",
       "      <td>-193.000000</td>\n",
       "      <td>-193.000000</td>\n",
       "      <td>-193.000000</td>\n",
       "      <td>-193.000000</td>\n",
       "      <td>-193.000000</td>\n",
       "      <td>-193.000000</td>\n",
       "      <td>-193.000000</td>\n",
       "      <td>-193.000000</td>\n",
       "      <td>-193.000000</td>\n",
       "      <td>-386.000000</td>\n",
       "    </tr>\n",
       "    <tr>\n",
       "      <th>50%</th>\n",
       "      <td>94.910000</td>\n",
       "      <td>6.000000</td>\n",
       "      <td>6.000000</td>\n",
       "      <td>500.000000</td>\n",
       "      <td>500.000000</td>\n",
       "      <td>377.000000</td>\n",
       "      <td>334.000000</td>\n",
       "      <td>5450.000000</td>\n",
       "      <td>7100.000000</td>\n",
       "      <td>2.000000</td>\n",
       "      <td>...</td>\n",
       "      <td>-2.000000</td>\n",
       "      <td>-2.000000</td>\n",
       "      <td>-2.000000</td>\n",
       "      <td>-2.000000</td>\n",
       "      <td>-2.000000</td>\n",
       "      <td>-2.000000</td>\n",
       "      <td>-2.000000</td>\n",
       "      <td>-2.000000</td>\n",
       "      <td>-2.000000</td>\n",
       "      <td>-4.000000</td>\n",
       "    </tr>\n",
       "    <tr>\n",
       "      <th>75%</th>\n",
       "      <td>166.920000</td>\n",
       "      <td>10.000000</td>\n",
       "      <td>10.000000</td>\n",
       "      <td>500.000000</td>\n",
       "      <td>500.000000</td>\n",
       "      <td>486.000000</td>\n",
       "      <td>468.000000</td>\n",
       "      <td>14650.000000</td>\n",
       "      <td>17950.000000</td>\n",
       "      <td>4.000000</td>\n",
       "      <td>...</td>\n",
       "      <td>115.000000</td>\n",
       "      <td>115.000000</td>\n",
       "      <td>115.000000</td>\n",
       "      <td>115.000000</td>\n",
       "      <td>115.000000</td>\n",
       "      <td>115.000000</td>\n",
       "      <td>115.000000</td>\n",
       "      <td>115.000000</td>\n",
       "      <td>115.000000</td>\n",
       "      <td>230.000000</td>\n",
       "    </tr>\n",
       "    <tr>\n",
       "      <th>max</th>\n",
       "      <td>175.000000</td>\n",
       "      <td>32.000000</td>\n",
       "      <td>33.000000</td>\n",
       "      <td>500.000000</td>\n",
       "      <td>500.000000</td>\n",
       "      <td>500.000000</td>\n",
       "      <td>500.000000</td>\n",
       "      <td>80000.000000</td>\n",
       "      <td>80000.000000</td>\n",
       "      <td>5.000000</td>\n",
       "      <td>...</td>\n",
       "      <td>918.000000</td>\n",
       "      <td>918.000000</td>\n",
       "      <td>918.000000</td>\n",
       "      <td>918.000000</td>\n",
       "      <td>918.000000</td>\n",
       "      <td>918.000000</td>\n",
       "      <td>918.000000</td>\n",
       "      <td>918.000000</td>\n",
       "      <td>918.000000</td>\n",
       "      <td>1836.000000</td>\n",
       "    </tr>\n",
       "  </tbody>\n",
       "</table>\n",
       "<p>8 rows × 125 columns</p>\n",
       "</div>"
      ],
      "text/plain": [
       "          time_left      ct_score       t_score     ct_health      t_health  \\\n",
       "count  85687.000000  85687.000000  85687.000000  85687.000000  85687.000000   \n",
       "mean      97.825568      6.711742      6.767433    411.915063    402.707902   \n",
       "std       54.482793      4.786124      4.821617    132.481120    139.958035   \n",
       "min        0.020000      0.000000      0.000000      0.000000      0.000000   \n",
       "25%       54.920000      3.000000      3.000000    349.000000    322.000000   \n",
       "50%       94.910000      6.000000      6.000000    500.000000    500.000000   \n",
       "75%      166.920000     10.000000     10.000000    500.000000    500.000000   \n",
       "max      175.000000     32.000000     33.000000    500.000000    500.000000   \n",
       "\n",
       "           ct_armor       t_armor      ct_money       t_money    ct_helmets  \\\n",
       "count  85687.000000  85687.000000  85687.000000  85687.000000  85687.000000   \n",
       "mean     314.230245    298.340297   9782.932650  11206.763570      2.053474   \n",
       "std      170.829229    174.737071  11208.283194  12108.264354      1.838961   \n",
       "min        0.000000      0.000000      0.000000      0.000000      0.000000   \n",
       "25%      194.000000    173.000000   1250.000000   1600.000000      0.000000   \n",
       "50%      377.000000    334.000000   5450.000000   7100.000000      2.000000   \n",
       "75%      486.000000    468.000000  14650.000000  17950.000000      4.000000   \n",
       "max      500.000000    500.000000  80000.000000  80000.000000      5.000000   \n",
       "\n",
       "       ...           gp0           gp1           gp2           gp3  \\\n",
       "count  ...  85687.000000  85687.000000  85687.000000  85687.000000   \n",
       "mean   ...    -24.989683    -24.989683    -24.989683    -24.989683   \n",
       "std    ...    265.470140    265.470140    265.470140    265.470140   \n",
       "min    ...  -1000.000000  -1000.000000  -1000.000000  -1000.000000   \n",
       "25%    ...   -193.000000   -193.000000   -193.000000   -193.000000   \n",
       "50%    ...     -2.000000     -2.000000     -2.000000     -2.000000   \n",
       "75%    ...    115.000000    115.000000    115.000000    115.000000   \n",
       "max    ...    918.000000    918.000000    918.000000    918.000000   \n",
       "\n",
       "                gp4           gp5           gp6           gp7           gp8  \\\n",
       "count  85687.000000  85687.000000  85687.000000  85687.000000  85687.000000   \n",
       "mean     -24.989683    -24.989683    -24.989683    -24.989683    -24.989683   \n",
       "std      265.470140    265.470140    265.470140    265.470140    265.470140   \n",
       "min    -1000.000000  -1000.000000  -1000.000000  -1000.000000  -1000.000000   \n",
       "25%     -193.000000   -193.000000   -193.000000   -193.000000   -193.000000   \n",
       "50%       -2.000000     -2.000000     -2.000000     -2.000000     -2.000000   \n",
       "75%      115.000000    115.000000    115.000000    115.000000    115.000000   \n",
       "max      918.000000    918.000000    918.000000    918.000000    918.000000   \n",
       "\n",
       "                gp9  \n",
       "count  85687.000000  \n",
       "mean     -50.086793  \n",
       "std      530.871086  \n",
       "min    -2000.000000  \n",
       "25%     -386.000000  \n",
       "50%       -4.000000  \n",
       "75%      230.000000  \n",
       "max     1836.000000  \n",
       "\n",
       "[8 rows x 125 columns]"
      ]
     },
     "execution_count": 279,
     "metadata": {},
     "output_type": "execute_result"
    }
   ],
   "source": [
    "df_copy_ohe.describe()"
   ]
  },
  {
   "cell_type": "markdown",
   "metadata": {},
   "source": [
    "# Feature Selection\n",
    "\n",
    "Let's filter out some attributes that might be too much correlated or not leading to good performance.\n",
    "\n",
    "### Filtering\n",
    "\n",
    "Remove the weapons we already know are never used after EDA"
   ]
  },
  {
   "cell_type": "code",
   "execution_count": 307,
   "metadata": {},
   "outputs": [],
   "source": [
    "df_copy_ohe.drop(low_unique, axis=1, inplace = True)"
   ]
  },
  {
   "cell_type": "code",
   "execution_count": 105,
   "metadata": {},
   "outputs": [
    {
     "name": "stdout",
     "output_type": "stream",
     "text": [
      "Training median Accuracy: 0.7866 +/- 0.26%\n",
      "Test Accuracy: 0.8010 +/- 0.37%\n"
     ]
    }
   ],
   "source": [
    "#Test if we are improving our baseline\n",
    "_, _ = cv_classification(df_copy_ohe, target, baseline_tree)"
   ]
  },
  {
   "cell_type": "markdown",
   "metadata": {},
   "source": [
    "### Correlation"
   ]
  },
  {
   "cell_type": "markdown",
   "metadata": {},
   "source": [
    "Data columns with very similar trends are also likely to carry very similar information. In this case, only one of them will suffice to feed the machine learning model. Here we calculate the correlation coefficient between columns as the Coefficient and the Pearson’s chi square value respectively. Pairs of columns with correlation coefficient higher than a threshold are reduced to only one."
   ]
  },
  {
   "cell_type": "markdown",
   "metadata": {},
   "source": [
    "We are going to consider features with a correlation coefficient above 0.8 for our model"
   ]
  },
  {
   "cell_type": "code",
   "execution_count": 281,
   "metadata": {},
   "outputs": [],
   "source": [
    "#select features with coefficient above 0.8\n",
    "from sklearn.feature_selection import VarianceThreshold\n",
    "correlated_features = set()\n",
    "correlation_matrix = df_copy_ohe.corr()\n",
    "\n",
    "for i in range(len(correlation_matrix .columns)):\n",
    "    for j in range(i):\n",
    "        if abs(correlation_matrix.iloc[i, j]) > 0.8:\n",
    "            colname = correlation_matrix.columns[i]\n",
    "            correlated_features.add(colname)"
   ]
  },
  {
   "cell_type": "code",
   "execution_count": 282,
   "metadata": {},
   "outputs": [
    {
     "data": {
      "text/plain": [
       "20"
      ]
     },
     "execution_count": 282,
     "metadata": {},
     "output_type": "execute_result"
    }
   ],
   "source": [
    "#check shape\n",
    "len(correlated_features)"
   ]
  },
  {
   "cell_type": "code",
   "execution_count": 283,
   "metadata": {},
   "outputs": [
    {
     "name": "stdout",
     "output_type": "stream",
     "text": [
      "{'gp0', 'gp1', 'gp5', 'diff_gun', 'gp7', 'ct_grenade_incendiarygrenade', 'diff_players_alive', 't_players_alive', 't_grenade_smokegrenade', 'gp8', 't_helmets', 'round', 'gp9', 'gp2', 'ct_grenade_smokegrenade', 't_grenade_molotovgrenade', 'gp3', 'gp6', 'ct_players_alive', 'gp4'}\n"
     ]
    }
   ],
   "source": [
    "print(correlated_features)"
   ]
  },
  {
   "cell_type": "code",
   "execution_count": 130,
   "metadata": {},
   "outputs": [],
   "source": [
    "#df_copy_ohe.drop(correlated_features, axis=1, inplace = True)"
   ]
  },
  {
   "cell_type": "code",
   "execution_count": 133,
   "metadata": {},
   "outputs": [
    {
     "name": "stdout",
     "output_type": "stream",
     "text": [
      "Training median Accuracy: 0.7847 +/- 0.25%\n",
      "Test Accuracy: 0.7989 +/- 0.36%\n"
     ]
    }
   ],
   "source": [
    "#Test if we are improving our baseline\n",
    "_, _ = cv_classification(df_copy_ohe, target, baseline_tree)"
   ]
  },
  {
   "cell_type": "markdown",
   "metadata": {},
   "source": [
    "The change in performance for Tree based methods is very small. We decide ***NOT to remove*** correlated variables. We could have done it in order to improve computation time and symplicity of the model and just in case we need a Linear model with strong asumptions about multi-collinearity. \n",
    "\n",
    "But because we will use Recursive Feature Elimination and tree based methods it is not needed."
   ]
  },
  {
   "cell_type": "markdown",
   "metadata": {},
   "source": [
    "### Feature importance\n",
    "\n",
    "Use Random Forest Classifier to evaluate feature importance"
   ]
  },
  {
   "cell_type": "code",
   "execution_count": 308,
   "metadata": {},
   "outputs": [
    {
     "name": "stdout",
     "output_type": "stream",
     "text": [
      " 1) diff_armor                     0.085413\n",
      " 2) diff_assault                   0.046420\n",
      " 3) diff_helmets                   0.045778\n",
      " 4) ct_armor                       0.041116\n",
      " 5) t_armor                        0.040708\n",
      " 6) diff_money                     0.040458\n",
      " 7) ct_money                       0.037692\n",
      " 8) t_money                        0.037267\n",
      " 9) diff_health                    0.036853\n",
      "10) time_left                      0.031223\n",
      "11) diff_grenade                   0.029948\n",
      "12) diff_players_alive             0.029891\n",
      "13) diff_gun                       0.023891\n",
      "14) ct_score                       0.023833\n",
      "15) t_score                        0.023657\n",
      "16) t_helmets                      0.020869\n",
      "17) round                          0.020666\n",
      "18) ct_defuse_kits                 0.017874\n",
      "19) t_health                       0.016241\n",
      "20) ct_grenade_flashbang           0.015807\n",
      "21) ct_helmets                     0.015794\n",
      "22) ct_health                      0.014991\n",
      "23) t_grenade_flashbang            0.013760\n",
      "24) t_weapon_ak47                  0.013521\n",
      "25) ct_weapon_usps                 0.012937\n",
      "26) ct_grenade_smokegrenade        0.012277\n",
      "27) ct_weapon_m4a4                 0.011953\n",
      "28) t_weapon_glock                 0.011854\n",
      "29) t_grenade_molotovgrenade       0.010950\n",
      "30) t_grenade_smokegrenade         0.010407\n",
      "31) t_weapon_sg553                 0.010233\n",
      "32) ct_grenade_hegrenade           0.010027\n",
      "33) diff_sniper                    0.009838\n",
      "34) ct_grenade_incendiarygrenade   0.009404\n",
      "35) t_grenade_hegrenade            0.007584\n",
      "36) ct_weapon_awp                  0.007525\n",
      "37) t_weapon_p250                  0.006633\n",
      "38) ct_players_alive               0.006316\n",
      "39) ct_weapon_deagle               0.006273\n",
      "40) t_players_alive                0.006186\n",
      "41) ct_weapon_p2000                0.006115\n",
      "42) diff_machinegun                0.005808\n",
      "43) t_weapon_deagle                0.005660\n",
      "44) bomb_planted                   0.005311\n",
      "45) de_inferno                     0.005162\n",
      "46) de_dust2                       0.005092\n",
      "47) ct_weapon_ak47                 0.005047\n",
      "48) de_nuke                        0.004917\n",
      "49) ct_weapon_sg553                0.004756\n",
      "50) de_mirage                      0.004721\n",
      "51) ct_weapon_p250                 0.004577\n",
      "52) de_overpass                    0.004300\n",
      "53) ct_weapon_aug                  0.004293\n",
      "54) de_train                       0.004241\n",
      "55) ct_weapon_cz75auto             0.004117\n",
      "56) t_weapon_awp                   0.004034\n",
      "57) de_vertigo                     0.003647\n",
      "58) ct_weapon_famas                0.003226\n",
      "59) ct_weapon_mp9                  0.003189\n",
      "60) t_weapon_cz75auto              0.003038\n",
      "61) t_weapon_galilar               0.003026\n",
      "62) t_weapon_usps                  0.002925\n",
      "63) ct_weapon_m4a1s                0.002735\n",
      "64) ct_weapon_fiveseven            0.002633\n",
      "65) t_weapon_mac10                 0.002331\n",
      "66) t_grenade_decoygrenade         0.001859\n",
      "67) t_weapon_m4a4                  0.001820\n",
      "68) ct_weapon_ump45                0.001794\n",
      "69) ct_grenade_decoygrenade        0.001790\n",
      "70) ct_grenade_molotovgrenade      0.001750\n",
      "71) ct_weapon_ssg08                0.001634\n",
      "72) t_weapon_ump45                 0.001372\n",
      "73) t_weapon_tec9                  0.001329\n",
      "74) t_grenade_incendiarygrenade    0.000987\n",
      "75) t_weapon_ssg08                 0.000879\n",
      "76) diff_shotgun                   0.000803\n",
      "77) ct_weapon_glock                0.000583\n",
      "78) ct_weapon_galilar              0.000512\n",
      "79) t_weapon_aug                   0.000497\n",
      "80) t_weapon_fiveseven             0.000480\n",
      "81) ct_weapon_xm1014               0.000475\n",
      "82) ct_weapon_tec9                 0.000453\n",
      "83) ct_weapon_mac10                0.000389\n",
      "84) ct_weapon_mag7                 0.000292\n",
      "85) t_weapon_p2000                 0.000234\n",
      "86) t_weapon_mp9                   0.000213\n",
      "87) ct_weapon_mp7                  0.000204\n",
      "88) t_weapon_mp7                   0.000174\n",
      "89) t_weapon_m4a1s                 0.000162\n",
      "90) t_weapon_famas                 0.000158\n",
      "91) t_weapon_mp5sd                 0.000144\n",
      "92) t_weapon_g3sg1                 0.000039\n",
      "93) diff_heavy                     0.000001\n"
     ]
    }
   ],
   "source": [
    "from sklearn.ensemble import RandomForestClassifier\n",
    "\n",
    "feat_labels = df_copy_ohe.columns\n",
    "\n",
    "forest = RandomForestClassifier(n_estimators=500, random_state=42)\n",
    "\n",
    "forest.fit(df_copy_ohe, target)\n",
    "importances = forest.feature_importances_\n",
    "\n",
    "indices = np.argsort(importances)[::-1]\n",
    "\n",
    "for f in range(df_copy_ohe.shape[1]):\n",
    "    print(\"%2d) %-*s %f\" % (f + 1, 30,\n",
    "                           feat_labels[indices[f]],\n",
    "                           importances[indices[f]]))"
   ]
  },
  {
   "cell_type": "code",
   "execution_count": 309,
   "metadata": {},
   "outputs": [
    {
     "data": {
      "image/png": "[encoded data removed]",
      "text/plain": [
       "<Figure size 432x288 with 1 Axes>"
      ]
     },
     "metadata": {
      "needs_background": "light"
     },
     "output_type": "display_data"
    }
   ],
   "source": [
    "plt.title('Feature Importance')\n",
    "plt.bar(range(df_copy_ohe.shape[1]),\n",
    "       importances[indices],\n",
    "       align='center')\n",
    "\n",
    "plt.xticks(range(df_copy_ohe.shape[1]),\n",
    "          feat_labels, rotation=90)\n",
    "plt.xlim([-1, df_copy_ohe.shape[1]])\n",
    "plt.tight_layout()\n",
    "plt.show()"
   ]
  },
  {
   "cell_type": "code",
   "execution_count": 310,
   "metadata": {},
   "outputs": [
    {
     "name": "stdout",
     "output_type": "stream",
     "text": [
      "Number of features that fit this criteria: 61\n"
     ]
    }
   ],
   "source": [
    "from sklearn.feature_selection import SelectFromModel\n",
    "sfm = SelectFromModel(forest, threshold=0.003, prefit=True)\n",
    "X_selected = sfm.transform(df_copy_ohe)\n",
    "print('Number of features that fit this criteria:', X_selected.shape[1])"
   ]
  },
  {
   "cell_type": "code",
   "execution_count": 311,
   "metadata": {},
   "outputs": [
    {
     "name": "stdout",
     "output_type": "stream",
     "text": [
      " 1) diff_armor                     0.085413\n",
      " 2) diff_assault                   0.046420\n",
      " 3) diff_helmets                   0.045778\n",
      " 4) ct_armor                       0.041116\n",
      " 5) t_armor                        0.040708\n",
      " 6) diff_money                     0.040458\n",
      " 7) ct_money                       0.037692\n",
      " 8) t_money                        0.037267\n",
      " 9) diff_health                    0.036853\n",
      "10) time_left                      0.031223\n",
      "11) diff_grenade                   0.029948\n",
      "12) diff_players_alive             0.029891\n",
      "13) diff_gun                       0.023891\n",
      "14) ct_score                       0.023833\n",
      "15) t_score                        0.023657\n",
      "16) t_helmets                      0.020869\n",
      "17) round                          0.020666\n",
      "18) ct_defuse_kits                 0.017874\n",
      "19) t_health                       0.016241\n",
      "20) ct_grenade_flashbang           0.015807\n",
      "21) ct_helmets                     0.015794\n",
      "22) ct_health                      0.014991\n",
      "23) t_grenade_flashbang            0.013760\n",
      "24) t_weapon_ak47                  0.013521\n",
      "25) ct_weapon_usps                 0.012937\n",
      "26) ct_grenade_smokegrenade        0.012277\n",
      "27) ct_weapon_m4a4                 0.011953\n",
      "28) t_weapon_glock                 0.011854\n",
      "29) t_grenade_molotovgrenade       0.010950\n",
      "30) t_grenade_smokegrenade         0.010407\n",
      "31) t_weapon_sg553                 0.010233\n",
      "32) ct_grenade_hegrenade           0.010027\n",
      "33) diff_sniper                    0.009838\n",
      "34) ct_grenade_incendiarygrenade   0.009404\n",
      "35) t_grenade_hegrenade            0.007584\n",
      "36) ct_weapon_awp                  0.007525\n",
      "37) t_weapon_p250                  0.006633\n",
      "38) ct_players_alive               0.006316\n",
      "39) ct_weapon_deagle               0.006273\n",
      "40) t_players_alive                0.006186\n",
      "41) ct_weapon_p2000                0.006115\n",
      "42) diff_machinegun                0.005808\n",
      "43) t_weapon_deagle                0.005660\n",
      "44) bomb_planted                   0.005311\n",
      "45) de_inferno                     0.005162\n",
      "46) de_dust2                       0.005092\n",
      "47) ct_weapon_ak47                 0.005047\n",
      "48) de_nuke                        0.004917\n",
      "49) ct_weapon_sg553                0.004756\n",
      "50) de_mirage                      0.004721\n",
      "51) ct_weapon_p250                 0.004577\n",
      "52) de_overpass                    0.004300\n",
      "53) ct_weapon_aug                  0.004293\n",
      "54) de_train                       0.004241\n",
      "55) ct_weapon_cz75auto             0.004117\n",
      "56) t_weapon_awp                   0.004034\n",
      "57) de_vertigo                     0.003647\n",
      "58) ct_weapon_famas                0.003226\n",
      "59) ct_weapon_mp9                  0.003189\n",
      "60) t_weapon_cz75auto              0.003038\n",
      "61) t_weapon_galilar               0.003026\n"
     ]
    }
   ],
   "source": [
    "for f in range(X_selected.shape[1]):\n",
    "    print(\"%2d) %-*s %f\" % (f + 1, 30,\n",
    "                           feat_labels[indices[f]],\n",
    "                           importances[indices[f]]))"
   ]
  },
  {
   "cell_type": "code",
   "execution_count": 312,
   "metadata": {},
   "outputs": [
    {
     "name": "stdout",
     "output_type": "stream",
     "text": [
      "Training median Accuracy: 0.7829 +/- 0.27%\n",
      "Test Accuracy: 0.7963 +/- 0.37%\n"
     ]
    }
   ],
   "source": [
    "base_fs_train, base_fs_test = cv_classification(X_selected, target, baseline_tree)"
   ]
  },
  {
   "cell_type": "markdown",
   "metadata": {},
   "source": [
    "We got the same accuracy than our baseline models with less than a half of features\n",
    "\n",
    "Correlated features will show in a tree similar and lowered importance, compared to what their importance would be if the tree was built without correlated counterparts. In situations like this, it is better to select features recursively, rather than all together as we have done here."
   ]
  },
  {
   "cell_type": "markdown",
   "metadata": {},
   "source": [
    "### Recursive Feature Elimination\n",
    "\n",
    "Let's start by using Recursive Feature Elimination from sklearn. It's a sophisticated implementation of stepwise selection, but with recursive decisions instead of single-step decisions. The parameters we need to have in order to use it are:\n",
    "  - A model –our decision tree, in our case\n",
    "  - The number of features we want to be finally selected\n",
    "  - The `step` which is the nr. of features to be removed at each iteration."
   ]
  },
  {
   "cell_type": "code",
   "execution_count": 67,
   "metadata": {},
   "outputs": [],
   "source": [
    "# A function that calls RFE and returns the best features found\n",
    "def rfe(data, num_features):\n",
    "    estimator = DecisionTreeClassifier(random_state=123)\n",
    "    selector = RFE(estimator, num_features, step=1)\n",
    "    selector = selector.fit(data, target)\n",
    "    return selector.support_"
   ]
  },
  {
   "cell_type": "markdown",
   "metadata": {},
   "source": [
    "This piece of code will evaluate a range of possible subsets of features, from 15 to 60 features included. At each iteration, it will keep the test score to later plot it, and see what is the best strategy to choose."
   ]
  },
  {
   "cell_type": "code",
   "execution_count": null,
   "metadata": {},
   "outputs": [],
   "source": [
    "# Loop over the range of features in our dataset and capture results.\n",
    "rfe_test_scores = pd.DataFrame()\n",
    "min_range = 15\n",
    "max_range = len(df_copy_ohe.columns)\n",
    "rfe_tree = DecisionTreeClassifier(random_state=666)\n",
    "\n",
    "# This is a loop over all possible values I want to evaluate\n",
    "for num_features in range(min_range, max_range):\n",
    "    # Obtain the best features\n",
    "    best_features = rfe(df_copy_ohe, num_features)\n",
    "    # Build a new dataset ONLY with best features selected.\n",
    "    data_rfe = df_copy_ohe[df_copy_ohe.columns[best_features]]\n",
    "\n",
    "    # Evaluate (CV) what is the Accuracy of this dataset\n",
    "    _, test_accuracy = cv_classification(data_rfe, target, rfe_tree, verbose=False)\n",
    "    \n",
    "    # Keep results to later plot them\n",
    "    rfe_test_scores = rfe_test_scores.append(pd.Series(test_accuracy), ignore_index=True)\n",
    "    del(data_rfe)"
   ]
  },
  {
   "cell_type": "code",
   "execution_count": null,
   "metadata": {
    "jupyter": {
     "source_hidden": true
    }
   },
   "outputs": [],
   "source": [
    "x_pos = range(min_range, max_range)\n",
    "\n",
    "fig, ax = plt.subplots(figsize=(20,8))\n",
    "ax.boxplot(rfe_test_scores)\n",
    "ax.set_ylabel('Test Accuracy score')\n",
    "ax.set_xticks(range(1, len(x_pos)))\n",
    "ax.set_xticklabels(x_pos)\n",
    "# ax.set_ylim([0.50, 0.9])\n",
    "ax.set_title('Test Accuracy with varying nr. of features')\n",
    "ax.yaxis.grid(True, color=\"gray\", linestyle='--', linewidth=0.4)"
   ]
  },
  {
   "cell_type": "markdown",
   "metadata": {},
   "source": [
    "From the experiment, 60 features is the best option. It also presents a not very high variance. So, now I call RFE asking it to return me 60 features and continue."
   ]
  },
  {
   "cell_type": "code",
   "execution_count": 313,
   "metadata": {},
   "outputs": [],
   "source": [
    "best_features = rfe(df_copy_ohe, 60)\n",
    "data_rfe = df_copy_ohe[df_copy_ohe.columns[best_features]]"
   ]
  },
  {
   "cell_type": "markdown",
   "metadata": {},
   "source": [
    "Check that this selection keeps the performance observed in the previous experiment."
   ]
  },
  {
   "cell_type": "code",
   "execution_count": 314,
   "metadata": {},
   "outputs": [
    {
     "name": "stdout",
     "output_type": "stream",
     "text": [
      "Training median Accuracy: 0.7828 +/- 0.28%\n",
      "Test Accuracy: 0.7973 +/- 0.46%\n"
     ]
    }
   ],
   "source": [
    "rfe_train, rfe_test = cv_classification(data_rfe, target, rfe_tree)"
   ]
  },
  {
   "cell_type": "markdown",
   "metadata": {},
   "source": [
    "RFE gives the same result than the baseline tree but with only 60 features. "
   ]
  },
  {
   "cell_type": "markdown",
   "metadata": {},
   "source": [
    "### Select best dataset"
   ]
  },
  {
   "cell_type": "code",
   "execution_count": 315,
   "metadata": {},
   "outputs": [],
   "source": [
    "data = data_rfe\n",
    "target = target"
   ]
  },
  {
   "cell_type": "markdown",
   "metadata": {
    "colab_type": "text",
    "hideCode": false,
    "hidePrompt": false,
    "id": "xY_MrLaKZDTi"
   },
   "source": [
    "# Evaluation and Validation\n",
    "\n",
    "First topic to explore is how to reduce the variance in test, since we've a large number as a result of applyin the CV process in `cv_classification()`. This type of issues is normally addressed using **bootstrapping**. \n",
    "\n",
    "We should also take a deeper **look into our classification results** to be sure that our metric is capturing well positive and negative cases. Let's see how to access the different classifications obtained in our test set, to see from there if we can improve our metric.\n",
    "\n",
    "Finally, compare our best single-decision-tree with **bagging** and **random forests**."
   ]
  },
  {
   "cell_type": "markdown",
   "metadata": {},
   "source": [
    "As the CS:GO Kaggle competition is now closed, so we must evaluate your results using an alternative method. \n",
    "Remember that the validation set will be used to obtain the FINAL score of your model, not the intermediate validation scores that will help you to determine whether your model is overfitting. So, you will need to further split your data (X and y) sets into training and test."
   ]
  },
  {
   "cell_type": "code",
   "execution_count": 316,
   "metadata": {},
   "outputs": [
    {
     "name": "stdout",
     "output_type": "stream",
     "text": [
      "(59980, 60)\n",
      "(25707, 60)\n",
      "(59980,)\n",
      "(25707,)\n"
     ]
    }
   ],
   "source": [
    "from sklearn.model_selection import train_test_split\n",
    "\n",
    "X_train, X_test, y_train, y_test = train_test_split(\n",
    "    data,\n",
    "    target,\n",
    "    test_size=0.3,\n",
    "    random_state=42,\n",
    "    stratify=target)\n",
    "\n",
    "print(X_train.shape)\n",
    "print(X_test.shape)\n",
    "print(y_train.shape)\n",
    "print(y_test.shape)"
   ]
  },
  {
   "cell_type": "markdown",
   "metadata": {
    "colab_type": "text",
    "hideCode": false,
    "hidePrompt": false,
    "id": "YAFWzcGUZDTj"
   },
   "source": [
    "## Bootstrapping\n",
    "\n",
    "Bootstrapping is a technique that can be used to estimate population statistics by repeatedly sampling with replacement and measuring. But this technique can also be used to perform model validation in a very similar way to cross-validation: we will evaluate our model with bootstrapped samples of our population.\n",
    "\n",
    "Out method `bootstrap_split()` will simply accept all the features, and the target variable to produce two sets: training and test. This is the same idea we use when we split a dataset, but instead of taking a random number of samples out of the original data, _bootstrapping_ will perform sampling with repetition. That is the part that the method `resample()` does."
   ]
  },
  {
   "cell_type": "code",
   "execution_count": 164,
   "metadata": {},
   "outputs": [],
   "source": [
    "def bootstrap_split(X, y, seed, training_size=0.8):\n",
    "    train_num_samples = X.shape[0]\n",
    "    X_train, y_train = resample(X, y, replace=True, \n",
    "                                n_samples=int(train_num_samples * 0.8),\n",
    "                                random_state=seed)\n",
    "\n",
    "    # Take the indices present in the training samples\n",
    "    indices_in_training = X_train.index.to_list()\n",
    "\n",
    "    # Those, NOT in training are, go to the test set.\n",
    "    X_test = X[~X.index.isin(indices_in_training)]\n",
    "    y_test = y[~y.index.isin(indices_in_training)]\n",
    "\n",
    "    return X_train, y_train, X_test, y_test"
   ]
  },
  {
   "cell_type": "markdown",
   "metadata": {},
   "source": [
    "Once we've our splitting method, it's time to repeat the process of splitting and evaluating to have a decent idea of what can we expect from our model in test. These results will, ideally, produce less variance in its estimates."
   ]
  },
  {
   "cell_type": "code",
   "execution_count": 165,
   "metadata": {},
   "outputs": [
    {
     "name": "stdout",
     "output_type": "stream",
     "text": [
      "Accuracy (bootstrapping) in test: 0.7755 (+/- 0.00)\n"
     ]
    }
   ],
   "source": [
    "bs_scores = []  # I will use this to keep every score produced in test.\n",
    "bs_tree = DecisionTreeClassifier(random_state=666)\n",
    "\n",
    "for i in range(100):\n",
    "    X_train, y_train, X_test, y_test = bootstrap_split(data, target, seed=i*23)\n",
    "    bs_tree.fit(X_train, y_train)\n",
    "    \n",
    "    train_metric = cross_val_score(bs_tree, X_train, y_train, scoring='accuracy')\n",
    "    test_score = accuracy_score(y_test, bs_tree.predict(X_test))\n",
    "    bs_scores.append(test_score)\n",
    "\n",
    "print(\"Accuracy (bootstrapping) in test: %0.4f (+/- %0.2f)\" % (np.median(bs_scores), np.std(bs_scores)))"
   ]
  },
  {
   "cell_type": "markdown",
   "metadata": {},
   "source": [
    "As you can see, the variance (std) in our metric is significantly lower... which means that we're a bit more confident about our model's performance, by using this metric."
   ]
  },
  {
   "cell_type": "markdown",
   "metadata": {},
   "source": [
    "## Classification results\n",
    "\n",
    "Let's plot the decision tree to check some useful information that we can find in the plot. \n",
    "\n",
    "  - Both categories (in our binomial classification problem) are represented with the two colors: the more intense the color, the higher the purity of the classification. Lighter nodes have Gini indices close to 0.5 (maximum impurity).\n",
    "  - Every node shows you the nr. of samples that felt into each of the casses (value = [class1, class2])\n",
    "  - The decision is also represented, so you can also see what're the features that play more important roles in the classification."
   ]
  },
  {
   "cell_type": "code",
   "execution_count": 317,
   "metadata": {},
   "outputs": [
    {
     "data": {
      "image/png": "[encoded data removed]",
      "text/plain": [
       "<Figure size 1152x504 with 1 Axes>"
      ]
     },
     "metadata": {
      "needs_background": "light"
     },
     "output_type": "display_data"
    }
   ],
   "source": [
    "# Train\n",
    "my_tree = DecisionTreeClassifier(random_state=666)\n",
    "my_tree.fit(X_train, y_train)\n",
    "\n",
    "# Plot\n",
    "plt.figure(figsize=(16, 7))\n",
    "tree.plot_tree(my_tree, feature_names=data.columns, \n",
    "               node_ids=True, filled=True, fontsize=8, max_depth=3);"
   ]
  },
  {
   "cell_type": "markdown",
   "metadata": {},
   "source": [
    "This method allows us to know what are the Gini values for each classification performed on a test set (`X_test`). You only need to pass the fitted tree (_estimator_) and the test set to obtain in return an array with all the Gini values obtained."
   ]
  },
  {
   "cell_type": "code",
   "execution_count": 175,
   "metadata": {},
   "outputs": [],
   "source": [
    "def get_impurity(estimator, X_test, verbose=False):\n",
    "    impurity = []\n",
    "    leave_id = estimator.apply(X_test)\n",
    "    node_indicator = estimator.decision_path(X_test)\n",
    "    feature = estimator.tree_.feature\n",
    "    threshold = estimator.tree_.threshold\n",
    "\n",
    "    for sample_id in range(X_test.shape[0]):\n",
    "        node_index = node_indicator.indices[\n",
    "            node_indicator.indptr[sample_id]:\n",
    "            node_indicator.indptr[sample_id + 1]]\n",
    "        leave = estimator.tree_.__getstate__()['nodes'][leave_id[sample_id]]\n",
    "        if verbose:\n",
    "            print(f\"sample {sample_id:>3d} predicted at leave ID #{leave_id[sample_id]:>2d}. \", end=\"\")\n",
    "            print(f\"Impurity (Gini): {leave[4]:.4f}\")\n",
    "        impurity.append(leave[4])\n",
    "    \n",
    "    return impurity"
   ]
  },
  {
   "cell_type": "markdown",
   "metadata": {},
   "source": [
    "To see what our predictions look like, we can plot the histogram of the Gini values. Ideally we'd see lots of values close to zero, and not so many close to 0.5. In our case, our predictions are good.\n",
    "\n",
    "Anyway, as our train results are worse that test results we can increase the complexity of the tree (bagging, boosting, random forests, ...) to name a few."
   ]
  },
  {
   "cell_type": "code",
   "execution_count": 318,
   "metadata": {},
   "outputs": [
    {
     "data": {
      "text/plain": [
       "Text(0, 0.5, 'Numer of samples')"
      ]
     },
     "execution_count": 318,
     "metadata": {},
     "output_type": "execute_result"
    },
    {
     "data": {
      "image/png": "[encoded data removed]",
      "text/plain": [
       "<Figure size 432x288 with 1 Axes>"
      ]
     },
     "metadata": {
      "needs_background": "light"
     },
     "output_type": "display_data"
    }
   ],
   "source": [
    "impurities = get_impurity(my_tree, X_test)\n",
    "\n",
    "plt.hist(impurities);\n",
    "plt.title('Distribution of impurities in test')\n",
    "plt.xlabel('Gini')\n",
    "plt.ylabel('Numer of samples')"
   ]
  },
  {
   "cell_type": "markdown",
   "metadata": {},
   "source": [
    "## Bagging and Random Forests\n",
    "\n",
    "As a final step, we can concentrate on whether the model selected is the best possible option. We can compare our results with a single tree against the option of using Random Forest or Bagging trees, and compare the score obtained in test, with the single tree model."
   ]
  },
  {
   "cell_type": "code",
   "execution_count": 300,
   "metadata": {},
   "outputs": [],
   "source": [
    "forest = RandomForestClassifier(n_estimators=1000, n_jobs=-1, random_state=42)"
   ]
  },
  {
   "cell_type": "code",
   "execution_count": 319,
   "metadata": {
    "scrolled": true
   },
   "outputs": [
    {
     "name": "stdout",
     "output_type": "stream",
     "text": [
      "Training median Accuracy: 0.8412 +/- 0.18%\n",
      "Test Accuracy: 0.8519\n"
     ]
    }
   ],
   "source": [
    "forest.fit(X_train, y_train)\n",
    "train_metric = cross_val_score(forest, X_train, y_train, scoring='accuracy')\n",
    "test_score = accuracy_score(y_test, forest.predict(X_test))\n",
    "\n",
    "print('Training median Accuracy: {:.4f} +/- {:.2f}%'.format(\n",
    "            np.median(train_metric), np.std(train_metric)*100.))\n",
    "print('Test Accuracy: {:.4f}'.format(test_score))"
   ]
  },
  {
   "cell_type": "code",
   "execution_count": null,
   "metadata": {},
   "outputs": [],
   "source": [
    "from sklearn.ensemble import BaggingClassifier\n",
    "\n",
    "bagging = BaggingClassifier(DecisionTreeClassifier(random_state=666), n_estimators = 100)\n",
    "\n",
    "bagging.fit(X_train, y_train)\n",
    "train_metric = cross_val_score(bagging, X_train, y_train, scoring='accuracy')\n",
    "test_score = accuracy_score(y_test, bagging.predict(X_test))\n",
    "\n",
    "print('Training median Accuracy: {:.4f} +/- {:.2f}%'.format(\n",
    "            np.median(train_metric), np.std(train_metric)*100.))\n",
    "print('Test Accuracy: {:.4f}'.format(test_score))"
   ]
  },
  {
   "cell_type": "markdown",
   "metadata": {},
   "source": [
    "## Validation\n",
    "\n",
    "Once we have our best model, it is time to predict using the Validation set, which previously needs to be transformed."
   ]
  },
  {
   "cell_type": "code",
   "execution_count": 323,
   "metadata": {},
   "outputs": [
    {
     "name": "stderr",
     "output_type": "stream",
     "text": [
      "C:\\Users\\drodriguez45\\Anaconda3\\lib\\site-packages\\pandas\\core\\frame.py:3997: SettingWithCopyWarning: \n",
      "A value is trying to be set on a copy of a slice from a DataFrame\n",
      "\n",
      "See the caveats in the documentation: https://pandas.pydata.org/pandas-docs/stable/user_guide/indexing.html#returning-a-view-versus-a-copy\n",
      "  errors=errors,\n",
      "C:\\Users\\drodriguez45\\Anaconda3\\lib\\site-packages\\ipykernel_launcher.py:10: SettingWithCopyWarning: \n",
      "A value is trying to be set on a copy of a slice from a DataFrame.\n",
      "Try using .loc[row_indexer,col_indexer] = value instead\n",
      "\n",
      "See the caveats in the documentation: https://pandas.pydata.org/pandas-docs/stable/user_guide/indexing.html#returning-a-view-versus-a-copy\n",
      "  # Remove the CWD from sys.path while we load stuff.\n"
     ]
    }
   ],
   "source": [
    "# import dataset using pd.read_csv() function\n",
    "df = pd.read_csv(\"validation_set.csv\")\n",
    "\n",
    "#Create numerical and categorical df\n",
    "df_numerical = df.select_dtypes(include = 'float')\n",
    "df_categorical = df.select_dtypes(exclude = 'float')\n",
    "df_categorical.drop('round_winner', axis=1, inplace = True)\n",
    "\n",
    "# Label code binary feature\n",
    "df_categorical['bomb_planted'] = df_categorical['bomb_planted'].replace({True: 1, False:0})\n",
    "\n",
    "# Onehot map variable using pandas get_dummies\n",
    "map_ohe = pd.get_dummies(df_categorical['map'], drop_first=True)\n",
    "\n",
    "#This data frame is ready to append to df, and remove original features one hot encoded\n",
    "df_categorical_ohe = pd.concat([df_categorical, map_ohe], axis=1)\n",
    "df_categorical_ohe.drop('map', axis=1, inplace = True)\n",
    "\n",
    "df_copy_ohe = pd.concat([df_numerical, df_categorical_ohe], axis=1)\n",
    "\n",
    "#Create new features\n",
    "df_copy_ohe['round'] = df_copy_ohe.ct_score + df_copy_ohe.t_score + 1\n",
    "df_copy_ohe['diff_health'] = df_copy_ohe.ct_health - df_copy_ohe.t_health\n",
    "df_copy_ohe['diff_armor'] = df_copy_ohe.ct_armor - df_copy_ohe.t_armor\n",
    "df_copy_ohe['diff_money'] = df_copy_ohe.ct_money - df_copy_ohe.t_money\n",
    "df_copy_ohe['diff_helmets'] = df_copy_ohe.ct_helmets - df_copy_ohe.t_helmets\n",
    "df_copy_ohe['diff_players_alive'] = df_copy_ohe.ct_players_alive - df_copy_ohe.t_players_alive\n",
    "df_copy_ohe['diff_sniper'] = df_copy_ohe[ct_sniper].sum(axis=1) - df_copy_ohe[t_sniper].sum(axis=1)\n",
    "df_copy_ohe['diff_heavy'] = df_copy_ohe[ct_heavy].sum(axis=1) - df_copy_ohe[t_heavy].sum(axis=1)\n",
    "df_copy_ohe['diff_assault'] = df_copy_ohe[ct_assault].sum(axis=1) - df_copy_ohe[t_assault].sum(axis=1)\n",
    "df_copy_ohe['diff_machinegun'] = df_copy_ohe[ct_machinegun].sum(axis=1) - df_copy_ohe[t_machinegun].sum(axis=1)\n",
    "df_copy_ohe['diff_shotgun'] = df_copy_ohe[ct_shotgun].sum(axis=1) - df_copy_ohe[t_shotgun].sum(axis=1)\n",
    "df_copy_ohe['diff_gun'] = df_copy_ohe[ct_gun].sum(axis=1) - df_copy_ohe[t_gun].sum(axis=1)\n",
    "df_copy_ohe['diff_grenade'] = df_copy_ohe[ct_grenade].sum(axis=1) - df_copy_ohe[t_grenade].sum(axis=1)\n",
    "\n",
    "#Remove low variance\n",
    "df_copy_ohe.drop(low_unique, axis=1, inplace = True)\n",
    "\n",
    "#Select best with RFE\n",
    "data_rfe = df_copy_ohe[df_copy_ohe.columns[best_features]]"
   ]
  },
  {
   "cell_type": "code",
   "execution_count": 324,
   "metadata": {},
   "outputs": [],
   "source": [
    "#Validation dataset\n",
    "X_val = data_rfe\n",
    "y_val = df['round_winner'].replace({'CT': 1, 'T':0})"
   ]
  },
  {
   "cell_type": "code",
   "execution_count": 327,
   "metadata": {},
   "outputs": [
    {
     "name": "stdout",
     "output_type": "stream",
     "text": [
      "Validation Accuracy: 0.8523\n"
     ]
    }
   ],
   "source": [
    "#Predict \n",
    "y_hat = forest.predict(X_val)\n",
    "val_score = accuracy_score(y_val, y_hat)\n",
    "print('Validation Accuracy: {:.4f}'.format(val_score))"
   ]
  },
  {
   "cell_type": "code",
   "execution_count": 331,
   "metadata": {},
   "outputs": [],
   "source": [
    "np.savetxt('validation_prediction.csv', y_hat, delimiter=',')"
   ]
  }
 ],
 "metadata": {
  "colab": {
   "collapsed_sections": [],
   "name": "Practice on Feature Engineering and Evaluation Monday.ipynb",
   "provenance": []
  },
  "hide_code_all_hidden": false,
  "kernelspec": {
   "display_name": "Python 3",
   "language": "python",
   "name": "python3"
  },
  "language_info": {
   "codemirror_mode": {
    "name": "ipython",
    "version": 3
   },
   "file_extension": ".py",
   "mimetype": "text/x-python",
   "name": "python",
   "nbconvert_exporter": "python",
   "pygments_lexer": "ipython3",
   "version": "3.7.6"
  },
  "toc": {
   "base_numbering": 1,
   "nav_menu": {},
   "number_sections": true,
   "sideBar": true,
   "skip_h1_title": false,
   "title_cell": "Table of Contents",
   "title_sidebar": "Contents",
   "toc_cell": true,
   "toc_position": {},
   "toc_section_display": true,
   "toc_window_display": false
  }
 },
 "nbformat": 4,
 "nbformat_minor": 4
}
