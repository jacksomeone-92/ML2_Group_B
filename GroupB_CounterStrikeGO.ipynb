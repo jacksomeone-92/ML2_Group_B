{
 "cells": [
  {
   "cell_type": "markdown",
   "metadata": {},
   "source": [
    "\n",
    "# Group B - Counter Strike GO round winner classification"
   ]
  },
  {
   "cell_type": "markdown",
   "metadata": {},
   "source": [
    "Authors: ALBIN S., CKALIB N., DANIEL R., JORGE ANDRÉS R., NICOLAS G., TOMÁS F.\n",
    "\n",
    "Data source: https://www.kaggle.com/christianlillelund/csgo-round-winner-classification\n",
    "\n",
    "Last revision: 13/September/2020"
   ]
  },
  {
   "cell_type": "markdown",
   "metadata": {},
   "source": [
    "<img src=\"./images/CounterStrikeGO.jpg\" align=\"center\">"
   ]
  },
  {
   "cell_type": "markdown",
   "metadata": {
    "colab_type": "text",
    "hideCode": false,
    "hidePrompt": false,
    "id": "YrnrAFLgZDSw"
   },
   "source": [
    "# Introduction\n",
    "\n",
    "We're putting in practice what we need to know about feature engineering and model validation.\n",
    "\n",
    "CS:GO is a tactical shooter, where two teams (CT and Terrorist) play for a best of 30 rounds, with each round being 1 minute and 55 seconds. There are 5 players on each team (10 in total) and the first team to reach 16 rounds wins the game. At the start, one team plays as CT and the other as Terrorist. After 15 rounds played, the teams swap side. There are 7 different maps a game can be played on. You win a round as Terrorist by either planting the bomb and making sure it explodes, or by eliminating the other team. You win a round as CT by either eliminating the other team, or by disarming the bomb, should it have been planted.\n",
    "\n",
    "Learn more about CS:GO: https://en.wikipedia.org/wiki/Counter-Strike:_Global_Offensive\n",
    "\n",
    "The dataset consists of ~700 demos from high level tournament play in 2019 and 2020. Warmup rounds and restarts have been filtered, and for the remaining live rounds a round snapshot have been recorded every 20 seconds until the round is decided. The target variable is the one called `round_winner`, taking the values `CT` for Counter-Terrorist or `T` for Terrorist.\n",
    "\n",
    "## Steps to be followed <font color=red>[CAN BE REMOVED ONCE WE FINISH]</font>\n",
    "\n",
    "1. Read the dataset\n",
    "2. Data preparation: Check for variable types, NAs, values imputation, column names, scaling, encoding, etc.\n",
    "3. EDA (Exploratory Data Analysis): Try to extract some insights from the data like features completely uncorrelated or under-represented. Can we merge values from any of the categorical features? Would it be beneficial to discretize numerical features? Do we have outliers?\n",
    "3. Baseline: Simply take the simpler possible model (logistic regression) and set a base score that we'll try to improve along the process. To run logistic regression **you need** to have **numerical features**, so the fastest way of preparing your data to be used in `lr` is to perform _one hot encoding_. Perform this encoding so that you don't destroy the original prepared data. Consider to include onehot encoding as an step which is done right before evaluation over a copy of your prepared data.\n",
    "4. Feature Engineering: We will try\n",
    "    - categorical encoding: compare techniques like onehot and target encoding\n",
    "    - feature selection: compare the results from filtering, wrappers and regularization\n",
    "    - feature construction: compare GPLearn with _ad hoc_ methods, or Deep Feature Synthesis.\n",
    "5. Evaluation: the goal here is to fine tune our models, so, to do that we need a new model, like **decission trees**, in this case. We will experiment with:\n",
    "    - Cross validation and bootstrapping comparison.\n",
    "    - Fine tune tree parameters: pruning and parameters optimization."
   ]
  },
  {
   "cell_type": "markdown",
   "metadata": {
    "colab_type": "text",
    "hideCode": false,
    "hidePrompt": false,
    "id": "salUSFPkZDSx"
   },
   "source": [
    "# Read the dataset"
   ]
  },
  {
   "cell_type": "code",
   "execution_count": 78,
   "metadata": {
    "colab": {},
    "colab_type": "code",
    "hideCode": false,
    "hidePrompt": false,
    "id": "QF0S-mm7ZDSy"
   },
   "outputs": [],
   "source": [
    "# import libraries numpy, pandas, and scipy.stats module\n",
    "import numpy as np\n",
    "import pandas as pd\n",
    "import scipy.stats as stats\n",
    "import math\n",
    "import matplotlib.pyplot as plt\n",
    "import category_encoders as ce\n",
    "from sklearn.model_selection import cross_val_score, train_test_split\n",
    "from sklearn.feature_selection import RFE"
   ]
  },
  {
   "cell_type": "code",
   "execution_count": 5,
   "metadata": {
    "colab": {},
    "colab_type": "code",
    "id": "JhJjYdq1ZiIw"
   },
   "outputs": [],
   "source": [
    "# import dataset using pd.read_csv() function\n",
    "df = pd.read_csv(\"modeling_set.csv\")"
   ]
  },
  {
   "cell_type": "markdown",
   "metadata": {
    "colab_type": "text",
    "id": "p8t1dViWZDS3"
   },
   "source": [
    "Check imports needed and place all at the top of the notebook."
   ]
  },
  {
   "cell_type": "code",
   "execution_count": null,
   "metadata": {
    "colab": {
     "base_uri": "https://localhost:8080/",
     "height": 69
    },
    "colab_type": "code",
    "hideCode": false,
    "hidePrompt": false,
    "id": "LwYEAvn5ZDS4",
    "outputId": "e4ddff26-ef53-4fd5-8a78-2b0487450123"
   },
   "outputs": [],
   "source": [
    "from sklearn import tree\n",
    "from sklearn.utils import resample"
   ]
  },
  {
   "cell_type": "code",
   "execution_count": null,
   "metadata": {},
   "outputs": [],
   "source": [
    "df.dtypes"
   ]
  },
  {
   "cell_type": "markdown",
   "metadata": {
    "colab_type": "text",
    "hideCode": false,
    "hidePrompt": false,
    "id": "-m3bwfd7ZDTP"
   },
   "source": [
    "# EDA <font color=red>NICOLAS AND DANIEL</font>\n",
    "\n"
   ]
  },
  {
   "cell_type": "code",
   "execution_count": null,
   "metadata": {
    "colab": {
     "base_uri": "https://localhost:8080/",
     "height": 580
    },
    "colab_type": "code",
    "id": "NYwga4OpZDTQ",
    "outputId": "c4bfed14-d231-4485-c753-784828c907a0",
    "scrolled": true
   },
   "outputs": [],
   "source": [
    "df.describe(include = 'all')"
   ]
  },
  {
   "cell_type": "code",
   "execution_count": null,
   "metadata": {},
   "outputs": [],
   "source": [
    "df.head()"
   ]
  },
  {
   "cell_type": "markdown",
   "metadata": {
    "colab_type": "text",
    "hideCode": false,
    "hidePrompt": false,
    "id": "agscaiiaZDTS"
   },
   "source": [
    "I also want to know how may samples belong to the class 'T' and how many to class 'CT', simply to check if the data set is balanced (you can see that YES, it is)."
   ]
  },
  {
   "cell_type": "code",
   "execution_count": null,
   "metadata": {
    "colab": {
     "base_uri": "https://localhost:8080/",
     "height": 65
    },
    "colab_type": "code",
    "id": "Ydw4MnThZDTS",
    "outputId": "dd3089bd-73c8-436a-c918-92986a26fc31"
   },
   "outputs": [],
   "source": [
    "df['round_winner'].value_counts()"
   ]
  },
  {
   "cell_type": "markdown",
   "metadata": {
    "colab_type": "text",
    "hideCode": false,
    "hidePrompt": false,
    "id": "fTDXjtOnZDTU"
   },
   "source": [
    "Starting by knowing if there're underrepresented features: this is, values that are only present in a very small portion of the samples. "
   ]
  },
  {
   "cell_type": "code",
   "execution_count": null,
   "metadata": {
    "colab": {
     "base_uri": "https://localhost:8080/",
     "height": 32
    },
    "colab_type": "code",
    "id": "SdNmJCMeZDTU",
    "outputId": "affdaef1-8223-4beb-a922-841230a9db25"
   },
   "outputs": [],
   "source": [
    "#code "
   ]
  },
  {
   "cell_type": "markdown",
   "metadata": {
    "colab_type": "text",
    "id": "3F5bIZQfZDTW"
   },
   "source": [
    "Let's see what's the situation in the categories of those clases. I will simply count the number of unique values present at each of those columns (above):"
   ]
  },
  {
   "cell_type": "code",
   "execution_count": null,
   "metadata": {
    "colab": {
     "base_uri": "https://localhost:8080/",
     "height": 378
    },
    "colab_type": "code",
    "id": "GW-DIJsbZDTW",
    "outputId": "9c54959e-9def-4b6d-8df6-6131bb7627e7"
   },
   "outputs": [],
   "source": [
    "for col in df:\n",
    "    print(col)\n",
    "    res = df[col].value_counts()\n",
    "    print(f'{res}\\n----')"
   ]
  },
  {
   "cell_type": "markdown",
   "metadata": {
    "colab_type": "text",
    "id": "fa9XrhgpZDTY"
   },
   "source": [
    "From that result, we will remove those features, as they are not very informative (a priori). You can also combine them into a single feature by merging the four of them."
   ]
  },
  {
   "cell_type": "code",
   "execution_count": null,
   "metadata": {
    "colab": {},
    "colab_type": "code",
    "id": "MQROEA2jZDTY"
   },
   "outputs": [],
   "source": [
    "#Merge categories if needed"
   ]
  },
  {
   "cell_type": "markdown",
   "metadata": {
    "colab_type": "text",
    "id": "SC6PLepUZDTc"
   },
   "source": [
    "Let's take a look at the histograms"
   ]
  },
  {
   "cell_type": "code",
   "execution_count": null,
   "metadata": {},
   "outputs": [],
   "source": [
    "# Bokeh libraries\n",
    "from bokeh.io import output_file, output_notebook\n",
    "from bokeh.plotting import figure, show\n",
    "from bokeh.layouts import row, column, gridplot\n",
    "from bokeh.models.widgets import Tabs, Panel\n",
    "from bokeh.models import ColumnDataSource, HoverTool, Panel"
   ]
  },
  {
   "cell_type": "code",
   "execution_count": null,
   "metadata": {},
   "outputs": [],
   "source": [
    "\n",
    "class BokehHistogram():\n",
    "    '''\n",
    "    A class to simplify the making of interactive histograms with the Bokeh library.\n",
    "    Requires: Bokeh, Pandas, and Numpy.\n",
    "    '''\n",
    "\n",
    "    def __init__(self, colors=[\"SteelBlue\", \"Tan\"], height=600, width=600):\n",
    "        self.colors = colors\n",
    "        self.height = height\n",
    "        self.width = width\n",
    "\n",
    "    def hist_hover(self, dataframe, column, bins=30, log_scale=False, show_plot=True):\n",
    "        \"\"\"\n",
    "        A method for creating a single Bokeh histogram with hovertool interactivity.\n",
    "        Parameters:\n",
    "        ----------\n",
    "        Input:\n",
    "        dataframe {df}: Pandas dataframe\n",
    "        column {string}: column of dataframe to plot in histogram\n",
    "        bins {int}: number of bins in histogram\n",
    "        log_scale {bool}: True to plot on a log scale\n",
    "        colors {list -> string}: list of colors for histogram; first color default color, second color is hover color\n",
    "        show_plot {bool}: True to display the plot, False to store the plot in a variable (for use in later methods)\n",
    "        Output:\n",
    "        plot: bokeh histogram with interactive hover tool\n",
    "        \"\"\"\n",
    "        # build histogram data with Numpy\n",
    "        hist, edges = np.histogram(dataframe[column], bins = bins)\n",
    "        hist_df = pd.DataFrame({column: hist,\n",
    "                                 \"left\": edges[:-1],\n",
    "                                 \"right\": edges[1:]})\n",
    "        hist_df[\"interval\"] = [\"%d to %d\" % (left, right) for left, \n",
    "                               right in zip(hist_df[\"left\"], hist_df[\"right\"])]\n",
    "        # bokeh histogram with hover tool\n",
    "        if log_scale == True:\n",
    "            hist_df[\"log\"] = np.log(hist_df[column])\n",
    "            src = ColumnDataSource(hist_df)\n",
    "            plot = figure(plot_height = self.height, plot_width = self.width,\n",
    "                  title = \"Histogram of {}\".format(column.capitalize()),\n",
    "                  x_axis_label = column.capitalize(),\n",
    "                  y_axis_label = \"Log Count\")    \n",
    "            plot.quad(bottom = 0, top = \"log\",left = \"left\", \n",
    "                right = \"right\", source = src, fill_color = self.colors[0], \n",
    "                line_color = \"black\", fill_alpha = 0.7,\n",
    "                hover_fill_alpha = 1.0, hover_fill_color = self.colors[1])\n",
    "        else:\n",
    "            src = ColumnDataSource(hist_df)\n",
    "            plot = figure(plot_height = self.height, plot_width = self.width,\n",
    "                  title = \"Histogram of {}\".format(column.capitalize()),\n",
    "                  x_axis_label = column.capitalize(),\n",
    "                  y_axis_label = \"Count\")    \n",
    "            plot.quad(bottom = 0, top = column,left = \"left\", \n",
    "                right = \"right\", source = src, fill_color = self.colors[0], \n",
    "                line_color = \"black\", fill_alpha = 0.7,\n",
    "                hover_fill_alpha = 1.0, hover_fill_color = self.colors[1])\n",
    "\n",
    "        # hover tool\n",
    "        hover = HoverTool(tooltips = [('Interval', '@interval'),\n",
    "                                  ('Count', str(\"@\" + column))])\n",
    "        plot.add_tools(hover)\n",
    "\n",
    "        # output\n",
    "        if show_plot == True:\n",
    "            show(plot)\n",
    "        else:\n",
    "            return plot\n",
    "\n",
    "    def histotabs(self, dataframe, features, log_scale=False, show_plot=False):\n",
    "        '''\n",
    "        Builds tabbed interface for a series of histograms; calls hist_hover. Specifying 'show_plot=True' will simply display the histograms in sequence rather than in a tabbed interface.\n",
    "        Parameters:\n",
    "        ----------\n",
    "        Input:\n",
    "        dataframe {df}: a Pandas dataframe\n",
    "        features {list -> string}: list of features to plot\n",
    "        log_scale {bool}: True to plot on a log scale\n",
    "        colors {list -> string}: list of colors for histogram; first color default color, second color is hover color\n",
    "        show_plot {bool}: True to display the plot, False to store the plot in a variable (for use in later methods)\n",
    "        Output:\n",
    "        Tabbed interface for viewing interactive histograms of specified features\n",
    "        '''\n",
    "        hists = []\n",
    "        for f in features:\n",
    "            h = self.hist_hover(dataframe, f, log_scale=log_scale, show_plot=show_plot)\n",
    "            p = Panel(child=h, title=f.capitalize())\n",
    "            hists.append(p)\n",
    "        t = Tabs(tabs=hists)\n",
    "        show(t)\n",
    "\n",
    "    def filtered_histotabs(self, dataframe, feature, filter_feature, log_scale=False, show_plot=False):\n",
    "        '''\n",
    "        Builds tabbed histogram interface for one feature filtered by another. Feature is numeric, fiter feature is categorical.\n",
    "        Parameters:\n",
    "        ----------\n",
    "        Input:\n",
    "        dataframe {df}: a Pandas dataframe\n",
    "        features {list -> string}: list of features to plot\n",
    "        log_scale {bool}: True to plot on a log scale\n",
    "        colors {list -> string}: list of colors for histogram; first color default color, second color is hover color\n",
    "        show_plot {bool}: True to display the plot, False to store the plot in a variable (for use in later methods)\n",
    "        Output:\n",
    "        Tabbed interface for viewing interactive histograms of specified feature filtered by categorical filter feature\n",
    "        '''\n",
    "        hists = []\n",
    "        for col in dataframe[filter_feature].unique():\n",
    "            sub_df = dataframe[dataframe[filter_feature] == col]\n",
    "            histo = self.hist_hover(sub_df, feature, log_scale=log_scale, show_plot=show_plot)\n",
    "            p = Panel(child = histo, title=col)\n",
    "            hists.append(p)\n",
    "        t = Tabs(tabs=hists)\n",
    "        show(t)"
   ]
  },
  {
   "cell_type": "code",
   "execution_count": null,
   "metadata": {},
   "outputs": [],
   "source": [
    "#create instance of the bokeeh histogram object\n",
    "h = BokehHistogram()"
   ]
  },
  {
   "cell_type": "code",
   "execution_count": null,
   "metadata": {},
   "outputs": [],
   "source": [
    "list(df.columns)"
   ]
  },
  {
   "cell_type": "code",
   "execution_count": null,
   "metadata": {},
   "outputs": [],
   "source": [
    "#define numeric variables\n",
    "df_num = df.select_dtypes(np.number)"
   ]
  },
  {
   "cell_type": "code",
   "execution_count": null,
   "metadata": {},
   "outputs": [],
   "source": [
    "output_notebook()\n",
    "h.histotabs(df_num, ['time_left', 'ct_score', 't_score', 'ct_health', 't_health', 'ct_armor', 't_armor', 'ct_money', 't_money', 'ct_helmets', 't_helmets', 'ct_defuse_kits', 'ct_players_alive',\n",
    " 't_players_alive', 'ct_weapon_ak47', 't_weapon_ak47', 'ct_weapon_aug', 't_weapon_aug', 'ct_weapon_awp', 't_weapon_awp', 'ct_weapon_bizon',\n",
    " 't_weapon_bizon', 'ct_weapon_cz75auto', 't_weapon_cz75auto', 'ct_weapon_elite', 't_weapon_elite', 'ct_weapon_famas', 't_weapon_famas', 'ct_weapon_g3sg1',\n",
    " 't_weapon_g3sg1', 'ct_weapon_galilar', 't_weapon_galilar', 'ct_weapon_glock', 't_weapon_glock', 'ct_weapon_m249', 't_weapon_m249', 'ct_weapon_m4a1s',\n",
    " 't_weapon_m4a1s', 'ct_weapon_m4a4', 't_weapon_m4a4', 'ct_weapon_mac10', 't_weapon_mac10', 'ct_weapon_mag7', 't_weapon_mag7', 'ct_weapon_mp5sd',\n",
    " 't_weapon_mp5sd', 'ct_weapon_mp7', 't_weapon_mp7', 'ct_weapon_mp9', 't_weapon_mp9', 'ct_weapon_negev', 't_weapon_negev', 'ct_weapon_nova',\n",
    " 't_weapon_nova', 'ct_weapon_p90', 't_weapon_p90', 'ct_weapon_r8revolver', 't_weapon_r8revolver', 'ct_weapon_sawedoff', 't_weapon_sawedoff', 'ct_weapon_scar20',\n",
    " 't_weapon_scar20', 'ct_weapon_sg553', 't_weapon_sg553', 'ct_weapon_ssg08', 't_weapon_ssg08', 'ct_weapon_ump45', 't_weapon_ump45', 'ct_weapon_xm1014',\n",
    " 't_weapon_xm1014', 'ct_weapon_deagle', 't_weapon_deagle', 'ct_weapon_fiveseven', 't_weapon_fiveseven', 'ct_weapon_usps', 't_weapon_usps', 'ct_weapon_p250',\n",
    " 't_weapon_p250', 'ct_weapon_p2000', 't_weapon_p2000', 'ct_weapon_tec9', 't_weapon_tec9', 'ct_grenade_hegrenade', 't_grenade_hegrenade', 'ct_grenade_flashbang',\n",
    " 't_grenade_flashbang', 'ct_grenade_smokegrenade', 't_grenade_smokegrenade', 'ct_grenade_incendiarygrenade',\n",
    " 't_grenade_incendiarygrenade', 'ct_grenade_molotovgrenade', 't_grenade_molotovgrenade', 'ct_grenade_decoygrenade',\n",
    " 't_grenade_decoygrenade'])"
   ]
  },
  {
   "cell_type": "code",
   "execution_count": null,
   "metadata": {
    "colab_type": "text",
    "id": "ANI-KEZYZDTe"
   },
   "outputs": [],
   "source": [
    " import seaborn as sns\n",
    " \n",
    " sns.catplot(x=\"map\", kind=\"count\", data=df, height=5, aspect=3)"
   ]
  },
  {
   "cell_type": "code",
   "execution_count": null,
   "metadata": {},
   "outputs": [],
   "source": [
    "sns.catplot(x=\"map\", hue=\"round_winner\", kind=\"count\", data=df, height=5, aspect=3)"
   ]
  },
  {
   "cell_type": "markdown",
   "metadata": {},
   "source": [
    "In the two most played maps, de_inferno and de_dust2, Terrorist team wins more games than Counter-Terrorist"
   ]
  },
  {
   "cell_type": "code",
   "execution_count": null,
   "metadata": {
    "colab": {
     "base_uri": "https://localhost:8080/",
     "height": 461
    },
    "colab_type": "code",
    "id": "0zjzzwTdZDTe",
    "outputId": "68e2b047-6b03-4ffb-a78e-dd12ab3fd89e"
   },
   "outputs": [],
   "source": [
    "sns.catplot(x=\"ct_defuse_kits\", hue=\"round_winner\", kind=\"count\", data=df, height=5, aspect=3)"
   ]
  },
  {
   "cell_type": "markdown",
   "metadata": {},
   "source": [
    "Having more than 1 defuse kit in the Counter-Terrotist team makes CT win more rounds than T"
   ]
  },
  {
   "cell_type": "code",
   "execution_count": null,
   "metadata": {},
   "outputs": [],
   "source": [
    "sns.catplot(x=\"bomb_planted\", hue=\"round_winner\", kind=\"count\", data=df, height=5, aspect=3)"
   ]
  },
  {
   "cell_type": "markdown",
   "metadata": {},
   "source": [
    "When Terrorists plant the bomb their win ratio is much better, but planting the bomb doesn´t happen frequetly"
   ]
  },
  {
   "cell_type": "code",
   "execution_count": null,
   "metadata": {
    "scrolled": true
   },
   "outputs": [],
   "source": [
    "#create general correlation heatmap\n",
    "plt.figure(figsize = (20,20))\n",
    "sns.heatmap(df.corr(),cmap='BrBG')"
   ]
  },
  {
   "cell_type": "markdown",
   "metadata": {},
   "source": [
    "We can see some strong correlations between features which we will explore and deal with in detail later during the feature engineering process"
   ]
  },
  {
   "cell_type": "code",
   "execution_count": null,
   "metadata": {},
   "outputs": [],
   "source": [
    "#create correlation table for target value\n",
    "covars = df.corr()\n",
    "plt.figure(figsize = (10,20))\n",
    "sns.heatmap(covars[['round_winner']].sort_values(by=['round_winner'],ascending = False), cmap = 'coolwarm', annot = True)"
   ]
  },
  {
   "cell_type": "code",
   "execution_count": null,
   "metadata": {},
   "outputs": [],
   "source": [
    "#alternative way to show correlation of variables with the target variable\n",
    "for i in range(0, len(df.columns), 5):\n",
    "    sns.pairplot(data=df,\n",
    "                x_vars=df.columns[i:i+5],\n",
    "                y_vars=['round_winner'])"
   ]
  },
  {
   "cell_type": "code",
   "execution_count": null,
   "metadata": {},
   "outputs": [],
   "source": [
    "#checking for missing values in the data set\n",
    "import missingno as msno \n",
    "msno.bar(df) "
   ]
  },
  {
   "cell_type": "markdown",
   "metadata": {
    "colab_type": "text",
    "hideCode": false,
    "hidePrompt": false,
    "id": "ojbjIJHbZDS-"
   },
   "source": [
    "# Data Preparation <font color=red>ALBIN AND JORGE</font>\n",
    "\n",
    "Impute values, drop not relevant variables, outliers, scale numerical variables"
   ]
  },
  {
   "cell_type": "code",
   "execution_count": null,
   "metadata": {
    "scrolled": true
   },
   "outputs": [],
   "source": [
    "df.head(10)"
   ]
  },
  {
   "cell_type": "markdown",
   "metadata": {
    "colab_type": "text",
    "hideCode": false,
    "hidePrompt": false,
    "id": "SD8HONykZDTB"
   },
   "source": [
    "WHAT to do with NA's. Then, scale numerical variables, and finally check if all categorical variables are correctly encoded."
   ]
  },
  {
   "cell_type": "code",
   "execution_count": null,
   "metadata": {
    "colab": {
     "base_uri": "https://localhost:8080/",
     "height": 32
    },
    "colab_type": "code",
    "hideCode": false,
    "hidePrompt": false,
    "id": "vWCPc5gCZDTC",
    "outputId": "3d4919b0-f405-4b1c-a390-15338231f6c0"
   },
   "outputs": [],
   "source": [
    "# Get the number of NAs per feature\n",
    "# test JR\n",
    "num_nas = []\n",
    "for feature in df.columns:\n",
    "    num_nas.append(df[feature].isna().sum())\n",
    "print(f'{len(df.columns)} features have a median of {math.floor(np.median(num_nas))} NAs')"
   ]
  },
  {
   "cell_type": "code",
   "execution_count": null,
   "metadata": {},
   "outputs": [],
   "source": [
    "#Check for outliers"
   ]
  },
  {
   "cell_type": "markdown",
   "metadata": {
    "colab_type": "text",
    "hideCode": false,
    "hidePrompt": false,
    "id": "J7G9F6fjZDTE"
   },
   "source": [
    "## Low variance and high correlation filters"
   ]
  },
  {
   "cell_type": "markdown",
   "metadata": {},
   "source": [
    "Starting by knowing if there're underrepresented features: this is, values that are only present in a very small portion of the samples."
   ]
  },
  {
   "cell_type": "code",
   "execution_count": null,
   "metadata": {},
   "outputs": [],
   "source": [
    "df.nunique().sort_values(ascending = True)"
   ]
  },
  {
   "cell_type": "markdown",
   "metadata": {},
   "source": [
    "There are some weapons never used"
   ]
  },
  {
   "cell_type": "code",
   "execution_count": 31,
   "metadata": {},
   "outputs": [
    {
     "data": {
      "text/plain": [
       "['t_weapon_elite',\n",
       " 'ct_weapon_scar20',\n",
       " 'ct_weapon_negev',\n",
       " 'ct_weapon_mp5sd',\n",
       " 'ct_weapon_g3sg1',\n",
       " 't_weapon_scar20',\n",
       " 't_weapon_r8revolver',\n",
       " 'ct_weapon_bizon',\n",
       " 't_weapon_sawedoff',\n",
       " 't_weapon_mag7',\n",
       " 't_weapon_bizon',\n",
       " 't_weapon_nova',\n",
       " 'ct_weapon_elite',\n",
       " 'ct_weapon_sawedoff',\n",
       " 'ct_weapon_nova',\n",
       " 't_weapon_xm1014',\n",
       " 't_weapon_negev',\n",
       " 'ct_weapon_p90',\n",
       " 'ct_weapon_m249',\n",
       " 't_weapon_m249',\n",
       " 'ct_weapon_r8revolver',\n",
       " 't_weapon_p90']"
      ]
     },
     "execution_count": 31,
     "metadata": {},
     "output_type": "execute_result"
    }
   ],
   "source": [
    "weapons = [col for col in df.columns  if 'weapon' in col]\n",
    "list(set(weapons) & set(df.columns[df.nunique() < 3]))"
   ]
  },
  {
   "cell_type": "markdown",
   "metadata": {
    "colab_type": "text",
    "hideCode": false,
    "hidePrompt": false,
    "id": "J7G9F6fjZDTE"
   },
   "source": [
    "## Split numerical / categorical and Scaling"
   ]
  },
  {
   "cell_type": "code",
   "execution_count": 10,
   "metadata": {},
   "outputs": [
    {
     "name": "stderr",
     "output_type": "stream",
     "text": [
      "C:\\Users\\drodriguez45\\Anaconda3\\lib\\site-packages\\pandas\\core\\frame.py:3997: SettingWithCopyWarning: \n",
      "A value is trying to be set on a copy of a slice from a DataFrame\n",
      "\n",
      "See the caveats in the documentation: https://pandas.pydata.org/pandas-docs/stable/user_guide/indexing.html#returning-a-view-versus-a-copy\n",
      "  errors=errors,\n"
     ]
    }
   ],
   "source": [
    "df_numerical = df.select_dtypes(include = 'float')\n",
    "df_categorical = df.select_dtypes(exclude = 'float')\n",
    "df_categorical.drop('round_winner', axis=1, inplace = True)"
   ]
  },
  {
   "cell_type": "code",
   "execution_count": 11,
   "metadata": {},
   "outputs": [],
   "source": [
    "from sklearn.preprocessing import StandardScaler\n",
    "stdsc = StandardScaler()\n",
    "df_numerical_std = pd.DataFrame(stdsc.fit_transform(df_numerical))\n",
    "df_numerical_std.columns=df_numerical.columns"
   ]
  },
  {
   "cell_type": "markdown",
   "metadata": {},
   "source": [
    "## PCA"
   ]
  },
  {
   "cell_type": "code",
   "execution_count": null,
   "metadata": {},
   "outputs": [],
   "source": [
    "from matplotlib.colors import ListedColormap\n",
    "from sklearn.decomposition import PCA\n",
    "pca = PCA(n_components=4, random_state=1)\n",
    "df_transformed = pca.fit_transform(df_numerical_std)\n",
    "print(f\"Principal Components shape: {pca.components_.shape}\")\n",
    "print(f\"Transformed Features shape: {df_transformed.shape}\")"
   ]
  },
  {
   "cell_type": "code",
   "execution_count": null,
   "metadata": {},
   "outputs": [],
   "source": [
    "def scatter(X1, X2, y, fig, ax, title):\n",
    "    colors = [\"red\", \"green\", \"grey\", \"purple\", \"blue\"]\n",
    "    colormap = cmap = ListedColormap(colors)\n",
    "\n",
    "    for winner in y.unique():\n",
    "        i = np.where(y == winner)\n",
    "        ax.scatter(X1[i], X2[i], label=f\"Team {winner}\", alpha=0.7)\n",
    "\n",
    "    ax.set_title(title)\n",
    "    ax.legend(loc=\"best\")"
   ]
  },
  {
   "cell_type": "code",
   "execution_count": null,
   "metadata": {},
   "outputs": [],
   "source": [
    "X = df_transformed.T\n",
    "y = df['round_winner']\n",
    "\n",
    "fig, axs = plt.subplots(nrows=2, ncols=3, sharex=True, sharey=True)\n",
    "fig.set_size_inches(8, 6)\n",
    "scatter(X[0], X[1], y, fig, axs[0, 0], \"PC1 and PC2\")\n",
    "scatter(X[0], X[2], y, fig, axs[0, 1], \"PC1 and PC3\")\n",
    "scatter(X[0], X[3], y, fig, axs[0, 2], \"PC1 and PC4\")\n",
    "scatter(X[1], X[2], y, fig, axs[1, 0], \"PC2 and PC3\")\n",
    "scatter(X[1], X[3], y, fig, axs[1, 1], \"PC2 and PC4\")\n",
    "scatter(X[2], X[3], y, fig, axs[1, 2], \"PC3 and PC4\")\n",
    "#show()"
   ]
  },
  {
   "cell_type": "markdown",
   "metadata": {},
   "source": [
    "It seems PCA is not helping us to classify."
   ]
  },
  {
   "cell_type": "markdown",
   "metadata": {
    "colab_type": "text",
    "hideCode": false,
    "hidePrompt": false,
    "id": "FgcxzXqqZDTf"
   },
   "source": [
    "# Baseline <font color=red>CKALIB AND TOMAS</font>"
   ]
  },
  {
   "cell_type": "markdown",
   "metadata": {},
   "source": [
    "As the CS:GO Kaggle competition is now closed, so we must evaluate your results using an alternative method. \n",
    "Remember that the validation set will be used to obtain the FINAL score of your model, not the intermediate validation scores that will help you to determine whether your model is overfitting. So, you will need to further split your data (X and y) sets into training and test."
   ]
  },
  {
   "cell_type": "code",
   "execution_count": 16,
   "metadata": {},
   "outputs": [
    {
     "name": "stdout",
     "output_type": "stream",
     "text": [
      "(59980, 102)\n",
      "(25707, 102)\n",
      "(59980,)\n",
      "(25707,)\n"
     ]
    }
   ],
   "source": [
    "from sklearn.model_selection import train_test_split\n",
    "\n",
    "# Our target feature is 'round_winner', replace the labels\n",
    "# 'CT' and 'T' in the data for '1' and '0'\n",
    "target = 'round_winner'\n",
    "features = [column for column in df.columns if column != target]\n",
    "\n",
    "X_train, X_test, y_train, y_test = train_test_split(\n",
    "    df[features],\n",
    "    df[target],\n",
    "    test_size=0.3,\n",
    "    random_state=1,\n",
    "    stratify=df[target])\n",
    "\n",
    "print(X_train.shape)\n",
    "print(X_test.shape)\n",
    "print(y_train.shape)\n",
    "print(y_test.shape)"
   ]
  },
  {
   "cell_type": "markdown",
   "metadata": {
    "colab_type": "text",
    "id": "772U0c25ZDTf"
   },
   "source": [
    "I will build a method to evaluate a basic logistic regression over a split of the data set using cross validation.\n",
    "\n",
    "The method requires that you send it the independent variables (X) and the dependent variables (y) as a pandas DataFrame."
   ]
  },
  {
   "cell_type": "code",
   "execution_count": 14,
   "metadata": {
    "colab": {},
    "colab_type": "code",
    "id": "MRjOX_hxZDTf"
   },
   "outputs": [],
   "source": [
    "from sklearn.metrics import accuracy_score, f1_score, recall_score, matthews_corrcoef\n",
    "\n",
    "def evaluate_LogReg(X: pd.DataFrame, y: pd.DataFrame,\n",
    "                    metric: str='accuracy',\n",
    "                    seed: int=123,\n",
    "                    printout: bool=False):\n",
    "    \"\"\"\n",
    "    Fits a logistic regression with the training set, and evaluates it with \n",
    "    the test set, using Accuracy, F1, Recall or MCC metrics.\n",
    "\n",
    "    Params\n",
    "      X: A Pandas DataFrame with all the values to be used to fit the logit\n",
    "      y: The dependent variable.\n",
    "      metric: The metric to be returned\n",
    "      printout: True/False indicating whether you want to print results\n",
    "\n",
    "    \"\"\"\n",
    "    # Split the data is the first thing to do\n",
    "    X_train, X_test, y_train, y_test = train_test_split(\n",
    "        X, y, test_size=0.2)\n",
    "\n",
    "    lr = LogisticRegression().fit(X_train, y_train)\n",
    "    y_hat = lr.predict(X_test)\n",
    "\n",
    "    accuracy = accuracy_score(y_test, y_hat)\n",
    "    F1 = f1_score(y_test, y_hat)\n",
    "    recall = recall_score(y_test, y_hat)\n",
    "    MCC = matthews_corrcoef(y_test, y_hat)\n",
    "    \n",
    "    if printout is True:\n",
    "        print('Accuracy:', accuracy)\n",
    "        print('F1:', F1)\n",
    "        print('Recall:', recall)\n",
    "        print('MCC:', MCC)\n",
    "    \n",
    "    return eval(metric)"
   ]
  },
  {
   "cell_type": "markdown",
   "metadata": {
    "colab_type": "text",
    "id": "5az2g6C8nMpA"
   },
   "source": [
    "Let's run the **baseline**. We will simply call our method with the numerical features only, simply to see what is the expected F1 metric. Ideally, we should call the evaluation method with all our features, but to do so, we must convert our categorical features into numbers. For baselining, we can start by simply applying a **onehot** encoding to them to see what is the result.\n",
    "\n",
    "# Baseline with numerical features only\n",
    "\n",
    "To start with, let's simply use numericals:"
   ]
  },
  {
   "cell_type": "code",
   "execution_count": 12,
   "metadata": {},
   "outputs": [],
   "source": [
    "target = 'round_winner'\n",
    "df[target] = df[target].replace({'CT': 1, 'T':0})"
   ]
  },
  {
   "cell_type": "code",
   "execution_count": 17,
   "metadata": {
    "colab": {
     "base_uri": "https://localhost:8080/",
     "height": 32
    },
    "colab_type": "code",
    "hideCode": false,
    "hidePrompt": false,
    "id": "vBHokEQxZDTg",
    "outputId": "1b08918e-2888-4a5e-cf8d-82e9a52fcf7b"
   },
   "outputs": [
    {
     "name": "stdout",
     "output_type": "stream",
     "text": [
      "Accuracy: 0.7474034309721088\n",
      "F1: 0.744254740946417\n",
      "Recall: 0.7538295835327908\n",
      "MCC: 0.4949656135095377\n"
     ]
    },
    {
     "data": {
      "text/plain": [
       "0.7474034309721088"
      ]
     },
     "execution_count": 17,
     "metadata": {},
     "output_type": "execute_result"
    }
   ],
   "source": [
    "from sklearn.linear_model import LogisticRegression\n",
    "evaluate_LogReg(df_numerical_std, df[target], printout=True)"
   ]
  },
  {
   "cell_type": "markdown",
   "metadata": {
    "colab_type": "text",
    "id": "pmsclXBEnscy"
   },
   "source": [
    "Now, we will try to onehot our categoricals to apply the LogisticRegression to all our features. \n",
    "\n",
    "# Baseline with all features (onehot)\n"
   ]
  },
  {
   "cell_type": "code",
   "execution_count": 18,
   "metadata": {
    "colab": {
     "base_uri": "https://localhost:8080/",
     "height": 280
    },
    "colab_type": "code",
    "id": "Mang7SPboGZr",
    "outputId": "165a78d5-6e21-4a43-9d7a-753318efe2d5"
   },
   "outputs": [
    {
     "name": "stderr",
     "output_type": "stream",
     "text": [
      "C:\\Users\\drodriguez45\\Anaconda3\\lib\\site-packages\\ipykernel_launcher.py:2: SettingWithCopyWarning: \n",
      "A value is trying to be set on a copy of a slice from a DataFrame.\n",
      "Try using .loc[row_indexer,col_indexer] = value instead\n",
      "\n",
      "See the caveats in the documentation: https://pandas.pydata.org/pandas-docs/stable/user_guide/indexing.html#returning-a-view-versus-a-copy\n",
      "  \n"
     ]
    },
    {
     "data": {
      "text/html": [
       "<div>\n",
       "<style scoped>\n",
       "    .dataframe tbody tr th:only-of-type {\n",
       "        vertical-align: middle;\n",
       "    }\n",
       "\n",
       "    .dataframe tbody tr th {\n",
       "        vertical-align: top;\n",
       "    }\n",
       "\n",
       "    .dataframe thead th {\n",
       "        text-align: right;\n",
       "    }\n",
       "</style>\n",
       "<table border=\"1\" class=\"dataframe\">\n",
       "  <thead>\n",
       "    <tr style=\"text-align: right;\">\n",
       "      <th></th>\n",
       "      <th>bomb_planted</th>\n",
       "      <th>de_dust2</th>\n",
       "      <th>de_inferno</th>\n",
       "      <th>de_mirage</th>\n",
       "      <th>de_nuke</th>\n",
       "      <th>de_overpass</th>\n",
       "      <th>de_train</th>\n",
       "      <th>de_vertigo</th>\n",
       "    </tr>\n",
       "  </thead>\n",
       "  <tbody>\n",
       "    <tr>\n",
       "      <th>0</th>\n",
       "      <td>0</td>\n",
       "      <td>1</td>\n",
       "      <td>0</td>\n",
       "      <td>0</td>\n",
       "      <td>0</td>\n",
       "      <td>0</td>\n",
       "      <td>0</td>\n",
       "      <td>0</td>\n",
       "    </tr>\n",
       "    <tr>\n",
       "      <th>1</th>\n",
       "      <td>0</td>\n",
       "      <td>0</td>\n",
       "      <td>1</td>\n",
       "      <td>0</td>\n",
       "      <td>0</td>\n",
       "      <td>0</td>\n",
       "      <td>0</td>\n",
       "      <td>0</td>\n",
       "    </tr>\n",
       "    <tr>\n",
       "      <th>2</th>\n",
       "      <td>0</td>\n",
       "      <td>0</td>\n",
       "      <td>0</td>\n",
       "      <td>1</td>\n",
       "      <td>0</td>\n",
       "      <td>0</td>\n",
       "      <td>0</td>\n",
       "      <td>0</td>\n",
       "    </tr>\n",
       "    <tr>\n",
       "      <th>3</th>\n",
       "      <td>0</td>\n",
       "      <td>0</td>\n",
       "      <td>1</td>\n",
       "      <td>0</td>\n",
       "      <td>0</td>\n",
       "      <td>0</td>\n",
       "      <td>0</td>\n",
       "      <td>0</td>\n",
       "    </tr>\n",
       "    <tr>\n",
       "      <th>4</th>\n",
       "      <td>0</td>\n",
       "      <td>0</td>\n",
       "      <td>1</td>\n",
       "      <td>0</td>\n",
       "      <td>0</td>\n",
       "      <td>0</td>\n",
       "      <td>0</td>\n",
       "      <td>0</td>\n",
       "    </tr>\n",
       "    <tr>\n",
       "      <th>...</th>\n",
       "      <td>...</td>\n",
       "      <td>...</td>\n",
       "      <td>...</td>\n",
       "      <td>...</td>\n",
       "      <td>...</td>\n",
       "      <td>...</td>\n",
       "      <td>...</td>\n",
       "      <td>...</td>\n",
       "    </tr>\n",
       "    <tr>\n",
       "      <th>85682</th>\n",
       "      <td>0</td>\n",
       "      <td>0</td>\n",
       "      <td>0</td>\n",
       "      <td>0</td>\n",
       "      <td>1</td>\n",
       "      <td>0</td>\n",
       "      <td>0</td>\n",
       "      <td>0</td>\n",
       "    </tr>\n",
       "    <tr>\n",
       "      <th>85683</th>\n",
       "      <td>0</td>\n",
       "      <td>0</td>\n",
       "      <td>0</td>\n",
       "      <td>0</td>\n",
       "      <td>0</td>\n",
       "      <td>1</td>\n",
       "      <td>0</td>\n",
       "      <td>0</td>\n",
       "    </tr>\n",
       "    <tr>\n",
       "      <th>85684</th>\n",
       "      <td>0</td>\n",
       "      <td>0</td>\n",
       "      <td>0</td>\n",
       "      <td>0</td>\n",
       "      <td>1</td>\n",
       "      <td>0</td>\n",
       "      <td>0</td>\n",
       "      <td>0</td>\n",
       "    </tr>\n",
       "    <tr>\n",
       "      <th>85685</th>\n",
       "      <td>0</td>\n",
       "      <td>0</td>\n",
       "      <td>0</td>\n",
       "      <td>1</td>\n",
       "      <td>0</td>\n",
       "      <td>0</td>\n",
       "      <td>0</td>\n",
       "      <td>0</td>\n",
       "    </tr>\n",
       "    <tr>\n",
       "      <th>85686</th>\n",
       "      <td>0</td>\n",
       "      <td>0</td>\n",
       "      <td>0</td>\n",
       "      <td>1</td>\n",
       "      <td>0</td>\n",
       "      <td>0</td>\n",
       "      <td>0</td>\n",
       "      <td>0</td>\n",
       "    </tr>\n",
       "  </tbody>\n",
       "</table>\n",
       "<p>85687 rows × 8 columns</p>\n",
       "</div>"
      ],
      "text/plain": [
       "       bomb_planted  de_dust2  de_inferno  de_mirage  de_nuke  de_overpass  \\\n",
       "0                 0         1           0          0        0            0   \n",
       "1                 0         0           1          0        0            0   \n",
       "2                 0         0           0          1        0            0   \n",
       "3                 0         0           1          0        0            0   \n",
       "4                 0         0           1          0        0            0   \n",
       "...             ...       ...         ...        ...      ...          ...   \n",
       "85682             0         0           0          0        1            0   \n",
       "85683             0         0           0          0        0            1   \n",
       "85684             0         0           0          0        1            0   \n",
       "85685             0         0           0          1        0            0   \n",
       "85686             0         0           0          1        0            0   \n",
       "\n",
       "       de_train  de_vertigo  \n",
       "0             0           0  \n",
       "1             0           0  \n",
       "2             0           0  \n",
       "3             0           0  \n",
       "4             0           0  \n",
       "...         ...         ...  \n",
       "85682         0           0  \n",
       "85683         0           0  \n",
       "85684         0           0  \n",
       "85685         0           0  \n",
       "85686         0           0  \n",
       "\n",
       "[85687 rows x 8 columns]"
      ]
     },
     "execution_count": 18,
     "metadata": {},
     "output_type": "execute_result"
    }
   ],
   "source": [
    "# Label code binary feature\n",
    "df_categorical['bomb_planted'] = df_categorical['bomb_planted'].replace({True: 1, False:0})\n",
    "\n",
    "# Onehot map variable using pandas get_dummies\n",
    "map_ohe = pd.get_dummies(df_categorical['map'], drop_first=True)\n",
    "\n",
    "#This data frame is ready to append to df, and remove original features one hot encoded\n",
    "df_categorical_ohe = pd.concat([df_categorical, map_ohe], axis=1)\n",
    "df_categorical_ohe.drop('map', axis=1, inplace = True)\n",
    "df_categorical_ohe"
   ]
  },
  {
   "cell_type": "code",
   "execution_count": 19,
   "metadata": {
    "colab": {
     "base_uri": "https://localhost:8080/",
     "height": 32
    },
    "colab_type": "code",
    "id": "1ntdLStiowkc",
    "outputId": "031797ab-3005-4321-995b-1c7fbaa3d1c9"
   },
   "outputs": [
    {
     "name": "stdout",
     "output_type": "stream",
     "text": [
      "Accuracy: 0.7496790757381258\n",
      "F1: 0.7494451582759022\n",
      "Recall: 0.7526099706744868\n",
      "MCC: 0.49938417928352813\n"
     ]
    },
    {
     "name": "stderr",
     "output_type": "stream",
     "text": [
      "C:\\Users\\drodriguez45\\Anaconda3\\lib\\site-packages\\sklearn\\linear_model\\_logistic.py:940: ConvergenceWarning: lbfgs failed to converge (status=1):\n",
      "STOP: TOTAL NO. of ITERATIONS REACHED LIMIT.\n",
      "\n",
      "Increase the number of iterations (max_iter) or scale the data as shown in:\n",
      "    https://scikit-learn.org/stable/modules/preprocessing.html\n",
      "Please also refer to the documentation for alternative solver options:\n",
      "    https://scikit-learn.org/stable/modules/linear_model.html#logistic-regression\n",
      "  extra_warning_msg=_LOGISTIC_SOLVER_CONVERGENCE_MSG)\n"
     ]
    },
    {
     "data": {
      "text/plain": [
       "0.7496790757381258"
      ]
     },
     "execution_count": 19,
     "metadata": {},
     "output_type": "execute_result"
    }
   ],
   "source": [
    "# Call the evaluation method with all data in the dataset\n",
    "df_copy_ohe = pd.concat([df_numerical_std, df_categorical_ohe], axis=1)\n",
    "evaluate_LogReg(df_copy_ohe, df[target], printout=True)"
   ]
  },
  {
   "cell_type": "markdown",
   "metadata": {
    "colab_type": "text",
    "id": "mV-UDxECbjMN"
   },
   "source": [
    "## Cross Validation \n",
    "\n",
    "To evaluate our model in a slightly simpler way, let's use this method: `cv_classification`. It accepts a Dataset as input, and an `estimator`, which is simply the model I want to use.\n",
    "\n",
    "Internally, it will repeat a number of times (`num_iterations`) the following steps:\n",
    "\n",
    "  1. Randomly split the data set into training and test\n",
    "  2. Fit the estimator with the training portion of the data\n",
    "  3. Obtain a CV metric in training for this model\n",
    "  4. Obtain a metric in test for the predictions obtained with the model just fitted in step 2\n",
    "  5. Save the scores in an array to later return all of them"
   ]
  },
  {
   "cell_type": "code",
   "execution_count": 20,
   "metadata": {
    "colab": {},
    "colab_type": "code",
    "id": "OPM3ncUf8N0Y"
   },
   "outputs": [],
   "source": [
    "def cv_classification(X: pd.DataFrame, y: pd.DataFrame, estimator, num_iterations=20, verbose=True):\n",
    "    train_scores=[]\n",
    "    test_scores=[]\n",
    "    for i in range(num_iterations):\n",
    "        # Split the data is the first thing to do\n",
    "        X_train, X_test, y_train, y_test = train_test_split(\n",
    "        X, y, test_size=0.2)\n",
    "\n",
    "        # We want to call a method whose name is the argument to this func.\n",
    "        estimator.fit(X_train, y_train)\n",
    "        train_metric = cross_val_score(estimator, X_train, y_train, scoring='accuracy')\n",
    "        train_scores.append(np.median(train_metric))\n",
    "\n",
    "        test_score = accuracy_score(y_test, estimator.predict(X_test))\n",
    "        test_scores.append(test_score)\n",
    "\n",
    "    if verbose:\n",
    "        print('Training median Accuracy: {:.4f} +/- {:.2f}%'.format(\n",
    "            np.median(train_scores), np.std(train_scores)*100.))\n",
    "        print('Test Accuracy: {:.4f} +/- {:.2f}%'.format(\n",
    "            np.median(test_scores), np.std(test_scores)*100.))\n",
    "\n",
    "    return train_scores, test_scores"
   ]
  },
  {
   "cell_type": "markdown",
   "metadata": {
    "colab_type": "text",
    "id": "LG6Q2T1llqiI"
   },
   "source": [
    "So, if we decide to use the method above to score our Linear Regression model using cross validation (20 iterations), what we have to do is the following:"
   ]
  },
  {
   "cell_type": "code",
   "execution_count": 24,
   "metadata": {
    "colab": {
     "base_uri": "https://localhost:8080/",
     "height": 49
    },
    "colab_type": "code",
    "id": "P5BC2e96QCuP",
    "outputId": "4859ef66-37df-45a8-b848-5320dd200cb5"
   },
   "outputs": [
    {
     "ename": "KeyboardInterrupt",
     "evalue": "",
     "output_type": "error",
     "traceback": [
      "\u001b[1;31m---------------------------------------------------------------------------\u001b[0m",
      "\u001b[1;31mKeyboardInterrupt\u001b[0m                         Traceback (most recent call last)",
      "\u001b[1;32m<ipython-input-24-4f0cd371eccb>\u001b[0m in \u001b[0;36m<module>\u001b[1;34m\u001b[0m\n\u001b[0;32m      1\u001b[0m \u001b[0mlr\u001b[0m \u001b[1;33m=\u001b[0m \u001b[0mLogisticRegression\u001b[0m\u001b[1;33m(\u001b[0m\u001b[0mmax_iter\u001b[0m \u001b[1;33m=\u001b[0m \u001b[1;36m200\u001b[0m\u001b[1;33m)\u001b[0m\u001b[1;33m\u001b[0m\u001b[1;33m\u001b[0m\u001b[0m\n\u001b[1;32m----> 2\u001b[1;33m \u001b[0mtrain_lr_scores\u001b[0m\u001b[1;33m,\u001b[0m \u001b[0mtest_lr_scores\u001b[0m \u001b[1;33m=\u001b[0m \u001b[0mcv_classification\u001b[0m\u001b[1;33m(\u001b[0m\u001b[0mdf_copy_ohe\u001b[0m\u001b[1;33m,\u001b[0m \u001b[0mdf\u001b[0m\u001b[1;33m[\u001b[0m\u001b[0mtarget\u001b[0m\u001b[1;33m]\u001b[0m\u001b[1;33m,\u001b[0m \u001b[0mlr\u001b[0m\u001b[1;33m)\u001b[0m\u001b[1;33m\u001b[0m\u001b[1;33m\u001b[0m\u001b[0m\n\u001b[0m",
      "\u001b[1;32m<ipython-input-20-507c77e8506e>\u001b[0m in \u001b[0;36mcv_classification\u001b[1;34m(X, y, estimator, num_iterations, verbose)\u001b[0m\n\u001b[0;32m      9\u001b[0m         \u001b[1;31m# We want to call a method whose name is the argument to this func.\u001b[0m\u001b[1;33m\u001b[0m\u001b[1;33m\u001b[0m\u001b[1;33m\u001b[0m\u001b[0m\n\u001b[0;32m     10\u001b[0m         \u001b[0mestimator\u001b[0m\u001b[1;33m.\u001b[0m\u001b[0mfit\u001b[0m\u001b[1;33m(\u001b[0m\u001b[0mX_train\u001b[0m\u001b[1;33m,\u001b[0m \u001b[0my_train\u001b[0m\u001b[1;33m)\u001b[0m\u001b[1;33m\u001b[0m\u001b[1;33m\u001b[0m\u001b[0m\n\u001b[1;32m---> 11\u001b[1;33m         \u001b[0mtrain_metric\u001b[0m \u001b[1;33m=\u001b[0m \u001b[0mcross_val_score\u001b[0m\u001b[1;33m(\u001b[0m\u001b[0mestimator\u001b[0m\u001b[1;33m,\u001b[0m \u001b[0mX_train\u001b[0m\u001b[1;33m,\u001b[0m \u001b[0my_train\u001b[0m\u001b[1;33m,\u001b[0m \u001b[0mscoring\u001b[0m\u001b[1;33m=\u001b[0m\u001b[1;34m'accuracy'\u001b[0m\u001b[1;33m)\u001b[0m\u001b[1;33m\u001b[0m\u001b[1;33m\u001b[0m\u001b[0m\n\u001b[0m\u001b[0;32m     12\u001b[0m         \u001b[0mtrain_scores\u001b[0m\u001b[1;33m.\u001b[0m\u001b[0mappend\u001b[0m\u001b[1;33m(\u001b[0m\u001b[0mnp\u001b[0m\u001b[1;33m.\u001b[0m\u001b[0mmedian\u001b[0m\u001b[1;33m(\u001b[0m\u001b[0mtrain_metric\u001b[0m\u001b[1;33m)\u001b[0m\u001b[1;33m)\u001b[0m\u001b[1;33m\u001b[0m\u001b[1;33m\u001b[0m\u001b[0m\n\u001b[0;32m     13\u001b[0m \u001b[1;33m\u001b[0m\u001b[0m\n",
      "\u001b[1;32m~\\Anaconda3\\lib\\site-packages\\sklearn\\model_selection\\_validation.py\u001b[0m in \u001b[0;36mcross_val_score\u001b[1;34m(estimator, X, y, groups, scoring, cv, n_jobs, verbose, fit_params, pre_dispatch, error_score)\u001b[0m\n\u001b[0;32m    388\u001b[0m                                 \u001b[0mfit_params\u001b[0m\u001b[1;33m=\u001b[0m\u001b[0mfit_params\u001b[0m\u001b[1;33m,\u001b[0m\u001b[1;33m\u001b[0m\u001b[1;33m\u001b[0m\u001b[0m\n\u001b[0;32m    389\u001b[0m                                 \u001b[0mpre_dispatch\u001b[0m\u001b[1;33m=\u001b[0m\u001b[0mpre_dispatch\u001b[0m\u001b[1;33m,\u001b[0m\u001b[1;33m\u001b[0m\u001b[1;33m\u001b[0m\u001b[0m\n\u001b[1;32m--> 390\u001b[1;33m                                 error_score=error_score)\n\u001b[0m\u001b[0;32m    391\u001b[0m     \u001b[1;32mreturn\u001b[0m \u001b[0mcv_results\u001b[0m\u001b[1;33m[\u001b[0m\u001b[1;34m'test_score'\u001b[0m\u001b[1;33m]\u001b[0m\u001b[1;33m\u001b[0m\u001b[1;33m\u001b[0m\u001b[0m\n\u001b[0;32m    392\u001b[0m \u001b[1;33m\u001b[0m\u001b[0m\n",
      "\u001b[1;32m~\\Anaconda3\\lib\\site-packages\\sklearn\\model_selection\\_validation.py\u001b[0m in \u001b[0;36mcross_validate\u001b[1;34m(estimator, X, y, groups, scoring, cv, n_jobs, verbose, fit_params, pre_dispatch, return_train_score, return_estimator, error_score)\u001b[0m\n\u001b[0;32m    234\u001b[0m             \u001b[0mreturn_times\u001b[0m\u001b[1;33m=\u001b[0m\u001b[1;32mTrue\u001b[0m\u001b[1;33m,\u001b[0m \u001b[0mreturn_estimator\u001b[0m\u001b[1;33m=\u001b[0m\u001b[0mreturn_estimator\u001b[0m\u001b[1;33m,\u001b[0m\u001b[1;33m\u001b[0m\u001b[1;33m\u001b[0m\u001b[0m\n\u001b[0;32m    235\u001b[0m             error_score=error_score)\n\u001b[1;32m--> 236\u001b[1;33m         for train, test in cv.split(X, y, groups))\n\u001b[0m\u001b[0;32m    237\u001b[0m \u001b[1;33m\u001b[0m\u001b[0m\n\u001b[0;32m    238\u001b[0m     \u001b[0mzipped_scores\u001b[0m \u001b[1;33m=\u001b[0m \u001b[0mlist\u001b[0m\u001b[1;33m(\u001b[0m\u001b[0mzip\u001b[0m\u001b[1;33m(\u001b[0m\u001b[1;33m*\u001b[0m\u001b[0mscores\u001b[0m\u001b[1;33m)\u001b[0m\u001b[1;33m)\u001b[0m\u001b[1;33m\u001b[0m\u001b[1;33m\u001b[0m\u001b[0m\n",
      "\u001b[1;32m~\\Anaconda3\\lib\\site-packages\\joblib\\parallel.py\u001b[0m in \u001b[0;36m__call__\u001b[1;34m(self, iterable)\u001b[0m\n\u001b[0;32m   1005\u001b[0m                 \u001b[0mself\u001b[0m\u001b[1;33m.\u001b[0m\u001b[0m_iterating\u001b[0m \u001b[1;33m=\u001b[0m \u001b[0mself\u001b[0m\u001b[1;33m.\u001b[0m\u001b[0m_original_iterator\u001b[0m \u001b[1;32mis\u001b[0m \u001b[1;32mnot\u001b[0m \u001b[1;32mNone\u001b[0m\u001b[1;33m\u001b[0m\u001b[1;33m\u001b[0m\u001b[0m\n\u001b[0;32m   1006\u001b[0m \u001b[1;33m\u001b[0m\u001b[0m\n\u001b[1;32m-> 1007\u001b[1;33m             \u001b[1;32mwhile\u001b[0m \u001b[0mself\u001b[0m\u001b[1;33m.\u001b[0m\u001b[0mdispatch_one_batch\u001b[0m\u001b[1;33m(\u001b[0m\u001b[0miterator\u001b[0m\u001b[1;33m)\u001b[0m\u001b[1;33m:\u001b[0m\u001b[1;33m\u001b[0m\u001b[1;33m\u001b[0m\u001b[0m\n\u001b[0m\u001b[0;32m   1008\u001b[0m                 \u001b[1;32mpass\u001b[0m\u001b[1;33m\u001b[0m\u001b[1;33m\u001b[0m\u001b[0m\n\u001b[0;32m   1009\u001b[0m \u001b[1;33m\u001b[0m\u001b[0m\n",
      "\u001b[1;32m~\\Anaconda3\\lib\\site-packages\\joblib\\parallel.py\u001b[0m in \u001b[0;36mdispatch_one_batch\u001b[1;34m(self, iterator)\u001b[0m\n\u001b[0;32m    833\u001b[0m                 \u001b[1;32mreturn\u001b[0m \u001b[1;32mFalse\u001b[0m\u001b[1;33m\u001b[0m\u001b[1;33m\u001b[0m\u001b[0m\n\u001b[0;32m    834\u001b[0m             \u001b[1;32melse\u001b[0m\u001b[1;33m:\u001b[0m\u001b[1;33m\u001b[0m\u001b[1;33m\u001b[0m\u001b[0m\n\u001b[1;32m--> 835\u001b[1;33m                 \u001b[0mself\u001b[0m\u001b[1;33m.\u001b[0m\u001b[0m_dispatch\u001b[0m\u001b[1;33m(\u001b[0m\u001b[0mtasks\u001b[0m\u001b[1;33m)\u001b[0m\u001b[1;33m\u001b[0m\u001b[1;33m\u001b[0m\u001b[0m\n\u001b[0m\u001b[0;32m    836\u001b[0m                 \u001b[1;32mreturn\u001b[0m \u001b[1;32mTrue\u001b[0m\u001b[1;33m\u001b[0m\u001b[1;33m\u001b[0m\u001b[0m\n\u001b[0;32m    837\u001b[0m \u001b[1;33m\u001b[0m\u001b[0m\n",
      "\u001b[1;32m~\\Anaconda3\\lib\\site-packages\\joblib\\parallel.py\u001b[0m in \u001b[0;36m_dispatch\u001b[1;34m(self, batch)\u001b[0m\n\u001b[0;32m    752\u001b[0m         \u001b[1;32mwith\u001b[0m \u001b[0mself\u001b[0m\u001b[1;33m.\u001b[0m\u001b[0m_lock\u001b[0m\u001b[1;33m:\u001b[0m\u001b[1;33m\u001b[0m\u001b[1;33m\u001b[0m\u001b[0m\n\u001b[0;32m    753\u001b[0m             \u001b[0mjob_idx\u001b[0m \u001b[1;33m=\u001b[0m \u001b[0mlen\u001b[0m\u001b[1;33m(\u001b[0m\u001b[0mself\u001b[0m\u001b[1;33m.\u001b[0m\u001b[0m_jobs\u001b[0m\u001b[1;33m)\u001b[0m\u001b[1;33m\u001b[0m\u001b[1;33m\u001b[0m\u001b[0m\n\u001b[1;32m--> 754\u001b[1;33m             \u001b[0mjob\u001b[0m \u001b[1;33m=\u001b[0m \u001b[0mself\u001b[0m\u001b[1;33m.\u001b[0m\u001b[0m_backend\u001b[0m\u001b[1;33m.\u001b[0m\u001b[0mapply_async\u001b[0m\u001b[1;33m(\u001b[0m\u001b[0mbatch\u001b[0m\u001b[1;33m,\u001b[0m \u001b[0mcallback\u001b[0m\u001b[1;33m=\u001b[0m\u001b[0mcb\u001b[0m\u001b[1;33m)\u001b[0m\u001b[1;33m\u001b[0m\u001b[1;33m\u001b[0m\u001b[0m\n\u001b[0m\u001b[0;32m    755\u001b[0m             \u001b[1;31m# A job can complete so quickly than its callback is\u001b[0m\u001b[1;33m\u001b[0m\u001b[1;33m\u001b[0m\u001b[1;33m\u001b[0m\u001b[0m\n\u001b[0;32m    756\u001b[0m             \u001b[1;31m# called before we get here, causing self._jobs to\u001b[0m\u001b[1;33m\u001b[0m\u001b[1;33m\u001b[0m\u001b[1;33m\u001b[0m\u001b[0m\n",
      "\u001b[1;32m~\\Anaconda3\\lib\\site-packages\\joblib\\_parallel_backends.py\u001b[0m in \u001b[0;36mapply_async\u001b[1;34m(self, func, callback)\u001b[0m\n\u001b[0;32m    207\u001b[0m     \u001b[1;32mdef\u001b[0m \u001b[0mapply_async\u001b[0m\u001b[1;33m(\u001b[0m\u001b[0mself\u001b[0m\u001b[1;33m,\u001b[0m \u001b[0mfunc\u001b[0m\u001b[1;33m,\u001b[0m \u001b[0mcallback\u001b[0m\u001b[1;33m=\u001b[0m\u001b[1;32mNone\u001b[0m\u001b[1;33m)\u001b[0m\u001b[1;33m:\u001b[0m\u001b[1;33m\u001b[0m\u001b[1;33m\u001b[0m\u001b[0m\n\u001b[0;32m    208\u001b[0m         \u001b[1;34m\"\"\"Schedule a func to be run\"\"\"\u001b[0m\u001b[1;33m\u001b[0m\u001b[1;33m\u001b[0m\u001b[0m\n\u001b[1;32m--> 209\u001b[1;33m         \u001b[0mresult\u001b[0m \u001b[1;33m=\u001b[0m \u001b[0mImmediateResult\u001b[0m\u001b[1;33m(\u001b[0m\u001b[0mfunc\u001b[0m\u001b[1;33m)\u001b[0m\u001b[1;33m\u001b[0m\u001b[1;33m\u001b[0m\u001b[0m\n\u001b[0m\u001b[0;32m    210\u001b[0m         \u001b[1;32mif\u001b[0m \u001b[0mcallback\u001b[0m\u001b[1;33m:\u001b[0m\u001b[1;33m\u001b[0m\u001b[1;33m\u001b[0m\u001b[0m\n\u001b[0;32m    211\u001b[0m             \u001b[0mcallback\u001b[0m\u001b[1;33m(\u001b[0m\u001b[0mresult\u001b[0m\u001b[1;33m)\u001b[0m\u001b[1;33m\u001b[0m\u001b[1;33m\u001b[0m\u001b[0m\n",
      "\u001b[1;32m~\\Anaconda3\\lib\\site-packages\\joblib\\_parallel_backends.py\u001b[0m in \u001b[0;36m__init__\u001b[1;34m(self, batch)\u001b[0m\n\u001b[0;32m    588\u001b[0m         \u001b[1;31m# Don't delay the application, to avoid keeping the input\u001b[0m\u001b[1;33m\u001b[0m\u001b[1;33m\u001b[0m\u001b[1;33m\u001b[0m\u001b[0m\n\u001b[0;32m    589\u001b[0m         \u001b[1;31m# arguments in memory\u001b[0m\u001b[1;33m\u001b[0m\u001b[1;33m\u001b[0m\u001b[1;33m\u001b[0m\u001b[0m\n\u001b[1;32m--> 590\u001b[1;33m         \u001b[0mself\u001b[0m\u001b[1;33m.\u001b[0m\u001b[0mresults\u001b[0m \u001b[1;33m=\u001b[0m \u001b[0mbatch\u001b[0m\u001b[1;33m(\u001b[0m\u001b[1;33m)\u001b[0m\u001b[1;33m\u001b[0m\u001b[1;33m\u001b[0m\u001b[0m\n\u001b[0m\u001b[0;32m    591\u001b[0m \u001b[1;33m\u001b[0m\u001b[0m\n\u001b[0;32m    592\u001b[0m     \u001b[1;32mdef\u001b[0m \u001b[0mget\u001b[0m\u001b[1;33m(\u001b[0m\u001b[0mself\u001b[0m\u001b[1;33m)\u001b[0m\u001b[1;33m:\u001b[0m\u001b[1;33m\u001b[0m\u001b[1;33m\u001b[0m\u001b[0m\n",
      "\u001b[1;32m~\\Anaconda3\\lib\\site-packages\\joblib\\parallel.py\u001b[0m in \u001b[0;36m__call__\u001b[1;34m(self)\u001b[0m\n\u001b[0;32m    254\u001b[0m         \u001b[1;32mwith\u001b[0m \u001b[0mparallel_backend\u001b[0m\u001b[1;33m(\u001b[0m\u001b[0mself\u001b[0m\u001b[1;33m.\u001b[0m\u001b[0m_backend\u001b[0m\u001b[1;33m,\u001b[0m \u001b[0mn_jobs\u001b[0m\u001b[1;33m=\u001b[0m\u001b[0mself\u001b[0m\u001b[1;33m.\u001b[0m\u001b[0m_n_jobs\u001b[0m\u001b[1;33m)\u001b[0m\u001b[1;33m:\u001b[0m\u001b[1;33m\u001b[0m\u001b[1;33m\u001b[0m\u001b[0m\n\u001b[0;32m    255\u001b[0m             return [func(*args, **kwargs)\n\u001b[1;32m--> 256\u001b[1;33m                     for func, args, kwargs in self.items]\n\u001b[0m\u001b[0;32m    257\u001b[0m \u001b[1;33m\u001b[0m\u001b[0m\n\u001b[0;32m    258\u001b[0m     \u001b[1;32mdef\u001b[0m \u001b[0m__len__\u001b[0m\u001b[1;33m(\u001b[0m\u001b[0mself\u001b[0m\u001b[1;33m)\u001b[0m\u001b[1;33m:\u001b[0m\u001b[1;33m\u001b[0m\u001b[1;33m\u001b[0m\u001b[0m\n",
      "\u001b[1;32m~\\Anaconda3\\lib\\site-packages\\joblib\\parallel.py\u001b[0m in \u001b[0;36m<listcomp>\u001b[1;34m(.0)\u001b[0m\n\u001b[0;32m    254\u001b[0m         \u001b[1;32mwith\u001b[0m \u001b[0mparallel_backend\u001b[0m\u001b[1;33m(\u001b[0m\u001b[0mself\u001b[0m\u001b[1;33m.\u001b[0m\u001b[0m_backend\u001b[0m\u001b[1;33m,\u001b[0m \u001b[0mn_jobs\u001b[0m\u001b[1;33m=\u001b[0m\u001b[0mself\u001b[0m\u001b[1;33m.\u001b[0m\u001b[0m_n_jobs\u001b[0m\u001b[1;33m)\u001b[0m\u001b[1;33m:\u001b[0m\u001b[1;33m\u001b[0m\u001b[1;33m\u001b[0m\u001b[0m\n\u001b[0;32m    255\u001b[0m             return [func(*args, **kwargs)\n\u001b[1;32m--> 256\u001b[1;33m                     for func, args, kwargs in self.items]\n\u001b[0m\u001b[0;32m    257\u001b[0m \u001b[1;33m\u001b[0m\u001b[0m\n\u001b[0;32m    258\u001b[0m     \u001b[1;32mdef\u001b[0m \u001b[0m__len__\u001b[0m\u001b[1;33m(\u001b[0m\u001b[0mself\u001b[0m\u001b[1;33m)\u001b[0m\u001b[1;33m:\u001b[0m\u001b[1;33m\u001b[0m\u001b[1;33m\u001b[0m\u001b[0m\n",
      "\u001b[1;32m~\\Anaconda3\\lib\\site-packages\\sklearn\\model_selection\\_validation.py\u001b[0m in \u001b[0;36m_fit_and_score\u001b[1;34m(estimator, X, y, scorer, train, test, verbose, parameters, fit_params, return_train_score, return_parameters, return_n_test_samples, return_times, return_estimator, error_score)\u001b[0m\n\u001b[0;32m    513\u001b[0m             \u001b[0mestimator\u001b[0m\u001b[1;33m.\u001b[0m\u001b[0mfit\u001b[0m\u001b[1;33m(\u001b[0m\u001b[0mX_train\u001b[0m\u001b[1;33m,\u001b[0m \u001b[1;33m**\u001b[0m\u001b[0mfit_params\u001b[0m\u001b[1;33m)\u001b[0m\u001b[1;33m\u001b[0m\u001b[1;33m\u001b[0m\u001b[0m\n\u001b[0;32m    514\u001b[0m         \u001b[1;32melse\u001b[0m\u001b[1;33m:\u001b[0m\u001b[1;33m\u001b[0m\u001b[1;33m\u001b[0m\u001b[0m\n\u001b[1;32m--> 515\u001b[1;33m             \u001b[0mestimator\u001b[0m\u001b[1;33m.\u001b[0m\u001b[0mfit\u001b[0m\u001b[1;33m(\u001b[0m\u001b[0mX_train\u001b[0m\u001b[1;33m,\u001b[0m \u001b[0my_train\u001b[0m\u001b[1;33m,\u001b[0m \u001b[1;33m**\u001b[0m\u001b[0mfit_params\u001b[0m\u001b[1;33m)\u001b[0m\u001b[1;33m\u001b[0m\u001b[1;33m\u001b[0m\u001b[0m\n\u001b[0m\u001b[0;32m    516\u001b[0m \u001b[1;33m\u001b[0m\u001b[0m\n\u001b[0;32m    517\u001b[0m     \u001b[1;32mexcept\u001b[0m \u001b[0mException\u001b[0m \u001b[1;32mas\u001b[0m \u001b[0me\u001b[0m\u001b[1;33m:\u001b[0m\u001b[1;33m\u001b[0m\u001b[1;33m\u001b[0m\u001b[0m\n",
      "\u001b[1;32m~\\Anaconda3\\lib\\site-packages\\sklearn\\linear_model\\_logistic.py\u001b[0m in \u001b[0;36mfit\u001b[1;34m(self, X, y, sample_weight)\u001b[0m\n\u001b[0;32m   1599\u001b[0m                       \u001b[0mpenalty\u001b[0m\u001b[1;33m=\u001b[0m\u001b[0mpenalty\u001b[0m\u001b[1;33m,\u001b[0m \u001b[0mmax_squared_sum\u001b[0m\u001b[1;33m=\u001b[0m\u001b[0mmax_squared_sum\u001b[0m\u001b[1;33m,\u001b[0m\u001b[1;33m\u001b[0m\u001b[1;33m\u001b[0m\u001b[0m\n\u001b[0;32m   1600\u001b[0m                       sample_weight=sample_weight)\n\u001b[1;32m-> 1601\u001b[1;33m             for class_, warm_start_coef_ in zip(classes_, warm_start_coef))\n\u001b[0m\u001b[0;32m   1602\u001b[0m \u001b[1;33m\u001b[0m\u001b[0m\n\u001b[0;32m   1603\u001b[0m         \u001b[0mfold_coefs_\u001b[0m\u001b[1;33m,\u001b[0m \u001b[0m_\u001b[0m\u001b[1;33m,\u001b[0m \u001b[0mn_iter_\u001b[0m \u001b[1;33m=\u001b[0m \u001b[0mzip\u001b[0m\u001b[1;33m(\u001b[0m\u001b[1;33m*\u001b[0m\u001b[0mfold_coefs_\u001b[0m\u001b[1;33m)\u001b[0m\u001b[1;33m\u001b[0m\u001b[1;33m\u001b[0m\u001b[0m\n",
      "\u001b[1;32m~\\Anaconda3\\lib\\site-packages\\joblib\\parallel.py\u001b[0m in \u001b[0;36m__call__\u001b[1;34m(self, iterable)\u001b[0m\n\u001b[0;32m   1002\u001b[0m             \u001b[1;31m# remaining jobs.\u001b[0m\u001b[1;33m\u001b[0m\u001b[1;33m\u001b[0m\u001b[1;33m\u001b[0m\u001b[0m\n\u001b[0;32m   1003\u001b[0m             \u001b[0mself\u001b[0m\u001b[1;33m.\u001b[0m\u001b[0m_iterating\u001b[0m \u001b[1;33m=\u001b[0m \u001b[1;32mFalse\u001b[0m\u001b[1;33m\u001b[0m\u001b[1;33m\u001b[0m\u001b[0m\n\u001b[1;32m-> 1004\u001b[1;33m             \u001b[1;32mif\u001b[0m \u001b[0mself\u001b[0m\u001b[1;33m.\u001b[0m\u001b[0mdispatch_one_batch\u001b[0m\u001b[1;33m(\u001b[0m\u001b[0miterator\u001b[0m\u001b[1;33m)\u001b[0m\u001b[1;33m:\u001b[0m\u001b[1;33m\u001b[0m\u001b[1;33m\u001b[0m\u001b[0m\n\u001b[0m\u001b[0;32m   1005\u001b[0m                 \u001b[0mself\u001b[0m\u001b[1;33m.\u001b[0m\u001b[0m_iterating\u001b[0m \u001b[1;33m=\u001b[0m \u001b[0mself\u001b[0m\u001b[1;33m.\u001b[0m\u001b[0m_original_iterator\u001b[0m \u001b[1;32mis\u001b[0m \u001b[1;32mnot\u001b[0m \u001b[1;32mNone\u001b[0m\u001b[1;33m\u001b[0m\u001b[1;33m\u001b[0m\u001b[0m\n\u001b[0;32m   1006\u001b[0m \u001b[1;33m\u001b[0m\u001b[0m\n",
      "\u001b[1;32m~\\Anaconda3\\lib\\site-packages\\joblib\\parallel.py\u001b[0m in \u001b[0;36mdispatch_one_batch\u001b[1;34m(self, iterator)\u001b[0m\n\u001b[0;32m    833\u001b[0m                 \u001b[1;32mreturn\u001b[0m \u001b[1;32mFalse\u001b[0m\u001b[1;33m\u001b[0m\u001b[1;33m\u001b[0m\u001b[0m\n\u001b[0;32m    834\u001b[0m             \u001b[1;32melse\u001b[0m\u001b[1;33m:\u001b[0m\u001b[1;33m\u001b[0m\u001b[1;33m\u001b[0m\u001b[0m\n\u001b[1;32m--> 835\u001b[1;33m                 \u001b[0mself\u001b[0m\u001b[1;33m.\u001b[0m\u001b[0m_dispatch\u001b[0m\u001b[1;33m(\u001b[0m\u001b[0mtasks\u001b[0m\u001b[1;33m)\u001b[0m\u001b[1;33m\u001b[0m\u001b[1;33m\u001b[0m\u001b[0m\n\u001b[0m\u001b[0;32m    836\u001b[0m                 \u001b[1;32mreturn\u001b[0m \u001b[1;32mTrue\u001b[0m\u001b[1;33m\u001b[0m\u001b[1;33m\u001b[0m\u001b[0m\n\u001b[0;32m    837\u001b[0m \u001b[1;33m\u001b[0m\u001b[0m\n",
      "\u001b[1;32m~\\Anaconda3\\lib\\site-packages\\joblib\\parallel.py\u001b[0m in \u001b[0;36m_dispatch\u001b[1;34m(self, batch)\u001b[0m\n\u001b[0;32m    752\u001b[0m         \u001b[1;32mwith\u001b[0m \u001b[0mself\u001b[0m\u001b[1;33m.\u001b[0m\u001b[0m_lock\u001b[0m\u001b[1;33m:\u001b[0m\u001b[1;33m\u001b[0m\u001b[1;33m\u001b[0m\u001b[0m\n\u001b[0;32m    753\u001b[0m             \u001b[0mjob_idx\u001b[0m \u001b[1;33m=\u001b[0m \u001b[0mlen\u001b[0m\u001b[1;33m(\u001b[0m\u001b[0mself\u001b[0m\u001b[1;33m.\u001b[0m\u001b[0m_jobs\u001b[0m\u001b[1;33m)\u001b[0m\u001b[1;33m\u001b[0m\u001b[1;33m\u001b[0m\u001b[0m\n\u001b[1;32m--> 754\u001b[1;33m             \u001b[0mjob\u001b[0m \u001b[1;33m=\u001b[0m \u001b[0mself\u001b[0m\u001b[1;33m.\u001b[0m\u001b[0m_backend\u001b[0m\u001b[1;33m.\u001b[0m\u001b[0mapply_async\u001b[0m\u001b[1;33m(\u001b[0m\u001b[0mbatch\u001b[0m\u001b[1;33m,\u001b[0m \u001b[0mcallback\u001b[0m\u001b[1;33m=\u001b[0m\u001b[0mcb\u001b[0m\u001b[1;33m)\u001b[0m\u001b[1;33m\u001b[0m\u001b[1;33m\u001b[0m\u001b[0m\n\u001b[0m\u001b[0;32m    755\u001b[0m             \u001b[1;31m# A job can complete so quickly than its callback is\u001b[0m\u001b[1;33m\u001b[0m\u001b[1;33m\u001b[0m\u001b[1;33m\u001b[0m\u001b[0m\n\u001b[0;32m    756\u001b[0m             \u001b[1;31m# called before we get here, causing self._jobs to\u001b[0m\u001b[1;33m\u001b[0m\u001b[1;33m\u001b[0m\u001b[1;33m\u001b[0m\u001b[0m\n",
      "\u001b[1;32m~\\Anaconda3\\lib\\site-packages\\joblib\\_parallel_backends.py\u001b[0m in \u001b[0;36mapply_async\u001b[1;34m(self, func, callback)\u001b[0m\n\u001b[0;32m    207\u001b[0m     \u001b[1;32mdef\u001b[0m \u001b[0mapply_async\u001b[0m\u001b[1;33m(\u001b[0m\u001b[0mself\u001b[0m\u001b[1;33m,\u001b[0m \u001b[0mfunc\u001b[0m\u001b[1;33m,\u001b[0m \u001b[0mcallback\u001b[0m\u001b[1;33m=\u001b[0m\u001b[1;32mNone\u001b[0m\u001b[1;33m)\u001b[0m\u001b[1;33m:\u001b[0m\u001b[1;33m\u001b[0m\u001b[1;33m\u001b[0m\u001b[0m\n\u001b[0;32m    208\u001b[0m         \u001b[1;34m\"\"\"Schedule a func to be run\"\"\"\u001b[0m\u001b[1;33m\u001b[0m\u001b[1;33m\u001b[0m\u001b[0m\n\u001b[1;32m--> 209\u001b[1;33m         \u001b[0mresult\u001b[0m \u001b[1;33m=\u001b[0m \u001b[0mImmediateResult\u001b[0m\u001b[1;33m(\u001b[0m\u001b[0mfunc\u001b[0m\u001b[1;33m)\u001b[0m\u001b[1;33m\u001b[0m\u001b[1;33m\u001b[0m\u001b[0m\n\u001b[0m\u001b[0;32m    210\u001b[0m         \u001b[1;32mif\u001b[0m \u001b[0mcallback\u001b[0m\u001b[1;33m:\u001b[0m\u001b[1;33m\u001b[0m\u001b[1;33m\u001b[0m\u001b[0m\n\u001b[0;32m    211\u001b[0m             \u001b[0mcallback\u001b[0m\u001b[1;33m(\u001b[0m\u001b[0mresult\u001b[0m\u001b[1;33m)\u001b[0m\u001b[1;33m\u001b[0m\u001b[1;33m\u001b[0m\u001b[0m\n",
      "\u001b[1;32m~\\Anaconda3\\lib\\site-packages\\joblib\\_parallel_backends.py\u001b[0m in \u001b[0;36m__init__\u001b[1;34m(self, batch)\u001b[0m\n\u001b[0;32m    588\u001b[0m         \u001b[1;31m# Don't delay the application, to avoid keeping the input\u001b[0m\u001b[1;33m\u001b[0m\u001b[1;33m\u001b[0m\u001b[1;33m\u001b[0m\u001b[0m\n\u001b[0;32m    589\u001b[0m         \u001b[1;31m# arguments in memory\u001b[0m\u001b[1;33m\u001b[0m\u001b[1;33m\u001b[0m\u001b[1;33m\u001b[0m\u001b[0m\n\u001b[1;32m--> 590\u001b[1;33m         \u001b[0mself\u001b[0m\u001b[1;33m.\u001b[0m\u001b[0mresults\u001b[0m \u001b[1;33m=\u001b[0m \u001b[0mbatch\u001b[0m\u001b[1;33m(\u001b[0m\u001b[1;33m)\u001b[0m\u001b[1;33m\u001b[0m\u001b[1;33m\u001b[0m\u001b[0m\n\u001b[0m\u001b[0;32m    591\u001b[0m \u001b[1;33m\u001b[0m\u001b[0m\n\u001b[0;32m    592\u001b[0m     \u001b[1;32mdef\u001b[0m \u001b[0mget\u001b[0m\u001b[1;33m(\u001b[0m\u001b[0mself\u001b[0m\u001b[1;33m)\u001b[0m\u001b[1;33m:\u001b[0m\u001b[1;33m\u001b[0m\u001b[1;33m\u001b[0m\u001b[0m\n",
      "\u001b[1;32m~\\Anaconda3\\lib\\site-packages\\joblib\\parallel.py\u001b[0m in \u001b[0;36m__call__\u001b[1;34m(self)\u001b[0m\n\u001b[0;32m    254\u001b[0m         \u001b[1;32mwith\u001b[0m \u001b[0mparallel_backend\u001b[0m\u001b[1;33m(\u001b[0m\u001b[0mself\u001b[0m\u001b[1;33m.\u001b[0m\u001b[0m_backend\u001b[0m\u001b[1;33m,\u001b[0m \u001b[0mn_jobs\u001b[0m\u001b[1;33m=\u001b[0m\u001b[0mself\u001b[0m\u001b[1;33m.\u001b[0m\u001b[0m_n_jobs\u001b[0m\u001b[1;33m)\u001b[0m\u001b[1;33m:\u001b[0m\u001b[1;33m\u001b[0m\u001b[1;33m\u001b[0m\u001b[0m\n\u001b[0;32m    255\u001b[0m             return [func(*args, **kwargs)\n\u001b[1;32m--> 256\u001b[1;33m                     for func, args, kwargs in self.items]\n\u001b[0m\u001b[0;32m    257\u001b[0m \u001b[1;33m\u001b[0m\u001b[0m\n\u001b[0;32m    258\u001b[0m     \u001b[1;32mdef\u001b[0m \u001b[0m__len__\u001b[0m\u001b[1;33m(\u001b[0m\u001b[0mself\u001b[0m\u001b[1;33m)\u001b[0m\u001b[1;33m:\u001b[0m\u001b[1;33m\u001b[0m\u001b[1;33m\u001b[0m\u001b[0m\n",
      "\u001b[1;32m~\\Anaconda3\\lib\\site-packages\\joblib\\parallel.py\u001b[0m in \u001b[0;36m<listcomp>\u001b[1;34m(.0)\u001b[0m\n\u001b[0;32m    254\u001b[0m         \u001b[1;32mwith\u001b[0m \u001b[0mparallel_backend\u001b[0m\u001b[1;33m(\u001b[0m\u001b[0mself\u001b[0m\u001b[1;33m.\u001b[0m\u001b[0m_backend\u001b[0m\u001b[1;33m,\u001b[0m \u001b[0mn_jobs\u001b[0m\u001b[1;33m=\u001b[0m\u001b[0mself\u001b[0m\u001b[1;33m.\u001b[0m\u001b[0m_n_jobs\u001b[0m\u001b[1;33m)\u001b[0m\u001b[1;33m:\u001b[0m\u001b[1;33m\u001b[0m\u001b[1;33m\u001b[0m\u001b[0m\n\u001b[0;32m    255\u001b[0m             return [func(*args, **kwargs)\n\u001b[1;32m--> 256\u001b[1;33m                     for func, args, kwargs in self.items]\n\u001b[0m\u001b[0;32m    257\u001b[0m \u001b[1;33m\u001b[0m\u001b[0m\n\u001b[0;32m    258\u001b[0m     \u001b[1;32mdef\u001b[0m \u001b[0m__len__\u001b[0m\u001b[1;33m(\u001b[0m\u001b[0mself\u001b[0m\u001b[1;33m)\u001b[0m\u001b[1;33m:\u001b[0m\u001b[1;33m\u001b[0m\u001b[1;33m\u001b[0m\u001b[0m\n",
      "\u001b[1;32m~\\Anaconda3\\lib\\site-packages\\sklearn\\linear_model\\_logistic.py\u001b[0m in \u001b[0;36m_logistic_regression_path\u001b[1;34m(X, y, pos_class, Cs, fit_intercept, max_iter, tol, verbose, solver, coef, class_weight, dual, penalty, intercept_scaling, multi_class, random_state, check_input, max_squared_sum, sample_weight, l1_ratio)\u001b[0m\n\u001b[0;32m    934\u001b[0m                 \u001b[0mfunc\u001b[0m\u001b[1;33m,\u001b[0m \u001b[0mw0\u001b[0m\u001b[1;33m,\u001b[0m \u001b[0mmethod\u001b[0m\u001b[1;33m=\u001b[0m\u001b[1;34m\"L-BFGS-B\"\u001b[0m\u001b[1;33m,\u001b[0m \u001b[0mjac\u001b[0m\u001b[1;33m=\u001b[0m\u001b[1;32mTrue\u001b[0m\u001b[1;33m,\u001b[0m\u001b[1;33m\u001b[0m\u001b[1;33m\u001b[0m\u001b[0m\n\u001b[0;32m    935\u001b[0m                 \u001b[0margs\u001b[0m\u001b[1;33m=\u001b[0m\u001b[1;33m(\u001b[0m\u001b[0mX\u001b[0m\u001b[1;33m,\u001b[0m \u001b[0mtarget\u001b[0m\u001b[1;33m,\u001b[0m \u001b[1;36m1.\u001b[0m \u001b[1;33m/\u001b[0m \u001b[0mC\u001b[0m\u001b[1;33m,\u001b[0m \u001b[0msample_weight\u001b[0m\u001b[1;33m)\u001b[0m\u001b[1;33m,\u001b[0m\u001b[1;33m\u001b[0m\u001b[1;33m\u001b[0m\u001b[0m\n\u001b[1;32m--> 936\u001b[1;33m                 \u001b[0moptions\u001b[0m\u001b[1;33m=\u001b[0m\u001b[1;33m{\u001b[0m\u001b[1;34m\"iprint\"\u001b[0m\u001b[1;33m:\u001b[0m \u001b[0miprint\u001b[0m\u001b[1;33m,\u001b[0m \u001b[1;34m\"gtol\"\u001b[0m\u001b[1;33m:\u001b[0m \u001b[0mtol\u001b[0m\u001b[1;33m,\u001b[0m \u001b[1;34m\"maxiter\"\u001b[0m\u001b[1;33m:\u001b[0m \u001b[0mmax_iter\u001b[0m\u001b[1;33m}\u001b[0m\u001b[1;33m\u001b[0m\u001b[1;33m\u001b[0m\u001b[0m\n\u001b[0m\u001b[0;32m    937\u001b[0m             )\n\u001b[0;32m    938\u001b[0m             n_iter_i = _check_optimize_result(\n",
      "\u001b[1;32m~\\Anaconda3\\lib\\site-packages\\scipy\\optimize\\_minimize.py\u001b[0m in \u001b[0;36mminimize\u001b[1;34m(fun, x0, args, method, jac, hess, hessp, bounds, constraints, tol, callback, options)\u001b[0m\n\u001b[0;32m    608\u001b[0m     \u001b[1;32melif\u001b[0m \u001b[0mmeth\u001b[0m \u001b[1;33m==\u001b[0m \u001b[1;34m'l-bfgs-b'\u001b[0m\u001b[1;33m:\u001b[0m\u001b[1;33m\u001b[0m\u001b[1;33m\u001b[0m\u001b[0m\n\u001b[0;32m    609\u001b[0m         return _minimize_lbfgsb(fun, x0, args, jac, bounds,\n\u001b[1;32m--> 610\u001b[1;33m                                 callback=callback, **options)\n\u001b[0m\u001b[0;32m    611\u001b[0m     \u001b[1;32melif\u001b[0m \u001b[0mmeth\u001b[0m \u001b[1;33m==\u001b[0m \u001b[1;34m'tnc'\u001b[0m\u001b[1;33m:\u001b[0m\u001b[1;33m\u001b[0m\u001b[1;33m\u001b[0m\u001b[0m\n\u001b[0;32m    612\u001b[0m         return _minimize_tnc(fun, x0, args, jac, bounds, callback=callback,\n",
      "\u001b[1;32m~\\Anaconda3\\lib\\site-packages\\scipy\\optimize\\lbfgsb.py\u001b[0m in \u001b[0;36m_minimize_lbfgsb\u001b[1;34m(fun, x0, args, jac, bounds, disp, maxcor, ftol, gtol, eps, maxfun, maxiter, iprint, callback, maxls, **unknown_options)\u001b[0m\n\u001b[0;32m    343\u001b[0m             \u001b[1;31m# until the completion of the current minimization iteration.\u001b[0m\u001b[1;33m\u001b[0m\u001b[1;33m\u001b[0m\u001b[1;33m\u001b[0m\u001b[0m\n\u001b[0;32m    344\u001b[0m             \u001b[1;31m# Overwrite f and g:\u001b[0m\u001b[1;33m\u001b[0m\u001b[1;33m\u001b[0m\u001b[1;33m\u001b[0m\u001b[0m\n\u001b[1;32m--> 345\u001b[1;33m             \u001b[0mf\u001b[0m\u001b[1;33m,\u001b[0m \u001b[0mg\u001b[0m \u001b[1;33m=\u001b[0m \u001b[0mfunc_and_grad\u001b[0m\u001b[1;33m(\u001b[0m\u001b[0mx\u001b[0m\u001b[1;33m)\u001b[0m\u001b[1;33m\u001b[0m\u001b[1;33m\u001b[0m\u001b[0m\n\u001b[0m\u001b[0;32m    346\u001b[0m         \u001b[1;32melif\u001b[0m \u001b[0mtask_str\u001b[0m\u001b[1;33m.\u001b[0m\u001b[0mstartswith\u001b[0m\u001b[1;33m(\u001b[0m\u001b[1;34mb'NEW_X'\u001b[0m\u001b[1;33m)\u001b[0m\u001b[1;33m:\u001b[0m\u001b[1;33m\u001b[0m\u001b[1;33m\u001b[0m\u001b[0m\n\u001b[0;32m    347\u001b[0m             \u001b[1;31m# new iteration\u001b[0m\u001b[1;33m\u001b[0m\u001b[1;33m\u001b[0m\u001b[1;33m\u001b[0m\u001b[0m\n",
      "\u001b[1;32m~\\Anaconda3\\lib\\site-packages\\scipy\\optimize\\lbfgsb.py\u001b[0m in \u001b[0;36mfunc_and_grad\u001b[1;34m(x)\u001b[0m\n\u001b[0;32m    293\u001b[0m     \u001b[1;32melse\u001b[0m\u001b[1;33m:\u001b[0m\u001b[1;33m\u001b[0m\u001b[1;33m\u001b[0m\u001b[0m\n\u001b[0;32m    294\u001b[0m         \u001b[1;32mdef\u001b[0m \u001b[0mfunc_and_grad\u001b[0m\u001b[1;33m(\u001b[0m\u001b[0mx\u001b[0m\u001b[1;33m)\u001b[0m\u001b[1;33m:\u001b[0m\u001b[1;33m\u001b[0m\u001b[1;33m\u001b[0m\u001b[0m\n\u001b[1;32m--> 295\u001b[1;33m             \u001b[0mf\u001b[0m \u001b[1;33m=\u001b[0m \u001b[0mfun\u001b[0m\u001b[1;33m(\u001b[0m\u001b[0mx\u001b[0m\u001b[1;33m,\u001b[0m \u001b[1;33m*\u001b[0m\u001b[0margs\u001b[0m\u001b[1;33m)\u001b[0m\u001b[1;33m\u001b[0m\u001b[1;33m\u001b[0m\u001b[0m\n\u001b[0m\u001b[0;32m    296\u001b[0m             \u001b[0mg\u001b[0m \u001b[1;33m=\u001b[0m \u001b[0mjac\u001b[0m\u001b[1;33m(\u001b[0m\u001b[0mx\u001b[0m\u001b[1;33m,\u001b[0m \u001b[1;33m*\u001b[0m\u001b[0margs\u001b[0m\u001b[1;33m)\u001b[0m\u001b[1;33m\u001b[0m\u001b[1;33m\u001b[0m\u001b[0m\n\u001b[0;32m    297\u001b[0m             \u001b[1;32mreturn\u001b[0m \u001b[0mf\u001b[0m\u001b[1;33m,\u001b[0m \u001b[0mg\u001b[0m\u001b[1;33m\u001b[0m\u001b[1;33m\u001b[0m\u001b[0m\n",
      "\u001b[1;32m~\\Anaconda3\\lib\\site-packages\\scipy\\optimize\\optimize.py\u001b[0m in \u001b[0;36mfunction_wrapper\u001b[1;34m(*wrapper_args)\u001b[0m\n\u001b[0;32m    325\u001b[0m     \u001b[1;32mdef\u001b[0m \u001b[0mfunction_wrapper\u001b[0m\u001b[1;33m(\u001b[0m\u001b[1;33m*\u001b[0m\u001b[0mwrapper_args\u001b[0m\u001b[1;33m)\u001b[0m\u001b[1;33m:\u001b[0m\u001b[1;33m\u001b[0m\u001b[1;33m\u001b[0m\u001b[0m\n\u001b[0;32m    326\u001b[0m         \u001b[0mncalls\u001b[0m\u001b[1;33m[\u001b[0m\u001b[1;36m0\u001b[0m\u001b[1;33m]\u001b[0m \u001b[1;33m+=\u001b[0m \u001b[1;36m1\u001b[0m\u001b[1;33m\u001b[0m\u001b[1;33m\u001b[0m\u001b[0m\n\u001b[1;32m--> 327\u001b[1;33m         \u001b[1;32mreturn\u001b[0m \u001b[0mfunction\u001b[0m\u001b[1;33m(\u001b[0m\u001b[1;33m*\u001b[0m\u001b[1;33m(\u001b[0m\u001b[0mwrapper_args\u001b[0m \u001b[1;33m+\u001b[0m \u001b[0margs\u001b[0m\u001b[1;33m)\u001b[0m\u001b[1;33m)\u001b[0m\u001b[1;33m\u001b[0m\u001b[1;33m\u001b[0m\u001b[0m\n\u001b[0m\u001b[0;32m    328\u001b[0m \u001b[1;33m\u001b[0m\u001b[0m\n\u001b[0;32m    329\u001b[0m     \u001b[1;32mreturn\u001b[0m \u001b[0mncalls\u001b[0m\u001b[1;33m,\u001b[0m \u001b[0mfunction_wrapper\u001b[0m\u001b[1;33m\u001b[0m\u001b[1;33m\u001b[0m\u001b[0m\n",
      "\u001b[1;32m~\\Anaconda3\\lib\\site-packages\\scipy\\optimize\\optimize.py\u001b[0m in \u001b[0;36m__call__\u001b[1;34m(self, x, *args)\u001b[0m\n\u001b[0;32m     63\u001b[0m     \u001b[1;32mdef\u001b[0m \u001b[0m__call__\u001b[0m\u001b[1;33m(\u001b[0m\u001b[0mself\u001b[0m\u001b[1;33m,\u001b[0m \u001b[0mx\u001b[0m\u001b[1;33m,\u001b[0m \u001b[1;33m*\u001b[0m\u001b[0margs\u001b[0m\u001b[1;33m)\u001b[0m\u001b[1;33m:\u001b[0m\u001b[1;33m\u001b[0m\u001b[1;33m\u001b[0m\u001b[0m\n\u001b[0;32m     64\u001b[0m         \u001b[0mself\u001b[0m\u001b[1;33m.\u001b[0m\u001b[0mx\u001b[0m \u001b[1;33m=\u001b[0m \u001b[0mnumpy\u001b[0m\u001b[1;33m.\u001b[0m\u001b[0masarray\u001b[0m\u001b[1;33m(\u001b[0m\u001b[0mx\u001b[0m\u001b[1;33m)\u001b[0m\u001b[1;33m.\u001b[0m\u001b[0mcopy\u001b[0m\u001b[1;33m(\u001b[0m\u001b[1;33m)\u001b[0m\u001b[1;33m\u001b[0m\u001b[1;33m\u001b[0m\u001b[0m\n\u001b[1;32m---> 65\u001b[1;33m         \u001b[0mfg\u001b[0m \u001b[1;33m=\u001b[0m \u001b[0mself\u001b[0m\u001b[1;33m.\u001b[0m\u001b[0mfun\u001b[0m\u001b[1;33m(\u001b[0m\u001b[0mx\u001b[0m\u001b[1;33m,\u001b[0m \u001b[1;33m*\u001b[0m\u001b[0margs\u001b[0m\u001b[1;33m)\u001b[0m\u001b[1;33m\u001b[0m\u001b[1;33m\u001b[0m\u001b[0m\n\u001b[0m\u001b[0;32m     66\u001b[0m         \u001b[0mself\u001b[0m\u001b[1;33m.\u001b[0m\u001b[0mjac\u001b[0m \u001b[1;33m=\u001b[0m \u001b[0mfg\u001b[0m\u001b[1;33m[\u001b[0m\u001b[1;36m1\u001b[0m\u001b[1;33m]\u001b[0m\u001b[1;33m\u001b[0m\u001b[1;33m\u001b[0m\u001b[0m\n\u001b[0;32m     67\u001b[0m         \u001b[1;32mreturn\u001b[0m \u001b[0mfg\u001b[0m\u001b[1;33m[\u001b[0m\u001b[1;36m0\u001b[0m\u001b[1;33m]\u001b[0m\u001b[1;33m\u001b[0m\u001b[1;33m\u001b[0m\u001b[0m\n",
      "\u001b[1;32m~\\Anaconda3\\lib\\site-packages\\sklearn\\linear_model\\_logistic.py\u001b[0m in \u001b[0;36m_logistic_loss_and_grad\u001b[1;34m(w, X, y, alpha, sample_weight)\u001b[0m\n\u001b[0;32m    127\u001b[0m     \u001b[0mz0\u001b[0m \u001b[1;33m=\u001b[0m \u001b[0msample_weight\u001b[0m \u001b[1;33m*\u001b[0m \u001b[1;33m(\u001b[0m\u001b[0mz\u001b[0m \u001b[1;33m-\u001b[0m \u001b[1;36m1\u001b[0m\u001b[1;33m)\u001b[0m \u001b[1;33m*\u001b[0m \u001b[0my\u001b[0m\u001b[1;33m\u001b[0m\u001b[1;33m\u001b[0m\u001b[0m\n\u001b[0;32m    128\u001b[0m \u001b[1;33m\u001b[0m\u001b[0m\n\u001b[1;32m--> 129\u001b[1;33m     \u001b[0mgrad\u001b[0m\u001b[1;33m[\u001b[0m\u001b[1;33m:\u001b[0m\u001b[0mn_features\u001b[0m\u001b[1;33m]\u001b[0m \u001b[1;33m=\u001b[0m \u001b[0msafe_sparse_dot\u001b[0m\u001b[1;33m(\u001b[0m\u001b[0mX\u001b[0m\u001b[1;33m.\u001b[0m\u001b[0mT\u001b[0m\u001b[1;33m,\u001b[0m \u001b[0mz0\u001b[0m\u001b[1;33m)\u001b[0m \u001b[1;33m+\u001b[0m \u001b[0malpha\u001b[0m \u001b[1;33m*\u001b[0m \u001b[0mw\u001b[0m\u001b[1;33m\u001b[0m\u001b[1;33m\u001b[0m\u001b[0m\n\u001b[0m\u001b[0;32m    130\u001b[0m \u001b[1;33m\u001b[0m\u001b[0m\n\u001b[0;32m    131\u001b[0m     \u001b[1;31m# Case where we fit the intercept.\u001b[0m\u001b[1;33m\u001b[0m\u001b[1;33m\u001b[0m\u001b[1;33m\u001b[0m\u001b[0m\n",
      "\u001b[1;32m~\\Anaconda3\\lib\\site-packages\\sklearn\\utils\\extmath.py\u001b[0m in \u001b[0;36msafe_sparse_dot\u001b[1;34m(a, b, dense_output)\u001b[0m\n\u001b[0;32m    151\u001b[0m         \u001b[0mret\u001b[0m \u001b[1;33m=\u001b[0m \u001b[0ma\u001b[0m \u001b[1;33m@\u001b[0m \u001b[0mb\u001b[0m\u001b[1;33m\u001b[0m\u001b[1;33m\u001b[0m\u001b[0m\n\u001b[0;32m    152\u001b[0m \u001b[1;33m\u001b[0m\u001b[0m\n\u001b[1;32m--> 153\u001b[1;33m     if (sparse.issparse(a) and sparse.issparse(b)\n\u001b[0m\u001b[0;32m    154\u001b[0m             and dense_output and hasattr(ret, \"toarray\")):\n\u001b[0;32m    155\u001b[0m         \u001b[1;32mreturn\u001b[0m \u001b[0mret\u001b[0m\u001b[1;33m.\u001b[0m\u001b[0mtoarray\u001b[0m\u001b[1;33m(\u001b[0m\u001b[1;33m)\u001b[0m\u001b[1;33m\u001b[0m\u001b[1;33m\u001b[0m\u001b[0m\n",
      "\u001b[1;31mKeyboardInterrupt\u001b[0m: "
     ]
    }
   ],
   "source": [
    "lr = LogisticRegression(max_iter = 200)\n",
    "train_lr_scores, test_lr_scores = cv_classification(df_copy_ohe, df[target], lr)"
   ]
  },
  {
   "cell_type": "markdown",
   "metadata": {
    "colab_type": "text",
    "id": "lX4zp5yzmH17"
   },
   "source": [
    "The interpretation from these training and test scores is the following:\n",
    "\n",
    "* Our model, in training, is capable of achieving a 56.17% F1 score, with a variance of 3.1%. This is useful to check if our training is getting very high results (overfitting) or very high variance (data contains too much noise).\n",
    "* Our model is expected to throw a F1 of 54% (+/- 4.5%) when predicting over unseen data.\n",
    "* Since performance test is a bit below training performance, that means that we're not overfitting, and that our model is generalizing correctly. If test performance were better than training performance, that's an indication that your training can be improved by tuning a bit more your parameters (too much bias).\n",
    "\n"
   ]
  },
  {
   "cell_type": "markdown",
   "metadata": {
    "colab_type": "text",
    "id": "tznHn84-boxq"
   },
   "source": [
    "## Baseline with decision tree\n",
    "\n",
    "To make things a bit simpler in our baseline, we will use a decision tree. Spending too much time cleaning our data to fit normal distributions and finding co-linearity could not be worthy in the end. So, let's try to produce a quick baseline with a single decision tree."
   ]
  },
  {
   "cell_type": "code",
   "execution_count": 25,
   "metadata": {
    "colab": {
     "base_uri": "https://localhost:8080/",
     "height": 49
    },
    "colab_type": "code",
    "id": "JjmCmTJtJmAT",
    "outputId": "29cc1778-4644-43e3-b3fd-439714f8ae31"
   },
   "outputs": [
    {
     "name": "stdout",
     "output_type": "stream",
     "text": [
      "Training median Accuracy: 0.7853 +/- 0.19%\n",
      "Test Accuracy: 0.8002 +/- 0.42%\n"
     ]
    }
   ],
   "source": [
    "from sklearn.tree import DecisionTreeClassifier, export_graphviz\n",
    "baseline_tree = DecisionTreeClassifier(random_state=123)\n",
    "base_train, base_test = cv_classification(df_copy_ohe, df[target], baseline_tree)"
   ]
  },
  {
   "cell_type": "markdown",
   "metadata": {
    "colab_type": "text",
    "hideCode": false,
    "hidePrompt": false,
    "id": "eDAbh9elZDTh"
   },
   "source": [
    "# Feature Engineering\n",
    "\n",
    "We are using the original data. We discard the scaled and onehot version to play with the original features to later perform the best possible encoding (not only onehot encoding).\n",
    "\n",
    "## Feature creation\n",
    "\n",
    "Let´s create some features that, based on our knowledge about CS GO, could add some information to our model. "
   ]
  },
  {
   "cell_type": "code",
   "execution_count": 9,
   "metadata": {},
   "outputs": [],
   "source": [
    "df['round'] = df.ct_score + df.t_score + 1\n",
    "df['diff_health'] = df.ct_health - df.t_health\n",
    "df['diff_armor'] = df.ct_armor - df.t_armor\n",
    "df['diff_money'] = df.ct_money - df.t_money\n",
    "df['diff_helmets'] = df.ct_helmets - df.t_helmets\n",
    "df['diff_players_alive'] = df.ct_players_alive - df.t_players_alive"
   ]
  },
  {
   "cell_type": "code",
   "execution_count": null,
   "metadata": {},
   "outputs": [],
   "source": [
    "#create correlation table for target value\n",
    "covars = df.corr()\n",
    "plt.figure(figsize = (10,20))\n",
    "sns.heatmap(covars[['round_winner']].sort_values(by=['round_winner'],ascending = False), cmap = 'coolwarm', annot = True)"
   ]
  },
  {
   "cell_type": "markdown",
   "metadata": {},
   "source": [
    "## Correlation"
   ]
  },
  {
   "cell_type": "markdown",
   "metadata": {},
   "source": [
    "Data columns with very similar trends are also likely to carry very similar information. In this case, only one of them will suffice to feed the machine learning model. Here we calculate the correlation coefficient between columns as the Coefficient and the Pearson’s chi square value respectively. Pairs of columns with correlation coefficient higher than a threshold are reduced to only one."
   ]
  },
  {
   "cell_type": "code",
   "execution_count": 75,
   "metadata": {},
   "outputs": [
    {
     "data": {
      "image/png": "[encoded data removed]",
      "text/plain": [
       "<Figure size 1440x1440 with 2 Axes>"
      ]
     },
     "metadata": {
      "needs_background": "light"
     },
     "output_type": "display_data"
    }
   ],
   "source": [
    "correlation = df.corr()\n",
    "\n",
    "mask = np.zeros_like(correlation, dtype=np.bool)\n",
    "mask[np.triu_indices_from(mask)] = True\n",
    "\n",
    "f, ax = plt.subplots(figsize=(20, 20))\n",
    "\n",
    "cmap = sns.diverging_palette(180, 20, as_cmap=True)\n",
    "sns.heatmap(correlation, mask=mask, cmap=cmap, vmax=1, vmin =-1, center=0,\n",
    "            square=True, linewidths=.5, cbar_kws={\"shrink\": .5}, annot=False)\n",
    "\n",
    "plt.show()"
   ]
  },
  {
   "cell_type": "markdown",
   "metadata": {},
   "source": [
    "We are going to consider features with a correlation coefficient above 0.5 for our model"
   ]
  },
  {
   "cell_type": "code",
   "execution_count": null,
   "metadata": {},
   "outputs": [],
   "source": [
    "#select features with coefficient above 0.5\n",
    "from sklearn.feature_selection import VarianceThreshold\n",
    "correlated_features = set()\n",
    "correlation_matrix = df.corr()\n",
    "\n",
    "for i in range(len(correlation_matrix .columns)):\n",
    "    for j in range(i):\n",
    "        if abs(correlation_matrix.iloc[i, j]) > 0.5:\n",
    "            colname = correlation_matrix.columns[i]\n",
    "            correlated_features.add(colname)"
   ]
  },
  {
   "cell_type": "code",
   "execution_count": null,
   "metadata": {},
   "outputs": [],
   "source": [
    "#check shape\n",
    "len(correlated_features)"
   ]
  },
  {
   "cell_type": "code",
   "execution_count": null,
   "metadata": {},
   "outputs": [],
   "source": [
    "print(correlated_features)"
   ]
  },
  {
   "cell_type": "code",
   "execution_count": null,
   "metadata": {},
   "outputs": [],
   "source": [
    "X_corr = df[['ct_weapon_awp', 'ct_grenade_flashbang', 't_weapon_glock', 't_health', 'ct_weapon_usps', \n",
    "                       't_score', 'ct_helmets', 'ct_players_alive', 't_weapon_sg553', 't_weapon_ak47', \n",
    "                       't_grenade_flashbang', 'ct_grenade_smokegrenade', 't_helmets', 'ct_health', 't_grenade_smokegrenade',\n",
    "                       'ct_grenade_incendiarygrenade', 't_players_alive', 'ct_defuse_kits', 'ct_grenade_hegrenade', \n",
    "                       'ct_weapon_m4a4', 't_grenade_molotovgrenade']]\n",
    "y_corr = df['round_winner']"
   ]
  },
  {
   "cell_type": "code",
   "execution_count": null,
   "metadata": {},
   "outputs": [],
   "source": [
    "correlation = X_corr.corr()\n",
    "\n",
    "mask = np.zeros_like(correlation, dtype=np.bool)\n",
    "mask[np.triu_indices_from(mask)] = True\n",
    "\n",
    "f, ax = plt.subplots(figsize=(20, 20))\n",
    "\n",
    "cmap = sns.diverging_palette(180, 20, as_cmap=True)\n",
    "sns.heatmap(correlation, mask=mask, cmap=cmap, vmax=1, vmin =-1, center=0,\n",
    "            square=True, linewidths=.5, cbar_kws={\"shrink\": .5}, annot=True)\n",
    "\n",
    "plt.show()"
   ]
  },
  {
   "cell_type": "markdown",
   "metadata": {
    "colab_type": "text",
    "hideCode": false,
    "hidePrompt": false,
    "id": "eDAbh9elZDTh"
   },
   "source": [
    "## Catboost encoding vs. Target encoding\n",
    "\n",
    "We're going to compare what is the effect of encoding with Catboost or Target encoding vs. the onehot encoded proposed above for the baseline."
   ]
  },
  {
   "cell_type": "code",
   "execution_count": null,
   "metadata": {
    "colab": {},
    "colab_type": "code",
    "hideCode": false,
    "hidePrompt": false,
    "id": "UJtTZhDtZDTh"
   },
   "outputs": [],
   "source": [
    "# Uncomment this line if you haven't installed caatboos (categorical_encoders) already\n",
    "# !pip install catboost"
   ]
  },
  {
   "cell_type": "markdown",
   "metadata": {},
   "source": [
    "Simple `fit_transform` our data using the proposed encoder, and then:\n",
    "  - we create another dataset (since we don't want to destroy the original one)\n",
    "  - we add the new numerically encoded features proposed by Catboost\n",
    "  - we remove the old categorical features"
   ]
  },
  {
   "cell_type": "code",
   "execution_count": 33,
   "metadata": {},
   "outputs": [
    {
     "data": {
      "text/html": [
       "<div>\n",
       "<style scoped>\n",
       "    .dataframe tbody tr th:only-of-type {\n",
       "        vertical-align: middle;\n",
       "    }\n",
       "\n",
       "    .dataframe tbody tr th {\n",
       "        vertical-align: top;\n",
       "    }\n",
       "\n",
       "    .dataframe thead th {\n",
       "        text-align: right;\n",
       "    }\n",
       "</style>\n",
       "<table border=\"1\" class=\"dataframe\">\n",
       "  <thead>\n",
       "    <tr style=\"text-align: right;\">\n",
       "      <th></th>\n",
       "      <th>map_cb</th>\n",
       "    </tr>\n",
       "  </thead>\n",
       "  <tbody>\n",
       "    <tr>\n",
       "      <th>0</th>\n",
       "      <td>0.490191</td>\n",
       "    </tr>\n",
       "    <tr>\n",
       "      <th>1</th>\n",
       "      <td>0.490191</td>\n",
       "    </tr>\n",
       "    <tr>\n",
       "      <th>2</th>\n",
       "      <td>0.490191</td>\n",
       "    </tr>\n",
       "    <tr>\n",
       "      <th>3</th>\n",
       "      <td>0.745096</td>\n",
       "    </tr>\n",
       "    <tr>\n",
       "      <th>4</th>\n",
       "      <td>0.496730</td>\n",
       "    </tr>\n",
       "    <tr>\n",
       "      <th>...</th>\n",
       "      <td>...</td>\n",
       "    </tr>\n",
       "    <tr>\n",
       "      <th>85682</th>\n",
       "      <td>0.536471</td>\n",
       "    </tr>\n",
       "    <tr>\n",
       "      <th>85683</th>\n",
       "      <td>0.499848</td>\n",
       "    </tr>\n",
       "    <tr>\n",
       "      <th>85684</th>\n",
       "      <td>0.536506</td>\n",
       "    </tr>\n",
       "    <tr>\n",
       "      <th>85685</th>\n",
       "      <td>0.491778</td>\n",
       "    </tr>\n",
       "    <tr>\n",
       "      <th>85686</th>\n",
       "      <td>0.491817</td>\n",
       "    </tr>\n",
       "  </tbody>\n",
       "</table>\n",
       "<p>85687 rows × 1 columns</p>\n",
       "</div>"
      ],
      "text/plain": [
       "         map_cb\n",
       "0      0.490191\n",
       "1      0.490191\n",
       "2      0.490191\n",
       "3      0.745096\n",
       "4      0.496730\n",
       "...         ...\n",
       "85682  0.536471\n",
       "85683  0.499848\n",
       "85684  0.536506\n",
       "85685  0.491778\n",
       "85686  0.491817\n",
       "\n",
       "[85687 rows x 1 columns]"
      ]
     },
     "execution_count": 33,
     "metadata": {},
     "output_type": "execute_result"
    }
   ],
   "source": [
    "# Create the Catboost encoder, and \"fit\" + \"transform\" our data.\n",
    "catboost_enc = ce.CatBoostEncoder()\n",
    "map_cb= catboost_enc.fit_transform(\n",
    "    df_categorical['map'], df[target]).add_suffix('_cb')\n",
    "\n",
    "map_cb"
   ]
  },
  {
   "cell_type": "code",
   "execution_count": 34,
   "metadata": {},
   "outputs": [],
   "source": [
    "#Create a copy of df with CatBoost encoded feature\n",
    "df_categorical_cb = pd.concat([df_categorical, map_cb], axis=1)\n",
    "df_categorical_cb.drop('map', axis=1, inplace = True)\n",
    "\n",
    "df_copy_cb = pd.concat([df_numerical_std, df_categorical_cb], axis=1)"
   ]
  },
  {
   "cell_type": "markdown",
   "metadata": {},
   "source": [
    "Now, train a decission tree classifier with the new data to see if we're improving a bit."
   ]
  },
  {
   "cell_type": "code",
   "execution_count": 35,
   "metadata": {},
   "outputs": [
    {
     "name": "stdout",
     "output_type": "stream",
     "text": [
      "Training median Accuracy: 0.7790 +/- 0.23%\n",
      "Test Accuracy: 0.7925 +/- 0.25%\n"
     ]
    }
   ],
   "source": [
    "catboost_tree = DecisionTreeClassifier(random_state=666)\n",
    "cb_train, cb_test = cv_classification(df_copy_cb, df[target], catboost_tree)"
   ]
  },
  {
   "cell_type": "markdown",
   "metadata": {},
   "source": [
    "Now it's time to try the TargetEncoder. Same steps as above"
   ]
  },
  {
   "cell_type": "code",
   "execution_count": 36,
   "metadata": {},
   "outputs": [],
   "source": [
    "# Create the Target encoder, and \"fit\" + \"transform\" our data.\n",
    "target_enc = ce.TargetEncoder()\n",
    "map_tg= target_enc.fit_transform(\n",
    "    df_categorical['map'], df[target]).add_suffix('_tg')\n",
    "\n",
    "#Create a copy of df with Target encoded feature\n",
    "df_categorical_tg = pd.concat([df_categorical, map_tg], axis=1)\n",
    "df_categorical_tg.drop('map', axis=1, inplace = True)\n",
    "\n",
    "df_copy_tg = pd.concat([df_numerical_std, df_categorical_tg], axis=1)"
   ]
  },
  {
   "cell_type": "code",
   "execution_count": 37,
   "metadata": {},
   "outputs": [
    {
     "name": "stdout",
     "output_type": "stream",
     "text": [
      "Training median Accuracy: 0.7853 +/- 0.27%\n",
      "Test Accuracy: 0.7981 +/- 0.52%\n"
     ]
    }
   ],
   "source": [
    "target_tree = DecisionTreeClassifier(random_state=666)\n",
    "tg_train, tg_test = cv_classification(df_copy_tg, df[target], target_tree)"
   ]
  },
  {
   "cell_type": "code",
   "execution_count": 38,
   "metadata": {
    "jupyter": {
     "source_hidden": true
    }
   },
   "outputs": [
    {
     "data": {
      "image/png": "[encoded data removed]",
      "text/plain": [
       "<Figure size 432x288 with 1 Axes>"
      ]
     },
     "metadata": {
      "needs_background": "light"
     },
     "output_type": "display_data"
    }
   ],
   "source": [
    "# Plot the three results obtained so far.\n",
    "x_pos = range(3)\n",
    "fig, ax = plt.subplots()\n",
    "ax.bar(x_pos, \n",
    "       [np.median(base_test), np.median(cb_test), np.median(tg_test)], \n",
    "       yerr=[np.std(base_test), np.std(cb_test), np.std(tg_test)], \n",
    "       align='center', alpha=0.5, ecolor='black', capsize=10)\n",
    "ax.set_ylabel('Test Accuracy score')\n",
    "ax.set_xticks(x_pos)\n",
    "ax.set_xticklabels(['baseline','catboost','target'])\n",
    "ax.set_ylim([0.70, 0.90])\n",
    "ax.set_title('Test Accuracy on a decision tree with diff. encodings')\n",
    "ax.yaxis.grid(True)"
   ]
  },
  {
   "cell_type": "markdown",
   "metadata": {},
   "source": [
    "We can see, that there's no big difference but, a priori, this experiment suggests that target encoding is giving us some advantage."
   ]
  },
  {
   "cell_type": "markdown",
   "metadata": {},
   "source": [
    "# Feature Selection\n",
    "\n",
    "We cannot explore deep feature synthesis, as it is required a lot of knowledge about the problem domain that we don't have for this dataset. GPlearn is a good alternative, but let's filter out some attributes that might be too much correlated or not leading to good performance.\n",
    "\n",
    "### Feature importance\n",
    "\n",
    "Use Random Forest Classifier to evaluate feature importance"
   ]
  },
  {
   "cell_type": "code",
   "execution_count": 29,
   "metadata": {},
   "outputs": [],
   "source": [
    "from sklearn.ensemble import RandomForestClassifier\n",
    "\n",
    "feat_labels = df_copy_ohe.columns\n",
    "\n",
    "forest = RandomForestClassifier(n_estimators=500, random_state=123)\n",
    "\n",
    "forest.fit(df_copy_ohe, df[target])\n",
    "importances = forest.feature_importances_\n",
    "\n",
    "indices = np.argsort(importances)[::-1]"
   ]
  },
  {
   "cell_type": "code",
   "execution_count": 30,
   "metadata": {
    "scrolled": false
   },
   "outputs": [
    {
     "name": "stdout",
     "output_type": "stream",
     "text": [
      " 1) diff_armor                     0.098633\n",
      " 2) diff_helmets                   0.047540\n",
      " 3) ct_armor                       0.045963\n",
      " 4) t_armor                        0.045084\n",
      " 5) diff_health                    0.043559\n",
      " 6) diff_money                     0.043246\n",
      " 7) ct_money                       0.040275\n",
      " 8) t_money                        0.040080\n",
      " 9) diff_players_alive             0.037847\n",
      "10) time_left                      0.033259\n",
      "11) t_score                        0.025268\n",
      "12) ct_score                       0.025234\n",
      "13) t_helmets                      0.024367\n",
      "14) ct_defuse_kits                 0.022123\n",
      "15) round                          0.022026\n",
      "16) ct_helmets                     0.019824\n",
      "17) ct_grenade_flashbang           0.018746\n",
      "18) t_health                       0.018480\n",
      "19) t_grenade_flashbang            0.017106\n",
      "20) t_weapon_ak47                  0.016798\n",
      "21) ct_health                      0.016630\n",
      "22) ct_weapon_usps                 0.014720\n",
      "23) t_weapon_glock                 0.014219\n",
      "24) ct_weapon_m4a4                 0.013464\n",
      "25) ct_grenade_smokegrenade        0.013136\n",
      "26) t_grenade_smokegrenade         0.012860\n",
      "27) t_grenade_molotovgrenade       0.012265\n",
      "28) t_weapon_sg553                 0.011964\n",
      "29) ct_grenade_hegrenade           0.011862\n",
      "30) ct_grenade_incendiarygrenade   0.010685\n",
      "31) ct_weapon_awp                  0.009149\n",
      "32) t_grenade_hegrenade            0.008453\n",
      "33) t_players_alive                0.008448\n",
      "34) ct_players_alive               0.008126\n",
      "35) t_weapon_p250                  0.007177\n",
      "36) ct_weapon_deagle               0.006991\n",
      "37) ct_weapon_p2000                0.006507\n",
      "38) t_weapon_deagle                0.006385\n",
      "39) ct_weapon_ak47                 0.006128\n",
      "40) bomb_planted                   0.005900\n",
      "41) ct_weapon_sg553                0.005511\n",
      "42) de_inferno                     0.005451\n",
      "43) de_dust2                       0.005442\n",
      "44) t_weapon_awp                   0.005334\n",
      "45) de_nuke                        0.005225\n",
      "46) de_mirage                      0.005034\n",
      "47) ct_weapon_p250                 0.004977\n",
      "48) ct_weapon_aug                  0.004675\n",
      "49) de_overpass                    0.004529\n",
      "50) de_train                       0.004513\n",
      "51) ct_weapon_cz75auto             0.004505\n",
      "52) ct_weapon_mp9                  0.003977\n",
      "53) de_vertigo                     0.003872\n",
      "54) ct_weapon_famas                0.003592\n",
      "55) t_weapon_usps                  0.003518\n",
      "56) t_weapon_galilar               0.003344\n",
      "57) t_weapon_cz75auto              0.003245\n",
      "58) ct_weapon_m4a1s                0.002956\n",
      "59) t_weapon_mac10                 0.002864\n",
      "60) ct_weapon_fiveseven            0.002838\n",
      "61) ct_weapon_ump45                0.002149\n",
      "62) t_weapon_m4a4                  0.002046\n",
      "63) t_grenade_decoygrenade         0.002043\n",
      "64) ct_grenade_molotovgrenade      0.001963\n",
      "65) ct_weapon_ssg08                0.001945\n",
      "66) ct_grenade_decoygrenade        0.001930\n",
      "67) t_weapon_ump45                 0.001579\n",
      "68) t_weapon_tec9                  0.001424\n",
      "69) t_grenade_incendiarygrenade    0.001117\n",
      "70) t_weapon_ssg08                 0.001012\n",
      "71) ct_weapon_glock                0.000638\n",
      "72) ct_weapon_elite                0.000623\n",
      "73) ct_weapon_xm1014               0.000608\n",
      "74) t_weapon_aug                   0.000553\n",
      "75) ct_weapon_galilar              0.000543\n",
      "76) t_weapon_fiveseven             0.000523\n",
      "77) ct_weapon_tec9                 0.000511\n",
      "78) ct_weapon_mac10                0.000453\n",
      "79) ct_weapon_mag7                 0.000356\n",
      "80) t_weapon_p2000                 0.000251\n",
      "81) t_weapon_mp9                   0.000245\n",
      "82) ct_weapon_mp7                  0.000231\n",
      "83) t_weapon_mp7                   0.000189\n",
      "84) t_weapon_famas                 0.000188\n",
      "85) t_weapon_m4a1s                 0.000185\n",
      "86) t_weapon_mp5sd                 0.000159\n",
      "87) t_weapon_elite                 0.000149\n",
      "88) ct_weapon_mp5sd                0.000124\n",
      "89) ct_weapon_nova                 0.000120\n",
      "90) ct_weapon_scar20               0.000073\n",
      "91) t_weapon_g3sg1                 0.000042\n",
      "92) t_weapon_xm1014                0.000031\n",
      "93) t_weapon_nova                  0.000021\n",
      "94) t_weapon_sawedoff              0.000019\n",
      "95) t_weapon_p90                   0.000019\n",
      "96) ct_weapon_p90                  0.000006\n",
      "97) t_weapon_bizon                 0.000003\n",
      "98) ct_weapon_m249                 0.000002\n",
      "99) t_weapon_r8revolver            0.000000\n",
      "100) t_weapon_negev                 0.000000\n",
      "101) t_weapon_scar20                0.000000\n",
      "102) ct_weapon_bizon                0.000000\n",
      "103) ct_weapon_g3sg1                0.000000\n",
      "104) ct_weapon_sawedoff             0.000000\n",
      "105) t_weapon_m249                  0.000000\n",
      "106) t_weapon_mag7                  0.000000\n",
      "107) ct_weapon_r8revolver           0.000000\n",
      "108) ct_weapon_negev                0.000000\n"
     ]
    }
   ],
   "source": [
    "for f in range(df_copy_ohe.shape[1]):\n",
    "    print(\"%2d) %-*s %f\" % (f + 1, 30,\n",
    "                           feat_labels[indices[f]],\n",
    "                           importances[indices[f]]))"
   ]
  },
  {
   "cell_type": "code",
   "execution_count": 77,
   "metadata": {},
   "outputs": [
    {
     "data": {
      "image/png": "[encoded data removed]",
      "text/plain": [
       "<Figure size 432x288 with 1 Axes>"
      ]
     },
     "metadata": {
      "needs_background": "light"
     },
     "output_type": "display_data"
    }
   ],
   "source": [
    "plt.title('Feature Importance')\n",
    "plt.bar(range(df_copy_ohe.shape[1]),\n",
    "       importances[indices],\n",
    "       align='center')\n",
    "\n",
    "plt.xticks(range(df_copy_ohe.shape[1]),\n",
    "          feat_labels, rotation=90)\n",
    "plt.xlim([-1, df_copy_ohe.shape[1]])\n",
    "plt.tight_layout()\n",
    "plt.show()"
   ]
  },
  {
   "cell_type": "code",
   "execution_count": 65,
   "metadata": {},
   "outputs": [
    {
     "name": "stdout",
     "output_type": "stream",
     "text": [
      "Number of features that fit this criteria: 46\n"
     ]
    }
   ],
   "source": [
    "from sklearn.feature_selection import SelectFromModel\n",
    "sfm = SelectFromModel(forest, threshold=0.005, prefit=True)\n",
    "X_selected = sfm.transform(df_copy_ohe)\n",
    "print('Number of features that fit this criteria:', X_selected.shape[1])"
   ]
  },
  {
   "cell_type": "code",
   "execution_count": 66,
   "metadata": {},
   "outputs": [
    {
     "name": "stdout",
     "output_type": "stream",
     "text": [
      " 1) diff_armor                     0.098633\n",
      " 2) diff_helmets                   0.047540\n",
      " 3) ct_armor                       0.045963\n",
      " 4) t_armor                        0.045084\n",
      " 5) diff_health                    0.043559\n",
      " 6) diff_money                     0.043246\n",
      " 7) ct_money                       0.040275\n",
      " 8) t_money                        0.040080\n",
      " 9) diff_players_alive             0.037847\n",
      "10) time_left                      0.033259\n",
      "11) t_score                        0.025268\n",
      "12) ct_score                       0.025234\n",
      "13) t_helmets                      0.024367\n",
      "14) ct_defuse_kits                 0.022123\n",
      "15) round                          0.022026\n",
      "16) ct_helmets                     0.019824\n",
      "17) ct_grenade_flashbang           0.018746\n",
      "18) t_health                       0.018480\n",
      "19) t_grenade_flashbang            0.017106\n",
      "20) t_weapon_ak47                  0.016798\n",
      "21) ct_health                      0.016630\n",
      "22) ct_weapon_usps                 0.014720\n",
      "23) t_weapon_glock                 0.014219\n",
      "24) ct_weapon_m4a4                 0.013464\n",
      "25) ct_grenade_smokegrenade        0.013136\n",
      "26) t_grenade_smokegrenade         0.012860\n",
      "27) t_grenade_molotovgrenade       0.012265\n",
      "28) t_weapon_sg553                 0.011964\n",
      "29) ct_grenade_hegrenade           0.011862\n",
      "30) ct_grenade_incendiarygrenade   0.010685\n",
      "31) ct_weapon_awp                  0.009149\n",
      "32) t_grenade_hegrenade            0.008453\n",
      "33) t_players_alive                0.008448\n",
      "34) ct_players_alive               0.008126\n",
      "35) t_weapon_p250                  0.007177\n",
      "36) ct_weapon_deagle               0.006991\n",
      "37) ct_weapon_p2000                0.006507\n",
      "38) t_weapon_deagle                0.006385\n",
      "39) ct_weapon_ak47                 0.006128\n",
      "40) bomb_planted                   0.005900\n",
      "41) ct_weapon_sg553                0.005511\n",
      "42) de_inferno                     0.005451\n",
      "43) de_dust2                       0.005442\n",
      "44) t_weapon_awp                   0.005334\n",
      "45) de_nuke                        0.005225\n",
      "46) de_mirage                      0.005034\n"
     ]
    }
   ],
   "source": [
    "for f in range(X_selected.shape[1]):\n",
    "    print(\"%2d) %-*s %f\" % (f + 1, 30,\n",
    "                           feat_labels[indices[f]],\n",
    "                           importances[indices[f]]))"
   ]
  },
  {
   "cell_type": "code",
   "execution_count": 67,
   "metadata": {},
   "outputs": [
    {
     "name": "stdout",
     "output_type": "stream",
     "text": [
      "Training median Accuracy: 0.7799 +/- 0.22%\n",
      "Test Accuracy: 0.7920 +/- 0.41%\n"
     ]
    }
   ],
   "source": [
    "base_fs_train, base_fs_test = cv_classification(X_selected, df[target], baseline_tree)"
   ]
  },
  {
   "cell_type": "markdown",
   "metadata": {},
   "source": [
    "We got the same accuracy with less than a half of features\n",
    "\n",
    "Correlated features will show in a tree similar and lowered importance, compared to what their importance would be if the tree was built without correlated counterparts.\n",
    "In situations like this, it is better to select features recursively, rather than all together as we have done here."
   ]
  },
  {
   "cell_type": "code",
   "execution_count": null,
   "metadata": {},
   "outputs": [],
   "source": []
  },
  {
   "cell_type": "markdown",
   "metadata": {},
   "source": [
    "### Filtering\n",
    "\n",
    "When plotting the covariance matrix we can see a candidate group of features that might present high correlation and could be discarded using wrapper methods (blade_pressure, was, varnish_pct, paper_mill_local_cb, proof_cut, roller_durometer and grain_screen_cb)."
   ]
  },
  {
   "cell_type": "code",
   "execution_count": null,
   "metadata": {},
   "outputs": [],
   "source": [
    "#Include covar analysis here\n"
   ]
  },
  {
   "cell_type": "markdown",
   "metadata": {},
   "source": [
    "Remove the weapons we already know are never used"
   ]
  },
  {
   "cell_type": "code",
   "execution_count": null,
   "metadata": {},
   "outputs": [],
   "source": [
    "weapons_remove = list(set(weapons) & set(df.columns[df.nunique() < 3]))\n",
    "df.drop(weapons_remove, axis=1, inplace = True)"
   ]
  },
  {
   "cell_type": "code",
   "execution_count": null,
   "metadata": {},
   "outputs": [],
   "source": [
    "#Remove variables used to build new ones\n",
    "remove_vars = ['ct_health', 't_health', 'ct_armor', 't_armor', 'ct_money', 't_money', 'ct_helmets', 't_helmets',\n",
    "               'ct_players_alive', 't_players_alive']\n",
    "df.drop(remove_vars, axis=1, inplace = True)"
   ]
  },
  {
   "cell_type": "code",
   "execution_count": null,
   "metadata": {},
   "outputs": [],
   "source": [
    "df"
   ]
  },
  {
   "cell_type": "markdown",
   "metadata": {},
   "source": [
    "Any filtering decision should be based on a relevant gain in our model. So, the steps to be followed must be:\n",
    "  1. select features to be removed\n",
    "  2. evaluate model without them\n",
    "  3. if new performance (in test) is better, then continue\n",
    "  4. otherwise, keep the features.\n",
    "  \n",
    "### Recursive Feature Elimination\n",
    "\n",
    "Let's start by using Recursive Feature Elimination from sklearn. It's a sophisticated implementation of stepwise selection, but with recursive decisions instead of single-step decisions. The parameters we need to have in order to use it are:\n",
    "  - A model –our decision tree, in our case\n",
    "  - The number of features we want to be finally selected\n",
    "  - The `step` which is the nr. of features to be removed at each iteration."
   ]
  },
  {
   "cell_type": "code",
   "execution_count": 84,
   "metadata": {},
   "outputs": [],
   "source": [
    "# A function that calls RFE and returns the best features found\n",
    "def rfe(data, num_features):\n",
    "    estimator = DecisionTreeClassifier(random_state=123)\n",
    "    selector = RFE(estimator, num_features, step=1)\n",
    "    selector = selector.fit(data, df[target])\n",
    "    return selector.support_"
   ]
  },
  {
   "cell_type": "markdown",
   "metadata": {},
   "source": [
    "This piece of code will evaluate a range of possible subsets of features, from 5 to all features included. At each iteration, it will keep the test score to later plot it, and see what is the best strategy to choose."
   ]
  },
  {
   "cell_type": "code",
   "execution_count": 103,
   "metadata": {},
   "outputs": [],
   "source": [
    "# Loop over the range of features in our dataset and capture results.\n",
    "rfe_test_scores = pd.DataFrame()\n",
    "min_range = 5\n",
    "max_range = len(df_copy_ohe.columns)\n",
    "rfe_tree = DecisionTreeClassifier(random_state=666)\n",
    "\n",
    "# This is a loop over all possible values I want to evaluate\n",
    "for num_features in range(min_range, max_range):\n",
    "    # Obtain the best features\n",
    "    best_features = rfe(df_copy_ohe, num_features)\n",
    "    # Build a new dataset ONLY with best features selected.\n",
    "    data_rfe = df_copy_ohe[df_copy_ohe.columns[best_features]]\n",
    "\n",
    "    # Evaluate (CV) what is the Accuracy of this dataset\n",
    "    _, test_accuracy = cv_classification(data_rfe, df[target], rfe_tree, verbose=False)\n",
    "    \n",
    "    # Keep results to later plot them\n",
    "    rfe_test_scores = rfe_test_scores.append(pd.Series(test_accuracy), ignore_index=True)\n",
    "    del(data_rfe)"
   ]
  },
  {
   "cell_type": "code",
   "execution_count": 111,
   "metadata": {
    "jupyter": {
     "source_hidden": true
    },
    "scrolled": true
   },
   "outputs": [
    {
     "data": {
      "image/png": "[encoded data removed]",
      "text/plain": [
       "<Figure size 1440x576 with 1 Axes>"
      ]
     },
     "metadata": {
      "needs_background": "light"
     },
     "output_type": "display_data"
    }
   ],
   "source": [
    "x_pos = range(min_range, max_range)\n",
    "\n",
    "fig, ax = plt.subplots(figsize=(20,8))\n",
    "ax.boxplot(rfe_test_scores)\n",
    "ax.set_ylabel('Test Accuracy score')\n",
    "ax.set_xticks(range(1, len(x_pos)))\n",
    "ax.set_xticklabels(x_pos)\n",
    "# ax.set_ylim([0.50, 0.75])\n",
    "ax.set_title('Test Accuracy with varying nr. of features')\n",
    "ax.yaxis.grid(True, color=\"gray\", linestyle='--', linewidth=0.4)"
   ]
  },
  {
   "cell_type": "markdown",
   "metadata": {},
   "source": [
    "From my experiment, 10 features is the best option. It also presents a not very high variance. So, now I call RFE asking it to return me 10 features and continue."
   ]
  },
  {
   "cell_type": "code",
   "execution_count": null,
   "metadata": {},
   "outputs": [],
   "source": [
    "best_features = rfe(data, 10)\n",
    "data_rfe = Dataset.from_dataframe(\n",
    "    pd.concat(\n",
    "        [data.features[data.features.columns[best_features]], data.target], axis=1\n",
    "    )\n",
    ")\n",
    "data_rfe.set_target('band_type')\n",
    "data_rfe.features.head()"
   ]
  },
  {
   "cell_type": "markdown",
   "metadata": {},
   "source": [
    "Check that this selection keeps the performance observed in the previous experiment."
   ]
  },
  {
   "cell_type": "code",
   "execution_count": null,
   "metadata": {},
   "outputs": [],
   "source": [
    "rfe_train, rfe_test = cv_classification(data_rfe, rfe_tree)"
   ]
  },
  {
   "cell_type": "code",
   "execution_count": null,
   "metadata": {},
   "outputs": [],
   "source": [
    "data = Dataset.from_dataframe(data_rfe.all)\n",
    "data.set_target('band_type');"
   ]
  },
  {
   "cell_type": "markdown",
   "metadata": {},
   "source": [
    "### Exercise\n",
    "\n",
    "Compare the results obtained using RFE with Relief algorithm or stepwise selection."
   ]
  },
  {
   "cell_type": "markdown",
   "metadata": {
    "colab_type": "text",
    "hideCode": false,
    "hidePrompt": false,
    "id": "xY_MrLaKZDTi"
   },
   "source": [
    "# Evaluation and Validation\n",
    "\n",
    "We have 10 features, and out results are much better than those obtained in the baseline. What's next then? \n",
    "\n",
    "First topic to explore is how to reduce the variance in test, since we've a large number as a result of applyin the CV process in `cv_classification()`. This type of issues is normally addressed using **bootstrapping**. You've an example in [this notebook](https://github.com/renero/class_notebooks/blob/master/Evaluation%20and%20Validation.ipynb).\n",
    "\n",
    "We should also take a deeper **look into our classification results** to be sure that our metric is capturing well positive and negative cases. Let's see how to access the different classifications obtained in our test set, to see from there if we can improve our metric.\n",
    "\n",
    "We must also experiment with **different metrics**: AUC, ROC, double density plots and confusion matrices.\n",
    "\n",
    "Another suggestion is that we will tune the decision tree by, for example **pruning** it with CV and CCP.\n",
    "\n",
    "Finally, compare our best single-decision-tree with **bagging** and **random forests**, for instance. We must do it, NOT only changing the model name before calling the `fit()` method. We must also perform hyperparameter tuning, and we'll see how is that done."
   ]
  },
  {
   "cell_type": "markdown",
   "metadata": {
    "colab_type": "text",
    "hideCode": false,
    "hidePrompt": false,
    "id": "YAFWzcGUZDTj"
   },
   "source": [
    "## Bootstrapping\n",
    "\n",
    "Bootstrapping is a technique that can be used to estimate population statistics by repeatedly sampling with replacement and measuring. But this technique can also be used to perform model validation in a very similar way to cross-validation: we will evaluate our model with bootstrapped samples of our population.\n",
    "\n",
    "Out method `bootstrap_split()` will simply accept all the features, and the target variable to produce two sets: training and test. This is the same idea we use when we split a dataset, but instead of taking a random number of samples out of the original data, _bootstrapping_ will perform sampling with repetition. That is the part that the method `resample()` does."
   ]
  },
  {
   "cell_type": "code",
   "execution_count": null,
   "metadata": {},
   "outputs": [],
   "source": [
    "def bootstrap_split(X, y, seed, training_size=0.8):\n",
    "    train_num_samples = X.shape[0]\n",
    "    X_train, y_train = resample(X, y, replace=True, \n",
    "                                n_samples=int(train_num_samples * 0.8),\n",
    "                                random_state=seed)\n",
    "\n",
    "    # Take the indices present in the training samples\n",
    "    indices_in_training = X_train.index.to_list()\n",
    "\n",
    "    # Those, NOT in training are, go to the test set.\n",
    "    X_test = X[~X.index.isin(indices_in_training)]\n",
    "    y_test = y[~y.index.isin(indices_in_training)]\n",
    "\n",
    "    return X_train, y_train, X_test, y_test"
   ]
  },
  {
   "cell_type": "markdown",
   "metadata": {},
   "source": [
    "Once we've our splitting method, it's time to repeat the process of splitting and evaluating to have a decent idea of what can we expect from our model in test. These results will, ideally, produce less variance in its estimates."
   ]
  },
  {
   "cell_type": "code",
   "execution_count": null,
   "metadata": {},
   "outputs": [],
   "source": [
    "bs_scores = []  # I will use this to keep every score produced in test.\n",
    "bs_tree = DecisionTreeClassifier(random_state=666)\n",
    "\n",
    "for i in range(100):\n",
    "    X_train, y_train, X_test, y_test = bootstrap_split(data.features, data.target, seed=i*23)\n",
    "    bs_tree.fit(X_train, y_train)\n",
    "    \n",
    "    train_metric = cross_val_score(bs_tree, X_train, y_train, scoring='f1')\n",
    "    test_score = f1_score(y_test, bs_tree.predict(X_test))\n",
    "    bs_scores.append(test_score)\n",
    "\n",
    "print(\"F1 (bootstrapping) in test: %0.4f (+/- %0.2f)\" % (np.median(bs_scores), np.std(bs_scores)))"
   ]
  },
  {
   "cell_type": "markdown",
   "metadata": {},
   "source": [
    "As you can see, the variance (std) in our metric is significantly lower... which means that we're a bit more confident about our model's performance, by using this metric.\n",
    "\n",
    "To really evaluate which one is giving us the closest estimate of what will happen when the model will be used with unseen data, let's keep a portion of the data out of the entire process (validation subset). Then, let's use it at the end to perform a single evaluation to see if it falls closer to the CV estimate, or to the bootstrap estimate."
   ]
  },
  {
   "cell_type": "code",
   "execution_count": null,
   "metadata": {},
   "outputs": [],
   "source": [
    "X, y = data.split(seed=666)\n",
    "val_tree = DecisionTreeClassifier(random_state=666)\n",
    "val_tree.fit(X.train, y.train)\n",
    "\n",
    "f1_score(y.test, val_tree.predict(X.test))"
   ]
  },
  {
   "cell_type": "markdown",
   "metadata": {},
   "source": [
    "This results gives us the idea that our models is producing a result very close to that predicted by our bootstrapping validation technique (and not too far either from what we got using CV).\n",
    "\n",
    "### EXERCISE\n",
    "\n",
    "Compare the results obtained with bootstrapping vs. cross-validation using different number of iterations to boxplot those results."
   ]
  },
  {
   "cell_type": "markdown",
   "metadata": {},
   "source": [
    "## Classification results\n",
    "\n",
    "Let's plot the decision tree to check some useful information that we can find in the plot. \n",
    "\n",
    "  - Both categories (in our binomial classification problem) are represented with the two colors: the more intense the color, the higher the purity of the classification. Lighter nodes have Gini indices close to 0.5 (maximum impurity).\n",
    "  - Every node shows you the nr. of samples that felt into each of the casses (value = [class1, class2])\n",
    "  - The decision is also represented, so you can also see what're the features that play more important roles in the classification."
   ]
  },
  {
   "cell_type": "code",
   "execution_count": null,
   "metadata": {},
   "outputs": [],
   "source": [
    "# Train\n",
    "my_tree = DecisionTreeClassifier(random_state=666, max_depth=3)\n",
    "my_tree.fit(X.train, y.train)\n",
    "\n",
    "# Plot\n",
    "plt.figure(figsize=(16, 7))\n",
    "tree.plot_tree(my_tree, feature_names=data.feature_names, \n",
    "               node_ids=True, filled=True, fontsize=8, max_depth=3);"
   ]
  },
  {
   "cell_type": "markdown",
   "metadata": {},
   "source": [
    "To know how to hack what node in the tree is producing a given prediction, we need to ask in stackoverflow, where [this response](https://stackoverflow.com/a/42227468) is one that I like. We need some code here, but it is sort of obscure. Important takeaway is that this method allows you to know what are the Gini values for each classification performed on a test set (`X_test`). You only need to pass the fitted tree (_estimator_) and the test set to obtain in return an array with all the Gini values obtained."
   ]
  },
  {
   "cell_type": "code",
   "execution_count": null,
   "metadata": {},
   "outputs": [],
   "source": [
    "def get_impurity(estimator, X_test, verbose=False):\n",
    "    impurity = []\n",
    "    leave_id = estimator.apply(X_test)\n",
    "    node_indicator = estimator.decision_path(X_test)\n",
    "    feature = estimator.tree_.feature\n",
    "    threshold = estimator.tree_.threshold\n",
    "\n",
    "    for sample_id in range(X_test.shape[0]):\n",
    "        node_index = node_indicator.indices[\n",
    "            node_indicator.indptr[sample_id]:\n",
    "            node_indicator.indptr[sample_id + 1]]\n",
    "        leave = estimator.tree_.__getstate__()['nodes'][leave_id[sample_id]]\n",
    "        if verbose:\n",
    "            print(f\"sample {sample_id:>3d} predicted at leave ID #{leave_id[sample_id]:>2d}. \", end=\"\")\n",
    "            print(f\"Impurity (Gini): {leave[4]:.4f}\")\n",
    "        impurity.append(leave[4])\n",
    "    \n",
    "    return impurity"
   ]
  },
  {
   "cell_type": "markdown",
   "metadata": {},
   "source": [
    "To see what our predictions look like, we can plot the histogram of the Gini values. Ideally we'd see lots of values close to zero, and not so many close to 0.5. But, reality shows a different picture. In our case, our predictions are not very good, which means that our features are improving prediction accuracy over the baseline, but maybe they're not very good.\n",
    "\n",
    "What is the solution to this? Increase the depth of the tree, or increase the complexity of the tree (baggin, boosting, random forests, ...), to name a few."
   ]
  },
  {
   "cell_type": "code",
   "execution_count": null,
   "metadata": {},
   "outputs": [],
   "source": [
    "impurities = get_impurity(my_tree, X_test)\n",
    "\n",
    "plt.hist(impurities);\n",
    "plt.title('Distribution of impurities in test')\n",
    "plt.xlabel('Gini')\n",
    "plt.ylabel('Numer of samples')"
   ]
  },
  {
   "cell_type": "markdown",
   "metadata": {},
   "source": [
    "### EXERCISE\n",
    "\n",
    "Try to increase the max depth of the tree to values higher than \"3\", and check what the Gini values look like."
   ]
  },
  {
   "cell_type": "markdown",
   "metadata": {},
   "source": [
    "## Metrics\n",
    "\n",
    "In this section, we experiment with some other metrics like AUC, ROC or confusion matrix. Once you have trained (fitted) a decision tree, and you have your training and test sets, you can compute any metric you like. I will leave this points as an exercise to you. \n",
    "\n",
    "Hint: Look at [this section of the sklearn](https://scikit-learn.org/stable/modules/model_evaluation.html) to know more about using different metrics.\n",
    "\n",
    "### EXERCISE\n",
    "\n",
    "Compute the confusion matrix, the AUX and plot the ROC curve from our classification results."
   ]
  },
  {
   "cell_type": "markdown",
   "metadata": {},
   "source": [
    "## Pruning\n",
    "\n",
    "Another validation on trees is simply to prune the tree at optimal depth, to obtain the maximum score, and better generalization. The value \"3\" that we've used before is too low, but if don't specify anything, the tree will grow too much.\n",
    "\n",
    "HINT: Look at [this tutorial on sklearn page](https://scikit-learn.org/stable/auto_examples/tree/plot_cost_complexity_pruning.html) that shows you how to use cost-complexity pruning and cross-validation (alpha) pruning.\n",
    "\n",
    "### EXERCISE\n",
    "\n",
    "Determine what is the optimal depth for the tree, using cost complexity pruning (as explained in the tutorial suggested before), and cross validation.\n",
    "\n",
    "To run the CV pruning, you simply must iterate over different values of `max_depth` and evaluate your fitted tree using `cv_validate()` to later decide what is the value of depth that provides the optimal depth for the tree."
   ]
  },
  {
   "cell_type": "markdown",
   "metadata": {},
   "source": [
    "## Bagging and Random Forests\n",
    "\n",
    "As a final step, we can concentrate on whether the model selected is the best possible option. We can compare our results with a single tree against the option of using Bagging trees or Random Forest. I will also leave this as an exercise to you. You can find all the information you need in my Trees notebook in [github](https://github.com/renero/class_notebooks/blob/master/Tree%20based%20methods.ipynb), or in the [sklearn page](https://scikit-learn.org/stable/modules/ensemble.html).\n",
    "\n",
    "### EXERCISE\n",
    "\n",
    "Fit and evaluate models based on Bagging and Random Forests (optional, Boosting trees), and compare the score obtained in test, with the single tree model."
   ]
  }
 ],
 "metadata": {
  "colab": {
   "collapsed_sections": [],
   "name": "Practice on Feature Engineering and Evaluation Monday.ipynb",
   "provenance": []
  },
  "hide_code_all_hidden": false,
  "kernelspec": {
   "display_name": "Python 3",
   "language": "python",
   "name": "python3"
  },
  "language_info": {
   "codemirror_mode": {
    "name": "ipython",
    "version": 3
   },
   "file_extension": ".py",
   "mimetype": "text/x-python",
   "name": "python",
   "nbconvert_exporter": "python",
   "pygments_lexer": "ipython3",
   "version": "3.7.6"
  },
  "toc": {
   "base_numbering": 1,
   "nav_menu": {},
   "number_sections": true,
   "sideBar": true,
   "skip_h1_title": false,
   "title_cell": "Table of Contents",
   "title_sidebar": "Contents",
   "toc_cell": true,
   "toc_position": {},
   "toc_section_display": true,
   "toc_window_display": false
  }
 },
 "nbformat": 4,
 "nbformat_minor": 4
}
