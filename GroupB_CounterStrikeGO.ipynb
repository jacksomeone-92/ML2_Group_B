{
 "cells": [
  {
   "cell_type": "markdown",
   "metadata": {},
   "source": [
    "\n",
    "# Group B - Counter Strike GO round winner classification"
   ]
  },
  {
   "cell_type": "markdown",
   "metadata": {},
   "source": [
    "Authors: ALBIN S., CKALIB N., DANIEL R., JORGE ANDRÉS R., NICOLAS G., TOMÁS F.\n",
    "\n",
    "Data source: https://www.kaggle.com/christianlillelund/csgo-round-winner-classification\n",
    "\n",
    "Last revision: 13/September/2020"
   ]
  },
  {
   "cell_type": "markdown",
   "metadata": {},
   "source": [
    "<img src=\"./images/CounterStrikeGO.jpg\" align=\"center\">"
   ]
  },
  {
   "cell_type": "markdown",
   "metadata": {
    "colab_type": "text",
    "hideCode": false,
    "hidePrompt": false,
    "id": "YrnrAFLgZDSw"
   },
   "source": [
    "# Introduction\n",
    "\n",
    "We're putting in practice what we need to know about feature engineering and model validation.\n",
    "\n",
    "CS:GO is a tactical shooter, where two teams (CT and Terrorist) play for a best of 30 rounds, with each round being 1 minute and 55 seconds. There are 5 players on each team (10 in total) and the first team to reach 16 rounds wins the game. At the start, one team plays as CT and the other as Terrorist. After 15 rounds played, the teams swap side. There are 7 different maps a game can be played on. You win a round as Terrorist by either planting the bomb and making sure it explodes, or by eliminating the other team. You win a round as CT by either eliminating the other team, or by disarming the bomb, should it have been planted.\n",
    "\n",
    "Learn more about CS:GO: https://en.wikipedia.org/wiki/Counter-Strike:_Global_Offensive\n",
    "\n",
    "The dataset consists of ~700 demos from high level tournament play in 2019 and 2020. Warmup rounds and restarts have been filtered, and for the remaining live rounds a round snapshot have been recorded every 20 seconds until the round is decided. The target variable is the one called `round_winner`, taking the values `CT` for Counter-Terrorist or `T` for Terrorist.\n",
    "\n",
    "## Steps to be followed <font color=red>[CAN BE REMOVED ONCE WE FINISH]</font>\n",
    "\n",
    "1. Read the dataset\n",
    "2. Data preparation: Check for variable types, NAs, values imputation, column names, scaling, encoding, etc.\n",
    "3. EDA (Exploratory Data Analysis): Try to extract some insights from the data like features completely uncorrelated or under-represented. Can we merge values from any of the categorical features? Would it be beneficial to discretize numerical features? Do we have outliers?\n",
    "3. Baseline: Simply take the simpler possible model (logistic regression) and set a base score that we'll try to improve along the process. To run logistic regression **you need** to have **numerical features**, so the fastest way of preparing your data to be used in `lr` is to perform _one hot encoding_. Perform this encoding so that you don't destroy the original prepared data. Consider to include onehot encoding as an step which is done right before evaluation over a copy of your prepared data.\n",
    "4. Feature Engineering: We will try\n",
    "    - categorical encoding: compare techniques like onehot and target encoding\n",
    "    - feature selection: compare the results from filtering, wrappers and regularization\n",
    "    - feature construction: compare GPLearn with _ad hoc_ methods, or Deep Feature Synthesis.\n",
    "5. Evaluation: the goal here is to fine tune our models, so, to do that we need a new model, like **decission trees**, in this case. We will experiment with:\n",
    "    - Cross validation and bootstrapping comparison.\n",
    "    - Fine tune tree parameters: pruning and parameters optimization."
   ]
  },
  {
   "cell_type": "markdown",
   "metadata": {
    "colab_type": "text",
    "hideCode": false,
    "hidePrompt": false,
    "id": "salUSFPkZDSx"
   },
   "source": [
    "# Read the dataset"
   ]
  },
  {
   "cell_type": "code",
   "execution_count": 2,
   "metadata": {
    "colab": {},
    "colab_type": "code",
    "hideCode": false,
    "hidePrompt": false,
    "id": "QF0S-mm7ZDSy"
   },
   "outputs": [],
   "source": [
    "# import libraries numpy, pandas, and scipy.stats module\n",
    "import numpy as np\n",
    "import pandas as pd\n",
    "import scipy.stats as stats\n",
    "import math\n",
    "import matplotlib.pyplot as plt"
   ]
  },
  {
   "cell_type": "code",
   "execution_count": 3,
   "metadata": {
    "colab": {},
    "colab_type": "code",
    "id": "JhJjYdq1ZiIw"
   },
   "outputs": [
    {
     "ename": "FileNotFoundError",
     "evalue": "[Errno 2] File csgo_round_snapshots.csv does not exist: 'csgo_round_snapshots.csv'",
     "output_type": "error",
     "traceback": [
      "\u001b[1;31m---------------------------------------------------------------------------\u001b[0m",
      "\u001b[1;31mFileNotFoundError\u001b[0m                         Traceback (most recent call last)",
      "\u001b[1;32m<ipython-input-3-53ca22ca7fb6>\u001b[0m in \u001b[0;36m<module>\u001b[1;34m\u001b[0m\n\u001b[0;32m      1\u001b[0m \u001b[1;31m# import dataset using pd.read_csv() function\u001b[0m\u001b[1;33m\u001b[0m\u001b[1;33m\u001b[0m\u001b[1;33m\u001b[0m\u001b[0m\n\u001b[1;32m----> 2\u001b[1;33m \u001b[0mdata\u001b[0m \u001b[1;33m=\u001b[0m \u001b[0mpd\u001b[0m\u001b[1;33m.\u001b[0m\u001b[0mread_csv\u001b[0m\u001b[1;33m(\u001b[0m\u001b[1;34m\"csgo_round_snapshots.csv\"\u001b[0m\u001b[1;33m)\u001b[0m\u001b[1;33m\u001b[0m\u001b[1;33m\u001b[0m\u001b[0m\n\u001b[0m",
      "\u001b[1;32mC:\\Anaconda3\\lib\\site-packages\\pandas\\io\\parsers.py\u001b[0m in \u001b[0;36mparser_f\u001b[1;34m(filepath_or_buffer, sep, delimiter, header, names, index_col, usecols, squeeze, prefix, mangle_dupe_cols, dtype, engine, converters, true_values, false_values, skipinitialspace, skiprows, skipfooter, nrows, na_values, keep_default_na, na_filter, verbose, skip_blank_lines, parse_dates, infer_datetime_format, keep_date_col, date_parser, dayfirst, cache_dates, iterator, chunksize, compression, thousands, decimal, lineterminator, quotechar, quoting, doublequote, escapechar, comment, encoding, dialect, error_bad_lines, warn_bad_lines, delim_whitespace, low_memory, memory_map, float_precision)\u001b[0m\n\u001b[0;32m    674\u001b[0m         )\n\u001b[0;32m    675\u001b[0m \u001b[1;33m\u001b[0m\u001b[0m\n\u001b[1;32m--> 676\u001b[1;33m         \u001b[1;32mreturn\u001b[0m \u001b[0m_read\u001b[0m\u001b[1;33m(\u001b[0m\u001b[0mfilepath_or_buffer\u001b[0m\u001b[1;33m,\u001b[0m \u001b[0mkwds\u001b[0m\u001b[1;33m)\u001b[0m\u001b[1;33m\u001b[0m\u001b[1;33m\u001b[0m\u001b[0m\n\u001b[0m\u001b[0;32m    677\u001b[0m \u001b[1;33m\u001b[0m\u001b[0m\n\u001b[0;32m    678\u001b[0m     \u001b[0mparser_f\u001b[0m\u001b[1;33m.\u001b[0m\u001b[0m__name__\u001b[0m \u001b[1;33m=\u001b[0m \u001b[0mname\u001b[0m\u001b[1;33m\u001b[0m\u001b[1;33m\u001b[0m\u001b[0m\n",
      "\u001b[1;32mC:\\Anaconda3\\lib\\site-packages\\pandas\\io\\parsers.py\u001b[0m in \u001b[0;36m_read\u001b[1;34m(filepath_or_buffer, kwds)\u001b[0m\n\u001b[0;32m    446\u001b[0m \u001b[1;33m\u001b[0m\u001b[0m\n\u001b[0;32m    447\u001b[0m     \u001b[1;31m# Create the parser.\u001b[0m\u001b[1;33m\u001b[0m\u001b[1;33m\u001b[0m\u001b[1;33m\u001b[0m\u001b[0m\n\u001b[1;32m--> 448\u001b[1;33m     \u001b[0mparser\u001b[0m \u001b[1;33m=\u001b[0m \u001b[0mTextFileReader\u001b[0m\u001b[1;33m(\u001b[0m\u001b[0mfp_or_buf\u001b[0m\u001b[1;33m,\u001b[0m \u001b[1;33m**\u001b[0m\u001b[0mkwds\u001b[0m\u001b[1;33m)\u001b[0m\u001b[1;33m\u001b[0m\u001b[1;33m\u001b[0m\u001b[0m\n\u001b[0m\u001b[0;32m    449\u001b[0m \u001b[1;33m\u001b[0m\u001b[0m\n\u001b[0;32m    450\u001b[0m     \u001b[1;32mif\u001b[0m \u001b[0mchunksize\u001b[0m \u001b[1;32mor\u001b[0m \u001b[0miterator\u001b[0m\u001b[1;33m:\u001b[0m\u001b[1;33m\u001b[0m\u001b[1;33m\u001b[0m\u001b[0m\n",
      "\u001b[1;32mC:\\Anaconda3\\lib\\site-packages\\pandas\\io\\parsers.py\u001b[0m in \u001b[0;36m__init__\u001b[1;34m(self, f, engine, **kwds)\u001b[0m\n\u001b[0;32m    878\u001b[0m             \u001b[0mself\u001b[0m\u001b[1;33m.\u001b[0m\u001b[0moptions\u001b[0m\u001b[1;33m[\u001b[0m\u001b[1;34m\"has_index_names\"\u001b[0m\u001b[1;33m]\u001b[0m \u001b[1;33m=\u001b[0m \u001b[0mkwds\u001b[0m\u001b[1;33m[\u001b[0m\u001b[1;34m\"has_index_names\"\u001b[0m\u001b[1;33m]\u001b[0m\u001b[1;33m\u001b[0m\u001b[1;33m\u001b[0m\u001b[0m\n\u001b[0;32m    879\u001b[0m \u001b[1;33m\u001b[0m\u001b[0m\n\u001b[1;32m--> 880\u001b[1;33m         \u001b[0mself\u001b[0m\u001b[1;33m.\u001b[0m\u001b[0m_make_engine\u001b[0m\u001b[1;33m(\u001b[0m\u001b[0mself\u001b[0m\u001b[1;33m.\u001b[0m\u001b[0mengine\u001b[0m\u001b[1;33m)\u001b[0m\u001b[1;33m\u001b[0m\u001b[1;33m\u001b[0m\u001b[0m\n\u001b[0m\u001b[0;32m    881\u001b[0m \u001b[1;33m\u001b[0m\u001b[0m\n\u001b[0;32m    882\u001b[0m     \u001b[1;32mdef\u001b[0m \u001b[0mclose\u001b[0m\u001b[1;33m(\u001b[0m\u001b[0mself\u001b[0m\u001b[1;33m)\u001b[0m\u001b[1;33m:\u001b[0m\u001b[1;33m\u001b[0m\u001b[1;33m\u001b[0m\u001b[0m\n",
      "\u001b[1;32mC:\\Anaconda3\\lib\\site-packages\\pandas\\io\\parsers.py\u001b[0m in \u001b[0;36m_make_engine\u001b[1;34m(self, engine)\u001b[0m\n\u001b[0;32m   1112\u001b[0m     \u001b[1;32mdef\u001b[0m \u001b[0m_make_engine\u001b[0m\u001b[1;33m(\u001b[0m\u001b[0mself\u001b[0m\u001b[1;33m,\u001b[0m \u001b[0mengine\u001b[0m\u001b[1;33m=\u001b[0m\u001b[1;34m\"c\"\u001b[0m\u001b[1;33m)\u001b[0m\u001b[1;33m:\u001b[0m\u001b[1;33m\u001b[0m\u001b[1;33m\u001b[0m\u001b[0m\n\u001b[0;32m   1113\u001b[0m         \u001b[1;32mif\u001b[0m \u001b[0mengine\u001b[0m \u001b[1;33m==\u001b[0m \u001b[1;34m\"c\"\u001b[0m\u001b[1;33m:\u001b[0m\u001b[1;33m\u001b[0m\u001b[1;33m\u001b[0m\u001b[0m\n\u001b[1;32m-> 1114\u001b[1;33m             \u001b[0mself\u001b[0m\u001b[1;33m.\u001b[0m\u001b[0m_engine\u001b[0m \u001b[1;33m=\u001b[0m \u001b[0mCParserWrapper\u001b[0m\u001b[1;33m(\u001b[0m\u001b[0mself\u001b[0m\u001b[1;33m.\u001b[0m\u001b[0mf\u001b[0m\u001b[1;33m,\u001b[0m \u001b[1;33m**\u001b[0m\u001b[0mself\u001b[0m\u001b[1;33m.\u001b[0m\u001b[0moptions\u001b[0m\u001b[1;33m)\u001b[0m\u001b[1;33m\u001b[0m\u001b[1;33m\u001b[0m\u001b[0m\n\u001b[0m\u001b[0;32m   1115\u001b[0m         \u001b[1;32melse\u001b[0m\u001b[1;33m:\u001b[0m\u001b[1;33m\u001b[0m\u001b[1;33m\u001b[0m\u001b[0m\n\u001b[0;32m   1116\u001b[0m             \u001b[1;32mif\u001b[0m \u001b[0mengine\u001b[0m \u001b[1;33m==\u001b[0m \u001b[1;34m\"python\"\u001b[0m\u001b[1;33m:\u001b[0m\u001b[1;33m\u001b[0m\u001b[1;33m\u001b[0m\u001b[0m\n",
      "\u001b[1;32mC:\\Anaconda3\\lib\\site-packages\\pandas\\io\\parsers.py\u001b[0m in \u001b[0;36m__init__\u001b[1;34m(self, src, **kwds)\u001b[0m\n\u001b[0;32m   1889\u001b[0m         \u001b[0mkwds\u001b[0m\u001b[1;33m[\u001b[0m\u001b[1;34m\"usecols\"\u001b[0m\u001b[1;33m]\u001b[0m \u001b[1;33m=\u001b[0m \u001b[0mself\u001b[0m\u001b[1;33m.\u001b[0m\u001b[0musecols\u001b[0m\u001b[1;33m\u001b[0m\u001b[1;33m\u001b[0m\u001b[0m\n\u001b[0;32m   1890\u001b[0m \u001b[1;33m\u001b[0m\u001b[0m\n\u001b[1;32m-> 1891\u001b[1;33m         \u001b[0mself\u001b[0m\u001b[1;33m.\u001b[0m\u001b[0m_reader\u001b[0m \u001b[1;33m=\u001b[0m \u001b[0mparsers\u001b[0m\u001b[1;33m.\u001b[0m\u001b[0mTextReader\u001b[0m\u001b[1;33m(\u001b[0m\u001b[0msrc\u001b[0m\u001b[1;33m,\u001b[0m \u001b[1;33m**\u001b[0m\u001b[0mkwds\u001b[0m\u001b[1;33m)\u001b[0m\u001b[1;33m\u001b[0m\u001b[1;33m\u001b[0m\u001b[0m\n\u001b[0m\u001b[0;32m   1892\u001b[0m         \u001b[0mself\u001b[0m\u001b[1;33m.\u001b[0m\u001b[0munnamed_cols\u001b[0m \u001b[1;33m=\u001b[0m \u001b[0mself\u001b[0m\u001b[1;33m.\u001b[0m\u001b[0m_reader\u001b[0m\u001b[1;33m.\u001b[0m\u001b[0munnamed_cols\u001b[0m\u001b[1;33m\u001b[0m\u001b[1;33m\u001b[0m\u001b[0m\n\u001b[0;32m   1893\u001b[0m \u001b[1;33m\u001b[0m\u001b[0m\n",
      "\u001b[1;32mpandas\\_libs\\parsers.pyx\u001b[0m in \u001b[0;36mpandas._libs.parsers.TextReader.__cinit__\u001b[1;34m()\u001b[0m\n",
      "\u001b[1;32mpandas\\_libs\\parsers.pyx\u001b[0m in \u001b[0;36mpandas._libs.parsers.TextReader._setup_parser_source\u001b[1;34m()\u001b[0m\n",
      "\u001b[1;31mFileNotFoundError\u001b[0m: [Errno 2] File csgo_round_snapshots.csv does not exist: 'csgo_round_snapshots.csv'"
     ]
    }
   ],
   "source": [
    "# import dataset using pd.read_csv() function\n",
    "data = pd.read_csv(\"csgo_round_snapshots.csv\")"
   ]
  },
  {
   "cell_type": "markdown",
   "metadata": {
    "colab_type": "text",
    "id": "p8t1dViWZDS3"
   },
   "source": [
    "Check imports needed and place all at the top of the notebook."
   ]
  },
  {
   "cell_type": "code",
   "execution_count": 2,
   "metadata": {
    "colab": {
     "base_uri": "https://localhost:8080/",
     "height": 69
    },
    "colab_type": "code",
    "hideCode": false,
    "hidePrompt": false,
    "id": "LwYEAvn5ZDS4",
    "outputId": "e4ddff26-ef53-4fd5-8a78-2b0487450123"
   },
   "outputs": [
    {
     "name": "stderr",
     "output_type": "stream",
     "text": [
      "C:\\Users\\drodriguez45\\Anaconda3\\lib\\site-packages\\sklearn\\externals\\joblib\\__init__.py:15: FutureWarning: sklearn.externals.joblib is deprecated in 0.21 and will be removed in 0.23. Please import this functionality directly from joblib, which can be installed with: pip install joblib. If this warning is raised when loading pickled models, you may need to re-serialize those models with scikit-learn 0.21+.\n",
      "  warnings.warn(msg, category=FutureWarning)\n"
     ]
    }
   ],
   "source": [
    "import category_encoders as ce\n",
    "\n",
    "from sklearn import tree\n",
    "from sklearn.experimental import enable_iterative_imputer\n",
    "from sklearn.feature_selection import RFE\n",
    "from sklearn.impute import IterativeImputer\n",
    "from sklearn.model_selection import cross_val_score, train_test_split\n",
    "from sklearn.linear_model import LogisticRegression\n",
    "from sklearn.tree import DecisionTreeClassifier, export_graphviz\n",
    "from sklearn.utils import resample\n",
    "from sklearn_pandas import CategoricalImputer"
   ]
  },
  {
   "cell_type": "code",
   "execution_count": 9,
   "metadata": {
    "colab_type": "text",
    "id": "fTRl2boJZDS7"
   },
   "outputs": [
    {
     "data": {
      "text/html": [
       "<div>\n",
       "<style scoped>\n",
       "    .dataframe tbody tr th:only-of-type {\n",
       "        vertical-align: middle;\n",
       "    }\n",
       "\n",
       "    .dataframe tbody tr th {\n",
       "        vertical-align: top;\n",
       "    }\n",
       "\n",
       "    .dataframe thead th {\n",
       "        text-align: right;\n",
       "    }\n",
       "</style>\n",
       "<table border=\"1\" class=\"dataframe\">\n",
       "  <thead>\n",
       "    <tr style=\"text-align: right;\">\n",
       "      <th></th>\n",
       "      <th>time_left</th>\n",
       "      <th>ct_score</th>\n",
       "      <th>t_score</th>\n",
       "      <th>map</th>\n",
       "      <th>bomb_planted</th>\n",
       "      <th>ct_health</th>\n",
       "      <th>t_health</th>\n",
       "      <th>ct_armor</th>\n",
       "      <th>t_armor</th>\n",
       "      <th>ct_money</th>\n",
       "      <th>...</th>\n",
       "      <th>t_grenade_flashbang</th>\n",
       "      <th>ct_grenade_smokegrenade</th>\n",
       "      <th>t_grenade_smokegrenade</th>\n",
       "      <th>ct_grenade_incendiarygrenade</th>\n",
       "      <th>t_grenade_incendiarygrenade</th>\n",
       "      <th>ct_grenade_molotovgrenade</th>\n",
       "      <th>t_grenade_molotovgrenade</th>\n",
       "      <th>ct_grenade_decoygrenade</th>\n",
       "      <th>t_grenade_decoygrenade</th>\n",
       "      <th>round_winner</th>\n",
       "    </tr>\n",
       "  </thead>\n",
       "  <tbody>\n",
       "    <tr>\n",
       "      <th>0</th>\n",
       "      <td>175.00</td>\n",
       "      <td>0.0</td>\n",
       "      <td>0.0</td>\n",
       "      <td>de_dust2</td>\n",
       "      <td>False</td>\n",
       "      <td>500.0</td>\n",
       "      <td>500.0</td>\n",
       "      <td>0.0</td>\n",
       "      <td>0.0</td>\n",
       "      <td>4000.0</td>\n",
       "      <td>...</td>\n",
       "      <td>0.0</td>\n",
       "      <td>0.0</td>\n",
       "      <td>0.0</td>\n",
       "      <td>0.0</td>\n",
       "      <td>0.0</td>\n",
       "      <td>0.0</td>\n",
       "      <td>0.0</td>\n",
       "      <td>0.0</td>\n",
       "      <td>0.0</td>\n",
       "      <td>1</td>\n",
       "    </tr>\n",
       "    <tr>\n",
       "      <th>1</th>\n",
       "      <td>156.03</td>\n",
       "      <td>0.0</td>\n",
       "      <td>0.0</td>\n",
       "      <td>de_dust2</td>\n",
       "      <td>False</td>\n",
       "      <td>500.0</td>\n",
       "      <td>500.0</td>\n",
       "      <td>400.0</td>\n",
       "      <td>300.0</td>\n",
       "      <td>600.0</td>\n",
       "      <td>...</td>\n",
       "      <td>0.0</td>\n",
       "      <td>0.0</td>\n",
       "      <td>2.0</td>\n",
       "      <td>0.0</td>\n",
       "      <td>0.0</td>\n",
       "      <td>0.0</td>\n",
       "      <td>0.0</td>\n",
       "      <td>0.0</td>\n",
       "      <td>0.0</td>\n",
       "      <td>1</td>\n",
       "    </tr>\n",
       "    <tr>\n",
       "      <th>2</th>\n",
       "      <td>96.03</td>\n",
       "      <td>0.0</td>\n",
       "      <td>0.0</td>\n",
       "      <td>de_dust2</td>\n",
       "      <td>False</td>\n",
       "      <td>391.0</td>\n",
       "      <td>400.0</td>\n",
       "      <td>294.0</td>\n",
       "      <td>200.0</td>\n",
       "      <td>750.0</td>\n",
       "      <td>...</td>\n",
       "      <td>0.0</td>\n",
       "      <td>0.0</td>\n",
       "      <td>2.0</td>\n",
       "      <td>0.0</td>\n",
       "      <td>0.0</td>\n",
       "      <td>0.0</td>\n",
       "      <td>0.0</td>\n",
       "      <td>0.0</td>\n",
       "      <td>0.0</td>\n",
       "      <td>1</td>\n",
       "    </tr>\n",
       "    <tr>\n",
       "      <th>3</th>\n",
       "      <td>76.03</td>\n",
       "      <td>0.0</td>\n",
       "      <td>0.0</td>\n",
       "      <td>de_dust2</td>\n",
       "      <td>False</td>\n",
       "      <td>391.0</td>\n",
       "      <td>400.0</td>\n",
       "      <td>294.0</td>\n",
       "      <td>200.0</td>\n",
       "      <td>750.0</td>\n",
       "      <td>...</td>\n",
       "      <td>0.0</td>\n",
       "      <td>0.0</td>\n",
       "      <td>0.0</td>\n",
       "      <td>0.0</td>\n",
       "      <td>0.0</td>\n",
       "      <td>0.0</td>\n",
       "      <td>0.0</td>\n",
       "      <td>0.0</td>\n",
       "      <td>0.0</td>\n",
       "      <td>1</td>\n",
       "    </tr>\n",
       "    <tr>\n",
       "      <th>4</th>\n",
       "      <td>174.97</td>\n",
       "      <td>1.0</td>\n",
       "      <td>0.0</td>\n",
       "      <td>de_dust2</td>\n",
       "      <td>False</td>\n",
       "      <td>500.0</td>\n",
       "      <td>500.0</td>\n",
       "      <td>192.0</td>\n",
       "      <td>0.0</td>\n",
       "      <td>18350.0</td>\n",
       "      <td>...</td>\n",
       "      <td>0.0</td>\n",
       "      <td>0.0</td>\n",
       "      <td>0.0</td>\n",
       "      <td>0.0</td>\n",
       "      <td>0.0</td>\n",
       "      <td>0.0</td>\n",
       "      <td>0.0</td>\n",
       "      <td>0.0</td>\n",
       "      <td>0.0</td>\n",
       "      <td>1</td>\n",
       "    </tr>\n",
       "    <tr>\n",
       "      <th>...</th>\n",
       "      <td>...</td>\n",
       "      <td>...</td>\n",
       "      <td>...</td>\n",
       "      <td>...</td>\n",
       "      <td>...</td>\n",
       "      <td>...</td>\n",
       "      <td>...</td>\n",
       "      <td>...</td>\n",
       "      <td>...</td>\n",
       "      <td>...</td>\n",
       "      <td>...</td>\n",
       "      <td>...</td>\n",
       "      <td>...</td>\n",
       "      <td>...</td>\n",
       "      <td>...</td>\n",
       "      <td>...</td>\n",
       "      <td>...</td>\n",
       "      <td>...</td>\n",
       "      <td>...</td>\n",
       "      <td>...</td>\n",
       "      <td>...</td>\n",
       "    </tr>\n",
       "    <tr>\n",
       "      <th>122405</th>\n",
       "      <td>15.41</td>\n",
       "      <td>11.0</td>\n",
       "      <td>14.0</td>\n",
       "      <td>de_train</td>\n",
       "      <td>True</td>\n",
       "      <td>200.0</td>\n",
       "      <td>242.0</td>\n",
       "      <td>195.0</td>\n",
       "      <td>359.0</td>\n",
       "      <td>100.0</td>\n",
       "      <td>...</td>\n",
       "      <td>2.0</td>\n",
       "      <td>1.0</td>\n",
       "      <td>1.0</td>\n",
       "      <td>0.0</td>\n",
       "      <td>0.0</td>\n",
       "      <td>0.0</td>\n",
       "      <td>0.0</td>\n",
       "      <td>0.0</td>\n",
       "      <td>0.0</td>\n",
       "      <td>0</td>\n",
       "    </tr>\n",
       "    <tr>\n",
       "      <th>122406</th>\n",
       "      <td>174.93</td>\n",
       "      <td>11.0</td>\n",
       "      <td>15.0</td>\n",
       "      <td>de_train</td>\n",
       "      <td>False</td>\n",
       "      <td>500.0</td>\n",
       "      <td>500.0</td>\n",
       "      <td>95.0</td>\n",
       "      <td>175.0</td>\n",
       "      <td>11500.0</td>\n",
       "      <td>...</td>\n",
       "      <td>2.0</td>\n",
       "      <td>1.0</td>\n",
       "      <td>0.0</td>\n",
       "      <td>0.0</td>\n",
       "      <td>0.0</td>\n",
       "      <td>0.0</td>\n",
       "      <td>0.0</td>\n",
       "      <td>0.0</td>\n",
       "      <td>0.0</td>\n",
       "      <td>0</td>\n",
       "    </tr>\n",
       "    <tr>\n",
       "      <th>122407</th>\n",
       "      <td>114.93</td>\n",
       "      <td>11.0</td>\n",
       "      <td>15.0</td>\n",
       "      <td>de_train</td>\n",
       "      <td>False</td>\n",
       "      <td>500.0</td>\n",
       "      <td>500.0</td>\n",
       "      <td>495.0</td>\n",
       "      <td>475.0</td>\n",
       "      <td>1200.0</td>\n",
       "      <td>...</td>\n",
       "      <td>4.0</td>\n",
       "      <td>3.0</td>\n",
       "      <td>5.0</td>\n",
       "      <td>1.0</td>\n",
       "      <td>0.0</td>\n",
       "      <td>0.0</td>\n",
       "      <td>5.0</td>\n",
       "      <td>0.0</td>\n",
       "      <td>0.0</td>\n",
       "      <td>0</td>\n",
       "    </tr>\n",
       "    <tr>\n",
       "      <th>122408</th>\n",
       "      <td>94.93</td>\n",
       "      <td>11.0</td>\n",
       "      <td>15.0</td>\n",
       "      <td>de_train</td>\n",
       "      <td>False</td>\n",
       "      <td>500.0</td>\n",
       "      <td>500.0</td>\n",
       "      <td>495.0</td>\n",
       "      <td>475.0</td>\n",
       "      <td>1200.0</td>\n",
       "      <td>...</td>\n",
       "      <td>5.0</td>\n",
       "      <td>0.0</td>\n",
       "      <td>3.0</td>\n",
       "      <td>0.0</td>\n",
       "      <td>0.0</td>\n",
       "      <td>0.0</td>\n",
       "      <td>4.0</td>\n",
       "      <td>0.0</td>\n",
       "      <td>0.0</td>\n",
       "      <td>0</td>\n",
       "    </tr>\n",
       "    <tr>\n",
       "      <th>122409</th>\n",
       "      <td>74.93</td>\n",
       "      <td>11.0</td>\n",
       "      <td>15.0</td>\n",
       "      <td>de_train</td>\n",
       "      <td>False</td>\n",
       "      <td>375.0</td>\n",
       "      <td>479.0</td>\n",
       "      <td>395.0</td>\n",
       "      <td>466.0</td>\n",
       "      <td>1100.0</td>\n",
       "      <td>...</td>\n",
       "      <td>3.0</td>\n",
       "      <td>0.0</td>\n",
       "      <td>2.0</td>\n",
       "      <td>0.0</td>\n",
       "      <td>0.0</td>\n",
       "      <td>0.0</td>\n",
       "      <td>3.0</td>\n",
       "      <td>0.0</td>\n",
       "      <td>0.0</td>\n",
       "      <td>0</td>\n",
       "    </tr>\n",
       "  </tbody>\n",
       "</table>\n",
       "<p>122410 rows × 97 columns</p>\n",
       "</div>"
      ],
      "text/plain": [
       "        time_left  ct_score  t_score       map  bomb_planted  ct_health  \\\n",
       "0          175.00       0.0      0.0  de_dust2         False      500.0   \n",
       "1          156.03       0.0      0.0  de_dust2         False      500.0   \n",
       "2           96.03       0.0      0.0  de_dust2         False      391.0   \n",
       "3           76.03       0.0      0.0  de_dust2         False      391.0   \n",
       "4          174.97       1.0      0.0  de_dust2         False      500.0   \n",
       "...           ...       ...      ...       ...           ...        ...   \n",
       "122405      15.41      11.0     14.0  de_train          True      200.0   \n",
       "122406     174.93      11.0     15.0  de_train         False      500.0   \n",
       "122407     114.93      11.0     15.0  de_train         False      500.0   \n",
       "122408      94.93      11.0     15.0  de_train         False      500.0   \n",
       "122409      74.93      11.0     15.0  de_train         False      375.0   \n",
       "\n",
       "        t_health  ct_armor  t_armor  ct_money  ...  t_grenade_flashbang  \\\n",
       "0          500.0       0.0      0.0    4000.0  ...                  0.0   \n",
       "1          500.0     400.0    300.0     600.0  ...                  0.0   \n",
       "2          400.0     294.0    200.0     750.0  ...                  0.0   \n",
       "3          400.0     294.0    200.0     750.0  ...                  0.0   \n",
       "4          500.0     192.0      0.0   18350.0  ...                  0.0   \n",
       "...          ...       ...      ...       ...  ...                  ...   \n",
       "122405     242.0     195.0    359.0     100.0  ...                  2.0   \n",
       "122406     500.0      95.0    175.0   11500.0  ...                  2.0   \n",
       "122407     500.0     495.0    475.0    1200.0  ...                  4.0   \n",
       "122408     500.0     495.0    475.0    1200.0  ...                  5.0   \n",
       "122409     479.0     395.0    466.0    1100.0  ...                  3.0   \n",
       "\n",
       "        ct_grenade_smokegrenade  t_grenade_smokegrenade  \\\n",
       "0                           0.0                     0.0   \n",
       "1                           0.0                     2.0   \n",
       "2                           0.0                     2.0   \n",
       "3                           0.0                     0.0   \n",
       "4                           0.0                     0.0   \n",
       "...                         ...                     ...   \n",
       "122405                      1.0                     1.0   \n",
       "122406                      1.0                     0.0   \n",
       "122407                      3.0                     5.0   \n",
       "122408                      0.0                     3.0   \n",
       "122409                      0.0                     2.0   \n",
       "\n",
       "        ct_grenade_incendiarygrenade  t_grenade_incendiarygrenade  \\\n",
       "0                                0.0                          0.0   \n",
       "1                                0.0                          0.0   \n",
       "2                                0.0                          0.0   \n",
       "3                                0.0                          0.0   \n",
       "4                                0.0                          0.0   \n",
       "...                              ...                          ...   \n",
       "122405                           0.0                          0.0   \n",
       "122406                           0.0                          0.0   \n",
       "122407                           1.0                          0.0   \n",
       "122408                           0.0                          0.0   \n",
       "122409                           0.0                          0.0   \n",
       "\n",
       "        ct_grenade_molotovgrenade  t_grenade_molotovgrenade  \\\n",
       "0                             0.0                       0.0   \n",
       "1                             0.0                       0.0   \n",
       "2                             0.0                       0.0   \n",
       "3                             0.0                       0.0   \n",
       "4                             0.0                       0.0   \n",
       "...                           ...                       ...   \n",
       "122405                        0.0                       0.0   \n",
       "122406                        0.0                       0.0   \n",
       "122407                        0.0                       5.0   \n",
       "122408                        0.0                       4.0   \n",
       "122409                        0.0                       3.0   \n",
       "\n",
       "        ct_grenade_decoygrenade  t_grenade_decoygrenade  round_winner  \n",
       "0                           0.0                     0.0             1  \n",
       "1                           0.0                     0.0             1  \n",
       "2                           0.0                     0.0             1  \n",
       "3                           0.0                     0.0             1  \n",
       "4                           0.0                     0.0             1  \n",
       "...                         ...                     ...           ...  \n",
       "122405                      0.0                     0.0             0  \n",
       "122406                      0.0                     0.0             0  \n",
       "122407                      0.0                     0.0             0  \n",
       "122408                      0.0                     0.0             0  \n",
       "122409                      0.0                     0.0             0  \n",
       "\n",
       "[122410 rows x 97 columns]"
      ]
     },
     "execution_count": 9,
     "metadata": {},
     "output_type": "execute_result"
    }
   ],
   "source": [
    "data"
   ]
  },
  {
   "cell_type": "code",
   "execution_count": 8,
   "metadata": {
    "colab": {
     "base_uri": "https://localhost:8080/",
     "height": 280
    },
    "colab_type": "code",
    "hideCode": false,
    "hidePrompt": false,
    "id": "rKcgywXRZDS8",
    "outputId": "915484d7-65a3-4653-8d7a-02256f6a840b"
   },
   "outputs": [],
   "source": [
    "# Our target feature is 'round_winner', replace the labels\n",
    "# 'CT' and 'T' in the data for '1' and '0'\n",
    "target = 'round_winner'\n",
    "data[target] = data[target].replace({'CT': 1, 'T':0})"
   ]
  },
  {
   "cell_type": "markdown",
   "metadata": {
    "colab_type": "text",
    "hideCode": false,
    "hidePrompt": false,
    "id": "ojbjIJHbZDS-"
   },
   "source": [
    "# Data Preparation <font color=red>ALBIN AND JORGE</font>\n",
    "\n",
    "Check for NA, not relevant variables, outliers, scale numerical variables"
   ]
  },
  {
   "cell_type": "code",
   "execution_count": 15,
   "metadata": {
    "scrolled": true
   },
   "outputs": [
    {
     "data": {
      "text/html": [
       "<div>\n",
       "<style scoped>\n",
       "    .dataframe tbody tr th:only-of-type {\n",
       "        vertical-align: middle;\n",
       "    }\n",
       "\n",
       "    .dataframe tbody tr th {\n",
       "        vertical-align: top;\n",
       "    }\n",
       "\n",
       "    .dataframe thead th {\n",
       "        text-align: right;\n",
       "    }\n",
       "</style>\n",
       "<table border=\"1\" class=\"dataframe\">\n",
       "  <thead>\n",
       "    <tr style=\"text-align: right;\">\n",
       "      <th></th>\n",
       "      <th>time_left</th>\n",
       "      <th>ct_score</th>\n",
       "      <th>t_score</th>\n",
       "      <th>map</th>\n",
       "      <th>bomb_planted</th>\n",
       "      <th>ct_health</th>\n",
       "      <th>t_health</th>\n",
       "      <th>ct_armor</th>\n",
       "      <th>t_armor</th>\n",
       "      <th>ct_money</th>\n",
       "      <th>...</th>\n",
       "      <th>t_grenade_flashbang</th>\n",
       "      <th>ct_grenade_smokegrenade</th>\n",
       "      <th>t_grenade_smokegrenade</th>\n",
       "      <th>ct_grenade_incendiarygrenade</th>\n",
       "      <th>t_grenade_incendiarygrenade</th>\n",
       "      <th>ct_grenade_molotovgrenade</th>\n",
       "      <th>t_grenade_molotovgrenade</th>\n",
       "      <th>ct_grenade_decoygrenade</th>\n",
       "      <th>t_grenade_decoygrenade</th>\n",
       "      <th>round_winner</th>\n",
       "    </tr>\n",
       "  </thead>\n",
       "  <tbody>\n",
       "    <tr>\n",
       "      <th>0</th>\n",
       "      <td>175.00</td>\n",
       "      <td>0.0</td>\n",
       "      <td>0.0</td>\n",
       "      <td>de_dust2</td>\n",
       "      <td>False</td>\n",
       "      <td>500.0</td>\n",
       "      <td>500.0</td>\n",
       "      <td>0.0</td>\n",
       "      <td>0.0</td>\n",
       "      <td>4000.0</td>\n",
       "      <td>...</td>\n",
       "      <td>0.0</td>\n",
       "      <td>0.0</td>\n",
       "      <td>0.0</td>\n",
       "      <td>0.0</td>\n",
       "      <td>0.0</td>\n",
       "      <td>0.0</td>\n",
       "      <td>0.0</td>\n",
       "      <td>0.0</td>\n",
       "      <td>0.0</td>\n",
       "      <td>CT</td>\n",
       "    </tr>\n",
       "    <tr>\n",
       "      <th>1</th>\n",
       "      <td>156.03</td>\n",
       "      <td>0.0</td>\n",
       "      <td>0.0</td>\n",
       "      <td>de_dust2</td>\n",
       "      <td>False</td>\n",
       "      <td>500.0</td>\n",
       "      <td>500.0</td>\n",
       "      <td>400.0</td>\n",
       "      <td>300.0</td>\n",
       "      <td>600.0</td>\n",
       "      <td>...</td>\n",
       "      <td>0.0</td>\n",
       "      <td>0.0</td>\n",
       "      <td>2.0</td>\n",
       "      <td>0.0</td>\n",
       "      <td>0.0</td>\n",
       "      <td>0.0</td>\n",
       "      <td>0.0</td>\n",
       "      <td>0.0</td>\n",
       "      <td>0.0</td>\n",
       "      <td>CT</td>\n",
       "    </tr>\n",
       "    <tr>\n",
       "      <th>2</th>\n",
       "      <td>96.03</td>\n",
       "      <td>0.0</td>\n",
       "      <td>0.0</td>\n",
       "      <td>de_dust2</td>\n",
       "      <td>False</td>\n",
       "      <td>391.0</td>\n",
       "      <td>400.0</td>\n",
       "      <td>294.0</td>\n",
       "      <td>200.0</td>\n",
       "      <td>750.0</td>\n",
       "      <td>...</td>\n",
       "      <td>0.0</td>\n",
       "      <td>0.0</td>\n",
       "      <td>2.0</td>\n",
       "      <td>0.0</td>\n",
       "      <td>0.0</td>\n",
       "      <td>0.0</td>\n",
       "      <td>0.0</td>\n",
       "      <td>0.0</td>\n",
       "      <td>0.0</td>\n",
       "      <td>CT</td>\n",
       "    </tr>\n",
       "    <tr>\n",
       "      <th>3</th>\n",
       "      <td>76.03</td>\n",
       "      <td>0.0</td>\n",
       "      <td>0.0</td>\n",
       "      <td>de_dust2</td>\n",
       "      <td>False</td>\n",
       "      <td>391.0</td>\n",
       "      <td>400.0</td>\n",
       "      <td>294.0</td>\n",
       "      <td>200.0</td>\n",
       "      <td>750.0</td>\n",
       "      <td>...</td>\n",
       "      <td>0.0</td>\n",
       "      <td>0.0</td>\n",
       "      <td>0.0</td>\n",
       "      <td>0.0</td>\n",
       "      <td>0.0</td>\n",
       "      <td>0.0</td>\n",
       "      <td>0.0</td>\n",
       "      <td>0.0</td>\n",
       "      <td>0.0</td>\n",
       "      <td>CT</td>\n",
       "    </tr>\n",
       "    <tr>\n",
       "      <th>4</th>\n",
       "      <td>174.97</td>\n",
       "      <td>1.0</td>\n",
       "      <td>0.0</td>\n",
       "      <td>de_dust2</td>\n",
       "      <td>False</td>\n",
       "      <td>500.0</td>\n",
       "      <td>500.0</td>\n",
       "      <td>192.0</td>\n",
       "      <td>0.0</td>\n",
       "      <td>18350.0</td>\n",
       "      <td>...</td>\n",
       "      <td>0.0</td>\n",
       "      <td>0.0</td>\n",
       "      <td>0.0</td>\n",
       "      <td>0.0</td>\n",
       "      <td>0.0</td>\n",
       "      <td>0.0</td>\n",
       "      <td>0.0</td>\n",
       "      <td>0.0</td>\n",
       "      <td>0.0</td>\n",
       "      <td>CT</td>\n",
       "    </tr>\n",
       "    <tr>\n",
       "      <th>5</th>\n",
       "      <td>114.97</td>\n",
       "      <td>1.0</td>\n",
       "      <td>0.0</td>\n",
       "      <td>de_dust2</td>\n",
       "      <td>False</td>\n",
       "      <td>500.0</td>\n",
       "      <td>500.0</td>\n",
       "      <td>500.0</td>\n",
       "      <td>0.0</td>\n",
       "      <td>1750.0</td>\n",
       "      <td>...</td>\n",
       "      <td>0.0</td>\n",
       "      <td>3.0</td>\n",
       "      <td>0.0</td>\n",
       "      <td>1.0</td>\n",
       "      <td>0.0</td>\n",
       "      <td>0.0</td>\n",
       "      <td>0.0</td>\n",
       "      <td>0.0</td>\n",
       "      <td>0.0</td>\n",
       "      <td>CT</td>\n",
       "    </tr>\n",
       "    <tr>\n",
       "      <th>6</th>\n",
       "      <td>94.97</td>\n",
       "      <td>1.0</td>\n",
       "      <td>0.0</td>\n",
       "      <td>de_dust2</td>\n",
       "      <td>False</td>\n",
       "      <td>295.0</td>\n",
       "      <td>111.0</td>\n",
       "      <td>296.0</td>\n",
       "      <td>0.0</td>\n",
       "      <td>1700.0</td>\n",
       "      <td>...</td>\n",
       "      <td>0.0</td>\n",
       "      <td>1.0</td>\n",
       "      <td>0.0</td>\n",
       "      <td>0.0</td>\n",
       "      <td>0.0</td>\n",
       "      <td>0.0</td>\n",
       "      <td>0.0</td>\n",
       "      <td>0.0</td>\n",
       "      <td>0.0</td>\n",
       "      <td>CT</td>\n",
       "    </tr>\n",
       "    <tr>\n",
       "      <th>7</th>\n",
       "      <td>74.97</td>\n",
       "      <td>1.0</td>\n",
       "      <td>0.0</td>\n",
       "      <td>de_dust2</td>\n",
       "      <td>False</td>\n",
       "      <td>295.0</td>\n",
       "      <td>111.0</td>\n",
       "      <td>296.0</td>\n",
       "      <td>0.0</td>\n",
       "      <td>1700.0</td>\n",
       "      <td>...</td>\n",
       "      <td>0.0</td>\n",
       "      <td>1.0</td>\n",
       "      <td>0.0</td>\n",
       "      <td>0.0</td>\n",
       "      <td>0.0</td>\n",
       "      <td>0.0</td>\n",
       "      <td>0.0</td>\n",
       "      <td>0.0</td>\n",
       "      <td>0.0</td>\n",
       "      <td>CT</td>\n",
       "    </tr>\n",
       "    <tr>\n",
       "      <th>8</th>\n",
       "      <td>54.97</td>\n",
       "      <td>1.0</td>\n",
       "      <td>0.0</td>\n",
       "      <td>de_dust2</td>\n",
       "      <td>False</td>\n",
       "      <td>249.0</td>\n",
       "      <td>89.0</td>\n",
       "      <td>269.0</td>\n",
       "      <td>0.0</td>\n",
       "      <td>2300.0</td>\n",
       "      <td>...</td>\n",
       "      <td>0.0</td>\n",
       "      <td>1.0</td>\n",
       "      <td>0.0</td>\n",
       "      <td>0.0</td>\n",
       "      <td>0.0</td>\n",
       "      <td>0.0</td>\n",
       "      <td>0.0</td>\n",
       "      <td>0.0</td>\n",
       "      <td>0.0</td>\n",
       "      <td>CT</td>\n",
       "    </tr>\n",
       "    <tr>\n",
       "      <th>9</th>\n",
       "      <td>174.97</td>\n",
       "      <td>2.0</td>\n",
       "      <td>0.0</td>\n",
       "      <td>de_dust2</td>\n",
       "      <td>False</td>\n",
       "      <td>500.0</td>\n",
       "      <td>500.0</td>\n",
       "      <td>196.0</td>\n",
       "      <td>0.0</td>\n",
       "      <td>19800.0</td>\n",
       "      <td>...</td>\n",
       "      <td>0.0</td>\n",
       "      <td>1.0</td>\n",
       "      <td>0.0</td>\n",
       "      <td>0.0</td>\n",
       "      <td>0.0</td>\n",
       "      <td>0.0</td>\n",
       "      <td>0.0</td>\n",
       "      <td>0.0</td>\n",
       "      <td>0.0</td>\n",
       "      <td>CT</td>\n",
       "    </tr>\n",
       "  </tbody>\n",
       "</table>\n",
       "<p>10 rows × 97 columns</p>\n",
       "</div>"
      ],
      "text/plain": [
       "   time_left  ct_score  t_score       map  bomb_planted  ct_health  t_health  \\\n",
       "0     175.00       0.0      0.0  de_dust2         False      500.0     500.0   \n",
       "1     156.03       0.0      0.0  de_dust2         False      500.0     500.0   \n",
       "2      96.03       0.0      0.0  de_dust2         False      391.0     400.0   \n",
       "3      76.03       0.0      0.0  de_dust2         False      391.0     400.0   \n",
       "4     174.97       1.0      0.0  de_dust2         False      500.0     500.0   \n",
       "5     114.97       1.0      0.0  de_dust2         False      500.0     500.0   \n",
       "6      94.97       1.0      0.0  de_dust2         False      295.0     111.0   \n",
       "7      74.97       1.0      0.0  de_dust2         False      295.0     111.0   \n",
       "8      54.97       1.0      0.0  de_dust2         False      249.0      89.0   \n",
       "9     174.97       2.0      0.0  de_dust2         False      500.0     500.0   \n",
       "\n",
       "   ct_armor  t_armor  ct_money  ...  t_grenade_flashbang  \\\n",
       "0       0.0      0.0    4000.0  ...                  0.0   \n",
       "1     400.0    300.0     600.0  ...                  0.0   \n",
       "2     294.0    200.0     750.0  ...                  0.0   \n",
       "3     294.0    200.0     750.0  ...                  0.0   \n",
       "4     192.0      0.0   18350.0  ...                  0.0   \n",
       "5     500.0      0.0    1750.0  ...                  0.0   \n",
       "6     296.0      0.0    1700.0  ...                  0.0   \n",
       "7     296.0      0.0    1700.0  ...                  0.0   \n",
       "8     269.0      0.0    2300.0  ...                  0.0   \n",
       "9     196.0      0.0   19800.0  ...                  0.0   \n",
       "\n",
       "   ct_grenade_smokegrenade  t_grenade_smokegrenade  \\\n",
       "0                      0.0                     0.0   \n",
       "1                      0.0                     2.0   \n",
       "2                      0.0                     2.0   \n",
       "3                      0.0                     0.0   \n",
       "4                      0.0                     0.0   \n",
       "5                      3.0                     0.0   \n",
       "6                      1.0                     0.0   \n",
       "7                      1.0                     0.0   \n",
       "8                      1.0                     0.0   \n",
       "9                      1.0                     0.0   \n",
       "\n",
       "   ct_grenade_incendiarygrenade  t_grenade_incendiarygrenade  \\\n",
       "0                           0.0                          0.0   \n",
       "1                           0.0                          0.0   \n",
       "2                           0.0                          0.0   \n",
       "3                           0.0                          0.0   \n",
       "4                           0.0                          0.0   \n",
       "5                           1.0                          0.0   \n",
       "6                           0.0                          0.0   \n",
       "7                           0.0                          0.0   \n",
       "8                           0.0                          0.0   \n",
       "9                           0.0                          0.0   \n",
       "\n",
       "   ct_grenade_molotovgrenade  t_grenade_molotovgrenade  \\\n",
       "0                        0.0                       0.0   \n",
       "1                        0.0                       0.0   \n",
       "2                        0.0                       0.0   \n",
       "3                        0.0                       0.0   \n",
       "4                        0.0                       0.0   \n",
       "5                        0.0                       0.0   \n",
       "6                        0.0                       0.0   \n",
       "7                        0.0                       0.0   \n",
       "8                        0.0                       0.0   \n",
       "9                        0.0                       0.0   \n",
       "\n",
       "   ct_grenade_decoygrenade  t_grenade_decoygrenade  round_winner  \n",
       "0                      0.0                     0.0            CT  \n",
       "1                      0.0                     0.0            CT  \n",
       "2                      0.0                     0.0            CT  \n",
       "3                      0.0                     0.0            CT  \n",
       "4                      0.0                     0.0            CT  \n",
       "5                      0.0                     0.0            CT  \n",
       "6                      0.0                     0.0            CT  \n",
       "7                      0.0                     0.0            CT  \n",
       "8                      0.0                     0.0            CT  \n",
       "9                      0.0                     0.0            CT  \n",
       "\n",
       "[10 rows x 97 columns]"
      ]
     },
     "execution_count": 15,
     "metadata": {},
     "output_type": "execute_result"
    }
   ],
   "source": [
    "data.head(10)"
   ]
  },
  {
   "cell_type": "markdown",
   "metadata": {
    "colab_type": "text",
    "hideCode": false,
    "hidePrompt": false,
    "id": "SD8HONykZDTB"
   },
   "source": [
    "WHAT to do with NA's. Then, scale numerical variables, and finally check if all categorical variables are correctly encoded."
   ]
  },
  {
   "cell_type": "code",
   "execution_count": 14,
   "metadata": {
    "colab": {
     "base_uri": "https://localhost:8080/",
     "height": 32
    },
    "colab_type": "code",
    "hideCode": false,
    "hidePrompt": false,
    "id": "vWCPc5gCZDTC",
    "outputId": "3d4919b0-f405-4b1c-a390-15338231f6c0"
   },
   "outputs": [
    {
     "name": "stdout",
     "output_type": "stream",
     "text": [
      "97 features have a median of 0 NAs\n"
     ]
    }
   ],
   "source": [
    "# Get the number of NAs per feature\n",
    "num_nas = []\n",
    "for feature in df.columns:\n",
    "    num_nas.append(df[feature].isna().sum())\n",
    "print(f'{len(df.columns)} features have a median of {math.floor(np.median(num_nas))} NAs')"
   ]
  },
  {
   "cell_type": "code",
   "execution_count": null,
   "metadata": {},
   "outputs": [],
   "source": [
    "#Check for outliers"
   ]
  },
  {
   "cell_type": "markdown",
   "metadata": {
    "colab_type": "text",
    "hideCode": false,
    "hidePrompt": false,
    "id": "J7G9F6fjZDTE"
   },
   "source": [
    "## Imputation and Scaling <font color=red>Imputation is not needed as it seems we have no NA</font>\n",
    "\n",
    "There are [several ways of imputing missing values](https://scikit-learn.org/stable/modules/impute.html#multivariate-feature-imputation). I'd like to use a multivariate approach, which is much better than univariate methods (imputing by the mean, etc.). To do so, I will use the methods available in `scikit-learn` library ([here](https://scikit-learn.org/stable/modules/impute.html#multivariate-feature-imputation)).\n",
    "\n",
    "<font color=red>Could be a good idea to split categorical and numerical features to work separately on them</font>"
   ]
  },
  {
   "cell_type": "code",
   "execution_count": 8,
   "metadata": {
    "colab": {},
    "colab_type": "code",
    "hideCode": false,
    "hidePrompt": false,
    "hide_input": false,
    "id": "5Hv5DS0tZDTF"
   },
   "outputs": [],
   "source": [
    "num_imputer = IterativeImputer(max_iter=10, random_state=0)\n",
    "num_feats = num_imputer.fit_transform(data.features[data.numerical_features].values)"
   ]
  },
  {
   "cell_type": "markdown",
   "metadata": {
    "colab_type": "text",
    "id": "Z3apyh7kZDTH"
   },
   "source": [
    "To perform imputaton on categorical variables, I decided to use a method provided by the library `sklearn_pandas` that implements a `CategoricalImputer`."
   ]
  },
  {
   "cell_type": "code",
   "execution_count": 9,
   "metadata": {
    "colab": {},
    "colab_type": "code",
    "id": "hPmlkl0tZDTI"
   },
   "outputs": [],
   "source": [
    "cat_imputer = CategoricalImputer()\n",
    "df = pd.DataFrame()\n",
    "for col in data.categorical_features_na:\n",
    "    df[col] = cat_imputer.fit_transform(data.features[col].values)\n",
    "ds = Dataset.from_dataframe(df)"
   ]
  },
  {
   "cell_type": "markdown",
   "metadata": {
    "colab_type": "text",
    "id": "ngpfTkniZDTK"
   },
   "source": [
    "Finally, the result of imputing both: numerical and categorical, is now merged together in a single Dataset (or you can also use a dataframe, if you prefer)."
   ]
  },
  {
   "cell_type": "code",
   "execution_count": 10,
   "metadata": {
    "colab": {},
    "colab_type": "code",
    "hideCode": false,
    "hidePrompt": false,
    "hide_input": false,
    "id": "VSa9CBBxZDTL",
    "scrolled": true
   },
   "outputs": [],
   "source": [
    "ds.add_columns(data.target)\n",
    "ds.set_target('band_type')\n",
    "\n",
    "# add the resulting imputed numerical features to the categorical imputed\n",
    "ds.add_columns(pd.DataFrame(num_feats, columns=data.numerical_features));"
   ]
  },
  {
   "cell_type": "markdown",
   "metadata": {
    "colab_type": "text",
    "id": "6rEODkPPZDTN"
   },
   "source": [
    "Scale all the numeric values, at this point."
   ]
  },
  {
   "cell_type": "code",
   "execution_count": 11,
   "metadata": {
    "colab": {},
    "colab_type": "code",
    "id": "J32xn7ARZDTN"
   },
   "outputs": [],
   "source": [
    "#Scale numeric variables"
   ]
  },
  {
   "cell_type": "markdown",
   "metadata": {
    "colab_type": "text",
    "id": "flVqyT5bZDTP"
   },
   "source": [
    "Now, my dataset is ready to be analyzed. Lots of categorical and numerical variables."
   ]
  },
  {
   "cell_type": "markdown",
   "metadata": {
    "colab_type": "text",
    "hideCode": false,
    "hidePrompt": false,
    "id": "-m3bwfd7ZDTP"
   },
   "source": [
    "# EDA <font color=red>NICOLAS AND DANIEL</font>\n",
    "\n"
   ]
  },
  {
   "cell_type": "code",
   "execution_count": 20,
   "metadata": {
    "colab": {
     "base_uri": "https://localhost:8080/",
     "height": 580
    },
    "colab_type": "code",
    "id": "NYwga4OpZDTQ",
    "outputId": "c4bfed14-d231-4485-c753-784828c907a0"
   },
   "outputs": [
    {
     "data": {
      "text/html": [
       "<div>\n",
       "<style scoped>\n",
       "    .dataframe tbody tr th:only-of-type {\n",
       "        vertical-align: middle;\n",
       "    }\n",
       "\n",
       "    .dataframe tbody tr th {\n",
       "        vertical-align: top;\n",
       "    }\n",
       "\n",
       "    .dataframe thead th {\n",
       "        text-align: right;\n",
       "    }\n",
       "</style>\n",
       "<table border=\"1\" class=\"dataframe\">\n",
       "  <thead>\n",
       "    <tr style=\"text-align: right;\">\n",
       "      <th></th>\n",
       "      <th>time_left</th>\n",
       "      <th>ct_score</th>\n",
       "      <th>t_score</th>\n",
       "      <th>map</th>\n",
       "      <th>bomb_planted</th>\n",
       "      <th>ct_health</th>\n",
       "      <th>t_health</th>\n",
       "      <th>ct_armor</th>\n",
       "      <th>t_armor</th>\n",
       "      <th>ct_money</th>\n",
       "      <th>...</th>\n",
       "      <th>t_grenade_flashbang</th>\n",
       "      <th>ct_grenade_smokegrenade</th>\n",
       "      <th>t_grenade_smokegrenade</th>\n",
       "      <th>ct_grenade_incendiarygrenade</th>\n",
       "      <th>t_grenade_incendiarygrenade</th>\n",
       "      <th>ct_grenade_molotovgrenade</th>\n",
       "      <th>t_grenade_molotovgrenade</th>\n",
       "      <th>ct_grenade_decoygrenade</th>\n",
       "      <th>t_grenade_decoygrenade</th>\n",
       "      <th>round_winner</th>\n",
       "    </tr>\n",
       "  </thead>\n",
       "  <tbody>\n",
       "    <tr>\n",
       "      <th>count</th>\n",
       "      <td>122410.000000</td>\n",
       "      <td>122410.000000</td>\n",
       "      <td>122410.000000</td>\n",
       "      <td>122410</td>\n",
       "      <td>122410</td>\n",
       "      <td>122410.000000</td>\n",
       "      <td>122410.000000</td>\n",
       "      <td>122410.000000</td>\n",
       "      <td>122410.000000</td>\n",
       "      <td>122410.000000</td>\n",
       "      <td>...</td>\n",
       "      <td>122410.000000</td>\n",
       "      <td>122410.000000</td>\n",
       "      <td>122410.000000</td>\n",
       "      <td>122410.000000</td>\n",
       "      <td>122410.000000</td>\n",
       "      <td>122410.000000</td>\n",
       "      <td>122410.000000</td>\n",
       "      <td>122410.000000</td>\n",
       "      <td>122410.000000</td>\n",
       "      <td>122410</td>\n",
       "    </tr>\n",
       "    <tr>\n",
       "      <th>unique</th>\n",
       "      <td>NaN</td>\n",
       "      <td>NaN</td>\n",
       "      <td>NaN</td>\n",
       "      <td>8</td>\n",
       "      <td>2</td>\n",
       "      <td>NaN</td>\n",
       "      <td>NaN</td>\n",
       "      <td>NaN</td>\n",
       "      <td>NaN</td>\n",
       "      <td>NaN</td>\n",
       "      <td>...</td>\n",
       "      <td>NaN</td>\n",
       "      <td>NaN</td>\n",
       "      <td>NaN</td>\n",
       "      <td>NaN</td>\n",
       "      <td>NaN</td>\n",
       "      <td>NaN</td>\n",
       "      <td>NaN</td>\n",
       "      <td>NaN</td>\n",
       "      <td>NaN</td>\n",
       "      <td>2</td>\n",
       "    </tr>\n",
       "    <tr>\n",
       "      <th>top</th>\n",
       "      <td>NaN</td>\n",
       "      <td>NaN</td>\n",
       "      <td>NaN</td>\n",
       "      <td>de_inferno</td>\n",
       "      <td>False</td>\n",
       "      <td>NaN</td>\n",
       "      <td>NaN</td>\n",
       "      <td>NaN</td>\n",
       "      <td>NaN</td>\n",
       "      <td>NaN</td>\n",
       "      <td>...</td>\n",
       "      <td>NaN</td>\n",
       "      <td>NaN</td>\n",
       "      <td>NaN</td>\n",
       "      <td>NaN</td>\n",
       "      <td>NaN</td>\n",
       "      <td>NaN</td>\n",
       "      <td>NaN</td>\n",
       "      <td>NaN</td>\n",
       "      <td>NaN</td>\n",
       "      <td>T</td>\n",
       "    </tr>\n",
       "    <tr>\n",
       "      <th>freq</th>\n",
       "      <td>NaN</td>\n",
       "      <td>NaN</td>\n",
       "      <td>NaN</td>\n",
       "      <td>23811</td>\n",
       "      <td>108726</td>\n",
       "      <td>NaN</td>\n",
       "      <td>NaN</td>\n",
       "      <td>NaN</td>\n",
       "      <td>NaN</td>\n",
       "      <td>NaN</td>\n",
       "      <td>...</td>\n",
       "      <td>NaN</td>\n",
       "      <td>NaN</td>\n",
       "      <td>NaN</td>\n",
       "      <td>NaN</td>\n",
       "      <td>NaN</td>\n",
       "      <td>NaN</td>\n",
       "      <td>NaN</td>\n",
       "      <td>NaN</td>\n",
       "      <td>NaN</td>\n",
       "      <td>62406</td>\n",
       "    </tr>\n",
       "    <tr>\n",
       "      <th>mean</th>\n",
       "      <td>97.886922</td>\n",
       "      <td>6.709239</td>\n",
       "      <td>6.780435</td>\n",
       "      <td>NaN</td>\n",
       "      <td>NaN</td>\n",
       "      <td>412.106568</td>\n",
       "      <td>402.714500</td>\n",
       "      <td>314.142121</td>\n",
       "      <td>298.444670</td>\n",
       "      <td>9789.023773</td>\n",
       "      <td>...</td>\n",
       "      <td>1.858100</td>\n",
       "      <td>1.540814</td>\n",
       "      <td>1.627146</td>\n",
       "      <td>1.001969</td>\n",
       "      <td>0.019819</td>\n",
       "      <td>0.048011</td>\n",
       "      <td>1.352095</td>\n",
       "      <td>0.027694</td>\n",
       "      <td>0.025750</td>\n",
       "      <td>NaN</td>\n",
       "    </tr>\n",
       "    <tr>\n",
       "      <th>std</th>\n",
       "      <td>54.465238</td>\n",
       "      <td>4.790362</td>\n",
       "      <td>4.823543</td>\n",
       "      <td>NaN</td>\n",
       "      <td>NaN</td>\n",
       "      <td>132.293290</td>\n",
       "      <td>139.919033</td>\n",
       "      <td>171.029736</td>\n",
       "      <td>174.576545</td>\n",
       "      <td>11215.042286</td>\n",
       "      <td>...</td>\n",
       "      <td>1.794473</td>\n",
       "      <td>1.737804</td>\n",
       "      <td>1.829147</td>\n",
       "      <td>1.458084</td>\n",
       "      <td>0.143933</td>\n",
       "      <td>0.227669</td>\n",
       "      <td>1.663246</td>\n",
       "      <td>0.169531</td>\n",
       "      <td>0.164162</td>\n",
       "      <td>NaN</td>\n",
       "    </tr>\n",
       "    <tr>\n",
       "      <th>min</th>\n",
       "      <td>0.010000</td>\n",
       "      <td>0.000000</td>\n",
       "      <td>0.000000</td>\n",
       "      <td>NaN</td>\n",
       "      <td>NaN</td>\n",
       "      <td>0.000000</td>\n",
       "      <td>0.000000</td>\n",
       "      <td>0.000000</td>\n",
       "      <td>0.000000</td>\n",
       "      <td>0.000000</td>\n",
       "      <td>...</td>\n",
       "      <td>0.000000</td>\n",
       "      <td>0.000000</td>\n",
       "      <td>0.000000</td>\n",
       "      <td>0.000000</td>\n",
       "      <td>0.000000</td>\n",
       "      <td>0.000000</td>\n",
       "      <td>0.000000</td>\n",
       "      <td>0.000000</td>\n",
       "      <td>0.000000</td>\n",
       "      <td>NaN</td>\n",
       "    </tr>\n",
       "    <tr>\n",
       "      <th>25%</th>\n",
       "      <td>54.920000</td>\n",
       "      <td>3.000000</td>\n",
       "      <td>3.000000</td>\n",
       "      <td>NaN</td>\n",
       "      <td>NaN</td>\n",
       "      <td>350.000000</td>\n",
       "      <td>322.000000</td>\n",
       "      <td>194.000000</td>\n",
       "      <td>174.000000</td>\n",
       "      <td>1300.000000</td>\n",
       "      <td>...</td>\n",
       "      <td>0.000000</td>\n",
       "      <td>0.000000</td>\n",
       "      <td>0.000000</td>\n",
       "      <td>0.000000</td>\n",
       "      <td>0.000000</td>\n",
       "      <td>0.000000</td>\n",
       "      <td>0.000000</td>\n",
       "      <td>0.000000</td>\n",
       "      <td>0.000000</td>\n",
       "      <td>NaN</td>\n",
       "    </tr>\n",
       "    <tr>\n",
       "      <th>50%</th>\n",
       "      <td>94.910000</td>\n",
       "      <td>6.000000</td>\n",
       "      <td>6.000000</td>\n",
       "      <td>NaN</td>\n",
       "      <td>NaN</td>\n",
       "      <td>500.000000</td>\n",
       "      <td>500.000000</td>\n",
       "      <td>377.000000</td>\n",
       "      <td>334.000000</td>\n",
       "      <td>5500.000000</td>\n",
       "      <td>...</td>\n",
       "      <td>1.000000</td>\n",
       "      <td>1.000000</td>\n",
       "      <td>1.000000</td>\n",
       "      <td>0.000000</td>\n",
       "      <td>0.000000</td>\n",
       "      <td>0.000000</td>\n",
       "      <td>1.000000</td>\n",
       "      <td>0.000000</td>\n",
       "      <td>0.000000</td>\n",
       "      <td>NaN</td>\n",
       "    </tr>\n",
       "    <tr>\n",
       "      <th>75%</th>\n",
       "      <td>166.917500</td>\n",
       "      <td>10.000000</td>\n",
       "      <td>10.000000</td>\n",
       "      <td>NaN</td>\n",
       "      <td>NaN</td>\n",
       "      <td>500.000000</td>\n",
       "      <td>500.000000</td>\n",
       "      <td>486.000000</td>\n",
       "      <td>468.000000</td>\n",
       "      <td>14600.000000</td>\n",
       "      <td>...</td>\n",
       "      <td>3.000000</td>\n",
       "      <td>3.000000</td>\n",
       "      <td>3.000000</td>\n",
       "      <td>2.000000</td>\n",
       "      <td>0.000000</td>\n",
       "      <td>0.000000</td>\n",
       "      <td>2.000000</td>\n",
       "      <td>0.000000</td>\n",
       "      <td>0.000000</td>\n",
       "      <td>NaN</td>\n",
       "    </tr>\n",
       "    <tr>\n",
       "      <th>max</th>\n",
       "      <td>175.000000</td>\n",
       "      <td>32.000000</td>\n",
       "      <td>33.000000</td>\n",
       "      <td>NaN</td>\n",
       "      <td>NaN</td>\n",
       "      <td>500.000000</td>\n",
       "      <td>600.000000</td>\n",
       "      <td>500.000000</td>\n",
       "      <td>500.000000</td>\n",
       "      <td>80000.000000</td>\n",
       "      <td>...</td>\n",
       "      <td>7.000000</td>\n",
       "      <td>6.000000</td>\n",
       "      <td>9.000000</td>\n",
       "      <td>5.000000</td>\n",
       "      <td>3.000000</td>\n",
       "      <td>3.000000</td>\n",
       "      <td>5.000000</td>\n",
       "      <td>3.000000</td>\n",
       "      <td>2.000000</td>\n",
       "      <td>NaN</td>\n",
       "    </tr>\n",
       "  </tbody>\n",
       "</table>\n",
       "<p>11 rows × 97 columns</p>\n",
       "</div>"
      ],
      "text/plain": [
       "            time_left       ct_score        t_score         map bomb_planted  \\\n",
       "count   122410.000000  122410.000000  122410.000000      122410       122410   \n",
       "unique            NaN            NaN            NaN           8            2   \n",
       "top               NaN            NaN            NaN  de_inferno        False   \n",
       "freq              NaN            NaN            NaN       23811       108726   \n",
       "mean        97.886922       6.709239       6.780435         NaN          NaN   \n",
       "std         54.465238       4.790362       4.823543         NaN          NaN   \n",
       "min          0.010000       0.000000       0.000000         NaN          NaN   \n",
       "25%         54.920000       3.000000       3.000000         NaN          NaN   \n",
       "50%         94.910000       6.000000       6.000000         NaN          NaN   \n",
       "75%        166.917500      10.000000      10.000000         NaN          NaN   \n",
       "max        175.000000      32.000000      33.000000         NaN          NaN   \n",
       "\n",
       "            ct_health       t_health       ct_armor        t_armor  \\\n",
       "count   122410.000000  122410.000000  122410.000000  122410.000000   \n",
       "unique            NaN            NaN            NaN            NaN   \n",
       "top               NaN            NaN            NaN            NaN   \n",
       "freq              NaN            NaN            NaN            NaN   \n",
       "mean       412.106568     402.714500     314.142121     298.444670   \n",
       "std        132.293290     139.919033     171.029736     174.576545   \n",
       "min          0.000000       0.000000       0.000000       0.000000   \n",
       "25%        350.000000     322.000000     194.000000     174.000000   \n",
       "50%        500.000000     500.000000     377.000000     334.000000   \n",
       "75%        500.000000     500.000000     486.000000     468.000000   \n",
       "max        500.000000     600.000000     500.000000     500.000000   \n",
       "\n",
       "             ct_money  ...  t_grenade_flashbang  ct_grenade_smokegrenade  \\\n",
       "count   122410.000000  ...        122410.000000            122410.000000   \n",
       "unique            NaN  ...                  NaN                      NaN   \n",
       "top               NaN  ...                  NaN                      NaN   \n",
       "freq              NaN  ...                  NaN                      NaN   \n",
       "mean      9789.023773  ...             1.858100                 1.540814   \n",
       "std      11215.042286  ...             1.794473                 1.737804   \n",
       "min          0.000000  ...             0.000000                 0.000000   \n",
       "25%       1300.000000  ...             0.000000                 0.000000   \n",
       "50%       5500.000000  ...             1.000000                 1.000000   \n",
       "75%      14600.000000  ...             3.000000                 3.000000   \n",
       "max      80000.000000  ...             7.000000                 6.000000   \n",
       "\n",
       "        t_grenade_smokegrenade  ct_grenade_incendiarygrenade  \\\n",
       "count            122410.000000                 122410.000000   \n",
       "unique                     NaN                           NaN   \n",
       "top                        NaN                           NaN   \n",
       "freq                       NaN                           NaN   \n",
       "mean                  1.627146                      1.001969   \n",
       "std                   1.829147                      1.458084   \n",
       "min                   0.000000                      0.000000   \n",
       "25%                   0.000000                      0.000000   \n",
       "50%                   1.000000                      0.000000   \n",
       "75%                   3.000000                      2.000000   \n",
       "max                   9.000000                      5.000000   \n",
       "\n",
       "        t_grenade_incendiarygrenade  ct_grenade_molotovgrenade  \\\n",
       "count                 122410.000000              122410.000000   \n",
       "unique                          NaN                        NaN   \n",
       "top                             NaN                        NaN   \n",
       "freq                            NaN                        NaN   \n",
       "mean                       0.019819                   0.048011   \n",
       "std                        0.143933                   0.227669   \n",
       "min                        0.000000                   0.000000   \n",
       "25%                        0.000000                   0.000000   \n",
       "50%                        0.000000                   0.000000   \n",
       "75%                        0.000000                   0.000000   \n",
       "max                        3.000000                   3.000000   \n",
       "\n",
       "        t_grenade_molotovgrenade  ct_grenade_decoygrenade  \\\n",
       "count              122410.000000            122410.000000   \n",
       "unique                       NaN                      NaN   \n",
       "top                          NaN                      NaN   \n",
       "freq                         NaN                      NaN   \n",
       "mean                    1.352095                 0.027694   \n",
       "std                     1.663246                 0.169531   \n",
       "min                     0.000000                 0.000000   \n",
       "25%                     0.000000                 0.000000   \n",
       "50%                     1.000000                 0.000000   \n",
       "75%                     2.000000                 0.000000   \n",
       "max                     5.000000                 3.000000   \n",
       "\n",
       "        t_grenade_decoygrenade  round_winner  \n",
       "count            122410.000000        122410  \n",
       "unique                     NaN             2  \n",
       "top                        NaN             T  \n",
       "freq                       NaN         62406  \n",
       "mean                  0.025750           NaN  \n",
       "std                   0.164162           NaN  \n",
       "min                   0.000000           NaN  \n",
       "25%                   0.000000           NaN  \n",
       "50%                   0.000000           NaN  \n",
       "75%                   0.000000           NaN  \n",
       "max                   2.000000           NaN  \n",
       "\n",
       "[11 rows x 97 columns]"
      ]
     },
     "execution_count": 20,
     "metadata": {},
     "output_type": "execute_result"
    }
   ],
   "source": [
    "df.describe(include = 'all')"
   ]
  },
  {
   "cell_type": "code",
   "execution_count": 1,
   "metadata": {},
   "outputs": [
    {
     "ename": "NameError",
     "evalue": "name 'df' is not defined",
     "output_type": "error",
     "traceback": [
      "\u001b[1;31m---------------------------------------------------------------------------\u001b[0m",
      "\u001b[1;31mNameError\u001b[0m                                 Traceback (most recent call last)",
      "\u001b[1;32m<ipython-input-1-c42a15b2c7cf>\u001b[0m in \u001b[0;36m<module>\u001b[1;34m\u001b[0m\n\u001b[1;32m----> 1\u001b[1;33m \u001b[0mdf\u001b[0m\u001b[1;33m.\u001b[0m\u001b[0mhead\u001b[0m\u001b[1;33m(\u001b[0m\u001b[1;33m)\u001b[0m\u001b[1;33m\u001b[0m\u001b[1;33m\u001b[0m\u001b[0m\n\u001b[0m",
      "\u001b[1;31mNameError\u001b[0m: name 'df' is not defined"
     ]
    }
   ],
   "source": [
    "df.head()"
   ]
  },
  {
   "cell_type": "markdown",
   "metadata": {
    "colab_type": "text",
    "hideCode": false,
    "hidePrompt": false,
    "id": "agscaiiaZDTS"
   },
   "source": [
    "I also want to know how may samples belong to the class '1' and how many to class '0', simply to check if the data set is balanced (you can see that YES, it is)."
   ]
  },
  {
   "cell_type": "code",
   "execution_count": 10,
   "metadata": {
    "colab": {
     "base_uri": "https://localhost:8080/",
     "height": 65
    },
    "colab_type": "code",
    "id": "Ydw4MnThZDTS",
    "outputId": "dd3089bd-73c8-436a-c918-92986a26fc31"
   },
   "outputs": [
    {
     "data": {
      "text/plain": [
       "0    62406\n",
       "1    60004\n",
       "Name: round_winner, dtype: int64"
      ]
     },
     "execution_count": 10,
     "metadata": {},
     "output_type": "execute_result"
    }
   ],
   "source": [
    "data[target].value_counts()"
   ]
  },
  {
   "cell_type": "markdown",
   "metadata": {
    "colab_type": "text",
    "hideCode": false,
    "hidePrompt": false,
    "id": "fTDXjtOnZDTU"
   },
   "source": [
    "Starting by knowing if there're underrepresented features: this is, values that are only present in a very small portion of the samples. "
   ]
  },
  {
   "cell_type": "code",
   "execution_count": 14,
   "metadata": {
    "colab": {
     "base_uri": "https://localhost:8080/",
     "height": 32
    },
    "colab_type": "code",
    "id": "SdNmJCMeZDTU",
    "outputId": "affdaef1-8223-4beb-a922-841230a9db25"
   },
   "outputs": [
    {
     "name": "stdout",
     "output_type": "stream",
     "text": [
      "['proof_on_ctd', 'blade_mfg', 'direct_steam', 'solvent_type']\n"
     ]
    }
   ],
   "source": [
    "#code "
   ]
  },
  {
   "cell_type": "markdown",
   "metadata": {
    "colab_type": "text",
    "id": "3F5bIZQfZDTW"
   },
   "source": [
    "Let's see what's the situation in the categories of those clases. I will simply count the number of unique values present at each of those columns (above):"
   ]
  },
  {
   "cell_type": "code",
   "execution_count": 15,
   "metadata": {
    "colab": {
     "base_uri": "https://localhost:8080/",
     "height": 378
    },
    "colab_type": "code",
    "id": "GW-DIJsbZDTW",
    "outputId": "9c54959e-9def-4b6d-8df6-6131bb7627e7"
   },
   "outputs": [
    {
     "name": "stdout",
     "output_type": "stream",
     "text": [
      "proof_on_ctd\n",
      "YES    517\n",
      "NO      22\n",
      "Name: proof_on_ctd, dtype: int64\n",
      "----\n",
      "blade_mfg\n",
      "BENTON      538\n",
      "UDDEHOLM      1\n",
      "Name: blade_mfg, dtype: int64\n",
      "----\n",
      "direct_steam\n",
      "NO     524\n",
      "no      13\n",
      "YES      2\n",
      "Name: direct_steam, dtype: int64\n",
      "----\n",
      "solvent_type\n",
      "LINE      522\n",
      "XYLOL      15\n",
      "NAPTHA      2\n",
      "Name: solvent_type, dtype: int64\n",
      "----\n"
     ]
    }
   ],
   "source": [
    "for col in under_repr:\n",
    "    print(col)\n",
    "    res = data[col].value_counts()\n",
    "    print(f'{res}\\n----')"
   ]
  },
  {
   "cell_type": "markdown",
   "metadata": {
    "colab_type": "text",
    "id": "fa9XrhgpZDTY"
   },
   "source": [
    "From that result, we will remove those features, as they are not very informative (a priori). You can also combine them into a single feature by merging the four of them."
   ]
  },
  {
   "cell_type": "code",
   "execution_count": 16,
   "metadata": {
    "colab": {},
    "colab_type": "code",
    "id": "MQROEA2jZDTY"
   },
   "outputs": [],
   "source": [
    "#Merge categories if needed"
   ]
  },
  {
   "cell_type": "markdown",
   "metadata": {
    "colab_type": "text",
    "id": "SC6PLepUZDTc"
   },
   "source": [
    "Let's take a look at the histograms of the numerical values."
   ]
  },
  {
   "cell_type": "code",
   "execution_count": 19,
   "metadata": {
    "colab": {
     "base_uri": "https://localhost:8080/",
     "height": 1000
    },
    "colab_type": "code",
    "id": "O7aDJ92hZDTd",
    "outputId": "f9b8eb0a-fbcf-4612-8010-6f3d3fa6569e"
   },
   "outputs": [
    {
     "name": "stderr",
     "output_type": "stream",
     "text": [
      "<string>:6: RuntimeWarning: Converting input from bool to <class 'numpy.uint8'> for compatibility.\n"
     ]
    },
    {
     "ename": "TypeError",
     "evalue": "numpy boolean subtract, the `-` operator, is not supported, use the bitwise_xor, the `^` operator, or the logical_xor function instead.",
     "output_type": "error",
     "traceback": [
      "\u001b[1;31m---------------------------------------------------------------------------\u001b[0m",
      "\u001b[1;31mKeyError\u001b[0m                                  Traceback (most recent call last)",
      "\u001b[1;32m~\\Anaconda3\\lib\\site-packages\\numpy\\lib\\histograms.py\u001b[0m in \u001b[0;36m_unsigned_subtract\u001b[1;34m(a, b)\u001b[0m\n\u001b[0;32m    353\u001b[0m     \u001b[1;32mtry\u001b[0m\u001b[1;33m:\u001b[0m\u001b[1;33m\u001b[0m\u001b[1;33m\u001b[0m\u001b[0m\n\u001b[1;32m--> 354\u001b[1;33m         \u001b[0mdt\u001b[0m \u001b[1;33m=\u001b[0m \u001b[0msigned_to_unsigned\u001b[0m\u001b[1;33m[\u001b[0m\u001b[0mdt\u001b[0m\u001b[1;33m.\u001b[0m\u001b[0mtype\u001b[0m\u001b[1;33m]\u001b[0m\u001b[1;33m\u001b[0m\u001b[1;33m\u001b[0m\u001b[0m\n\u001b[0m\u001b[0;32m    355\u001b[0m     \u001b[1;32mexcept\u001b[0m \u001b[0mKeyError\u001b[0m\u001b[1;33m:\u001b[0m\u001b[1;33m\u001b[0m\u001b[1;33m\u001b[0m\u001b[0m\n",
      "\u001b[1;31mKeyError\u001b[0m: <class 'numpy.bool_'>",
      "\nDuring handling of the above exception, another exception occurred:\n",
      "\u001b[1;31mTypeError\u001b[0m                                 Traceback (most recent call last)",
      "\u001b[1;32m<ipython-input-19-88cdc00b4e4b>\u001b[0m in \u001b[0;36m<module>\u001b[1;34m\u001b[0m\n\u001b[0;32m      6\u001b[0m     fig = data[attribute_columns].hist(bins = 20, figsize = (12, 12),\n\u001b[0;32m      7\u001b[0m                                        \u001b[0mxlabelsize\u001b[0m\u001b[1;33m=\u001b[0m\u001b[0mfontsize\u001b[0m\u001b[1;33m,\u001b[0m\u001b[1;33m\u001b[0m\u001b[1;33m\u001b[0m\u001b[0m\n\u001b[1;32m----> 8\u001b[1;33m                                        ylabelsize=fontsize)\n\u001b[0m\u001b[0;32m      9\u001b[0m     \u001b[1;32mfor\u001b[0m \u001b[0mx\u001b[0m \u001b[1;32min\u001b[0m \u001b[0mfig\u001b[0m\u001b[1;33m.\u001b[0m\u001b[0mravel\u001b[0m\u001b[1;33m(\u001b[0m\u001b[1;33m)\u001b[0m\u001b[1;33m:\u001b[0m\u001b[1;33m\u001b[0m\u001b[1;33m\u001b[0m\u001b[0m\n\u001b[0;32m     10\u001b[0m         \u001b[0mx\u001b[0m\u001b[1;33m.\u001b[0m\u001b[0mtitle\u001b[0m\u001b[1;33m.\u001b[0m\u001b[0mset_size\u001b[0m\u001b[1;33m(\u001b[0m\u001b[0mfontsize\u001b[0m\u001b[1;33m)\u001b[0m\u001b[1;33m\u001b[0m\u001b[1;33m\u001b[0m\u001b[0m\n",
      "\u001b[1;32m~\\Anaconda3\\lib\\site-packages\\pandas\\plotting\\_core.py\u001b[0m in \u001b[0;36mhist_frame\u001b[1;34m(data, column, by, grid, xlabelsize, xrot, ylabelsize, yrot, ax, sharex, sharey, figsize, layout, bins, backend, **kwargs)\u001b[0m\n\u001b[0;32m    206\u001b[0m         \u001b[0mlayout\u001b[0m\u001b[1;33m=\u001b[0m\u001b[0mlayout\u001b[0m\u001b[1;33m,\u001b[0m\u001b[1;33m\u001b[0m\u001b[1;33m\u001b[0m\u001b[0m\n\u001b[0;32m    207\u001b[0m         \u001b[0mbins\u001b[0m\u001b[1;33m=\u001b[0m\u001b[0mbins\u001b[0m\u001b[1;33m,\u001b[0m\u001b[1;33m\u001b[0m\u001b[1;33m\u001b[0m\u001b[0m\n\u001b[1;32m--> 208\u001b[1;33m         \u001b[1;33m**\u001b[0m\u001b[0mkwargs\u001b[0m\u001b[1;33m,\u001b[0m\u001b[1;33m\u001b[0m\u001b[1;33m\u001b[0m\u001b[0m\n\u001b[0m\u001b[0;32m    209\u001b[0m     )\n\u001b[0;32m    210\u001b[0m \u001b[1;33m\u001b[0m\u001b[0m\n",
      "\u001b[1;32m~\\Anaconda3\\lib\\site-packages\\pandas\\plotting\\_matplotlib\\hist.py\u001b[0m in \u001b[0;36mhist_frame\u001b[1;34m(data, column, by, grid, xlabelsize, xrot, ylabelsize, yrot, ax, sharex, sharey, figsize, layout, bins, **kwds)\u001b[0m\n\u001b[0;32m    402\u001b[0m     \u001b[1;32mfor\u001b[0m \u001b[0mi\u001b[0m\u001b[1;33m,\u001b[0m \u001b[0mcol\u001b[0m \u001b[1;32min\u001b[0m \u001b[0menumerate\u001b[0m\u001b[1;33m(\u001b[0m\u001b[0mcom\u001b[0m\u001b[1;33m.\u001b[0m\u001b[0mtry_sort\u001b[0m\u001b[1;33m(\u001b[0m\u001b[0mdata\u001b[0m\u001b[1;33m.\u001b[0m\u001b[0mcolumns\u001b[0m\u001b[1;33m)\u001b[0m\u001b[1;33m)\u001b[0m\u001b[1;33m:\u001b[0m\u001b[1;33m\u001b[0m\u001b[1;33m\u001b[0m\u001b[0m\n\u001b[0;32m    403\u001b[0m         \u001b[0max\u001b[0m \u001b[1;33m=\u001b[0m \u001b[0m_axes\u001b[0m\u001b[1;33m[\u001b[0m\u001b[0mi\u001b[0m\u001b[1;33m]\u001b[0m\u001b[1;33m\u001b[0m\u001b[1;33m\u001b[0m\u001b[0m\n\u001b[1;32m--> 404\u001b[1;33m         \u001b[0max\u001b[0m\u001b[1;33m.\u001b[0m\u001b[0mhist\u001b[0m\u001b[1;33m(\u001b[0m\u001b[0mdata\u001b[0m\u001b[1;33m[\u001b[0m\u001b[0mcol\u001b[0m\u001b[1;33m]\u001b[0m\u001b[1;33m.\u001b[0m\u001b[0mdropna\u001b[0m\u001b[1;33m(\u001b[0m\u001b[1;33m)\u001b[0m\u001b[1;33m.\u001b[0m\u001b[0mvalues\u001b[0m\u001b[1;33m,\u001b[0m \u001b[0mbins\u001b[0m\u001b[1;33m=\u001b[0m\u001b[0mbins\u001b[0m\u001b[1;33m,\u001b[0m \u001b[1;33m**\u001b[0m\u001b[0mkwds\u001b[0m\u001b[1;33m)\u001b[0m\u001b[1;33m\u001b[0m\u001b[1;33m\u001b[0m\u001b[0m\n\u001b[0m\u001b[0;32m    405\u001b[0m         \u001b[0max\u001b[0m\u001b[1;33m.\u001b[0m\u001b[0mset_title\u001b[0m\u001b[1;33m(\u001b[0m\u001b[0mcol\u001b[0m\u001b[1;33m)\u001b[0m\u001b[1;33m\u001b[0m\u001b[1;33m\u001b[0m\u001b[0m\n\u001b[0;32m    406\u001b[0m         \u001b[0max\u001b[0m\u001b[1;33m.\u001b[0m\u001b[0mgrid\u001b[0m\u001b[1;33m(\u001b[0m\u001b[0mgrid\u001b[0m\u001b[1;33m)\u001b[0m\u001b[1;33m\u001b[0m\u001b[1;33m\u001b[0m\u001b[0m\n",
      "\u001b[1;32m~\\Anaconda3\\lib\\site-packages\\matplotlib\\__init__.py\u001b[0m in \u001b[0;36minner\u001b[1;34m(ax, data, *args, **kwargs)\u001b[0m\n\u001b[0;32m   1597\u001b[0m     \u001b[1;32mdef\u001b[0m \u001b[0minner\u001b[0m\u001b[1;33m(\u001b[0m\u001b[0max\u001b[0m\u001b[1;33m,\u001b[0m \u001b[1;33m*\u001b[0m\u001b[0margs\u001b[0m\u001b[1;33m,\u001b[0m \u001b[0mdata\u001b[0m\u001b[1;33m=\u001b[0m\u001b[1;32mNone\u001b[0m\u001b[1;33m,\u001b[0m \u001b[1;33m**\u001b[0m\u001b[0mkwargs\u001b[0m\u001b[1;33m)\u001b[0m\u001b[1;33m:\u001b[0m\u001b[1;33m\u001b[0m\u001b[1;33m\u001b[0m\u001b[0m\n\u001b[0;32m   1598\u001b[0m         \u001b[1;32mif\u001b[0m \u001b[0mdata\u001b[0m \u001b[1;32mis\u001b[0m \u001b[1;32mNone\u001b[0m\u001b[1;33m:\u001b[0m\u001b[1;33m\u001b[0m\u001b[1;33m\u001b[0m\u001b[0m\n\u001b[1;32m-> 1599\u001b[1;33m             \u001b[1;32mreturn\u001b[0m \u001b[0mfunc\u001b[0m\u001b[1;33m(\u001b[0m\u001b[0max\u001b[0m\u001b[1;33m,\u001b[0m \u001b[1;33m*\u001b[0m\u001b[0mmap\u001b[0m\u001b[1;33m(\u001b[0m\u001b[0msanitize_sequence\u001b[0m\u001b[1;33m,\u001b[0m \u001b[0margs\u001b[0m\u001b[1;33m)\u001b[0m\u001b[1;33m,\u001b[0m \u001b[1;33m**\u001b[0m\u001b[0mkwargs\u001b[0m\u001b[1;33m)\u001b[0m\u001b[1;33m\u001b[0m\u001b[1;33m\u001b[0m\u001b[0m\n\u001b[0m\u001b[0;32m   1600\u001b[0m \u001b[1;33m\u001b[0m\u001b[0m\n\u001b[0;32m   1601\u001b[0m         \u001b[0mbound\u001b[0m \u001b[1;33m=\u001b[0m \u001b[0mnew_sig\u001b[0m\u001b[1;33m.\u001b[0m\u001b[0mbind\u001b[0m\u001b[1;33m(\u001b[0m\u001b[0max\u001b[0m\u001b[1;33m,\u001b[0m \u001b[1;33m*\u001b[0m\u001b[0margs\u001b[0m\u001b[1;33m,\u001b[0m \u001b[1;33m**\u001b[0m\u001b[0mkwargs\u001b[0m\u001b[1;33m)\u001b[0m\u001b[1;33m\u001b[0m\u001b[1;33m\u001b[0m\u001b[0m\n",
      "\u001b[1;32m~\\Anaconda3\\lib\\site-packages\\matplotlib\\axes\\_axes.py\u001b[0m in \u001b[0;36mhist\u001b[1;34m(self, x, bins, range, density, weights, cumulative, bottom, histtype, align, orientation, rwidth, log, color, label, stacked, normed, **kwargs)\u001b[0m\n\u001b[0;32m   6773\u001b[0m             \u001b[1;31m# this will automatically overwrite bins,\u001b[0m\u001b[1;33m\u001b[0m\u001b[1;33m\u001b[0m\u001b[1;33m\u001b[0m\u001b[0m\n\u001b[0;32m   6774\u001b[0m             \u001b[1;31m# so that each histogram uses the same bins\u001b[0m\u001b[1;33m\u001b[0m\u001b[1;33m\u001b[0m\u001b[1;33m\u001b[0m\u001b[0m\n\u001b[1;32m-> 6775\u001b[1;33m             \u001b[0mm\u001b[0m\u001b[1;33m,\u001b[0m \u001b[0mbins\u001b[0m \u001b[1;33m=\u001b[0m \u001b[0mnp\u001b[0m\u001b[1;33m.\u001b[0m\u001b[0mhistogram\u001b[0m\u001b[1;33m(\u001b[0m\u001b[0mx\u001b[0m\u001b[1;33m[\u001b[0m\u001b[0mi\u001b[0m\u001b[1;33m]\u001b[0m\u001b[1;33m,\u001b[0m \u001b[0mbins\u001b[0m\u001b[1;33m,\u001b[0m \u001b[0mweights\u001b[0m\u001b[1;33m=\u001b[0m\u001b[0mw\u001b[0m\u001b[1;33m[\u001b[0m\u001b[0mi\u001b[0m\u001b[1;33m]\u001b[0m\u001b[1;33m,\u001b[0m \u001b[1;33m**\u001b[0m\u001b[0mhist_kwargs\u001b[0m\u001b[1;33m)\u001b[0m\u001b[1;33m\u001b[0m\u001b[1;33m\u001b[0m\u001b[0m\n\u001b[0m\u001b[0;32m   6776\u001b[0m             \u001b[0mm\u001b[0m \u001b[1;33m=\u001b[0m \u001b[0mm\u001b[0m\u001b[1;33m.\u001b[0m\u001b[0mastype\u001b[0m\u001b[1;33m(\u001b[0m\u001b[0mfloat\u001b[0m\u001b[1;33m)\u001b[0m  \u001b[1;31m# causes problems later if it's an int\u001b[0m\u001b[1;33m\u001b[0m\u001b[1;33m\u001b[0m\u001b[0m\n\u001b[0;32m   6777\u001b[0m             \u001b[1;32mif\u001b[0m \u001b[0mmlast\u001b[0m \u001b[1;32mis\u001b[0m \u001b[1;32mNone\u001b[0m\u001b[1;33m:\u001b[0m\u001b[1;33m\u001b[0m\u001b[1;33m\u001b[0m\u001b[0m\n",
      "\u001b[1;32m<__array_function__ internals>\u001b[0m in \u001b[0;36mhistogram\u001b[1;34m(*args, **kwargs)\u001b[0m\n",
      "\u001b[1;32m~\\Anaconda3\\lib\\site-packages\\numpy\\lib\\histograms.py\u001b[0m in \u001b[0;36mhistogram\u001b[1;34m(a, bins, range, normed, weights, density)\u001b[0m\n\u001b[0;32m    823\u001b[0m \u001b[1;33m\u001b[0m\u001b[0m\n\u001b[0;32m    824\u001b[0m         \u001b[1;31m# Pre-compute histogram scaling factor\u001b[0m\u001b[1;33m\u001b[0m\u001b[1;33m\u001b[0m\u001b[1;33m\u001b[0m\u001b[0m\n\u001b[1;32m--> 825\u001b[1;33m         \u001b[0mnorm\u001b[0m \u001b[1;33m=\u001b[0m \u001b[0mn_equal_bins\u001b[0m \u001b[1;33m/\u001b[0m \u001b[0m_unsigned_subtract\u001b[0m\u001b[1;33m(\u001b[0m\u001b[0mlast_edge\u001b[0m\u001b[1;33m,\u001b[0m \u001b[0mfirst_edge\u001b[0m\u001b[1;33m)\u001b[0m\u001b[1;33m\u001b[0m\u001b[1;33m\u001b[0m\u001b[0m\n\u001b[0m\u001b[0;32m    826\u001b[0m \u001b[1;33m\u001b[0m\u001b[0m\n\u001b[0;32m    827\u001b[0m         \u001b[1;31m# We iterate over blocks here for two reasons: the first is that for\u001b[0m\u001b[1;33m\u001b[0m\u001b[1;33m\u001b[0m\u001b[1;33m\u001b[0m\u001b[0m\n",
      "\u001b[1;32m~\\Anaconda3\\lib\\site-packages\\numpy\\lib\\histograms.py\u001b[0m in \u001b[0;36m_unsigned_subtract\u001b[1;34m(a, b)\u001b[0m\n\u001b[0;32m    354\u001b[0m         \u001b[0mdt\u001b[0m \u001b[1;33m=\u001b[0m \u001b[0msigned_to_unsigned\u001b[0m\u001b[1;33m[\u001b[0m\u001b[0mdt\u001b[0m\u001b[1;33m.\u001b[0m\u001b[0mtype\u001b[0m\u001b[1;33m]\u001b[0m\u001b[1;33m\u001b[0m\u001b[1;33m\u001b[0m\u001b[0m\n\u001b[0;32m    355\u001b[0m     \u001b[1;32mexcept\u001b[0m \u001b[0mKeyError\u001b[0m\u001b[1;33m:\u001b[0m\u001b[1;33m\u001b[0m\u001b[1;33m\u001b[0m\u001b[0m\n\u001b[1;32m--> 356\u001b[1;33m         \u001b[1;32mreturn\u001b[0m \u001b[0mnp\u001b[0m\u001b[1;33m.\u001b[0m\u001b[0msubtract\u001b[0m\u001b[1;33m(\u001b[0m\u001b[0ma\u001b[0m\u001b[1;33m,\u001b[0m \u001b[0mb\u001b[0m\u001b[1;33m,\u001b[0m \u001b[0mdtype\u001b[0m\u001b[1;33m=\u001b[0m\u001b[0mdt\u001b[0m\u001b[1;33m)\u001b[0m\u001b[1;33m\u001b[0m\u001b[1;33m\u001b[0m\u001b[0m\n\u001b[0m\u001b[0;32m    357\u001b[0m     \u001b[1;32melse\u001b[0m\u001b[1;33m:\u001b[0m\u001b[1;33m\u001b[0m\u001b[1;33m\u001b[0m\u001b[0m\n\u001b[0;32m    358\u001b[0m         \u001b[1;31m# we know the inputs are integers, and we are deliberately casting\u001b[0m\u001b[1;33m\u001b[0m\u001b[1;33m\u001b[0m\u001b[1;33m\u001b[0m\u001b[0m\n",
      "\u001b[1;31mTypeError\u001b[0m: numpy boolean subtract, the `-` operator, is not supported, use the bitwise_xor, the `^` operator, or the logical_xor function instead."
     ]
    },
    {
     "data": {
      "image/png": "[encoded data removed]",
      "text/plain": [
       "<Figure size 864x864 with 100 Axes>"
      ]
     },
     "metadata": {
      "needs_background": "light"
     },
     "output_type": "display_data"
    }
   ],
   "source": [
    "%matplotlib inline\n",
    "import matplotlib.pylab as plt\n",
    "attribute_columns = list(data.columns)\n",
    "if True:\n",
    "    fontsize = 10\n",
    "    fig = data[attribute_columns].hist(bins = 20, figsize = (12, 12),\n",
    "                                       xlabelsize=fontsize,\n",
    "                                       ylabelsize=fontsize)\n",
    "    for x in fig.ravel():\n",
    "        x.title.set_size(fontsize)\n",
    "else:\n",
    "    nrows = (len(attribute_columns)+1) // 2\n",
    "    plt.figure(figsize=(12,25))\n",
    "    for i in range(len(attribute_columns)):\n",
    "        name = attribute_columns[i]\n",
    "        plt.subplot(nrows,2,i+1)\n",
    "        data[name].hist()\n",
    "        plt.title(name, fontsize=14)\n",
    "    \n",
    "plt.show()"
   ]
  },
  {
   "cell_type": "markdown",
   "metadata": {
    "colab_type": "text",
    "id": "ANI-KEZYZDTe"
   },
   "source": [
    "There are several interesting plots we can show, build the code to get some like the following:\n",
    "<font color=red>Build the code</font>"
   ]
  },
  {
   "cell_type": "markdown",
   "metadata": {
    "colab": {
     "base_uri": "https://localhost:8080/",
     "height": 461
    },
    "colab_type": "code",
    "id": "0zjzzwTdZDTe",
    "outputId": "68e2b047-6b03-4ffb-a78e-dd12ab3fd89e"
   },
   "source": [
    "<img src=\"./images/map_winner.JPG\" align=\"center\">\n",
    "<img src=\"./images/defuse_winner.JPG\" align=\"center\">\n",
    "<img src=\"./images/bomb_winner.JPG\" align=\"center\">"
   ]
  },
  {
   "cell_type": "markdown",
   "metadata": {
    "colab_type": "text",
    "hideCode": false,
    "hidePrompt": false,
    "id": "FgcxzXqqZDTf"
   },
   "source": [
    "# Baseline <font color=red>CKALIB AND TOMAS</font>"
   ]
  },
  {
   "cell_type": "markdown",
   "metadata": {},
   "source": [
    "As the CS:GO Kaggle competition is now closed, so we must evaluate your results using an alternative method. All the teams will have to include this snippet of code in order to read the data, and split it into training and validation sets."
   ]
  },
  {
   "cell_type": "code",
   "execution_count": 6,
   "metadata": {},
   "outputs": [
    {
     "name": "stdout",
     "output_type": "stream",
     "text": [
      "(85687, 96)\n",
      "(36723, 96)\n",
      "(85687,)\n",
      "(36723,)\n"
     ]
    }
   ],
   "source": [
    "from sklearn.model_selection import train_test_split\n",
    "\n",
    "target = 'round_winner'\n",
    "features = [column for column in data.columns if column != target]\n",
    "\n",
    "X, X_val, y, y_val = train_test_split(\n",
    "    data[features],\n",
    "    data[target],\n",
    "    test_size=0.3,\n",
    "    random_state=1,\n",
    "    stratify=data[target])\n",
    "\n",
    "print(X.shape)\n",
    "print(X_val.shape)\n",
    "print(y.shape)\n",
    "print(y_val.shape)"
   ]
  },
  {
   "cell_type": "markdown",
   "metadata": {},
   "source": [
    "Remember that the validation set will be used to obtain the FINAL score of your model, not the intermediate validation scores that will help you to determine whether your model is overfitting. So, you will need to further split your data (X and y) sets into training and test."
   ]
  },
  {
   "cell_type": "markdown",
   "metadata": {
    "colab_type": "text",
    "id": "772U0c25ZDTf"
   },
   "source": [
    "I will build a method to evaluate a basic logistic regression over a split of the data set using cross validation.\n",
    "\n",
    "The method requires that you send it the independent variables (X) and the dependent variables (y) as a pandas DataFrame. We can access the dataframe inside the `Dataset` by calling, either, `.features` or `.target`."
   ]
  },
  {
   "cell_type": "code",
   "execution_count": 21,
   "metadata": {
    "colab": {},
    "colab_type": "code",
    "id": "MRjOX_hxZDTf"
   },
   "outputs": [],
   "source": [
    "from sklearn.metrics import accuracy_score, f1_score, recall_score, matthews_corrcoef\n",
    "\n",
    "def evaluate_LogReg(X: pd.DataFrame, y: pd.DataFrame,\n",
    "                    metric: str='F1',\n",
    "                    seed: int=123,\n",
    "                    printout: bool=False):\n",
    "    \"\"\"\n",
    "    Fits a logistic regression with the training set, and evaluates it with \n",
    "    the test set, using Accuracy, F1, Recall or MCC metrics.\n",
    "\n",
    "    Params\n",
    "      X: A Pandas DataFrame with all the values to be used to fit the logit\n",
    "      y: The dependent variable.\n",
    "      metric: The metric to be returned\n",
    "      printout: True/False indicating whether you want to print results\n",
    "\n",
    "    \"\"\"\n",
    "    # Split the data is the first thing to do\n",
    "    X_train, X_test, y_train, y_test = train_test_split(\n",
    "        X, y, test_size=0.2)\n",
    "\n",
    "    lr = LogisticRegression().fit(X_train, y_train)\n",
    "    y_hat = lr.predict(X_test)\n",
    "\n",
    "    accuracy = accuracy_score(y_test, y_hat)\n",
    "    F1 = f1_score(y_test, y_hat)\n",
    "    recall = recall_score(y_test, y_hat)\n",
    "    MCC = matthews_corrcoef(y_test, y_hat)\n",
    "    \n",
    "    if printout is True:\n",
    "        print('Accuracy:', accuracy)\n",
    "        print('F1:', F1)\n",
    "        print('Recall:', recall)\n",
    "        print('MCC:', MCC)\n",
    "    \n",
    "    return eval(metric)"
   ]
  },
  {
   "cell_type": "markdown",
   "metadata": {
    "colab_type": "text",
    "id": "5az2g6C8nMpA"
   },
   "source": [
    "Let's run the **baseline**. We will simply call our method with the numerical features only, simply to see what is the expected F1 metric. Ideally, we should call the evaluation method with all our features, but to do so, we must convert our categorical features into numbers. For baselining, we can start by simply applying a **onehot** encoding to them to see what is the result.\n",
    "\n",
    "# Baseline with numerical features only\n",
    "\n",
    "To start with, let's simply use numericals:"
   ]
  },
  {
   "cell_type": "code",
   "execution_count": 22,
   "metadata": {
    "colab": {
     "base_uri": "https://localhost:8080/",
     "height": 32
    },
    "colab_type": "code",
    "hideCode": false,
    "hidePrompt": false,
    "id": "vBHokEQxZDTg",
    "outputId": "1b08918e-2888-4a5e-cf8d-82e9a52fcf7b"
   },
   "outputs": [
    {
     "data": {
      "text/plain": [
       "0.6024096385542168"
      ]
     },
     "execution_count": 22,
     "metadata": {},
     "output_type": "execute_result"
    }
   ],
   "source": [
    "evaluate_LogReg(data.numerical, data.target)"
   ]
  },
  {
   "cell_type": "markdown",
   "metadata": {
    "colab_type": "text",
    "id": "pmsclXBEnscy"
   },
   "source": [
    "Now, we will try to onehot our categoricals to apply the LogisticRegression to all our features. We will use a copy of the dataset since we do not want to premanently encode our data with that scheme.\n",
    "\n",
    "# Basline with all features (onehot)\n",
    "\n",
    "I will use Dataset method `onehot_encode` but you can use Pandas `get_dummies` or the one provided by `scikit learn`.\n",
    "\n",
    "as you can see, the result is a Dataset with 30 numerical variables, instead of the original combination of 21 numericals + 4 categoricals."
   ]
  },
  {
   "cell_type": "code",
   "execution_count": 23,
   "metadata": {
    "colab": {
     "base_uri": "https://localhost:8080/",
     "height": 280
    },
    "colab_type": "code",
    "id": "Mang7SPboGZr",
    "outputId": "165a78d5-6e21-4a43-9d7a-753318efe2d5"
   },
   "outputs": [
    {
     "name": "stdout",
     "output_type": "stream",
     "text": [
      "29 Features. 539 Samples\n",
      "Available types: [dtype('float64')]\n",
      "  · 0 categorical features\n",
      "  · 29 numerical features\n",
      "  · 0 categorical features with NAs\n",
      "  · 0 numerical features with NAs\n",
      "  · 30 Complete features\n",
      "--\n",
      "Target: band_type (int64)\n",
      "'band_type'\n",
      "  · Min.: 0.0000\n",
      "  · 1stQ: 0.0000\n",
      "  · Med.: 0.0000\n",
      "  · Mean: 0.4212\n",
      "  · 3rdQ: 1.0000\n",
      "  · Max.: 1.0000\n"
     ]
    }
   ],
   "source": [
    "# Get a copy of data\n",
    "from copy import deepcopy\n",
    "data_copy = deepcopy(data)\n",
    "\n",
    "# Onehot\n",
    "data_copy.onehot_encode()\n",
    "data_copy.describe()"
   ]
  },
  {
   "cell_type": "code",
   "execution_count": 24,
   "metadata": {
    "colab": {
     "base_uri": "https://localhost:8080/",
     "height": 32
    },
    "colab_type": "code",
    "id": "1ntdLStiowkc",
    "outputId": "031797ab-3005-4321-995b-1c7fbaa3d1c9"
   },
   "outputs": [
    {
     "data": {
      "text/plain": [
       "0.5476190476190476"
      ]
     },
     "execution_count": 24,
     "metadata": {},
     "output_type": "execute_result"
    }
   ],
   "source": [
    "# Call the evaluation method with all data in the Dataset.\n",
    "evaluate_LogReg(data_copy.features, data_copy.target)"
   ]
  },
  {
   "cell_type": "markdown",
   "metadata": {
    "colab_type": "text",
    "id": "zLG-6Ufvpusd"
   },
   "source": [
    "It seems that adding the categorical features produces a different result. However, if you remember the rules of Logit we must avoid co-linearity, variables which are not completely independent or even not normal distributions.\n",
    "\n",
    "We will simplify later on the evaluation by using a simpler model.\n",
    "\n",
    "## Problems with this baseline\n",
    "\n",
    "However, we cannot evaluate a model like I proposed before. To demostrate what is the problem, I will call the same method 100 times, storing its result each time in a list, to later plot it."
   ]
  },
  {
   "cell_type": "code",
   "execution_count": 25,
   "metadata": {
    "colab": {
     "base_uri": "https://localhost:8080/",
     "height": 280
    },
    "colab_type": "code",
    "id": "0ciPAhxucDhq",
    "outputId": "fdab2d3e-157f-4e08-b814-6a8a13567ff9"
   },
   "outputs": [
    {
     "data": {
      "text/plain": [
       "<matplotlib.collections.PathCollection at 0x13399be90>"
      ]
     },
     "execution_count": 25,
     "metadata": {},
     "output_type": "execute_result"
    },
    {
     "data": {
      "image/png": "[encoded data removed]",
      "text/plain": [
       "<Figure size 432x288 with 1 Axes>"
      ]
     },
     "metadata": {
      "needs_background": "light"
     },
     "output_type": "display_data"
    }
   ],
   "source": [
    "my_list = []\n",
    "for _ in range(20):\n",
    "    result = evaluate_LogReg(data_copy.features, data_copy.target)\n",
    "    my_list.append(result)\n",
    "plt.scatter(range(20), my_list)"
   ]
  },
  {
   "cell_type": "markdown",
   "metadata": {
    "colab_type": "text",
    "id": "A6T-V9nNcU43"
   },
   "source": [
    "We've obtained 100 different values for the evaluation of the baseline. Which one is the good one? The highest value? The lowest? The average? The median? ....\n",
    "\n",
    "None of them... this plot simply illustrates that if you split your dataset 100 times, you train your model with different portions of the data 100 times, producing 100 different results.\n",
    "\n",
    "To avoid this _variance_ in results, we want to estimate what will be the expected result in test. To achieve that we use **cross validation**. The idea is to split the data a number of times but use the average test score obtained from all of them as a reasonable estimation of what to expect from this model."
   ]
  },
  {
   "cell_type": "markdown",
   "metadata": {
    "colab_type": "text",
    "id": "mV-UDxECbjMN"
   },
   "source": [
    "## Cross Validation \n",
    "\n",
    "To evaluate our model in a slightly simpler way, let's use this method: `cv_classification`. It accepts a Dataset as input, and an `estimator`, which is simply the model I want to use.\n",
    "\n",
    "Internally, it will repeat a number of times (`num_iterations`) the following steps:\n",
    "\n",
    "  1. Randomly split the data set into training and test\n",
    "  2. Fit the estimator with the training portion of the data\n",
    "  3. Obtain a CV metric in training for this model\n",
    "  4. Obtain a metric in test for the predictions obtained with the model just fitted in step 2\n",
    "  5. Save the scores in an array to later return all of them"
   ]
  },
  {
   "cell_type": "code",
   "execution_count": 26,
   "metadata": {
    "colab": {},
    "colab_type": "code",
    "id": "OPM3ncUf8N0Y"
   },
   "outputs": [],
   "source": [
    "def cv_classification(my_dataset, estimator, num_iterations=20, verbose=True):\n",
    "    train_scores=[]\n",
    "    test_scores=[]\n",
    "    for i in range(num_iterations):\n",
    "        X, y = my_dataset.split(seed=23*i ^ 2)\n",
    "\n",
    "        # We want to call a method whose name is the argument to this func.\n",
    "        estimator.fit(X.train, y.train)\n",
    "        train_metric = cross_val_score(estimator, X.train, y.train, scoring='f1')\n",
    "        train_scores.append(np.median(train_metric))\n",
    "\n",
    "        test_score = f1_score(y.test, estimator.predict(X.test))\n",
    "        test_scores.append(test_score)\n",
    "\n",
    "    if verbose:\n",
    "        print('Training median F1: {:.4f} +/- {:.2f}%'.format(\n",
    "            np.median(train_scores), np.std(train_scores)*100.))\n",
    "        print('Test F1: {:.4f} +/- {:.2f}%'.format(\n",
    "            np.median(test_scores), np.std(test_scores)*100.))\n",
    "\n",
    "    return train_scores, test_scores"
   ]
  },
  {
   "cell_type": "markdown",
   "metadata": {
    "colab_type": "text",
    "id": "LG6Q2T1llqiI"
   },
   "source": [
    "So, if we decide to use the method above to score our Linear Regression model using cross validation (20 iterations), what we have to do is the following:"
   ]
  },
  {
   "cell_type": "code",
   "execution_count": 27,
   "metadata": {
    "colab": {
     "base_uri": "https://localhost:8080/",
     "height": 49
    },
    "colab_type": "code",
    "id": "P5BC2e96QCuP",
    "outputId": "4859ef66-37df-45a8-b848-5320dd200cb5"
   },
   "outputs": [
    {
     "name": "stdout",
     "output_type": "stream",
     "text": [
      "Training median F1: 0.5572 +/- 3.26%\n",
      "Test F1: 0.5485 +/- 4.26%\n"
     ]
    }
   ],
   "source": [
    "lr = LogisticRegression()\n",
    "train_lr_scores, test_lr_scores = cv_classification(data_copy, lr)"
   ]
  },
  {
   "cell_type": "markdown",
   "metadata": {
    "colab_type": "text",
    "id": "lX4zp5yzmH17"
   },
   "source": [
    "The interpretation from these training and test scores is the following:\n",
    "\n",
    "* Our model, in training, is capable of achieving a 56.17% F1 score, with a variance of 3.1%. This is useful to check if our training is getting very high results (overfitting) or very high variance (data contains too much noise).\n",
    "* Our model is expected to throw a F1 of 54% (+/- 4.5%) when predicting over unseen data.\n",
    "* Since performance test is a bit below training performance, that means that we're not overfitting, and that our model is generalizing correctly. If test performance were better than training performance, that's an indication that your training can be improved by tuning a bit more your parameters (too much bias).\n",
    "\n"
   ]
  },
  {
   "cell_type": "markdown",
   "metadata": {
    "colab_type": "text",
    "id": "tznHn84-boxq"
   },
   "source": [
    "## Baseline with decision tree\n",
    "\n",
    "To make things a bit simpler in our baseline, we will use a decision tree. Spending too much time cleaning our data to fit normal distributions and finding co-linearity could not be worthy in the end. So, let's try to produce a quick baseline with a single decision tree."
   ]
  },
  {
   "cell_type": "code",
   "execution_count": 28,
   "metadata": {
    "colab": {
     "base_uri": "https://localhost:8080/",
     "height": 49
    },
    "colab_type": "code",
    "id": "JjmCmTJtJmAT",
    "outputId": "29cc1778-4644-43e3-b3fd-439714f8ae31"
   },
   "outputs": [
    {
     "name": "stdout",
     "output_type": "stream",
     "text": [
      "Training median F1: 0.6250 +/- 2.57%\n",
      "Test F1: 0.6262 +/- 5.86%\n"
     ]
    }
   ],
   "source": [
    "baseline_tree = DecisionTreeClassifier(random_state=123)\n",
    "base_train, base_test = cv_classification(data_copy, baseline_tree)"
   ]
  },
  {
   "cell_type": "markdown",
   "metadata": {
    "colab_type": "text",
    "hideCode": false,
    "hidePrompt": false,
    "id": "eDAbh9elZDTh"
   },
   "source": [
    "# Feature Engineering\n",
    "\n",
    "We'll try a conservative approach in our feature engineering process. Instead of playing too much attention to filtering, we'll try only find highly correlated features, to focus on creating new features.\n",
    "\n",
    "I'm using the original `data`. I will discard the onehot version, as I want to play with the original features to later perform the best possible encoding (not only onehot encoding).\n",
    "\n",
    "## Catboost encoding vs. Target encoding\n",
    "\n",
    "We're going to compare what is the effect of encoding with Catboost or Target encoding vs. the onehot encoded proposed above for the baseline."
   ]
  },
  {
   "cell_type": "code",
   "execution_count": 29,
   "metadata": {
    "colab": {},
    "colab_type": "code",
    "hideCode": false,
    "hidePrompt": false,
    "id": "UJtTZhDtZDTh"
   },
   "outputs": [],
   "source": [
    "# Uncomment this line if you haven't installed caatboos (categorical_encoders) already\n",
    "# !pip install catboost"
   ]
  },
  {
   "cell_type": "markdown",
   "metadata": {},
   "source": [
    "Simple `fit_transform` our data using the proposed encoder, and then:\n",
    "  - we create another dataset (since we don't want to destroy the original one)\n",
    "  - we add the new numerically encoded features proposed by Catboost\n",
    "  - we remove the old categorical features"
   ]
  },
  {
   "cell_type": "code",
   "execution_count": 30,
   "metadata": {},
   "outputs": [],
   "source": [
    "# Create the Catboost encoder, and \"fit\" + \"transform\" our data.\n",
    "catboost_enc = ce.CatBoostEncoder(cols=data.categorical_features)\n",
    "new_columns = catboost_enc.fit_transform(\n",
    "    data.categorical, data.target).add_suffix('_cb')\n",
    "\n",
    "# Create another Dataset with my original features\n",
    "data_cb = Dataset.from_dataframe(data.all)\n",
    "data_cb.set_target('band_type')\n",
    "# ... and I add the newly encoded columns, removing the categorical ones.\n",
    "data_cb.add_columns(new_columns).drop_columns(data_cb.categorical_features);"
   ]
  },
  {
   "cell_type": "markdown",
   "metadata": {},
   "source": [
    "Now, train a decission tree classifier with the new data to see if we're improving a bit."
   ]
  },
  {
   "cell_type": "code",
   "execution_count": 31,
   "metadata": {},
   "outputs": [
    {
     "name": "stdout",
     "output_type": "stream",
     "text": [
      "Training median F1: 0.6431 +/- 2.76%\n",
      "Test F1: 0.6454 +/- 5.90%\n"
     ]
    }
   ],
   "source": [
    "catboost_tree = DecisionTreeClassifier(random_state=666)\n",
    "cb_train, cb_test = cv_classification(data_cb, catboost_tree)"
   ]
  },
  {
   "cell_type": "markdown",
   "metadata": {},
   "source": [
    "Now it's time to try the TargetEncoder. Same steps as above"
   ]
  },
  {
   "cell_type": "code",
   "execution_count": 32,
   "metadata": {},
   "outputs": [],
   "source": [
    "# Create the Catboost encoder, and \"fit\" + \"transform\" our data.\n",
    "target_enc = ce.TargetEncoder(cols=data.categorical_features)\n",
    "new_columns = target_enc.fit_transform(\n",
    "    data.categorical, data.target).add_suffix('_tg')\n",
    "\n",
    "# Create another Dataset with my original features\n",
    "data_tg = Dataset.from_dataframe(data.all)\n",
    "data_tg.set_target('band_type')\n",
    "# ... and I add the newly encoded columns, removing the categorical ones.\n",
    "data_tg.add_columns(new_columns).drop_columns(data_tg.categorical_features);"
   ]
  },
  {
   "cell_type": "code",
   "execution_count": 33,
   "metadata": {},
   "outputs": [
    {
     "name": "stdout",
     "output_type": "stream",
     "text": [
      "Training median F1: 0.6194 +/- 2.76%\n",
      "Test F1: 0.6304 +/- 6.90%\n"
     ]
    }
   ],
   "source": [
    "target_tree = DecisionTreeClassifier(random_state=666)\n",
    "tg_train, tg_test = cv_classification(data_tg, target_tree)"
   ]
  },
  {
   "cell_type": "code",
   "execution_count": 34,
   "metadata": {
    "jupyter": {
     "source_hidden": true
    }
   },
   "outputs": [
    {
     "data": {
      "image/png": "[encoded data removed]",
      "text/plain": [
       "<Figure size 432x288 with 1 Axes>"
      ]
     },
     "metadata": {
      "needs_background": "light"
     },
     "output_type": "display_data"
    }
   ],
   "source": [
    "# Plot the three results obtained so far.\n",
    "x_pos = range(3)\n",
    "fig, ax = plt.subplots()\n",
    "ax.bar(x_pos, \n",
    "       [np.median(base_test), np.median(cb_test), np.median(tg_test)], \n",
    "       yerr=[np.std(base_test), np.std(cb_test), np.std(tg_test)], \n",
    "       align='center', alpha=0.5, ecolor='black', capsize=10)\n",
    "ax.set_ylabel('Test F1 score')\n",
    "ax.set_xticks(x_pos)\n",
    "ax.set_xticklabels(['baseline','catboost','target'])\n",
    "ax.set_ylim([0.50, 0.75])\n",
    "ax.set_title('Test F1 on a decision tree with diff. encodings')\n",
    "ax.yaxis.grid(True)"
   ]
  },
  {
   "cell_type": "markdown",
   "metadata": {},
   "source": [
    "We can see, that there's no big difference but, a priori, this experiment suggests that catboost encoding is giving us some advantage.\n",
    "\n",
    "We will keep that dataset (without categorical variables, to continue deciding on how to move forward."
   ]
  },
  {
   "cell_type": "code",
   "execution_count": 35,
   "metadata": {},
   "outputs": [],
   "source": [
    "data = Dataset.from_dataframe(data_cb.all)\n",
    "data.set_target('band_type');"
   ]
  },
  {
   "cell_type": "markdown",
   "metadata": {},
   "source": [
    "## Next: Feature Selection\n",
    "\n",
    "We cannot explore deep feature synthesis, as it is required a lot of knowledge about the problem domain that we don't have for this dataset. GPlearn is a good alternative, but let's filter out some attributes that might be too much correlated or not leading to good performance.\n",
    "\n",
    "### Filtering\n",
    "\n",
    "When plotting the covariance matrix we can see a candidate group of features that might present high correlation and could be discarded using wrapper methods (blade_pressure, was, varnish_pct, paper_mill_local_cb, proof_cut, roller_durometer and grain_screen_cb)."
   ]
  },
  {
   "cell_type": "code",
   "execution_count": 36,
   "metadata": {},
   "outputs": [
    {
     "data": {
      "image/png": "[encoded data removed]",
      "text/plain": [
       "<Figure size 800x800 with 2 Axes>"
      ]
     },
     "metadata": {
      "needs_background": "light"
     },
     "output_type": "display_data"
    }
   ],
   "source": [
    "data.plot_covariance()"
   ]
  },
  {
   "cell_type": "markdown",
   "metadata": {},
   "source": [
    "Any filtering decision should be based on a relevant gain in our model. So, the steps to be followed must be:\n",
    "  1. select features to be removed\n",
    "  2. evaluate model without them\n",
    "  3. if new performance (in test) is better, then continue\n",
    "  4. otherwise, keep the features.\n",
    "  \n",
    "### Recursive Feature Elimination\n",
    "\n",
    "Let's start by using Recursive Feature Elimination from sklearn. It's a sophisticated implementation of stepwise selection, but with recursive decisions instead of single-step decisions. The parameters we need to have in order to use it are:\n",
    "  - A model –our decision tree, in our case\n",
    "  - The number of features we want to be finally selected\n",
    "  - The `step` which is the nr. of features to be removed at each iteration."
   ]
  },
  {
   "cell_type": "code",
   "execution_count": 37,
   "metadata": {},
   "outputs": [],
   "source": [
    "# A function that calls RFE and returns the best features found\n",
    "def rfe(data, num_features):\n",
    "    estimator = DecisionTreeClassifier(random_state=123)\n",
    "    selector = RFE(estimator, num_features, step=1)\n",
    "    selector = selector.fit(data.features, data.target)\n",
    "    return selector.support_"
   ]
  },
  {
   "cell_type": "markdown",
   "metadata": {},
   "source": [
    "This piece of code will evaluate a range of possible subsets of features, from 5 to all features included. At each iteration, it will keep the test score to later plot it, and see what is the best strategy to choose."
   ]
  },
  {
   "cell_type": "code",
   "execution_count": 38,
   "metadata": {},
   "outputs": [],
   "source": [
    "# Loop over the range of features in our dataset and capture results.\n",
    "rfe_test_scores = pd.DataFrame()\n",
    "min_range = 5\n",
    "max_range = len(data.feature_names)\n",
    "rfe_tree = DecisionTreeClassifier(random_state=666)\n",
    "\n",
    "# This is a loop over all possible values I want to evaluate\n",
    "for num_features in range(min_range, max_range):\n",
    "    # Obtain the best features\n",
    "    best_features = rfe(data, num_features)\n",
    "    # Build a new dataset ONLY with best features selected.\n",
    "    data_rfe = Dataset.from_dataframe(\n",
    "        pd.concat(\n",
    "            [data.features[data.features.columns[best_features]], data.target], axis=1\n",
    "        )\n",
    "    )\n",
    "    data_rfe.set_target('band_type')\n",
    "\n",
    "    # Evaluate (CV) what is the F1 of this dataset\n",
    "    _, test_f1 = cv_classification(data_rfe, rfe_tree, verbose=False)\n",
    "    \n",
    "    # Keep results to later plot them\n",
    "    rfe_test_scores = rfe_test_scores.append(pd.Series(test_f1), ignore_index=True)\n",
    "    del(data_rfe)"
   ]
  },
  {
   "cell_type": "code",
   "execution_count": 39,
   "metadata": {
    "jupyter": {
     "source_hidden": true
    }
   },
   "outputs": [
    {
     "data": {
      "image/png": "[encoded data removed]",
      "text/plain": [
       "<Figure size 720x288 with 1 Axes>"
      ]
     },
     "metadata": {
      "needs_background": "light"
     },
     "output_type": "display_data"
    }
   ],
   "source": [
    "x_pos = range(min_range, max_range)\n",
    "\n",
    "fig, ax = plt.subplots(figsize=(10,4))\n",
    "ax.boxplot(rfe_test_scores)\n",
    "ax.set_ylabel('Test F1 score')\n",
    "ax.set_xticks(range(1, len(x_pos)))\n",
    "ax.set_xticklabels(x_pos)\n",
    "# ax.set_ylim([0.50, 0.75])\n",
    "ax.set_title('Test F1 with varying nr. of features')\n",
    "ax.yaxis.grid(True, color=\"gray\", linestyle='--', linewidth=0.4)"
   ]
  },
  {
   "cell_type": "markdown",
   "metadata": {},
   "source": [
    "From my experiment, 10 features is the best option. It also presents a not very high variance. So, now I call RFE asking it to return me 10 features and continue."
   ]
  },
  {
   "cell_type": "code",
   "execution_count": 40,
   "metadata": {},
   "outputs": [
    {
     "data": {
      "text/html": [
       "<div>\n",
       "<style scoped>\n",
       "    .dataframe tbody tr th:only-of-type {\n",
       "        vertical-align: middle;\n",
       "    }\n",
       "\n",
       "    .dataframe tbody tr th {\n",
       "        vertical-align: top;\n",
       "    }\n",
       "\n",
       "    .dataframe thead th {\n",
       "        text-align: right;\n",
       "    }\n",
       "</style>\n",
       "<table border=\"1\" class=\"dataframe\">\n",
       "  <thead>\n",
       "    <tr style=\"text-align: right;\">\n",
       "      <th></th>\n",
       "      <th>press</th>\n",
       "      <th>proof_cut</th>\n",
       "      <th>viscosity</th>\n",
       "      <th>press_speed</th>\n",
       "      <th>ink_pct</th>\n",
       "      <th>ESA_Voltage</th>\n",
       "      <th>anode_space_ratio</th>\n",
       "      <th>grain_screened_cb</th>\n",
       "      <th>cylinder_size_cb</th>\n",
       "      <th>paper_mill_location_cb</th>\n",
       "    </tr>\n",
       "  </thead>\n",
       "  <tbody>\n",
       "    <tr>\n",
       "      <th>0</th>\n",
       "      <td>0.445926</td>\n",
       "      <td>1.164528</td>\n",
       "      <td>-0.616524</td>\n",
       "      <td>-0.375882</td>\n",
       "      <td>-0.978145</td>\n",
       "      <td>-0.561603</td>\n",
       "      <td>0.395149</td>\n",
       "      <td>0.421150</td>\n",
       "      <td>0.421150</td>\n",
       "      <td>0.421150</td>\n",
       "    </tr>\n",
       "    <tr>\n",
       "      <th>1</th>\n",
       "      <td>0.445926</td>\n",
       "      <td>1.164528</td>\n",
       "      <td>-0.616524</td>\n",
       "      <td>0.234430</td>\n",
       "      <td>-0.142550</td>\n",
       "      <td>-0.561603</td>\n",
       "      <td>0.395149</td>\n",
       "      <td>0.710575</td>\n",
       "      <td>0.710575</td>\n",
       "      <td>0.710575</td>\n",
       "    </tr>\n",
       "    <tr>\n",
       "      <th>2</th>\n",
       "      <td>-0.360181</td>\n",
       "      <td>1.978825</td>\n",
       "      <td>-1.365045</td>\n",
       "      <td>0.081852</td>\n",
       "      <td>-0.351449</td>\n",
       "      <td>-0.561603</td>\n",
       "      <td>0.167955</td>\n",
       "      <td>0.473717</td>\n",
       "      <td>0.473717</td>\n",
       "      <td>0.473717</td>\n",
       "    </tr>\n",
       "    <tr>\n",
       "      <th>3</th>\n",
       "      <td>-0.225830</td>\n",
       "      <td>0.815543</td>\n",
       "      <td>-1.365045</td>\n",
       "      <td>-1.086896</td>\n",
       "      <td>-0.009615</td>\n",
       "      <td>-0.561603</td>\n",
       "      <td>1.010383</td>\n",
       "      <td>0.355288</td>\n",
       "      <td>0.355288</td>\n",
       "      <td>0.355288</td>\n",
       "    </tr>\n",
       "    <tr>\n",
       "      <th>4</th>\n",
       "      <td>-0.225830</td>\n",
       "      <td>0.582887</td>\n",
       "      <td>-0.616524</td>\n",
       "      <td>0.844741</td>\n",
       "      <td>0.351210</td>\n",
       "      <td>1.580503</td>\n",
       "      <td>0.730914</td>\n",
       "      <td>0.421150</td>\n",
       "      <td>0.284230</td>\n",
       "      <td>0.284230</td>\n",
       "    </tr>\n",
       "  </tbody>\n",
       "</table>\n",
       "</div>"
      ],
      "text/plain": [
       "      press  proof_cut  viscosity  press_speed   ink_pct  ESA_Voltage  \\\n",
       "0  0.445926   1.164528  -0.616524    -0.375882 -0.978145    -0.561603   \n",
       "1  0.445926   1.164528  -0.616524     0.234430 -0.142550    -0.561603   \n",
       "2 -0.360181   1.978825  -1.365045     0.081852 -0.351449    -0.561603   \n",
       "3 -0.225830   0.815543  -1.365045    -1.086896 -0.009615    -0.561603   \n",
       "4 -0.225830   0.582887  -0.616524     0.844741  0.351210     1.580503   \n",
       "\n",
       "   anode_space_ratio  grain_screened_cb  cylinder_size_cb  \\\n",
       "0           0.395149           0.421150          0.421150   \n",
       "1           0.395149           0.710575          0.710575   \n",
       "2           0.167955           0.473717          0.473717   \n",
       "3           1.010383           0.355288          0.355288   \n",
       "4           0.730914           0.421150          0.284230   \n",
       "\n",
       "   paper_mill_location_cb  \n",
       "0                0.421150  \n",
       "1                0.710575  \n",
       "2                0.473717  \n",
       "3                0.355288  \n",
       "4                0.284230  "
      ]
     },
     "execution_count": 40,
     "metadata": {},
     "output_type": "execute_result"
    }
   ],
   "source": [
    "best_features = rfe(data, 10)\n",
    "data_rfe = Dataset.from_dataframe(\n",
    "    pd.concat(\n",
    "        [data.features[data.features.columns[best_features]], data.target], axis=1\n",
    "    )\n",
    ")\n",
    "data_rfe.set_target('band_type')\n",
    "data_rfe.features.head()"
   ]
  },
  {
   "cell_type": "markdown",
   "metadata": {},
   "source": [
    "Check that this selection keeps the performance observed in the previous experiment."
   ]
  },
  {
   "cell_type": "code",
   "execution_count": 41,
   "metadata": {},
   "outputs": [
    {
     "name": "stdout",
     "output_type": "stream",
     "text": [
      "Training median F1: 0.6667 +/- 3.13%\n",
      "Test F1: 0.7085 +/- 5.09%\n"
     ]
    }
   ],
   "source": [
    "rfe_train, rfe_test = cv_classification(data_rfe, rfe_tree)"
   ]
  },
  {
   "cell_type": "code",
   "execution_count": 42,
   "metadata": {},
   "outputs": [],
   "source": [
    "data = Dataset.from_dataframe(data_rfe.all)\n",
    "data.set_target('band_type');"
   ]
  },
  {
   "cell_type": "markdown",
   "metadata": {},
   "source": [
    "### Exercise\n",
    "\n",
    "Compare the results obtained using RFE with Relief algorithm or stepwise selection."
   ]
  },
  {
   "cell_type": "markdown",
   "metadata": {
    "colab_type": "text",
    "hideCode": false,
    "hidePrompt": false,
    "id": "xY_MrLaKZDTi"
   },
   "source": [
    "# Evaluation and Validation\n",
    "\n",
    "We have 10 features, and out results are much better than those obtained in the baseline. What's next then? \n",
    "\n",
    "First topic to explore is how to reduce the variance in test, since we've a large number as a result of applyin the CV process in `cv_classification()`. This type of issues is normally addressed using **bootstrapping**. You've an example in [this notebook](https://github.com/renero/class_notebooks/blob/master/Evaluation%20and%20Validation.ipynb).\n",
    "\n",
    "We should also take a deeper **look into our classification results** to be sure that our metric is capturing well positive and negative cases. Let's see how to access the different classifications obtained in our test set, to see from there if we can improve our metric.\n",
    "\n",
    "We must also experiment with **different metrics**: AUC, ROC, double density plots and confusion matrices.\n",
    "\n",
    "Another suggestion is that we will tune the decision tree by, for example **pruning** it with CV and CCP.\n",
    "\n",
    "Finally, compare our best single-decision-tree with **bagging** and **random forests**, for instance. We must do it, NOT only changing the model name before calling the `fit()` method. We must also perform hyperparameter tuning, and we'll see how is that done."
   ]
  },
  {
   "cell_type": "markdown",
   "metadata": {
    "colab_type": "text",
    "hideCode": false,
    "hidePrompt": false,
    "id": "YAFWzcGUZDTj"
   },
   "source": [
    "## Bootstrapping\n",
    "\n",
    "Bootstrapping is a technique that can be used to estimate population statistics by repeatedly sampling with replacement and measuring. But this technique can also be used to perform model validation in a very similar way to cross-validation: we will evaluate our model with bootstrapped samples of our population.\n",
    "\n",
    "Out method `bootstrap_split()` will simply accept all the features, and the target variable to produce two sets: training and test. This is the same idea we use when we split a dataset, but instead of taking a random number of samples out of the original data, _bootstrapping_ will perform sampling with repetition. That is the part that the method `resample()` does."
   ]
  },
  {
   "cell_type": "code",
   "execution_count": 43,
   "metadata": {},
   "outputs": [],
   "source": [
    "def bootstrap_split(X, y, seed, training_size=0.8):\n",
    "    train_num_samples = X.shape[0]\n",
    "    X_train, y_train = resample(X, y, replace=True, \n",
    "                                n_samples=int(train_num_samples * 0.8),\n",
    "                                random_state=seed)\n",
    "\n",
    "    # Take the indices present in the training samples\n",
    "    indices_in_training = X_train.index.to_list()\n",
    "\n",
    "    # Those, NOT in training are, go to the test set.\n",
    "    X_test = X[~X.index.isin(indices_in_training)]\n",
    "    y_test = y[~y.index.isin(indices_in_training)]\n",
    "\n",
    "    return X_train, y_train, X_test, y_test"
   ]
  },
  {
   "cell_type": "markdown",
   "metadata": {},
   "source": [
    "Once we've our splitting method, it's time to repeat the process of splitting and evaluating to have a decent idea of what can we expect from our model in test. These results will, ideally, produce less variance in its estimates."
   ]
  },
  {
   "cell_type": "code",
   "execution_count": 44,
   "metadata": {},
   "outputs": [
    {
     "name": "stdout",
     "output_type": "stream",
     "text": [
      "F1 (bootstrapping) in test: 0.6422 (+/- 0.04)\n"
     ]
    }
   ],
   "source": [
    "bs_scores = []  # I will use this to keep every score produced in test.\n",
    "bs_tree = DecisionTreeClassifier(random_state=666)\n",
    "\n",
    "for i in range(100):\n",
    "    X_train, y_train, X_test, y_test = bootstrap_split(data.features, data.target, seed=i*23)\n",
    "    bs_tree.fit(X_train, y_train)\n",
    "    \n",
    "    train_metric = cross_val_score(bs_tree, X_train, y_train, scoring='f1')\n",
    "    test_score = f1_score(y_test, bs_tree.predict(X_test))\n",
    "    bs_scores.append(test_score)\n",
    "\n",
    "print(\"F1 (bootstrapping) in test: %0.4f (+/- %0.2f)\" % (np.median(bs_scores), np.std(bs_scores)))"
   ]
  },
  {
   "cell_type": "markdown",
   "metadata": {},
   "source": [
    "As you can see, the variance (std) in our metric is significantly lower... which means that we're a bit more confident about our model's performance, by using this metric.\n",
    "\n",
    "To really evaluate which one is giving us the closest estimate of what will happen when the model will be used with unseen data, let's keep a portion of the data out of the entire process (validation subset). Then, let's use it at the end to perform a single evaluation to see if it falls closer to the CV estimate, or to the bootstrap estimate."
   ]
  },
  {
   "cell_type": "code",
   "execution_count": 45,
   "metadata": {},
   "outputs": [
    {
     "data": {
      "text/plain": [
       "0.6593406593406593"
      ]
     },
     "execution_count": 45,
     "metadata": {},
     "output_type": "execute_result"
    }
   ],
   "source": [
    "X, y = data.split(seed=666)\n",
    "val_tree = DecisionTreeClassifier(random_state=666)\n",
    "val_tree.fit(X.train, y.train)\n",
    "\n",
    "f1_score(y.test, val_tree.predict(X.test))"
   ]
  },
  {
   "cell_type": "markdown",
   "metadata": {},
   "source": [
    "This results gives us the idea that our models is producing a result very close to that predicted by our bootstrapping validation technique (and not too far either from what we got using CV).\n",
    "\n",
    "### EXERCISE\n",
    "\n",
    "Compare the results obtained with bootstrapping vs. cross-validation using different number of iterations to boxplot those results."
   ]
  },
  {
   "cell_type": "markdown",
   "metadata": {},
   "source": [
    "## Classification results\n",
    "\n",
    "Let's plot the decision tree to check some useful information that we can find in the plot. \n",
    "\n",
    "  - Both categories (in our binomial classification problem) are represented with the two colors: the more intense the color, the higher the purity of the classification. Lighter nodes have Gini indices close to 0.5 (maximum impurity).\n",
    "  - Every node shows you the nr. of samples that felt into each of the casses (value = [class1, class2])\n",
    "  - The decision is also represented, so you can also see what're the features that play more important roles in the classification."
   ]
  },
  {
   "cell_type": "code",
   "execution_count": 3,
   "metadata": {},
   "outputs": [
    {
     "ename": "NameError",
     "evalue": "name 'X' is not defined",
     "output_type": "error",
     "traceback": [
      "\u001b[1;31m---------------------------------------------------------------------------\u001b[0m",
      "\u001b[1;31mNameError\u001b[0m                                 Traceback (most recent call last)",
      "\u001b[1;32m<ipython-input-3-eefad289f9f6>\u001b[0m in \u001b[0;36m<module>\u001b[1;34m\u001b[0m\n\u001b[0;32m      1\u001b[0m \u001b[1;31m# Train\u001b[0m\u001b[1;33m\u001b[0m\u001b[1;33m\u001b[0m\u001b[1;33m\u001b[0m\u001b[0m\n\u001b[0;32m      2\u001b[0m \u001b[0mmy_tree\u001b[0m \u001b[1;33m=\u001b[0m \u001b[0mDecisionTreeClassifier\u001b[0m\u001b[1;33m(\u001b[0m\u001b[0mrandom_state\u001b[0m\u001b[1;33m=\u001b[0m\u001b[1;36m666\u001b[0m\u001b[1;33m,\u001b[0m \u001b[0mmax_depth\u001b[0m\u001b[1;33m=\u001b[0m\u001b[1;36m3\u001b[0m\u001b[1;33m)\u001b[0m\u001b[1;33m\u001b[0m\u001b[1;33m\u001b[0m\u001b[0m\n\u001b[1;32m----> 3\u001b[1;33m \u001b[0mmy_tree\u001b[0m\u001b[1;33m.\u001b[0m\u001b[0mfit\u001b[0m\u001b[1;33m(\u001b[0m\u001b[0mX\u001b[0m\u001b[1;33m.\u001b[0m\u001b[0mtrain\u001b[0m\u001b[1;33m,\u001b[0m \u001b[0my\u001b[0m\u001b[1;33m.\u001b[0m\u001b[0mtrain\u001b[0m\u001b[1;33m)\u001b[0m\u001b[1;33m\u001b[0m\u001b[1;33m\u001b[0m\u001b[0m\n\u001b[0m\u001b[0;32m      4\u001b[0m \u001b[1;33m\u001b[0m\u001b[0m\n\u001b[0;32m      5\u001b[0m \u001b[1;31m# Plot\u001b[0m\u001b[1;33m\u001b[0m\u001b[1;33m\u001b[0m\u001b[1;33m\u001b[0m\u001b[0m\n",
      "\u001b[1;31mNameError\u001b[0m: name 'X' is not defined"
     ]
    }
   ],
   "source": [
    "# Train\n",
    "my_tree = DecisionTreeClassifier(random_state=666, max_depth=3)\n",
    "my_tree.fit(X.train, y.train)\n",
    "\n",
    "# Plot\n",
    "plt.figure(figsize=(16, 7))\n",
    "tree.plot_tree(my_tree, feature_names=data.feature_names, \n",
    "               node_ids=True, filled=True, fontsize=8, max_depth=3);"
   ]
  },
  {
   "cell_type": "markdown",
   "metadata": {},
   "source": [
    "To know how to hack what node in the tree is producing a given prediction, we need to ask in stackoverflow, where [this response](https://stackoverflow.com/a/42227468) is one that I like. We need some code here, but it is sort of obscure. Important takeaway is that this method allows you to know what are the Gini values for each classification performed on a test set (`X_test`). You only need to pass the fitted tree (_estimator_) and the test set to obtain in return an array with all the Gini values obtained."
   ]
  },
  {
   "cell_type": "code",
   "execution_count": 47,
   "metadata": {},
   "outputs": [],
   "source": [
    "def get_impurity(estimator, X_test, verbose=False):\n",
    "    impurity = []\n",
    "    leave_id = estimator.apply(X_test)\n",
    "    node_indicator = estimator.decision_path(X_test)\n",
    "    feature = estimator.tree_.feature\n",
    "    threshold = estimator.tree_.threshold\n",
    "\n",
    "    for sample_id in range(X_test.shape[0]):\n",
    "        node_index = node_indicator.indices[\n",
    "            node_indicator.indptr[sample_id]:\n",
    "            node_indicator.indptr[sample_id + 1]]\n",
    "        leave = estimator.tree_.__getstate__()['nodes'][leave_id[sample_id]]\n",
    "        if verbose:\n",
    "            print(f\"sample {sample_id:>3d} predicted at leave ID #{leave_id[sample_id]:>2d}. \", end=\"\")\n",
    "            print(f\"Impurity (Gini): {leave[4]:.4f}\")\n",
    "        impurity.append(leave[4])\n",
    "    \n",
    "    return impurity"
   ]
  },
  {
   "cell_type": "markdown",
   "metadata": {},
   "source": [
    "To see what our predictions look like, we can plot the histogram of the Gini values. Ideally we'd see lots of values close to zero, and not so many close to 0.5. But, reality shows a different picture. In our case, our predictions are not very good, which means that our features are improving prediction accuracy over the baseline, but maybe they're not very good.\n",
    "\n",
    "What is the solution to this? Increase the depth of the tree, or increase the complexity of the tree (baggin, boosting, random forests, ...), to name a few."
   ]
  },
  {
   "cell_type": "code",
   "execution_count": 48,
   "metadata": {},
   "outputs": [
    {
     "data": {
      "text/plain": [
       "Text(0, 0.5, 'Numer of samples')"
      ]
     },
     "execution_count": 48,
     "metadata": {},
     "output_type": "execute_result"
    },
    {
     "data": {
      "image/png": "[encoded data removed]",
      "text/plain": [
       "<Figure size 432x288 with 1 Axes>"
      ]
     },
     "metadata": {
      "needs_background": "light"
     },
     "output_type": "display_data"
    }
   ],
   "source": [
    "impurities = get_impurity(my_tree, X_test)\n",
    "\n",
    "plt.hist(impurities);\n",
    "plt.title('Distribution of impurities in test')\n",
    "plt.xlabel('Gini')\n",
    "plt.ylabel('Numer of samples')"
   ]
  },
  {
   "cell_type": "markdown",
   "metadata": {},
   "source": [
    "### EXERCISE\n",
    "\n",
    "Try to increase the max depth of the tree to values higher than \"3\", and check what the Gini values look like."
   ]
  },
  {
   "cell_type": "markdown",
   "metadata": {},
   "source": [
    "## Metrics\n",
    "\n",
    "In this section, we experiment with some other metrics like AUC, ROC or confusion matrix. Once you have trained (fitted) a decision tree, and you have your training and test sets, you can compute any metric you like. I will leave this points as an exercise to you. \n",
    "\n",
    "Hint: Look at [this section of the sklearn](https://scikit-learn.org/stable/modules/model_evaluation.html) to know more about using different metrics.\n",
    "\n",
    "### EXERCISE\n",
    "\n",
    "Compute the confusion matrix, the AUX and plot the ROC curve from our classification results."
   ]
  },
  {
   "cell_type": "markdown",
   "metadata": {},
   "source": [
    "## Pruning\n",
    "\n",
    "Another validation on trees is simply to prune the tree at optimal depth, to obtain the maximum score, and better generalization. The value \"3\" that we've used before is too low, but if don't specify anything, the tree will grow too much.\n",
    "\n",
    "HINT: Look at [this tutorial on sklearn page](https://scikit-learn.org/stable/auto_examples/tree/plot_cost_complexity_pruning.html) that shows you how to use cost-complexity pruning and cross-validation (alpha) pruning.\n",
    "\n",
    "### EXERCISE\n",
    "\n",
    "Determine what is the optimal depth for the tree, using cost complexity pruning (as explained in the tutorial suggested before), and cross validation.\n",
    "\n",
    "To run the CV pruning, you simply must iterate over different values of `max_depth` and evaluate your fitted tree using `cv_validate()` to later decide what is the value of depth that provides the optimal depth for the tree."
   ]
  },
  {
   "cell_type": "markdown",
   "metadata": {},
   "source": [
    "## Bagging and Random Forests\n",
    "\n",
    "As a final step, we can concentrate on whether the model selected is the best possible option. We can compare our results with a single tree against the option of using Bagging trees or Random Forest. I will also leave this as an exercise to you. You can find all the information you need in my Trees notebook in [github](https://github.com/renero/class_notebooks/blob/master/Tree%20based%20methods.ipynb), or in the [sklearn page](https://scikit-learn.org/stable/modules/ensemble.html).\n",
    "\n",
    "### EXERCISE\n",
    "\n",
    "Fit and evaluate models based on Bagging and Random Forests (optional, Boosting trees), and compare the score obtained in test, with the single tree model."
   ]
  }
 ],
 "metadata": {
  "colab": {
   "collapsed_sections": [],
   "name": "Practice on Feature Engineering and Evaluation Monday.ipynb",
   "provenance": []
  },
  "hide_code_all_hidden": false,
  "kernelspec": {
   "display_name": "Python 3",
   "language": "python",
   "name": "python3"
  },
  "language_info": {
   "codemirror_mode": {
    "name": "ipython",
    "version": 3
   },
   "file_extension": ".py",
   "mimetype": "text/x-python",
   "name": "python",
   "nbconvert_exporter": "python",
   "pygments_lexer": "ipython3",
   "version": "3.7.6"
  },
  "toc": {
   "base_numbering": 1,
   "nav_menu": {},
   "number_sections": true,
   "sideBar": true,
   "skip_h1_title": false,
   "title_cell": "Table of Contents",
   "title_sidebar": "Contents",
   "toc_cell": true,
   "toc_position": {},
   "toc_section_display": true,
   "toc_window_display": false
  }
 },
 "nbformat": 4,
 "nbformat_minor": 4
}
